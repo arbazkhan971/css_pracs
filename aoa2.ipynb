{
 "cells": [
  {
   "cell_type": "code",
   "execution_count": 1,
   "metadata": {
    "collapsed": true
   },
   "outputs": [],
   "source": [
    "##selection sort\n",
    "def selection(arr):\n",
    "\tfor i in range(len(arr)):\n",
    "\t\tm=i\n",
    "\t\tfor j in range(i,len(arr)):\n",
    "\t\t\tif(arr[m]>arr[j]):\n",
    "                 m=i\n",
    "\t\tarr[m],arr[i]=arr[i],arr[m]\n",
    "\treturn arr"
   ]
  },
  {
   "cell_type": "code",
   "execution_count": 3,
   "metadata": {},
   "outputs": [
    {
     "name": "stdout",
     "output_type": "stream",
     "text": [
      "4 5 9 8 6 7\n",
      "array after sorting [4, 5, 9, 8, 6, 7]\n"
     ]
    }
   ],
   "source": [
    "arr=list(map(int,input().split()))\n",
    "print(\"array after sorting\",selection(arr))\n",
    "         "
   ]
  },
  {
   "cell_type": "code",
   "execution_count": 4,
   "metadata": {},
   "outputs": [
    {
     "name": "stdout",
     "output_type": "stream",
     "text": [
      "enter elemenets of array9 8 4\n",
      "sorted array [4, 8, 9]\n"
     ]
    }
   ],
   "source": [
    "def merge(arr):\n",
    "    if(len(arr)>1):\n",
    "        mid=len(arr)//2\n",
    "        left=arr[:mid]\n",
    "        right=arr[mid:]\n",
    "        merge(left)\n",
    "        merge(right)\n",
    "        i=0\n",
    "        j=0\n",
    "        k=0\n",
    "        while(i<len(left) and j<len(right)):\n",
    "            if(left[i]<right[j]):\n",
    "                arr[k]=left[i]\n",
    "                i+=1\n",
    "            else:\n",
    "                arr[k]=right[j]\n",
    "                j+=1\n",
    "            k+=1\n",
    "        while(i<len(left)):\n",
    "            arr[k]=left[i]\n",
    "            i+=1\n",
    "            k+=1\n",
    "        while(j<len(right)):\n",
    "            arr[k]=right[j]\n",
    "            j+=1\n",
    "            k+=1\n",
    "        \n",
    "    return arr\n",
    "l=list(map(int,input(\"enter elemenets of array\").split()))\n",
    "print(\"sorted array\",merge(l))"
   ]
  },
  {
   "cell_type": "code",
   "execution_count": 17,
   "metadata": {
    "collapsed": true
   },
   "outputs": [],
   "source": [
    "def quick(arr,start,end):\n",
    "    if(start<end):\n",
    "        pi=part(arr,start,end)\n",
    "        quick(arr,start,pi-1)\n",
    "        quick(arr,pi+1,end)\n",
    "        \n",
    "    return arr\n",
    "def part(arr,start,end):\n",
    "    p=start-1\n",
    "    pivot=arr[end]\n",
    "    for i in range(start,end):\n",
    "        if(arr[i]<=pivot):\n",
    "            p=p+1\n",
    "            arr[p],arr[i]=arr[i],arr[p]\n",
    "            \n",
    "        arr[p+1],arr[end]=arr[end],arr[p+1]\n",
    "    return p+1"
   ]
  },
  {
   "cell_type": "code",
   "execution_count": 18,
   "metadata": {},
   "outputs": [
    {
     "name": "stdout",
     "output_type": "stream",
     "text": [
      "9 8 7 6\n"
     ]
    },
    {
     "data": {
      "text/plain": [
       "[6, 8, 9, 7]"
      ]
     },
     "execution_count": 18,
     "metadata": {},
     "output_type": "execute_result"
    }
   ],
   "source": [
    "l=list(map(int,input().split()))\n",
    "quick(l,0,len(l)-1)"
   ]
  },
  {
   "cell_type": "code",
   "execution_count": 19,
   "metadata": {},
   "outputs": [
    {
     "name": "stdout",
     "output_type": "stream",
     "text": [
      "enter a numbers of element5\n",
      "enter elements of matrix\n",
      "0\n",
      "3\n",
      "8\n",
      "999\n",
      "-4\n",
      "999\n",
      "0\n",
      "999\n",
      "1\n",
      "7\n",
      "999\n",
      "4\n",
      "0\n",
      "999\n",
      "999\n",
      "2\n",
      "999\n",
      "-5\n",
      "0\n",
      "999\n",
      "999\n",
      "999\n",
      "999\n",
      "6\n",
      "0\n",
      "array  [[0, 3, 8, 2, -4], [3, 0, -4, 1, -1], [7, 4, 0, 5, 3], [2, -1, -5, 0, -2], [8, 5, 1, 6, 0]]\n"
     ]
    }
   ],
   "source": [
    "def fw(l):\n",
    "    for i in range(n):\n",
    "        for j in range(n):\n",
    "            for k in range(n):\n",
    "                if(l[i][k]+l[k][j]<l[i][j]):\n",
    "                    l[i][j]=l[i][k]+l[k][j]\n",
    "    return l\n",
    "n=int(input(\"enter a numbers of element\"))\n",
    "l=[[0 for i in range(n)]for j in range(n)]\n",
    "\n",
    "print(\"enter elements of matrix\")\n",
    "for i in range(n):\n",
    "    for j in range(n):\n",
    "        l[i][j]=int(input())\n",
    "print(\"array \",fw(l))\n",
    "        \n",
    "        \n",
    "        "
   ]
  },
  {
   "cell_type": "code",
   "execution_count": 20,
   "metadata": {},
   "outputs": [
    {
     "name": "stdout",
     "output_type": "stream",
     "text": [
      "enter first stringkashmir\n",
      "enter second stringchandigarh\n",
      "longest common subsequensces hir\n"
     ]
    }
   ],
   "source": [
    "def lcs(s1,s2):\n",
    "    if(len(s1)==0 or len(s2)==0):\n",
    "        return \"\"\n",
    "    if(s1[-1]==s2[-1]):\n",
    "        return lcs(s1[:-1],s2[:-1])+s1[-1]\n",
    "    t1=lcs(s1[:-1],s2)\n",
    "    t2=lcs(s1,s2[:-1])\n",
    "    if(len(t1)>len(t2)):\n",
    "        return t1\n",
    "    else:\n",
    "        return t2\n",
    "s1=input(\"enter first string\")\n",
    "s2=input(\"enter second string\")\n",
    "print(\"longest common subsequensces\",lcs(s1,s2))"
   ]
  },
  {
   "cell_type": "code",
   "execution_count": 21,
   "metadata": {},
   "outputs": [
    {
     "name": "stdout",
     "output_type": "stream",
     "text": [
      "number of vertices : 9\n",
      "Enter the adj matrix : \n",
      "0 4 0 0 0 0 0 8 0\n",
      "4 0 8 0 0 0 0 11 0\n",
      "0 8 0 7 0 4 0 0 2\n",
      "0 0 7 0 9 14 0 0 0\n",
      "0 0 0 9 0 10 0 0 0\n",
      "0 0 4 14 10 0 2 0 0\n",
      "0 0 0 0 0 2 0 1 6\n",
      "8 11 0 0 0 0 1 0 7\n",
      "0 0 2 0 0 0 6 7 0\n",
      "Final distances : \n",
      "A to A : 0\n",
      "A to B : 4.0\n",
      "A to C : 12.0\n",
      "A to D : 19.0\n",
      "A to E : 21.0\n",
      "A to F : 11.0\n",
      "A to G : 9.0\n",
      "A to H : 8.0\n",
      "A to I : 14.0\n"
     ]
    },
    {
     "data": {
      "text/plain": [
       "'\\n\\n9\\n0 4 0 0 0 0 0 8 0\\n4 0 8 0 0 0 0 11 0\\n0 8 0 7 0 4 0 0 2\\n0 0 7 0 9 14 0 0 0\\n0 0 0 9 0 10 0 0 0\\n0 0 4 14 10 0 2 0 0\\n0 0 0 0 0 2 0 1 6\\n8 11 0 0 0 0 1 0 7\\n0 0 2 0 0 0 6 7 0\\n'"
      ]
     },
     "execution_count": 21,
     "metadata": {},
     "output_type": "execute_result"
    }
   ],
   "source": [
    "from math import inf\n",
    "\n",
    "def mat_to_neigh(mat):\n",
    "    \"\"\"converts adjaceny matrix to dictionay of neighbours\n",
    "       two nodes are connected if they have weight 0.\n",
    "       Example:\n",
    "       Consider following adjacency matrix : \n",
    "       0 0 1\n",
    "       1 0 0 \n",
    "       1 1 0\n",
    "       Output will be : \n",
    "       {'A':['C'], 'B':['A'], 'C':['A', 'B']\n",
    "    \"\"\" \n",
    "    neighbours = {}\n",
    "    for i in range(len(mat)):\n",
    "        for j in range(len(mat)):\n",
    "            if mat[i][j] != 0:\n",
    "                try : neighbours[chr(i+65)].append(chr(j+65))\n",
    "                except : neighbours[chr(i+65)] = [chr(j+65)]\n",
    "    return neighbours\n",
    "\n",
    "def initialize(n, source, neighbours):\n",
    "    '''\n",
    "    initializING d and pi dictionaries to inf and None respectively.\n",
    "    '''\n",
    "    d = {}\n",
    "    pi = {}\n",
    "    for i in range(n):\n",
    "        d[chr(65+i)] = inf\n",
    "        pi[chr(65+i)] = None\n",
    "    d[source] = 0\n",
    "    return d, pi\n",
    "    \n",
    "def extract_min(Q, d):\n",
    "    '''Returns the node with minimum d value in the Queue'''\n",
    "    return min(Q, key = lambda x : d[x])\n",
    "    \n",
    "def relax(u, v, d, pi, mat):\n",
    "    if d[v]>d[u]+mat[ord(u)-65][ord(v)-65]:\n",
    "        d[v] = d[u]+mat[ord(u)-65][ord(v)-65]\n",
    "        pi[v] = u\n",
    "\n",
    "mat = []\n",
    "n = int(input(\"number of vertices : \"))\n",
    "source = \"A\"\n",
    "print(\"Enter the adj matrix : \")\n",
    "for i in range(n):\n",
    "    mat.append(list(map(float, input().split())))\n",
    "    \n",
    "neighbours = mat_to_neigh(mat)\n",
    "\n",
    "d, pi = initialize(n, source, neighbours)\n",
    "S = {}\n",
    "Q = set([chr(65+i) for i in range(n)])\n",
    "\n",
    "while Q:\n",
    "    u = extract_min(Q, d)\n",
    "    Q = list(Q)\n",
    "    Q.remove(u)\n",
    "    Q = set(Q)\n",
    "    S = set(list(S)+[u])\n",
    "    for v in neighbours[u]:\n",
    "        relax(u, v, d, pi, mat)\n",
    "print(\"Final distances : \")\n",
    "for i in d : \n",
    "    print(source, 'to', i, ':', d[i])\n",
    "\"\"\"\n",
    "\n",
    "9\n",
    "[[0 4 0 0 0 0 0 8 0],\n",
    "[4 0 8 0 0 0 0 11 0],\n",
    "[0 8 0 7 0 4 0 0 2],\n",
    "\n",
    "[0 0 7 0 9 14 0 0 0]\n",
    ",[0 0 0 9 0 10 0 0 0]\n",
    ",[0 0 4 14 10 0 2 0 0]\n",
    ",[0 0 0 0 0 2 0 1 6]\n",
    ",[8 11 0 0 0 0 1 0 7]\n",
    ",[0 0 2 0 0 0 6 7 0]]\n",
    "\"\"\""
   ]
  },
  {
   "cell_type": "code",
   "execution_count": 22,
   "metadata": {},
   "outputs": [
    {
     "name": "stdout",
     "output_type": "stream",
     "text": [
      "z\n"
     ]
    },
    {
     "ename": "ValueError",
     "evalue": "invalid literal for int() with base 10: 'z'",
     "output_type": "error",
     "traceback": [
      "\u001b[1;31m---------------------------------------------------------------------------\u001b[0m",
      "\u001b[1;31mValueError\u001b[0m                                Traceback (most recent call last)",
      "\u001b[1;32m<ipython-input-22-e639dcbb8ce0>\u001b[0m in \u001b[0;36m<module>\u001b[1;34m()\u001b[0m\n\u001b[1;32m----> 1\u001b[1;33m \u001b[0mw\u001b[0m\u001b[1;33m=\u001b[0m\u001b[0mlist\u001b[0m\u001b[1;33m(\u001b[0m\u001b[0mmap\u001b[0m\u001b[1;33m(\u001b[0m\u001b[0mint\u001b[0m\u001b[1;33m,\u001b[0m\u001b[0minput\u001b[0m\u001b[1;33m(\u001b[0m\u001b[1;33m)\u001b[0m\u001b[1;33m.\u001b[0m\u001b[0msplit\u001b[0m\u001b[1;33m(\u001b[0m\u001b[1;33m)\u001b[0m\u001b[1;33m)\u001b[0m\u001b[1;33m)\u001b[0m\u001b[1;33m\u001b[0m\u001b[0m\n\u001b[0m\u001b[0;32m      2\u001b[0m \u001b[0mp\u001b[0m\u001b[1;33m=\u001b[0m\u001b[0mlist\u001b[0m\u001b[1;33m(\u001b[0m\u001b[0mmap\u001b[0m\u001b[1;33m(\u001b[0m\u001b[0mint\u001b[0m\u001b[1;33m,\u001b[0m\u001b[0minput\u001b[0m\u001b[1;33m(\u001b[0m\u001b[1;33m)\u001b[0m\u001b[1;33m.\u001b[0m\u001b[0msplit\u001b[0m\u001b[1;33m(\u001b[0m\u001b[1;33m)\u001b[0m\u001b[1;33m)\u001b[0m\u001b[1;33m)\u001b[0m\u001b[1;33m\u001b[0m\u001b[0m\n\u001b[0;32m      3\u001b[0m \u001b[0mpw\u001b[0m\u001b[1;33m=\u001b[0m\u001b[1;33m[\u001b[0m\u001b[1;33m]\u001b[0m\u001b[1;33m\u001b[0m\u001b[0m\n\u001b[0;32m      4\u001b[0m \u001b[1;32mfor\u001b[0m \u001b[0mi\u001b[0m \u001b[1;32min\u001b[0m \u001b[0mrange\u001b[0m\u001b[1;33m(\u001b[0m\u001b[0mlen\u001b[0m\u001b[1;33m(\u001b[0m\u001b[0mw\u001b[0m\u001b[1;33m)\u001b[0m\u001b[1;33m)\u001b[0m\u001b[1;33m:\u001b[0m\u001b[1;33m\u001b[0m\u001b[0m\n\u001b[0;32m      5\u001b[0m     \u001b[0mpw\u001b[0m\u001b[1;33m.\u001b[0m\u001b[0mappend\u001b[0m\u001b[1;33m(\u001b[0m\u001b[0mp\u001b[0m\u001b[1;33m[\u001b[0m\u001b[0mi\u001b[0m\u001b[1;33m]\u001b[0m\u001b[1;33m/\u001b[0m\u001b[0mw\u001b[0m\u001b[1;33m[\u001b[0m\u001b[0mi\u001b[0m\u001b[1;33m]\u001b[0m\u001b[1;33m)\u001b[0m\u001b[1;33m\u001b[0m\u001b[0m\n",
      "\u001b[1;31mValueError\u001b[0m: invalid literal for int() with base 10: 'z'"
     ]
    }
   ],
   "source": [
    "w=list(map(int,input().split()))\n",
    "p=list(map(int,input().split()))\n",
    "pw=[]\n",
    "for i in range(len(w)):\n",
    "    pw.append(p[i]/w[i])\n",
    "n=len(w)\n",
    "a=[]\n",
    "for i in range(n):\n",
    "    a.append(i)\n",
    "\n",
    "m=int(input('Enter weight'))\n",
    "for i in range(n):\n",
    "    for j in range(n-1):\n",
    "        if(pw[j]<pw[j+1]):\n",
    "            pw[j],pw[j+1]=pw[j+1],pw[j]\n",
    "            p[j], p[j + 1] = p[j + 1], p[j]\n",
    "            w[j], w[j + 1] = w[j + 1], w[j]\n",
    "            a[j],a[j+1]=a[j+1],a[j]\n",
    "x=[]\n",
    "def knapsack():\n",
    "\n",
    "    for i in range(n):\n",
    "        x.append(0.0)\n",
    "    u=m\n",
    "    for i in range(n):\n",
    "        if(w[i]>u):\n",
    "            break\n",
    "\n",
    "        x[i]=1\n",
    "        u=u-w[i]\n",
    "    if(i<=n):\n",
    "           x[i]=u/w[i]\n",
    "    sum=0\n",
    "    for i in range(n):\n",
    "        sum=sum+x[i]*p[i]\n",
    "\n",
    "    for i in range(n):\n",
    "        for j in range(n-1):\n",
    "            if(a[j]>a[j+1]):\n",
    "                a[j], a[j + 1] = a[j + 1], a[j]\n",
    "                x[j], x[j + 1] = x[j + 1], x[j]\n",
    "\n",
    "\n",
    "    return sum\n",
    "\n",
    "knap=knapsack()\n",
    "print(x)\n",
    "print(knap)\n",
    "\n",
    "\n",
    "\n",
    "\n",
    "\n"
   ]
  },
  {
   "cell_type": "code",
   "execution_count": null,
   "metadata": {
    "collapsed": true
   },
   "outputs": [],
   "source": [
    "w=[2,3,5,7,1,4,1]\n",
    "p=[10,5,15,7,6,18,3]\n",
    "m=15\n",
    "pw=[]\n",
    "for i in range(len(w)):\n",
    "    pw.append(p[i]/w[i])\n",
    "n=len(w)\n",
    "for i in range(n):\n",
    "    for j in range(n-1):\n",
    "        if(pw[j]<pw[j+1]):\n",
    "            pw[j],pw[j+1]=pw[j+1],pw[j]\n",
    "            w[j],w[j+1]=w[j+1],w[j]\n",
    "            p[j],p[j+1]=p[j+1],p[j]\n",
    "print(pw)\n",
    "print(p)\n",
    "print(w)\n",
    "x=[]\n",
    "\n",
    "def knap(m,n):\n",
    "    for i in range(n):\n",
    "        x.append(0.0)\n",
    "    u=m\n",
    "    for i in range(n):\n",
    "        if(w[i]>u):\n",
    "            break\n",
    "        x[i]=1\n",
    "        u=u-w[i]\n",
    "        if(i<=n):\n",
    "            x[i]=u/w[i]\n",
    "    sum=0\n",
    "    for i in range(n):\n",
    "            sum=sum+x[i]*p[i]\n",
    "        \n",
    "    return sum\n",
    "k=knap(m,n)\n",
    "print(x)\n",
    "print(k)"
   ]
  },
  {
   "cell_type": "code",
   "execution_count": null,
   "metadata": {
    "collapsed": true
   },
   "outputs": [],
   "source": [
    "n=int(input(\"size of matrix\"))\n",
    "g=[[0 for i in range(n+1)]for j in range(n+1)]\n",
    "x=[0 for i in range(n+1)]\n",
    "\n",
    "print(\"enter adjacent matrix\")\n",
    "for i in range(1,n+1):\n",
    "    row=list(map(int,input().split()))\n",
    "    for j,x1 in enumerate(row):\n",
    "        g[i][j+1]=x1\n",
    "    \n",
    "print(\"adjacent matrix\")\n",
    "for i in range(1,n+1):\n",
    "    for j in range(1,n+1):\n",
    "        print(\"{}\".format(g[i][j]),end=\"\")\n",
    "    print()     \n",
    "m=3\n",
    "def mcoloring(k):\n",
    "    while True:\n",
    "        nextcolor(k)\n",
    "        if(x[k]==0):\n",
    "            return\n",
    "        if(k==n):\n",
    "            print(\"ans\")\n",
    "            print(x[1:])\n",
    "        else:\n",
    "            mcoloring(k+1)\n",
    "def nextcolor(k):\n",
    "    while True:\n",
    "        x[k]=((x[k]+1)%(m+1))\n",
    "        if(x[k]==0):\n",
    "            return \n",
    "        j=1\n",
    "        while(j<=n):\n",
    "            if(g[k][j]!=0 and x[k]==x[j]):\n",
    "                break\n",
    "            j+=1\n",
    "        if j=n+1:\n",
    "            return \n",
    "mcoloring(1)\n",
    "        \n",
    "            \n",
    "    \n",
    "           "
   ]
  },
  {
   "cell_type": "code",
   "execution_count": null,
   "metadata": {
    "collapsed": true
   },
   "outputs": [],
   "source": [
    "def sos(w, s, k, r, x):\n",
    "    x[k] = 1\n",
    "    if s + w[k] == m :\n",
    "        print(x)\n",
    "    elif s + w[k] + w[k+1] <= m:\n",
    "        sos(w, s+w[k], k+1, r-w[k], x)\n",
    "    if s + r - w[k] >= m and s+w[k+1] <= m:\n",
    "        x[k] = 0\n",
    "        sos(w, s, k+1, r-w[k], x)\n",
    "w = list(map(int, input(\"Enter the elements in array : \").split()))\n",
    "\n",
    "m = int(input(\"Enter the required sum : \"))\n",
    "print(\"Possible combinations are : \")\n",
    "sos(w, 0, 0, sum(w), [0 for i in w])"
   ]
  },
  {
   "cell_type": "code",
   "execution_count": null,
   "metadata": {
    "collapsed": true
   },
   "outputs": [],
   "source": [
    "def sos(w,s,k,r,x):\n",
    "    x[k]=1\n",
    "    if(s+w[k]==m):\n",
    "        print(x)\n",
    "    elif(s+w[k]+w[k+1]<=m):\n",
    "        sos(w,s+w[k],k+1,r-w[k],x)\n",
    "    elif(s+r-w[k]>=m and s+w[k+1]<=m):\n",
    "        x[k]=0\n",
    "        sos(w,s,k+1,r-w[k],x)\n",
    "w = list(map(int, input(\"Enter the elements in array : \").split()))\n",
    "\n",
    "m = int(input(\"Enter the required sum : \"))\n",
    "print(\"Possible combinations are : \")\n",
    "sos(w, 0, 0, sum(w), [0 for i in w])"
   ]
  },
  {
   "cell_type": "code",
   "execution_count": null,
   "metadata": {
    "collapsed": true
   },
   "outputs": [],
   "source": [
    "def rabin(t,p,d,l):\n",
    "    n=len(t)\n",
    "    m=len(p)\n",
    "    p=0\n",
    "    t=0\n",
    "    h=pow(d,m-1)%l\n",
    "    result=[]\n",
    "    for i in range(m):\n",
    "        p=(p*d+ord(p[i]))%l\n",
    "        t=(t*d+ord(t[i]))%l\n",
    "    for s in range(n-m+1):\n",
    "        if p==t;\n",
    "            match=True\n",
    "            for i in range(m):\n",
    "                if(p[i]!=t[s+1]):\n",
    "                    match=False\n",
    "            if match=True:\n",
    "                result+=[s]\n",
    "        if s<n-m:\n",
    "            t=(t-h*ord(t[s]))%q\n",
    "            t=(t*d+ord(t[s+m]))%q\n",
    "            t=(t+q)%q\n",
    "    return result\n",
    "p=int(input(\"enter any prime number\"))\n",
    "og=input(\"enter a original string that u want \")\n",
    "ms=input(\"enter a string that u want to match\")\n",
    "\n",
    "print (\"number of occurance in a string {}\".format(Rabin (og, ms, p, 99999999)))\n",
    "            "
   ]
  },
  {
   "cell_type": "code",
   "execution_count": null,
   "metadata": {
    "collapsed": true
   },
   "outputs": [],
   "source": [
    "def sos(w, s, k, r, x):\n",
    "    x[k] = 1\n",
    "    if s + w[k] == m :\n",
    "        print(x)\n",
    "    elif s + w[k] + w[k+1] <= m:\n",
    "        sos(w, s+w[k], k+1, r-w[k], x)\n",
    "    if s + r - w[k] >= m and s+w[k+1] <= m:\n",
    "        x[k] = 0\n",
    "        sos(w, s, k+1, r-w[k], x)\n",
    "w = list(map(int, input(\"Enter the elements in array : \").split()))\n",
    "\n",
    "m = int(input(\"Enter the required sum : \"))\n",
    "print(\"Possible combinations are : \")\n",
    "sos(w, 0, 0, sum(w), [0 for i in w])\n",
    "'''\n",
    "Output:\n",
    "\n",
    "Enter the elements in array : 6 3 4 1 2 5\n",
    "Enter the required sum : 12\n",
    "Possible combinations are : \n",
    "[1, 0, 1, 0, 1, 0]\n",
    "[1, 0, 0, 1, 0, 1]\n",
    "[0, 1, 1, 0, 0, 1]\n",
    "[0, 0, 1, 1, 1, 1]\n",
    "\n",
    "'''\n"
   ]
  },
  {
   "cell_type": "code",
   "execution_count": null,
   "metadata": {
    "collapsed": true
   },
   "outputs": [],
   "source": [
    "n = int(input(\"size of matrix\"))\n",
    "g = [[0 for i in range(n + 1)] for j in range(n + 1)]\n",
    "x = [0 for i in range(n + 1)]\n",
    "\n",
    "print(\"enter adjacent matrix\")\n",
    "for i in range(1, n + 1):\n",
    "    row = list(map(int, input().split()))\n",
    "    for j, x1 in enumerate(row):\n",
    "        g[i][j + 1] = x1\n",
    "\n",
    "print(\"adjacent matrix\")\n",
    "for i in range(1, n + 1):\n",
    "    for j in range(1, n + 1):\n",
    "        print(\"{}\".format(g[i][j]),end='')\n",
    "    print()\n",
    "m = 3\n",
    "\n",
    "\n",
    "def mcoloring(k):\n",
    "    while True:\n",
    "        nextcolor(k)\n",
    "        if (x[k] == 0):\n",
    "            return\n",
    "        if (k == n):\n",
    "            print(\"ans\")\n",
    "            print(x[1:])\n",
    "        else:\n",
    "            mcoloring(k + 1)\n",
    "\n",
    "\n",
    "def nextcolor(k):\n",
    "    while True:\n",
    "        x[k] = ((x[k] + 1) % (m + 1))\n",
    "        if (x[k] == 0):\n",
    "            return\n",
    "        j = 1\n",
    "        while (j <= n):\n",
    "            if (g[k][j] != 0 and x[k] == x[j]):\n",
    "                break\n",
    "            j += 1\n",
    "        if j==n+1:\n",
    "            return\n",
    "\n",
    "\n",
    "mcoloring(1)\n"
   ]
  },
  {
   "cell_type": "code",
   "execution_count": null,
   "metadata": {
    "collapsed": true
   },
   "outputs": [],
   "source": []
  },
  {
   "cell_type": "code",
   "execution_count": null,
   "metadata": {
    "collapsed": true
   },
   "outputs": [],
   "source": []
  },
  {
   "cell_type": "code",
   "execution_count": null,
   "metadata": {
    "collapsed": true
   },
   "outputs": [],
   "source": []
  },
  {
   "cell_type": "code",
   "execution_count": null,
   "metadata": {
    "collapsed": true
   },
   "outputs": [],
   "source": []
  },
  {
   "cell_type": "code",
   "execution_count": null,
   "metadata": {
    "collapsed": true
   },
   "outputs": [],
   "source": []
  },
  {
   "cell_type": "code",
   "execution_count": null,
   "metadata": {
    "collapsed": true
   },
   "outputs": [],
   "source": []
  },
  {
   "cell_type": "code",
   "execution_count": null,
   "metadata": {
    "collapsed": true
   },
   "outputs": [],
   "source": []
  },
  {
   "cell_type": "code",
   "execution_count": null,
   "metadata": {
    "collapsed": true
   },
   "outputs": [],
   "source": []
  },
  {
   "cell_type": "code",
   "execution_count": null,
   "metadata": {
    "collapsed": true
   },
   "outputs": [],
   "source": []
  },
  {
   "cell_type": "code",
   "execution_count": null,
   "metadata": {
    "collapsed": true
   },
   "outputs": [],
   "source": [
    "def kmp_matcher(t, d):\n",
    "    n=len(t)\n",
    "    m=len(d)\n",
    "\n",
    "    pi = compute_prefix_function(d)\n",
    "    q = 0\n",
    "    i = 0\n",
    "    while i < n:\n",
    "        if d[q]==t[i]:\n",
    "            q=q+1\n",
    "            i = i + 1\n",
    "        else:\n",
    "            if q != 0:\n",
    "                q = pi[q-1]\n",
    "            else:\n",
    "                i = i + 1\n",
    "        if q == m:\n",
    "            print(\"pattern occurs with shift \"+str(i-q))\n",
    "            q = pi[q-1]\n",
    "\n",
    "def compute_prefix_function(p):\n",
    "    m=len(p)\n",
    "    pi = xrange(m)\n",
    "    k=1\n",
    "    l = 0\n",
    "    while k < m:\n",
    "        if p[k] <= p[l]:\n",
    "            l = l + 1\n",
    "            pi[k] = l\n",
    "            k = k + 1\n",
    "        else:\n",
    "            if l != 0:\n",
    "                l = pi[l-1]\n",
    "            else:\n",
    "                pi[k] = 0\n",
    "                k = k + 1\n",
    "    return pi\n",
    "\n",
    "t = 'brownfoxlazydog'\n",
    "p = 'lazy'\n",
    "kmp_matcher(t, p)"
   ]
  },
  {
   "cell_type": "code",
   "execution_count": null,
   "metadata": {
    "collapsed": true
   },
   "outputs": [],
   "source": [
    "\n",
    "def gk(i,j):\n",
    "    return str(i)+','+str(j)\n",
    "\n",
    "def matrix_chain_order(p):\n",
    "    n = len(p)-1\n",
    "    m, s = {}, {}\n",
    "    for i in range(1, n+1):\n",
    "        m[gk(i, i)] = 0\n",
    "    for l in range(2, n+1):\n",
    "        for i in range(1, n-l+2):\n",
    "            j = i+l-1\n",
    "            m[gk(i, j)] = float(\"inf\")\n",
    "            for k in range(i, j):\n",
    "                q = m[gk(i, k)]+m[gk(k+1, j)]+p[i-1]*p[k]*p[j]\n",
    "                if q<m[gk(i, j)]:\n",
    "                    m[gk(i, j)] = q\n",
    "                    s[gk(i, j)] = k\n",
    "    return m, s\n",
    "\n",
    "def optimal(s, i, j):\n",
    "    res = ''\n",
    "    if i == j:\n",
    "        return \"A\"+str(j)\n",
    "    else:\n",
    "        res += \"(\"\n",
    "        res += optimal(s, i, s[gk(i, j)])\n",
    "        res += optimal(s, s[gk(i, j)]+1, j)\n",
    "        res +=  \")\"\n",
    "        return res\n",
    "arr = list(map(int ,input().split()))\n",
    "size = len(arr)\n",
    "m, s = matrix_chain_order(arr)\n",
    "print('mim=nimal', m[gk(1, len(arr)-1)])\n",
    "print('optimal matrix',optimal(s, 1, len(arr)-1))\n",
    "\"\"\"\n",
    "\n",
    "\n",
    "2 3 6 4 5\n",
    "mim=nimal 124\n",
    "optimal matrix (((A1A2)A3)A4)\n",
    "\"\"\"\n"
   ]
  }
 ],
 "metadata": {
  "kernelspec": {
   "display_name": "Python 3",
   "language": "python",
   "name": "python3"
  },
  "language_info": {
   "codemirror_mode": {
    "name": "ipython",
    "version": 3
   },
   "file_extension": ".py",
   "mimetype": "text/x-python",
   "name": "python",
   "nbconvert_exporter": "python",
   "pygments_lexer": "ipython3",
   "version": "3.6.3"
  }
 },
 "nbformat": 4,
 "nbformat_minor": 2
}
