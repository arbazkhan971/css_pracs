{
 "cells": [
  {
   "cell_type": "code",
   "execution_count": 22,
   "metadata": {},
   "outputs": [
    {
     "name": "stdout",
     "output_type": "stream",
     "text": [
      "[(1, 2)]\n",
      "[0, 0, 0, 0, 0]\n"
     ]
    }
   ],
   "source": [
    "li=[]\n",
    "result=[]\n",
    "def subset(array, num):\n",
    "    result = []\n",
    "    def find(arr, num, path=()):\n",
    "        if not arr:\n",
    "            return\n",
    "        if arr[0] == num:\n",
    "            result.append(path + (arr[0],))\n",
    "        else:\n",
    "            find(arr[1:], num - arr[0], path + (arr[0],))\n",
    "            find(arr[1:], num, path)\n",
    "    find(array, num)\n",
    "            \n",
    "    return result\n",
    "arr=[1,2,4,5,6]\n",
    "num=3\n",
    "print(subset(arr,num))\n",
    "arr11=[]\n",
    "for i in arr:\n",
    "    if i in result:\n",
    "        arr11.insert(i,1)\n",
    "    else:\n",
    "        arr11.insert(i,0)\n",
    "print(arr11)        "
   ]
  },
  {
   "cell_type": "code",
   "execution_count": 4,
   "metadata": {},
   "outputs": [
    {
     "name": "stdout",
     "output_type": "stream",
     "text": [
      "[4, 5]\n"
     ]
    }
   ],
   "source": [
    "\n",
    "a=[1,2,4,5]\n",
    "b=[4,5,7,8]\n",
    "new_list = []\n",
    "for element in a:\n",
    "    if element in b:\n",
    "        new_list.append(element)\n",
    "print(new_list)\n"
   ]
  },
  {
   "cell_type": "code",
   "execution_count": 8,
   "metadata": {},
   "outputs": [],
   "source": [
    "l=[0 for i in range(len(arr))]\n"
   ]
  },
  {
   "cell_type": "code",
   "execution_count": 10,
   "metadata": {},
   "outputs": [
    {
     "name": "stdout",
     "output_type": "stream",
     "text": [
      "[0, 0, 0, 0, 0]\n"
     ]
    }
   ],
   "source": [
    "print(l)"
   ]
  },
  {
   "cell_type": "code",
   "execution_count": 11,
   "metadata": {},
   "outputs": [
    {
     "ename": "NameError",
     "evalue": "name 'cmp' is not defined",
     "output_type": "error",
     "traceback": [
      "\u001b[1;31m---------------------------------------------------------------------------\u001b[0m",
      "\u001b[1;31mNameError\u001b[0m                                 Traceback (most recent call last)",
      "\u001b[1;32m<ipython-input-11-7b210440fcbd>\u001b[0m in \u001b[0;36m<module>\u001b[1;34m()\u001b[0m\n\u001b[1;32m----> 1\u001b[1;33m \u001b[0mprint\u001b[0m\u001b[1;33m(\u001b[0m\u001b[0mcmp\u001b[0m\u001b[1;33m(\u001b[0m\u001b[0mnew_list\u001b[0m\u001b[1;33m,\u001b[0m\u001b[0marr\u001b[0m\u001b[1;33m)\u001b[0m\u001b[1;33m)\u001b[0m\u001b[1;33m\u001b[0m\u001b[0m\n\u001b[0m",
      "\u001b[1;31mNameError\u001b[0m: name 'cmp' is not defined"
     ]
    }
   ],
   "source": [
    "print(cmp(new_list,arr))"
   ]
  },
  {
   "cell_type": "code",
   "execution_count": 17,
   "metadata": {},
   "outputs": [
    {
     "name": "stdout",
     "output_type": "stream",
     "text": [
      "[1, 2, 44, 4, 5]\n"
     ]
    }
   ],
   "source": [
    "al=[1,2,3,4,5]\n",
    "al[2]=44\n",
    "print(al)"
   ]
  },
  {
   "cell_type": "code",
   "execution_count": 24,
   "metadata": {},
   "outputs": [
    {
     "ename": "NameError",
     "evalue": "name 'w' is not defined",
     "output_type": "error",
     "traceback": [
      "\u001b[1;31m---------------------------------------------------------------------------\u001b[0m",
      "\u001b[1;31mNameError\u001b[0m                                 Traceback (most recent call last)",
      "\u001b[1;32m<ipython-input-24-1bb1230c6d6b>\u001b[0m in \u001b[0;36m<module>\u001b[1;34m()\u001b[0m\n\u001b[0;32m      7\u001b[0m         \u001b[1;32mif\u001b[0m \u001b[0ms\u001b[0m \u001b[1;33m+\u001b[0m \u001b[0mr\u001b[0m \u001b[1;33m-\u001b[0m \u001b[0mw\u001b[0m\u001b[1;33m[\u001b[0m\u001b[0mk\u001b[0m\u001b[1;33m]\u001b[0m \u001b[1;33m>=\u001b[0m \u001b[0mm\u001b[0m \u001b[1;32mand\u001b[0m \u001b[0ms\u001b[0m\u001b[1;33m+\u001b[0m\u001b[0mw\u001b[0m\u001b[1;33m[\u001b[0m\u001b[0mk\u001b[0m\u001b[1;33m+\u001b[0m\u001b[1;36m1\u001b[0m\u001b[1;33m]\u001b[0m \u001b[1;33m<=\u001b[0m \u001b[0mm\u001b[0m\u001b[1;33m:\u001b[0m\u001b[1;33m\u001b[0m\u001b[0m\n\u001b[0;32m      8\u001b[0m             \u001b[0mx\u001b[0m\u001b[1;33m[\u001b[0m\u001b[0mk\u001b[0m\u001b[1;33m]\u001b[0m \u001b[1;33m=\u001b[0m \u001b[1;36m0\u001b[0m\u001b[1;33m\u001b[0m\u001b[0m\n\u001b[1;32m----> 9\u001b[1;33m \u001b[0msos\u001b[0m\u001b[1;33m(\u001b[0m\u001b[0mw\u001b[0m\u001b[1;33m,\u001b[0m \u001b[0ms\u001b[0m\u001b[1;33m,\u001b[0m \u001b[0mk\u001b[0m\u001b[1;33m+\u001b[0m\u001b[1;36m1\u001b[0m\u001b[1;33m,\u001b[0m \u001b[0mr\u001b[0m\u001b[1;33m-\u001b[0m\u001b[0mw\u001b[0m\u001b[1;33m[\u001b[0m\u001b[0mk\u001b[0m\u001b[1;33m]\u001b[0m\u001b[1;33m,\u001b[0m \u001b[0mx\u001b[0m\u001b[1;33m)\u001b[0m\u001b[1;33m\u001b[0m\u001b[0m\n\u001b[0m\u001b[0;32m     10\u001b[0m \u001b[0mw\u001b[0m \u001b[1;33m=\u001b[0m \u001b[0mlist\u001b[0m\u001b[1;33m(\u001b[0m\u001b[0mmap\u001b[0m\u001b[1;33m(\u001b[0m\u001b[0mint\u001b[0m\u001b[1;33m,\u001b[0m \u001b[0minput\u001b[0m\u001b[1;33m(\u001b[0m\u001b[1;34m\"Enter the elements in array : \"\u001b[0m\u001b[1;33m)\u001b[0m\u001b[1;33m.\u001b[0m\u001b[0msplit\u001b[0m\u001b[1;33m(\u001b[0m\u001b[1;33m)\u001b[0m\u001b[1;33m)\u001b[0m\u001b[1;33m)\u001b[0m\u001b[1;33m\u001b[0m\u001b[0m\n\u001b[0;32m     11\u001b[0m \u001b[0mm\u001b[0m \u001b[1;33m=\u001b[0m \u001b[0mint\u001b[0m\u001b[1;33m(\u001b[0m\u001b[0minput\u001b[0m\u001b[1;33m(\u001b[0m\u001b[1;34m\"Enter the required sum : \"\u001b[0m\u001b[1;33m)\u001b[0m\u001b[1;33m)\u001b[0m\u001b[1;33m\u001b[0m\u001b[0m\n",
      "\u001b[1;31mNameError\u001b[0m: name 'w' is not defined"
     ]
    }
   ],
   "source": [
    "def sos(w, s, k, r, x):\n",
    "    x[k] = 1 \n",
    "    if s + w[k] == m :\n",
    "        print(x) \n",
    "    elif s + w[k] + w[k+1] <= m: \n",
    "        sos(w, s+w[k], k+1, r-w[k], x) \n",
    "        if s + r - w[k] >= m and s+w[k+1] <= m:\n",
    "            x[k] = 0 \n",
    "            sos(w, s, k+1, r-w[k], x) \n",
    "            w = list(map(int, input(\"Enter the elements in array : \").split()))\n",
    "            m = int(input(\"Enter the required sum : \")) \n",
    "            print(\"Possible combinations are : \") \n",
    "            sos(w, 0, 0, sum(w), [0 for i in w]) \n",
    "            ''' Output: Enter the elements in array : 6 3 4 1 2 5\n",
    "            Enter the required sum : 12 \n",
    "            Possible combinations are :\n",
    "            [1, 0, 1, 0, 1, 0] \n",
    "            [1, 0, 0, 1, 0, 1] \n",
    "            [0, 1, 1, 0, 0, 1]\n",
    "            [0, 0, 1, 1, 1, 1] '''\n",
    "            "
   ]
  },
  {
   "cell_type": "code",
   "execution_count": 25,
   "metadata": {},
   "outputs": [
    {
     "ename": "SyntaxError",
     "evalue": "invalid syntax (<ipython-input-25-20d0cb6edbda>, line 1)",
     "output_type": "error",
     "traceback": [
      "\u001b[1;36m  File \u001b[1;32m\"<ipython-input-25-20d0cb6edbda>\"\u001b[1;36m, line \u001b[1;32m1\u001b[0m\n\u001b[1;33m    \"\" Bhatnagar Rishabh Sushil Roll no : 07 SE CMPN A \"\"\" def sos(w, s, k, r, x): x[k] = 1 if s + w[k] == m : print(x) elif s + w[k] + w[k+1] <= m: sos(w, s+w[k], k+1, r-w[k], x) if s + r - w[k] >= m and s+w[k+1] <= m: x[k] = 0 sos(w, s, k+1, r-w[k], x) w = list(map(int, input(\"Enter the elements in array : \").split())) m = int(input(\"Enter the required sum : \")) print(\"Possible combinations are : \") sos(w, 0, 0, sum(w), [0 for i in w]) ''' Output: Enter the elements in array : 6 3 4 1 2 5 Enter the required sum : 12 Possible combinations are : [1, 0, 1, 0, 1, 0] [1, 0, 0, 1, 0, 1] [0, 1, 1, 0, 0, 1] [0, 0, 1, 1, 1, 1] '''\u001b[0m\n\u001b[1;37m               ^\u001b[0m\n\u001b[1;31mSyntaxError\u001b[0m\u001b[1;31m:\u001b[0m invalid syntax\n"
     ]
    }
   ],
   "source": [
    "\"\" Bhatnagar Rishabh Sushil Roll no : 07 SE CMPN A \"\"\" def sos(w, s, k, r, x): x[k] = 1 if s + w[k] == m : print(x) elif s + w[k] + w[k+1] <= m: sos(w, s+w[k], k+1, r-w[k], x) if s + r - w[k] >= m and s+w[k+1] <= m: x[k] = 0 sos(w, s, k+1, r-w[k], x) w = list(map(int, input(\"Enter the elements in array : \").split())) m = int(input(\"Enter the required sum : \")) print(\"Possible combinations are : \") sos(w, 0, 0, sum(w), [0 for i in w]) ''' Output: Enter the elements in array : 6 3 4 1 2 5 Enter the required sum : 12 Possible combinations are : [1, 0, 1, 0, 1, 0] [1, 0, 0, 1, 0, 1] [0, 1, 1, 0, 0, 1] [0, 0, 1, 1, 1, 1] '''"
   ]
  },
  {
   "cell_type": "code",
   "execution_count": 29,
   "metadata": {},
   "outputs": [
    {
     "name": "stdout",
     "output_type": "stream",
     "text": [
      "enter any prime number91\n",
      "enter a original string that u want 3141592653589793\n",
      "enter a string that u want to match26\n",
      "number of occurance in a string [6]\n"
     ]
    },
    {
     "data": {
      "text/plain": [
       "'\\nprint (Rabin_Karp_Matcher (\"3141592653589793\", \"26\", 257, 11))\\nprint (Rabin_Karp_Matcher (\"xxxxx\", \"xx\", 40999999, 999999937))\\n'"
      ]
     },
     "execution_count": 29,
     "metadata": {},
     "output_type": "execute_result"
    }
   ],
   "source": [
    "def Rabin(text, pattern, d, q):\n",
    "    n = len(text)\n",
    "    m = len(pattern)\n",
    "    h = pow(d,m-1)%q\n",
    "    p = 0\n",
    "    t = 0\n",
    "    result = []\n",
    "    for i in range(m): # preprocessing\n",
    "        p = (d*p+ord(pattern[i]))%q\n",
    "        t = (d*t+ord(text[i]))%q\n",
    "    for s in range(n-m+1): # note the +1\n",
    "        if p == t: # check character by character\n",
    "            match = True\n",
    "            for i in range(m):\n",
    "                if pattern[i] != text[s+i]:\n",
    "                    match = False\n",
    "                    break\n",
    "            if match:\n",
    "                result = result + [s]\n",
    "        if s < n-m:\n",
    "            t = (t-h*ord(text[s]))%q # remove letter s\n",
    "            t = (t*d+ord(text[s+m]))%q # add letter s+m\n",
    "            t = (t+q)%q # make sure that t >= 0\n",
    "    return result\n",
    "\n",
    "p=int(input(\"enter any prime number\"))\n",
    "og=input(\"enter a original string that u want \")\n",
    "ms=input(\"enter a string that u want to match\")\n",
    "\n",
    "print (\"number of occurance in a string {}\".format(Rabin (og, ms, p, 99999999)))\n",
    "\"\"\"\n",
    "enter any prime number91\n",
    "enter a original string that u want 3141592653589793\n",
    "enter a string that u want to match26\n",
    "number of occurance in a string [6]\n",
    "\n",
    "\"\"\"\n"
   ]
  },
  {
   "cell_type": "code",
   "execution_count": null,
   "metadata": {
    "collapsed": true
   },
   "outputs": [],
   "source": [
    "1\n"
   ]
  },
  {
   "cell_type": "code",
   "execution_count": null,
   "metadata": {
    "collapsed": true
   },
   "outputs": [],
   "source": []
  },
  {
   "cell_type": "code",
   "execution_count": null,
   "metadata": {
    "collapsed": true
   },
   "outputs": [],
   "source": []
  },
  {
   "cell_type": "code",
   "execution_count": null,
   "metadata": {
    "collapsed": true
   },
   "outputs": [],
   "source": []
  },
  {
   "cell_type": "code",
   "execution_count": null,
   "metadata": {
    "collapsed": true
   },
   "outputs": [],
   "source": []
  },
  {
   "cell_type": "code",
   "execution_count": null,
   "metadata": {
    "collapsed": true
   },
   "outputs": [],
   "source": []
  },
  {
   "cell_type": "code",
   "execution_count": null,
   "metadata": {
    "collapsed": true
   },
   "outputs": [],
   "source": []
  }
 ],
 "metadata": {
  "kernelspec": {
   "display_name": "Python 3",
   "language": "python",
   "name": "python3"
  },
  "language_info": {
   "codemirror_mode": {
    "name": "ipython",
    "version": 3
   },
   "file_extension": ".py",
   "mimetype": "text/x-python",
   "name": "python",
   "nbconvert_exporter": "python",
   "pygments_lexer": "ipython3",
   "version": "3.6.3"
  }
 },
 "nbformat": 4,
 "nbformat_minor": 2
}
