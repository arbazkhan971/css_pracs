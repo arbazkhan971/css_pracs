{
 "cells": [
  {
   "cell_type": "code",
   "execution_count": 1,
   "metadata": {},
   "outputs": [
    {
     "name": "stderr",
     "output_type": "stream",
     "text": [
      "c:\\users\\arbaz\\anaconda3\\envs\\tensorflow\\lib\\site-packages\\selenium\\webdriver\\phantomjs\\webdriver.py:49: UserWarning: Selenium support for PhantomJS has been deprecated, please use headless versions of Chrome or Firefox instead\n",
      "  warnings.warn('Selenium support for PhantomJS has been deprecated, please use headless '\n"
     ]
    }
   ],
   "source": [
    "from selenium import webdriver\n",
    "from bs4 import BeautifulSoup\n",
    "\n",
    "driver = webdriver.PhantomJS(executable_path = r'C:\\Users\\arbaz\\Downloads\\phantomjs-2.1.1-windows\\phantomjs-2.1.1-windows\\bin\\phantomjs.exe')\n"
   ]
  },
  {
   "cell_type": "code",
   "execution_count": 2,
   "metadata": {},
   "outputs": [],
   "source": [
    "driver.get('http://codingbat.com/java')"
   ]
  },
  {
   "cell_type": "code",
   "execution_count": 3,
   "metadata": {},
   "outputs": [],
   "source": [
    "html_doc = driver.page_source"
   ]
  },
  {
   "cell_type": "code",
   "execution_count": 4,
   "metadata": {},
   "outputs": [],
   "source": [
    "soup = BeautifulSoup(html_doc, 'html.parser')"
   ]
  },
  {
   "cell_type": "code",
   "execution_count": 5,
   "metadata": {},
   "outputs": [],
   "source": [
    "link = \"http://codingbat.com/java\""
   ]
  },
  {
   "cell_type": "code",
   "execution_count": 16,
   "metadata": {},
   "outputs": [],
   "source": [
    "class_tag = soup.find_all(\"div\",{\"class\":\"summ\"})"
   ]
  },
  {
   "cell_type": "code",
   "execution_count": 25,
   "metadata": {},
   "outputs": [
    {
     "name": "stdout",
     "output_type": "stream",
     "text": [
      "<a href=\"/java/Warmup-1\"><span class=\"h2\">Warmup-1</span></a>\n",
      "<a href=\"/java/Warmup-2\"><span class=\"h2\">Warmup-2</span></a>\n",
      "<a href=\"/java/String-1\"><span class=\"h2\">String-1</span></a>\n",
      "<a href=\"/java/Array-1\"><span class=\"h2\">Array-1</span></a>\n",
      "<a href=\"/java/Logic-1\"><span class=\"h2\">Logic-1</span></a>\n",
      "<a href=\"/java/Logic-2\"><span class=\"h2\">Logic-2</span></a>\n",
      "<a href=\"/java/String-2\"><span class=\"h2\">String-2</span></a>\n",
      "<a href=\"/java/String-3\"><span class=\"h2\">String-3</span></a>\n",
      "<a href=\"/java/Array-2\"><span class=\"h2\">Array-2</span></a>\n",
      "<a href=\"/java/Array-3\"><span class=\"h2\">Array-3</span></a>\n",
      "<a href=\"/java/AP-1\"><span class=\"h2\">AP-1</span></a>\n",
      "<a href=\"/java/Recursion-1\"><span class=\"h2\">Recursion-1</span></a>\n",
      "<a href=\"/java/Recursion-2\"><span class=\"h2\">Recursion-2</span></a>\n",
      "<a href=\"/java/Map-1\"><span class=\"h2\">Map-1</span></a>\n",
      "<a href=\"/java/Map-2\"><span class=\"h2\">Map-2</span></a>\n",
      "<a href=\"/java/Functional-1\"><span class=\"h2\">Functional-1</span></a>\n",
      "<a href=\"/java/Functional-2\"><span class=\"h2\">Functional-2</span></a>\n"
     ]
    }
   ],
   "source": [
    "chall={}\n",
    "for tr in class_tag:\n",
    "    a=tr.find_all(\"a\")\n",
    "    for i in a:\n",
    "       print(i)\n",
    "       chall[i.text]=link+\"/\"+str(i.text) "
   ]
  },
  {
   "cell_type": "code",
   "execution_count": 26,
   "metadata": {},
   "outputs": [
    {
     "data": {
      "text/plain": [
       "{'AP-1': 'http://codingbat.com/java/AP-1',\n",
       " 'Array-1': 'http://codingbat.com/java/Array-1',\n",
       " 'Array-2': 'http://codingbat.com/java/Array-2',\n",
       " 'Array-3': 'http://codingbat.com/java/Array-3',\n",
       " 'Functional-1': 'http://codingbat.com/java/Functional-1',\n",
       " 'Functional-2': 'http://codingbat.com/java/Functional-2',\n",
       " 'Logic-1': 'http://codingbat.com/java/Logic-1',\n",
       " 'Logic-2': 'http://codingbat.com/java/Logic-2',\n",
       " 'Map-1': 'http://codingbat.com/java/Map-1',\n",
       " 'Map-2': 'http://codingbat.com/java/Map-2',\n",
       " 'Recursion-1': 'http://codingbat.com/java/Recursion-1',\n",
       " 'Recursion-2': 'http://codingbat.com/java/Recursion-2',\n",
       " 'String-1': 'http://codingbat.com/java/String-1',\n",
       " 'String-2': 'http://codingbat.com/java/String-2',\n",
       " 'String-3': 'http://codingbat.com/java/String-3',\n",
       " 'Warmup-1': 'http://codingbat.com/java/Warmup-1',\n",
       " 'Warmup-2': 'http://codingbat.com/java/Warmup-2'}"
      ]
     },
     "execution_count": 26,
     "metadata": {},
     "output_type": "execute_result"
    }
   ],
   "source": [
    "chall"
   ]
  },
  {
   "cell_type": "code",
   "execution_count": 27,
   "metadata": {},
   "outputs": [],
   "source": [
    "second_chall={}"
   ]
  },
  {
   "cell_type": "code",
   "execution_count": 29,
   "metadata": {},
   "outputs": [],
   "source": [
    "link1=\"\""
   ]
  },
  {
   "cell_type": "code",
   "execution_count": null,
   "metadata": {},
   "outputs": [],
   "source": [
    "for i in chall.values():\n",
    "    link1=i\n",
    "    \n",
    "    "
   ]
  }
 ],
 "metadata": {
  "kernelspec": {
   "display_name": "Python 3",
   "language": "python",
   "name": "python3"
  },
  "language_info": {
   "codemirror_mode": {
    "name": "ipython",
    "version": 3
   },
   "file_extension": ".py",
   "mimetype": "text/x-python",
   "name": "python",
   "nbconvert_exporter": "python",
   "pygments_lexer": "ipython3",
   "version": "3.5.5"
  }
 },
 "nbformat": 4,
 "nbformat_minor": 2
}
