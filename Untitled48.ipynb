{
 "cells": [
  {
   "cell_type": "code",
   "execution_count": null,
   "metadata": {
    "collapsed": true
   },
   "outputs": [],
   "source": [
    "import sys\n",
    "import heapq\n",
    "\n",
    "class Edge(object):\n",
    "    def __init__(self,weight,startvertex,targetvertex):\n",
    "        self.weight=weight\n",
    "        self.startvertex=startvertex\n",
    "        self.targetvertex=targetvertex\n",
    "        \n",
    "        \n",
    "        \n",
    "class Node(object):\n",
    "    def __init__(self):\n",
    "        self.name=name\n",
    "        self.visited=False\n",
    "        self.predeccesor=None\n",
    "        self.adjanecylist=[]\n",
    "        self.minDistance=sys.maxize\n",
    "\n",
    "    def __cmp__(self,othervertex):\n",
    "        return self.cmp(self.minDistance,othervertex.minDistance)\n",
    "    def __lt__(self,other):\n",
    "        selfpriority=self.minDistance\n",
    "        otherpriority=other.minDistance\n",
    "        return selfpriority<otherpriority\n",
    "    \n",
    "\n",
    "        \n",
    "        "
   ]
  }
 ],
 "metadata": {
  "kernelspec": {
   "display_name": "Python 3",
   "language": "python",
   "name": "python3"
  },
  "language_info": {
   "codemirror_mode": {
    "name": "ipython",
    "version": 3
   },
   "file_extension": ".py",
   "mimetype": "text/x-python",
   "name": "python",
   "nbconvert_exporter": "python",
   "pygments_lexer": "ipython3",
   "version": "3.6.3"
  }
 },
 "nbformat": 4,
 "nbformat_minor": 2
}
