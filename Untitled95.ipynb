{
 "cells": [
  {
   "cell_type": "code",
   "execution_count": 1,
   "metadata": {},
   "outputs": [],
   "source": [
    "from selenium import webdriver\n",
    "from selenium.webdriver.common.by import By\n",
    "class ListOfElements():\n",
    "    def test(self):\n",
    "        baseUrl = \"https://www.teacoffeespiceofindia.com/coffee/manufacturers-and-exporters\"\n",
    "        driverLocation = r\"C://Users/arbaz/Downloads/chromedriver_win32/chromedriver.exe\"\n",
    "        os.environ[\"webdriver.chrome.driver\"] = driverLocation\n",
    "        driver = webdriver.Chrome(driverLocation)\n",
    "        \n",
    "        driver.maximize_window()\n",
    "        driver.get(baseUrl)\n",
    "        driver.implicitly_wait(10)"
   ]
  },
  {
   "cell_type": "code",
   "execution_count": 9,
   "metadata": {},
   "outputs": [],
   "source": [
    "import os\n",
    "from selenium import webdriver\n",
    "from selenium.webdriver.common.by import By\n",
    "baseUrl = \"https://my.indiamart.com/\"\n",
    "driverLocation = r\"C://Users/arbaz/Downloads/chromedriver_win32/chromedriver.exe\"\n",
    "os.environ[\"webdriver.chrome.driver\"] = driverLocation\n",
    "driver = webdriver.Chrome(driverLocation)\n",
    "        \n",
    "driver.maximize_window()\n",
    "driver.get(baseUrl)\n",
    "driver.implicitly_wait(10)\n",
    "\n",
    "\n",
    "loginemail = driver.find_element(By.XPATH, \"//*[@id='user_sign_in']\").click()\n",
    "search_email=driver.find_element(By.XPATH,\"//*[@id='mobile']\").send_keys(\"7208557486\")\n",
    "loginsubmit = driver.find_element(By.XPATH, \"//*[@id='logintoidentify']\").click()\n",
    "\n",
    "driver.implicitly_wait(10)\n",
    "driver.get(baseUrl)\n",
    "input_search=driver.find_element(By.XPATH, \"//*[@id='search_string']\")\n",
    "input_search.send_keys(\"candy near me\")\n",
    "click_search=driver.find_element(By.XPATH,\"//*[@id='btnSearch']\")\n",
    "click_search.click()\n",
    "\n",
    "\n"
   ]
  },
  {
   "cell_type": "code",
   "execution_count": null,
   "metadata": {},
   "outputs": [],
   "source": []
  }
 ],
 "metadata": {
  "kernelspec": {
   "display_name": "Python 3",
   "language": "python",
   "name": "python3"
  },
  "language_info": {
   "codemirror_mode": {
    "name": "ipython",
    "version": 3
   },
   "file_extension": ".py",
   "mimetype": "text/x-python",
   "name": "python",
   "nbconvert_exporter": "python",
   "pygments_lexer": "ipython3",
   "version": "3.5.5"
  }
 },
 "nbformat": 4,
 "nbformat_minor": 2
}
