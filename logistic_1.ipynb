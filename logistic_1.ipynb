{
 "cells": [
  {
   "cell_type": "code",
   "execution_count": 29,
   "metadata": {},
   "outputs": [
    {
     "name": "stdout",
     "output_type": "stream",
     "text": [
      "[ 0.61900801  0.78909306  0.57226846  0.53126708  0.72483828  0.83433175\n",
      "  0.91089628  0.83927953  0.77018898  0.78048884  0.83765838  0.8665843\n",
      "  0.81066818  0.83747662  0.79499376  0.77477808  0.76121866  0.88412539\n",
      "  0.89399546  0.93457716  0.804363    0.81227755  0.91084942  0.84398016\n",
      "  0.72143705  0.4981829   0.78530057  0.81173878  0.35296856  0.62390214\n",
      "  0.67842223  0.88033669  0.85432337  0.77869522  0.77187299  0.77764573\n",
      "  0.70090718  0.71894451  0.50707125  0.78488463  0.66464595  0.51118165\n",
      "  0.67287465  0.69811652  0.69560307  0.80113856  0.82081715  0.95840743\n",
      "  0.80121206  0.63165372  0.67980111  0.85541874  0.63985394  0.74535919\n",
      "  0.8406397   0.67454174  0.71903702  0.77083974  0.69384796  0.78081922\n",
      "  0.81885246  0.80347479  0.54292399  0.79333847  0.90576463  0.74207926\n",
      "  0.5798918   0.7436368   0.76390307  0.85402213  0.82850301  0.86156948\n",
      "  0.65951391  0.91726532  0.70221465  0.76493456  0.77837576  0.79250006\n",
      "  0.76299663  0.86068887  0.60609354  0.42746813  0.79513147  0.96561555\n",
      "  0.74747261  0.59124274  0.89218466  0.89556713  0.67509417  0.85462969\n",
      "  0.72034651  0.7442629   0.39570526  0.84389208  0.77303756  0.92824589\n",
      "  0.71978173  0.95275511  0.68878374  0.90530338]\n"
     ]
    }
   ],
   "source": [
    "import numpy as np\n",
    "import pandas as pd\n",
    "\n",
    "\n",
    "N=100\n",
    "D=2\n",
    "\n",
    "X=np.random.randn(N,D)\n",
    "ones=np.array([[1]*N]).T\n",
    "Xt = np.hstack((ones,X))\n",
    "w=np.random.randn(D+1)\n",
    "z=Xt.dot(w)\n",
    "def stigmoid(Z):\n",
    "    return(1/(1+np.exp(-z)))\n",
    "print(stigmoid(z))"
   ]
  },
  {
   "cell_type": "code",
   "execution_count": 15,
   "metadata": {},
   "outputs": [
    {
     "data": {
      "text/plain": [
       "[1, 1, 1]"
      ]
     },
     "execution_count": 15,
     "metadata": {},
     "output_type": "execute_result"
    }
   ],
   "source": [
    "[1]*3\n"
   ]
  },
  {
   "cell_type": "code",
   "execution_count": null,
   "metadata": {
    "collapsed": true
   },
   "outputs": [],
   "source": []
  },
  {
   "cell_type": "code",
   "execution_count": null,
   "metadata": {
    "collapsed": true
   },
   "outputs": [],
   "source": []
  },
  {
   "cell_type": "code",
   "execution_count": null,
   "metadata": {
    "collapsed": true
   },
   "outputs": [],
   "source": []
  },
  {
   "cell_type": "code",
   "execution_count": null,
   "metadata": {
    "collapsed": true
   },
   "outputs": [],
   "source": []
  }
 ],
 "metadata": {
  "kernelspec": {
   "display_name": "Python 3",
   "language": "python",
   "name": "python3"
  },
  "language_info": {
   "codemirror_mode": {
    "name": "ipython",
    "version": 3
   },
   "file_extension": ".py",
   "mimetype": "text/x-python",
   "name": "python",
   "nbconvert_exporter": "python",
   "pygments_lexer": "ipython3",
   "version": "3.6.3"
  }
 },
 "nbformat": 4,
 "nbformat_minor": 2
}
