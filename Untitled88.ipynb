{
 "cells": [
  {
   "cell_type": "code",
   "execution_count": 2,
   "metadata": {},
   "outputs": [
    {
     "name": "stderr",
     "output_type": "stream",
     "text": [
      "c:\\users\\arbaz\\anaconda3\\envs\\tensorflow\\lib\\site-packages\\ipykernel_launcher.py:12: FutureWarning: set_value is deprecated and will be removed in a future release. Please use .at[] or .iat[] accessors instead\n",
      "  if sys.path[0] == '':\n"
     ]
    }
   ],
   "source": [
    "import pandas as pd \n",
    "import numpy as np \n",
    "seed =2016 \n",
    "np.random.seed(seed) \n",
    "y_0 = 1 \n",
    "alpha = -0.25 \n",
    "beta =0.95 \n",
    "y=pd.Series(y_0) \n",
    "num=10 \n",
    "for i in range(num): \n",
    "    y_t = alpha+(beta*y_0)+ np.random. uniform(-1, 1) \n",
    "    y=y.set_value(i,y_t) \n",
    "    y_0=y_t\n"
   ]
  },
  {
   "cell_type": "code",
   "execution_count": 3,
   "metadata": {},
   "outputs": [
    {
     "data": {
      "text/plain": [
       "0.9468404076401885"
      ]
     },
     "execution_count": 3,
     "metadata": {},
     "output_type": "execute_result"
    }
   ],
   "source": [
    "y_0"
   ]
  },
  {
   "cell_type": "code",
   "execution_count": 4,
   "metadata": {},
   "outputs": [
    {
     "data": {
      "text/plain": [
       "0.9468404076401885"
      ]
     },
     "execution_count": 4,
     "metadata": {},
     "output_type": "execute_result"
    }
   ],
   "source": [
    "y_t"
   ]
  },
  {
   "cell_type": "code",
   "execution_count": 9,
   "metadata": {},
   "outputs": [],
   "source": [
    "random.seed(2016) \n",
    "sample_size=50 \n",
    "sample = pd.Series(random.sample(range (-10000,10000), sample_size)) \n",
    "x=sample/10000 \n",
    "y=x**2"
   ]
  },
  {
   "cell_type": "code",
   "execution_count": 6,
   "metadata": {},
   "outputs": [],
   "source": [
    "from numpy.random import random"
   ]
  },
  {
   "cell_type": "code",
   "execution_count": 8,
   "metadata": {},
   "outputs": [],
   "source": [
    "import random"
   ]
  },
  {
   "cell_type": "code",
   "execution_count": 15,
   "metadata": {},
   "outputs": [
    {
     "ename": "AttributeError",
     "evalue": "module 'urllib' has no attribute 'urlretrieve'",
     "output_type": "error",
     "traceback": [
      "\u001b[1;31m---------------------------------------------------------------------------\u001b[0m",
      "\u001b[1;31mAttributeError\u001b[0m                            Traceback (most recent call last)",
      "\u001b[1;32m<ipython-input-15-bd8759b5577e>\u001b[0m in \u001b[0;36m<module>\u001b[1;34m()\u001b[0m\n\u001b[0;32m      4\u001b[0m \u001b[0murl\u001b[0m\u001b[1;33m=\u001b[0m\u001b[1;34m\"https://goo.gl/WymYzd\"\u001b[0m\u001b[1;33m\u001b[0m\u001b[0m\n\u001b[0;32m      5\u001b[0m \u001b[0mloc\u001b[0m\u001b[1;33m=\u001b[0m \u001b[1;34m\"COE.xls\"\u001b[0m\u001b[1;33m\u001b[0m\u001b[0m\n\u001b[1;32m----> 6\u001b[1;33m \u001b[0murllib\u001b[0m\u001b[1;33m.\u001b[0m\u001b[0murlretrieve\u001b[0m\u001b[1;33m(\u001b[0m\u001b[0murl\u001b[0m \u001b[1;33m,\u001b[0m \u001b[0mloc\u001b[0m\u001b[1;33m)\u001b[0m\u001b[1;33m\u001b[0m\u001b[0m\n\u001b[0m",
      "\u001b[1;31mAttributeError\u001b[0m: module 'urllib' has no attribute 'urlretrieve'"
     ]
    }
   ],
   "source": [
    "import numpy as np \n",
    "import pandas as pd \n",
    "import urllib \n",
    "url=\"https://goo.gl/WymYzd\" \n",
    "loc= \"COE.xls\" \n",
    "urllib.urlretrieve(url , loc)\n"
   ]
  },
  {
   "cell_type": "code",
   "execution_count": 16,
   "metadata": {},
   "outputs": [
    {
     "data": {
      "text/plain": [
       "('COE.xls', <http.client.HTTPMessage at 0x21b18e6c9e8>)"
      ]
     },
     "execution_count": 16,
     "metadata": {},
     "output_type": "execute_result"
    }
   ],
   "source": [
    "import urllib.request\n",
    "url=\"https://goo.gl/WymYzd\" \n",
    "loc= \"COE.xls\"\n",
    "urllib.request.urlretrieve(url, loc)"
   ]
  },
  {
   "cell_type": "code",
   "execution_count": 37,
   "metadata": {},
   "outputs": [],
   "source": [
    "file = pd.ExcelFile(\"COE.xls\",sheetname=Excel_file.sheet_names)"
   ]
  },
  {
   "cell_type": "code",
   "execution_count": 36,
   "metadata": {},
   "outputs": [
    {
     "data": {
      "text/plain": [
       "False"
      ]
     },
     "execution_count": 36,
     "metadata": {},
     "output_type": "execute_result"
    }
   ],
   "source": [
    "Excel_file.sheet_names==sheet"
   ]
  },
  {
   "cell_type": "code",
   "execution_count": 25,
   "metadata": {},
   "outputs": [
    {
     "data": {
      "text/plain": [
       "<pandas.io.excel.ExcelFile at 0x21b18f71320>"
      ]
     },
     "execution_count": 25,
     "metadata": {},
     "output_type": "execute_result"
    }
   ],
   "source": [
    "Excel_file\n"
   ]
  },
  {
   "cell_type": "code",
   "execution_count": 26,
   "metadata": {},
   "outputs": [
    {
     "data": {
      "text/plain": [
       "<pandas.io.excel.ExcelFile at 0x21b18f71320>"
      ]
     },
     "execution_count": 26,
     "metadata": {},
     "output_type": "execute_result"
    }
   ],
   "source": [
    "Excel_file"
   ]
  },
  {
   "cell_type": "code",
   "execution_count": 29,
   "metadata": {},
   "outputs": [
    {
     "ename": "AttributeError",
     "evalue": "'ExcelFile' object has no attribute 'info'",
     "output_type": "error",
     "traceback": [
      "\u001b[1;31m---------------------------------------------------------------------------\u001b[0m",
      "\u001b[1;31mAttributeError\u001b[0m                            Traceback (most recent call last)",
      "\u001b[1;32m<ipython-input-29-1bcbeca3f69a>\u001b[0m in \u001b[0;36m<module>\u001b[1;34m()\u001b[0m\n\u001b[1;32m----> 1\u001b[1;33m \u001b[0mExcel_file\u001b[0m\u001b[1;33m.\u001b[0m\u001b[0minfo\u001b[0m\u001b[1;33m(\u001b[0m\u001b[1;33m)\u001b[0m\u001b[1;33m\u001b[0m\u001b[0m\n\u001b[0m",
      "\u001b[1;31mAttributeError\u001b[0m: 'ExcelFile' object has no attribute 'info'"
     ]
    }
   ],
   "source": []
  },
  {
   "cell_type": "code",
   "execution_count": 35,
   "metadata": {},
   "outputs": [],
   "source": [
    "sheet='COE data'"
   ]
  },
  {
   "cell_type": "code",
   "execution_count": 33,
   "metadata": {},
   "outputs": [],
   "source": [
    "sheet=list(sheet)"
   ]
  },
  {
   "cell_type": "code",
   "execution_count": 34,
   "metadata": {},
   "outputs": [
    {
     "data": {
      "text/plain": [
       "['C', 'O', 'E', ' ', 'd', 'a', 't', 'a']"
      ]
     },
     "execution_count": 34,
     "metadata": {},
     "output_type": "execute_result"
    }
   ],
   "source": [
    "sheet"
   ]
  },
  {
   "cell_type": "code",
   "execution_count": 38,
   "metadata": {},
   "outputs": [
    {
     "data": {
      "text/plain": [
       "<pandas.io.excel.ExcelFile at 0x21b18fb8080>"
      ]
     },
     "execution_count": 38,
     "metadata": {},
     "output_type": "execute_result"
    }
   ],
   "source": [
    "file"
   ]
  },
  {
   "cell_type": "code",
   "execution_count": 41,
   "metadata": {},
   "outputs": [
    {
     "ename": "SyntaxError",
     "evalue": "invalid character in identifier (<ipython-input-41-646d66fe3171>, line 1)",
     "output_type": "error",
     "traceback": [
      "\u001b[1;36m  File \u001b[1;32m\"<ipython-input-41-646d66fe3171>\"\u001b[1;36m, line \u001b[1;32m1\u001b[0m\n\u001b[1;33m    spreadsheet = Excel_file.parse(’COE data’)\u001b[0m\n\u001b[1;37m                                      ^\u001b[0m\n\u001b[1;31mSyntaxError\u001b[0m\u001b[1;31m:\u001b[0m invalid character in identifier\n"
     ]
    }
   ],
   "source": [
    "spreadsheet = Excel_file.parse(’COE data’)"
   ]
  },
  {
   "cell_type": "code",
   "execution_count": 42,
   "metadata": {},
   "outputs": [],
   "source": [
    "sheet1 = Excel_file.parse(0)"
   ]
  },
  {
   "cell_type": "code",
   "execution_count": 44,
   "metadata": {},
   "outputs": [
    {
     "name": "stdout",
     "output_type": "stream",
     "text": [
      "<class 'pandas.core.frame.DataFrame'>\n",
      "RangeIndex: 265 entries, 0 to 264\n",
      "Data columns (total 6 columns):\n",
      "DATE      265 non-null datetime64[ns]\n",
      "COE$      265 non-null float64\n",
      "COE$_1    265 non-null float64\n",
      "#Bids     265 non-null int64\n",
      "Quota     265 non-null int64\n",
      "Open?     265 non-null int64\n",
      "dtypes: datetime64[ns](1), float64(2), int64(3)\n",
      "memory usage: 12.5 KB\n"
     ]
    }
   ],
   "source": [
    "sheet1.info()"
   ]
  },
  {
   "cell_type": "code",
   "execution_count": 46,
   "metadata": {},
   "outputs": [
    {
     "data": {
      "text/plain": [
       "pandas.core.frame.DataFrame"
      ]
     },
     "execution_count": 46,
     "metadata": {},
     "output_type": "execute_result"
    }
   ],
   "source": [
    "type(sheet1)"
   ]
  },
  {
   "cell_type": "code",
   "execution_count": 48,
   "metadata": {},
   "outputs": [],
   "source": [
    "data=sheet1[\"COE$\"]"
   ]
  },
  {
   "cell_type": "code",
   "execution_count": 49,
   "metadata": {},
   "outputs": [
    {
     "data": {
      "text/plain": [
       "0       7400.0\n",
       "1      11100.0\n",
       "2       5002.0\n",
       "3       3170.0\n",
       "4       3410.0\n",
       "5       2508.0\n",
       "6        998.0\n",
       "7       1638.0\n",
       "8       6062.0\n",
       "9       9012.0\n",
       "10     11171.0\n",
       "11     12368.0\n",
       "12     12488.0\n",
       "13     12222.0\n",
       "14     14337.0\n",
       "15     16738.0\n",
       "16     18080.0\n",
       "17     18104.0\n",
       "18     18587.0\n",
       "19     20288.0\n",
       "20     25002.0\n",
       "21     31888.0\n",
       "22     23870.0\n",
       "23     24018.0\n",
       "24     25060.0\n",
       "25     26014.0\n",
       "26     26984.0\n",
       "27     22890.0\n",
       "28     20018.0\n",
       "29     16100.0\n",
       "        ...   \n",
       "235    14503.0\n",
       "236    14801.0\n",
       "237    14505.0\n",
       "238    14200.0\n",
       "239    13302.0\n",
       "240    11701.0\n",
       "241     9801.0\n",
       "242     9275.0\n",
       "243    10400.0\n",
       "244    12697.0\n",
       "245    13689.0\n",
       "246    13301.0\n",
       "247    13000.0\n",
       "248    12402.0\n",
       "249    11717.0\n",
       "250    12000.0\n",
       "251    11002.0\n",
       "252    10803.0\n",
       "253    11101.0\n",
       "254    12699.0\n",
       "255    13605.0\n",
       "256    15200.0\n",
       "257    14900.0\n",
       "258    13000.0\n",
       "259    12605.0\n",
       "260    14156.0\n",
       "261    14501.0\n",
       "262    14669.0\n",
       "263    13499.0\n",
       "264    13301.0\n",
       "Name: COE$, Length: 265, dtype: float64"
      ]
     },
     "execution_count": 49,
     "metadata": {},
     "output_type": "execute_result"
    }
   ],
   "source": [
    "data"
   ]
  },
  {
   "cell_type": "code",
   "execution_count": 63,
   "metadata": {},
   "outputs": [
    {
     "name": "stderr",
     "output_type": "stream",
     "text": [
      "c:\\users\\arbaz\\anaconda3\\envs\\tensorflow\\lib\\site-packages\\ipykernel_launcher.py:1: SettingWithCopyWarning: \n",
      "A value is trying to be set on a copy of a slice from a DataFrame\n",
      "\n",
      "See the caveats in the documentation: http://pandas.pydata.org/pandas-docs/stable/indexing.html#indexing-view-versus-copy\n",
      "  \"\"\"Entry point for launching an IPython kernel.\n"
     ]
    }
   ],
   "source": [
    "sheet1[\"DATE\"][194]= \"2004−02−15 00:00:00\""
   ]
  },
  {
   "cell_type": "code",
   "execution_count": 52,
   "metadata": {},
   "outputs": [
    {
     "name": "stderr",
     "output_type": "stream",
     "text": [
      "c:\\users\\arbaz\\anaconda3\\envs\\tensorflow\\lib\\site-packages\\ipykernel_launcher.py:1: FutureWarning: set_value is deprecated and will be removed in a future release. Please use .at[] or .iat[] accessors instead\n",
      "  \"\"\"Entry point for launching an IPython kernel.\n"
     ]
    },
    {
     "ename": "ValueError",
     "evalue": "could not convert string to Timestamp",
     "output_type": "error",
     "traceback": [
      "\u001b[1;31m---------------------------------------------------------------------------\u001b[0m",
      "\u001b[1;31mUnicodeEncodeError\u001b[0m                        Traceback (most recent call last)",
      "\u001b[1;32mpandas\\_libs\\tslibs\\conversion.pyx\u001b[0m in \u001b[0;36mpandas._libs.tslibs.conversion.convert_str_to_tsobject\u001b[1;34m()\u001b[0m\n",
      "\u001b[1;32mpandas\\_libs\\tslibs\\np_datetime.pyx\u001b[0m in \u001b[0;36mpandas._libs.tslibs.np_datetime._string_to_dts\u001b[1;34m()\u001b[0m\n",
      "\u001b[1;31mUnicodeEncodeError\u001b[0m: 'ascii' codec can't encode character '\\u2212' in position 4: ordinal not in range(128)",
      "\nDuring handling of the above exception, another exception occurred:\n",
      "\u001b[1;31mValueError\u001b[0m                                Traceback (most recent call last)",
      "\u001b[1;32mpandas\\_libs\\tslibs\\conversion.pyx\u001b[0m in \u001b[0;36mpandas._libs.tslibs.conversion.convert_str_to_tsobject\u001b[1;34m()\u001b[0m\n",
      "\u001b[1;32mpandas\\_libs\\tslibs\\parsing.pyx\u001b[0m in \u001b[0;36mpandas._libs.tslibs.parsing.parse_datetime_string\u001b[1;34m()\u001b[0m\n",
      "\u001b[1;32mc:\\users\\arbaz\\anaconda3\\envs\\tensorflow\\lib\\site-packages\\dateutil\\parser\\_parser.py\u001b[0m in \u001b[0;36mparse\u001b[1;34m(timestr, parserinfo, **kwargs)\u001b[0m\n\u001b[0;32m   1355\u001b[0m     \u001b[1;32melse\u001b[0m\u001b[1;33m:\u001b[0m\u001b[1;33m\u001b[0m\u001b[0m\n\u001b[1;32m-> 1356\u001b[1;33m         \u001b[1;32mreturn\u001b[0m \u001b[0mDEFAULTPARSER\u001b[0m\u001b[1;33m.\u001b[0m\u001b[0mparse\u001b[0m\u001b[1;33m(\u001b[0m\u001b[0mtimestr\u001b[0m\u001b[1;33m,\u001b[0m \u001b[1;33m**\u001b[0m\u001b[0mkwargs\u001b[0m\u001b[1;33m)\u001b[0m\u001b[1;33m\u001b[0m\u001b[0m\n\u001b[0m\u001b[0;32m   1357\u001b[0m \u001b[1;33m\u001b[0m\u001b[0m\n",
      "\u001b[1;32mc:\\users\\arbaz\\anaconda3\\envs\\tensorflow\\lib\\site-packages\\dateutil\\parser\\_parser.py\u001b[0m in \u001b[0;36mparse\u001b[1;34m(self, timestr, default, ignoretz, tzinfos, **kwargs)\u001b[0m\n\u001b[0;32m    647\u001b[0m         \u001b[1;32mif\u001b[0m \u001b[0mres\u001b[0m \u001b[1;32mis\u001b[0m \u001b[1;32mNone\u001b[0m\u001b[1;33m:\u001b[0m\u001b[1;33m\u001b[0m\u001b[0m\n\u001b[1;32m--> 648\u001b[1;33m             \u001b[1;32mraise\u001b[0m \u001b[0mValueError\u001b[0m\u001b[1;33m(\u001b[0m\u001b[1;34m\"Unknown string format:\"\u001b[0m\u001b[1;33m,\u001b[0m \u001b[0mtimestr\u001b[0m\u001b[1;33m)\u001b[0m\u001b[1;33m\u001b[0m\u001b[0m\n\u001b[0m\u001b[0;32m    649\u001b[0m \u001b[1;33m\u001b[0m\u001b[0m\n",
      "\u001b[1;31mValueError\u001b[0m: ('Unknown string format:', '2004−02−15')",
      "\nDuring handling of the above exception, another exception occurred:\n",
      "\u001b[1;31mValueError\u001b[0m                                Traceback (most recent call last)",
      "\u001b[1;32m<ipython-input-52-e02fe4769c56>\u001b[0m in \u001b[0;36m<module>\u001b[1;34m()\u001b[0m\n\u001b[1;32m----> 1\u001b[1;33m \u001b[0msheet1\u001b[0m\u001b[1;33m.\u001b[0m\u001b[0mset_value\u001b[0m\u001b[1;33m(\u001b[0m\u001b[1;36m194\u001b[0m \u001b[1;33m,\u001b[0m \u001b[1;34m\"DATE\"\u001b[0m \u001b[1;33m,\u001b[0m \u001b[1;34m\"2004−02−15\"\u001b[0m \u001b[1;33m)\u001b[0m\u001b[1;33m\u001b[0m\u001b[0m\n\u001b[0m\u001b[0;32m      2\u001b[0m \u001b[0msheet1\u001b[0m\u001b[1;33m.\u001b[0m\u001b[0mset_value\u001b[0m\u001b[1;33m(\u001b[0m\u001b[1;36m198\u001b[0m \u001b[1;33m,\u001b[0m \u001b[1;34m\"DATE\"\u001b[0m \u001b[1;33m,\u001b[0m \u001b[1;34m\"2004−04−15\"\u001b[0m \u001b[1;33m)\u001b[0m\u001b[1;33m\u001b[0m\u001b[0m\n\u001b[0;32m      3\u001b[0m \u001b[0msheet1\u001b[0m\u001b[1;33m.\u001b[0m\u001b[0mset_value\u001b[0m\u001b[1;33m(\u001b[0m\u001b[1;36m202\u001b[0m \u001b[1;33m,\u001b[0m \u001b[1;34m\"DATE\"\u001b[0m \u001b[1;33m,\u001b[0m \u001b[1;34m\"2004−06−15\"\u001b[0m \u001b[1;33m)\u001b[0m\u001b[1;33m\u001b[0m\u001b[0m\n",
      "\u001b[1;32mc:\\users\\arbaz\\anaconda3\\envs\\tensorflow\\lib\\site-packages\\pandas\\core\\frame.py\u001b[0m in \u001b[0;36mset_value\u001b[1;34m(self, index, col, value, takeable)\u001b[0m\n\u001b[0;32m   2570\u001b[0m                       \u001b[1;34m\".at[] or .iat[] accessors instead\"\u001b[0m\u001b[1;33m,\u001b[0m \u001b[0mFutureWarning\u001b[0m\u001b[1;33m,\u001b[0m\u001b[1;33m\u001b[0m\u001b[0m\n\u001b[0;32m   2571\u001b[0m                       stacklevel=2)\n\u001b[1;32m-> 2572\u001b[1;33m         \u001b[1;32mreturn\u001b[0m \u001b[0mself\u001b[0m\u001b[1;33m.\u001b[0m\u001b[0m_set_value\u001b[0m\u001b[1;33m(\u001b[0m\u001b[0mindex\u001b[0m\u001b[1;33m,\u001b[0m \u001b[0mcol\u001b[0m\u001b[1;33m,\u001b[0m \u001b[0mvalue\u001b[0m\u001b[1;33m,\u001b[0m \u001b[0mtakeable\u001b[0m\u001b[1;33m=\u001b[0m\u001b[0mtakeable\u001b[0m\u001b[1;33m)\u001b[0m\u001b[1;33m\u001b[0m\u001b[0m\n\u001b[0m\u001b[0;32m   2573\u001b[0m \u001b[1;33m\u001b[0m\u001b[0m\n\u001b[0;32m   2574\u001b[0m     \u001b[1;32mdef\u001b[0m \u001b[0m_set_value\u001b[0m\u001b[1;33m(\u001b[0m\u001b[0mself\u001b[0m\u001b[1;33m,\u001b[0m \u001b[0mindex\u001b[0m\u001b[1;33m,\u001b[0m \u001b[0mcol\u001b[0m\u001b[1;33m,\u001b[0m \u001b[0mvalue\u001b[0m\u001b[1;33m,\u001b[0m \u001b[0mtakeable\u001b[0m\u001b[1;33m=\u001b[0m\u001b[1;32mFalse\u001b[0m\u001b[1;33m)\u001b[0m\u001b[1;33m:\u001b[0m\u001b[1;33m\u001b[0m\u001b[0m\n",
      "\u001b[1;32mc:\\users\\arbaz\\anaconda3\\envs\\tensorflow\\lib\\site-packages\\pandas\\core\\frame.py\u001b[0m in \u001b[0;36m_set_value\u001b[1;34m(self, index, col, value, takeable)\u001b[0m\n\u001b[0;32m   2580\u001b[0m             \u001b[0mseries\u001b[0m \u001b[1;33m=\u001b[0m \u001b[0mself\u001b[0m\u001b[1;33m.\u001b[0m\u001b[0m_get_item_cache\u001b[0m\u001b[1;33m(\u001b[0m\u001b[0mcol\u001b[0m\u001b[1;33m)\u001b[0m\u001b[1;33m\u001b[0m\u001b[0m\n\u001b[0;32m   2581\u001b[0m             \u001b[0mengine\u001b[0m \u001b[1;33m=\u001b[0m \u001b[0mself\u001b[0m\u001b[1;33m.\u001b[0m\u001b[0mindex\u001b[0m\u001b[1;33m.\u001b[0m\u001b[0m_engine\u001b[0m\u001b[1;33m\u001b[0m\u001b[0m\n\u001b[1;32m-> 2582\u001b[1;33m             \u001b[0mengine\u001b[0m\u001b[1;33m.\u001b[0m\u001b[0mset_value\u001b[0m\u001b[1;33m(\u001b[0m\u001b[0mseries\u001b[0m\u001b[1;33m.\u001b[0m\u001b[0m_values\u001b[0m\u001b[1;33m,\u001b[0m \u001b[0mindex\u001b[0m\u001b[1;33m,\u001b[0m \u001b[0mvalue\u001b[0m\u001b[1;33m)\u001b[0m\u001b[1;33m\u001b[0m\u001b[0m\n\u001b[0m\u001b[0;32m   2583\u001b[0m             \u001b[1;32mreturn\u001b[0m \u001b[0mself\u001b[0m\u001b[1;33m\u001b[0m\u001b[0m\n\u001b[0;32m   2584\u001b[0m         \u001b[1;32mexcept\u001b[0m \u001b[1;33m(\u001b[0m\u001b[0mKeyError\u001b[0m\u001b[1;33m,\u001b[0m \u001b[0mTypeError\u001b[0m\u001b[1;33m)\u001b[0m\u001b[1;33m:\u001b[0m\u001b[1;33m\u001b[0m\u001b[0m\n",
      "\u001b[1;32mpandas\\_libs\\index.pyx\u001b[0m in \u001b[0;36mpandas._libs.index.IndexEngine.set_value\u001b[1;34m()\u001b[0m\n",
      "\u001b[1;32mpandas\\_libs\\index.pyx\u001b[0m in \u001b[0;36mpandas._libs.index.IndexEngine.set_value\u001b[1;34m()\u001b[0m\n",
      "\u001b[1;32mpandas\\_libs\\index.pyx\u001b[0m in \u001b[0;36mpandas._libs.index.convert_scalar\u001b[1;34m()\u001b[0m\n",
      "\u001b[1;32mpandas\\_libs\\tslibs\\timestamps.pyx\u001b[0m in \u001b[0;36mpandas._libs.tslibs.timestamps.Timestamp.__new__\u001b[1;34m()\u001b[0m\n",
      "\u001b[1;32mpandas\\_libs\\tslibs\\conversion.pyx\u001b[0m in \u001b[0;36mpandas._libs.tslibs.conversion.convert_to_tsobject\u001b[1;34m()\u001b[0m\n",
      "\u001b[1;32mpandas\\_libs\\tslibs\\conversion.pyx\u001b[0m in \u001b[0;36mpandas._libs.tslibs.conversion.convert_str_to_tsobject\u001b[1;34m()\u001b[0m\n",
      "\u001b[1;31mValueError\u001b[0m: could not convert string to Timestamp"
     ]
    }
   ],
   "source": [
    "sheet1.set_value(194 , \"DATE\" , \"2004−02−15\" ) \n",
    "sheet1.set_value(198 , \"DATE\" , \"2004−04−15\" ) \n",
    "sheet1.set_value(202 , \"DATE\" , \"2004−06−15\" )\n"
   ]
  },
  {
   "cell_type": "code",
   "execution_count": 64,
   "metadata": {},
   "outputs": [
    {
     "data": {
      "text/plain": [
       "193    2004-02-01 00:00:00\n",
       "194    2004−02−15 00:00:00\n",
       "195    2004-03-01 00:00:00\n",
       "196    2004-03-15 00:00:00\n",
       "197    2004-04-01 00:00:00\n",
       "198    2004−04−15 00:00:00\n",
       "199    2004-05-01 00:00:00\n",
       "200    2004-05-15 00:00:00\n",
       "201    2004-06-01 00:00:00\n",
       "202    2004−06−15 00:00:00\n",
       "Name: DATE, dtype: object"
      ]
     },
     "execution_count": 64,
     "metadata": {},
     "output_type": "execute_result"
    }
   ],
   "source": [
    "sheet1[\"DATE\"][193:203]"
   ]
  },
  {
   "cell_type": "code",
   "execution_count": 65,
   "metadata": {},
   "outputs": [],
   "source": [
    "loc= \"COE.csv\" \n",
    "sheet1.to_csv(loc)\n"
   ]
  },
  {
   "cell_type": "code",
   "execution_count": 66,
   "metadata": {},
   "outputs": [
    {
     "data": {
      "text/html": [
       "<div>\n",
       "<style scoped>\n",
       "    .dataframe tbody tr th:only-of-type {\n",
       "        vertical-align: middle;\n",
       "    }\n",
       "\n",
       "    .dataframe tbody tr th {\n",
       "        vertical-align: top;\n",
       "    }\n",
       "\n",
       "    .dataframe thead th {\n",
       "        text-align: right;\n",
       "    }\n",
       "</style>\n",
       "<table border=\"1\" class=\"dataframe\">\n",
       "  <thead>\n",
       "    <tr style=\"text-align: right;\">\n",
       "      <th></th>\n",
       "      <th>DATE</th>\n",
       "      <th>COE$</th>\n",
       "      <th>COE$_1</th>\n",
       "      <th>#Bids</th>\n",
       "      <th>Quota</th>\n",
       "      <th>Open?</th>\n",
       "    </tr>\n",
       "  </thead>\n",
       "  <tbody>\n",
       "    <tr>\n",
       "      <th>0</th>\n",
       "      <td>1990-08-01 00:00:00</td>\n",
       "      <td>7400.0</td>\n",
       "      <td>7750.0</td>\n",
       "      <td>656</td>\n",
       "      <td>472</td>\n",
       "      <td>0</td>\n",
       "    </tr>\n",
       "    <tr>\n",
       "      <th>1</th>\n",
       "      <td>1990-09-01 00:00:00</td>\n",
       "      <td>11100.0</td>\n",
       "      <td>7400.0</td>\n",
       "      <td>1462</td>\n",
       "      <td>468</td>\n",
       "      <td>0</td>\n",
       "    </tr>\n",
       "    <tr>\n",
       "      <th>2</th>\n",
       "      <td>1990-10-01 00:00:00</td>\n",
       "      <td>5002.0</td>\n",
       "      <td>11100.0</td>\n",
       "      <td>633</td>\n",
       "      <td>472</td>\n",
       "      <td>0</td>\n",
       "    </tr>\n",
       "    <tr>\n",
       "      <th>3</th>\n",
       "      <td>1990-11-01 00:00:00</td>\n",
       "      <td>3170.0</td>\n",
       "      <td>5002.0</td>\n",
       "      <td>952</td>\n",
       "      <td>511</td>\n",
       "      <td>0</td>\n",
       "    </tr>\n",
       "    <tr>\n",
       "      <th>4</th>\n",
       "      <td>1990-12-01 00:00:00</td>\n",
       "      <td>3410.0</td>\n",
       "      <td>3170.0</td>\n",
       "      <td>919</td>\n",
       "      <td>471</td>\n",
       "      <td>0</td>\n",
       "    </tr>\n",
       "    <tr>\n",
       "      <th>5</th>\n",
       "      <td>1991-01-01 00:00:00</td>\n",
       "      <td>2508.0</td>\n",
       "      <td>3410.0</td>\n",
       "      <td>736</td>\n",
       "      <td>467</td>\n",
       "      <td>0</td>\n",
       "    </tr>\n",
       "    <tr>\n",
       "      <th>6</th>\n",
       "      <td>1991-02-01 00:00:00</td>\n",
       "      <td>998.0</td>\n",
       "      <td>2508.0</td>\n",
       "      <td>680</td>\n",
       "      <td>470</td>\n",
       "      <td>0</td>\n",
       "    </tr>\n",
       "    <tr>\n",
       "      <th>7</th>\n",
       "      <td>1991-03-01 00:00:00</td>\n",
       "      <td>1638.0</td>\n",
       "      <td>998.0</td>\n",
       "      <td>1184</td>\n",
       "      <td>468</td>\n",
       "      <td>0</td>\n",
       "    </tr>\n",
       "    <tr>\n",
       "      <th>8</th>\n",
       "      <td>1991-04-01 00:00:00</td>\n",
       "      <td>6062.0</td>\n",
       "      <td>1638.0</td>\n",
       "      <td>1971</td>\n",
       "      <td>480</td>\n",
       "      <td>0</td>\n",
       "    </tr>\n",
       "    <tr>\n",
       "      <th>9</th>\n",
       "      <td>1991-05-01 00:00:00</td>\n",
       "      <td>9012.0</td>\n",
       "      <td>6062.0</td>\n",
       "      <td>1387</td>\n",
       "      <td>497</td>\n",
       "      <td>0</td>\n",
       "    </tr>\n",
       "    <tr>\n",
       "      <th>10</th>\n",
       "      <td>1991-06-01 00:00:00</td>\n",
       "      <td>11171.0</td>\n",
       "      <td>9012.0</td>\n",
       "      <td>1296</td>\n",
       "      <td>489</td>\n",
       "      <td>0</td>\n",
       "    </tr>\n",
       "    <tr>\n",
       "      <th>11</th>\n",
       "      <td>1991-07-01 00:00:00</td>\n",
       "      <td>12368.0</td>\n",
       "      <td>11171.0</td>\n",
       "      <td>969</td>\n",
       "      <td>479</td>\n",
       "      <td>0</td>\n",
       "    </tr>\n",
       "    <tr>\n",
       "      <th>12</th>\n",
       "      <td>1991-08-01 00:00:00</td>\n",
       "      <td>12488.0</td>\n",
       "      <td>12368.0</td>\n",
       "      <td>722</td>\n",
       "      <td>478</td>\n",
       "      <td>0</td>\n",
       "    </tr>\n",
       "    <tr>\n",
       "      <th>13</th>\n",
       "      <td>1991-09-01 00:00:00</td>\n",
       "      <td>12222.0</td>\n",
       "      <td>12488.0</td>\n",
       "      <td>1044</td>\n",
       "      <td>476</td>\n",
       "      <td>0</td>\n",
       "    </tr>\n",
       "    <tr>\n",
       "      <th>14</th>\n",
       "      <td>1991-10-01 00:00:00</td>\n",
       "      <td>14337.0</td>\n",
       "      <td>12222.0</td>\n",
       "      <td>902</td>\n",
       "      <td>486</td>\n",
       "      <td>0</td>\n",
       "    </tr>\n",
       "    <tr>\n",
       "      <th>15</th>\n",
       "      <td>1991-11-01 00:00:00</td>\n",
       "      <td>16738.0</td>\n",
       "      <td>14337.0</td>\n",
       "      <td>990</td>\n",
       "      <td>486</td>\n",
       "      <td>0</td>\n",
       "    </tr>\n",
       "    <tr>\n",
       "      <th>16</th>\n",
       "      <td>1991-12-01 00:00:00</td>\n",
       "      <td>18080.0</td>\n",
       "      <td>16738.0</td>\n",
       "      <td>1086</td>\n",
       "      <td>611</td>\n",
       "      <td>0</td>\n",
       "    </tr>\n",
       "    <tr>\n",
       "      <th>17</th>\n",
       "      <td>1992-01-01 00:00:00</td>\n",
       "      <td>18104.0</td>\n",
       "      <td>18080.0</td>\n",
       "      <td>686</td>\n",
       "      <td>517</td>\n",
       "      <td>0</td>\n",
       "    </tr>\n",
       "    <tr>\n",
       "      <th>18</th>\n",
       "      <td>1992-02-01 00:00:00</td>\n",
       "      <td>18587.0</td>\n",
       "      <td>18104.0</td>\n",
       "      <td>1217</td>\n",
       "      <td>478</td>\n",
       "      <td>0</td>\n",
       "    </tr>\n",
       "    <tr>\n",
       "      <th>19</th>\n",
       "      <td>1992-03-01 00:00:00</td>\n",
       "      <td>20288.0</td>\n",
       "      <td>18587.0</td>\n",
       "      <td>1328</td>\n",
       "      <td>486</td>\n",
       "      <td>0</td>\n",
       "    </tr>\n",
       "    <tr>\n",
       "      <th>20</th>\n",
       "      <td>1992-04-01 00:00:00</td>\n",
       "      <td>25002.0</td>\n",
       "      <td>20288.0</td>\n",
       "      <td>1136</td>\n",
       "      <td>518</td>\n",
       "      <td>0</td>\n",
       "    </tr>\n",
       "    <tr>\n",
       "      <th>21</th>\n",
       "      <td>1992-05-01 00:00:00</td>\n",
       "      <td>31888.0</td>\n",
       "      <td>25002.0</td>\n",
       "      <td>1194</td>\n",
       "      <td>607</td>\n",
       "      <td>0</td>\n",
       "    </tr>\n",
       "    <tr>\n",
       "      <th>22</th>\n",
       "      <td>1992-06-01 00:00:00</td>\n",
       "      <td>23870.0</td>\n",
       "      <td>31888.0</td>\n",
       "      <td>988</td>\n",
       "      <td>504</td>\n",
       "      <td>0</td>\n",
       "    </tr>\n",
       "    <tr>\n",
       "      <th>23</th>\n",
       "      <td>1992-07-01 00:00:00</td>\n",
       "      <td>24018.0</td>\n",
       "      <td>23870.0</td>\n",
       "      <td>855</td>\n",
       "      <td>508</td>\n",
       "      <td>0</td>\n",
       "    </tr>\n",
       "    <tr>\n",
       "      <th>24</th>\n",
       "      <td>1992-08-01 00:00:00</td>\n",
       "      <td>25060.0</td>\n",
       "      <td>24018.0</td>\n",
       "      <td>915</td>\n",
       "      <td>513</td>\n",
       "      <td>0</td>\n",
       "    </tr>\n",
       "    <tr>\n",
       "      <th>25</th>\n",
       "      <td>1992-09-01 00:00:00</td>\n",
       "      <td>26014.0</td>\n",
       "      <td>25060.0</td>\n",
       "      <td>881</td>\n",
       "      <td>496</td>\n",
       "      <td>0</td>\n",
       "    </tr>\n",
       "    <tr>\n",
       "      <th>26</th>\n",
       "      <td>1992-10-01 00:00:00</td>\n",
       "      <td>26984.0</td>\n",
       "      <td>26014.0</td>\n",
       "      <td>1026</td>\n",
       "      <td>500</td>\n",
       "      <td>0</td>\n",
       "    </tr>\n",
       "    <tr>\n",
       "      <th>27</th>\n",
       "      <td>1992-11-01 00:00:00</td>\n",
       "      <td>22890.0</td>\n",
       "      <td>26984.0</td>\n",
       "      <td>2656</td>\n",
       "      <td>1141</td>\n",
       "      <td>0</td>\n",
       "    </tr>\n",
       "    <tr>\n",
       "      <th>28</th>\n",
       "      <td>1992-12-01 00:00:00</td>\n",
       "      <td>20018.0</td>\n",
       "      <td>22890.0</td>\n",
       "      <td>1921</td>\n",
       "      <td>1149</td>\n",
       "      <td>0</td>\n",
       "    </tr>\n",
       "    <tr>\n",
       "      <th>29</th>\n",
       "      <td>1993-01-01 00:00:00</td>\n",
       "      <td>16100.0</td>\n",
       "      <td>20018.0</td>\n",
       "      <td>2114</td>\n",
       "      <td>1201</td>\n",
       "      <td>0</td>\n",
       "    </tr>\n",
       "    <tr>\n",
       "      <th>...</th>\n",
       "      <td>...</td>\n",
       "      <td>...</td>\n",
       "      <td>...</td>\n",
       "      <td>...</td>\n",
       "      <td>...</td>\n",
       "      <td>...</td>\n",
       "    </tr>\n",
       "    <tr>\n",
       "      <th>235</th>\n",
       "      <td>2005-11-01 00:00:00</td>\n",
       "      <td>14503.0</td>\n",
       "      <td>12000.0</td>\n",
       "      <td>2115</td>\n",
       "      <td>1441</td>\n",
       "      <td>1</td>\n",
       "    </tr>\n",
       "    <tr>\n",
       "      <th>236</th>\n",
       "      <td>2005-11-15 00:00:00</td>\n",
       "      <td>14801.0</td>\n",
       "      <td>14503.0</td>\n",
       "      <td>1905</td>\n",
       "      <td>1460</td>\n",
       "      <td>1</td>\n",
       "    </tr>\n",
       "    <tr>\n",
       "      <th>237</th>\n",
       "      <td>2005-12-01 00:00:00</td>\n",
       "      <td>14505.0</td>\n",
       "      <td>14801.0</td>\n",
       "      <td>2002</td>\n",
       "      <td>1408</td>\n",
       "      <td>1</td>\n",
       "    </tr>\n",
       "    <tr>\n",
       "      <th>238</th>\n",
       "      <td>2005-12-15 00:00:00</td>\n",
       "      <td>14200.0</td>\n",
       "      <td>14505.0</td>\n",
       "      <td>2112</td>\n",
       "      <td>1414</td>\n",
       "      <td>1</td>\n",
       "    </tr>\n",
       "    <tr>\n",
       "      <th>239</th>\n",
       "      <td>2006-01-01 00:00:00</td>\n",
       "      <td>13302.0</td>\n",
       "      <td>14200.0</td>\n",
       "      <td>1927</td>\n",
       "      <td>1394</td>\n",
       "      <td>1</td>\n",
       "    </tr>\n",
       "    <tr>\n",
       "      <th>240</th>\n",
       "      <td>2006-01-15 00:00:00</td>\n",
       "      <td>11701.0</td>\n",
       "      <td>13302.0</td>\n",
       "      <td>1859</td>\n",
       "      <td>1403</td>\n",
       "      <td>1</td>\n",
       "    </tr>\n",
       "    <tr>\n",
       "      <th>241</th>\n",
       "      <td>2006-02-01 00:00:00</td>\n",
       "      <td>9801.0</td>\n",
       "      <td>11701.0</td>\n",
       "      <td>1655</td>\n",
       "      <td>1402</td>\n",
       "      <td>1</td>\n",
       "    </tr>\n",
       "    <tr>\n",
       "      <th>242</th>\n",
       "      <td>2006-02-15 00:00:00</td>\n",
       "      <td>9275.0</td>\n",
       "      <td>9801.0</td>\n",
       "      <td>1785</td>\n",
       "      <td>1397</td>\n",
       "      <td>1</td>\n",
       "    </tr>\n",
       "    <tr>\n",
       "      <th>243</th>\n",
       "      <td>2006-03-01 00:00:00</td>\n",
       "      <td>10400.0</td>\n",
       "      <td>9275.0</td>\n",
       "      <td>2080</td>\n",
       "      <td>1397</td>\n",
       "      <td>1</td>\n",
       "    </tr>\n",
       "    <tr>\n",
       "      <th>244</th>\n",
       "      <td>2006-03-15 00:00:00</td>\n",
       "      <td>12697.0</td>\n",
       "      <td>10400.0</td>\n",
       "      <td>2102</td>\n",
       "      <td>1395</td>\n",
       "      <td>1</td>\n",
       "    </tr>\n",
       "    <tr>\n",
       "      <th>245</th>\n",
       "      <td>2006-04-01 00:00:00</td>\n",
       "      <td>13689.0</td>\n",
       "      <td>12697.0</td>\n",
       "      <td>2000</td>\n",
       "      <td>1395</td>\n",
       "      <td>1</td>\n",
       "    </tr>\n",
       "    <tr>\n",
       "      <th>246</th>\n",
       "      <td>2006-04-15 00:00:00</td>\n",
       "      <td>13301.0</td>\n",
       "      <td>13689.0</td>\n",
       "      <td>1657</td>\n",
       "      <td>1119</td>\n",
       "      <td>1</td>\n",
       "    </tr>\n",
       "    <tr>\n",
       "      <th>247</th>\n",
       "      <td>2006-05-01 00:00:00</td>\n",
       "      <td>13000.0</td>\n",
       "      <td>13301.0</td>\n",
       "      <td>1514</td>\n",
       "      <td>1112</td>\n",
       "      <td>1</td>\n",
       "    </tr>\n",
       "    <tr>\n",
       "      <th>248</th>\n",
       "      <td>2006-05-15 00:00:00</td>\n",
       "      <td>12402.0</td>\n",
       "      <td>13000.0</td>\n",
       "      <td>1475</td>\n",
       "      <td>1118</td>\n",
       "      <td>1</td>\n",
       "    </tr>\n",
       "    <tr>\n",
       "      <th>249</th>\n",
       "      <td>2006-06-01 00:00:00</td>\n",
       "      <td>11717.0</td>\n",
       "      <td>12402.0</td>\n",
       "      <td>1570</td>\n",
       "      <td>1176</td>\n",
       "      <td>1</td>\n",
       "    </tr>\n",
       "    <tr>\n",
       "      <th>250</th>\n",
       "      <td>2006-06-15 00:00:00</td>\n",
       "      <td>12000.0</td>\n",
       "      <td>11717.0</td>\n",
       "      <td>1933</td>\n",
       "      <td>1119</td>\n",
       "      <td>1</td>\n",
       "    </tr>\n",
       "    <tr>\n",
       "      <th>251</th>\n",
       "      <td>2006-07-01 00:00:00</td>\n",
       "      <td>11002.0</td>\n",
       "      <td>12000.0</td>\n",
       "      <td>1716</td>\n",
       "      <td>1111</td>\n",
       "      <td>1</td>\n",
       "    </tr>\n",
       "    <tr>\n",
       "      <th>252</th>\n",
       "      <td>2006-07-15 00:00:00</td>\n",
       "      <td>10803.0</td>\n",
       "      <td>11002.0</td>\n",
       "      <td>1678</td>\n",
       "      <td>1147</td>\n",
       "      <td>1</td>\n",
       "    </tr>\n",
       "    <tr>\n",
       "      <th>253</th>\n",
       "      <td>2006-08-01 00:00:00</td>\n",
       "      <td>11101.0</td>\n",
       "      <td>10803.0</td>\n",
       "      <td>1718</td>\n",
       "      <td>1127</td>\n",
       "      <td>1</td>\n",
       "    </tr>\n",
       "    <tr>\n",
       "      <th>254</th>\n",
       "      <td>2006-08-15 00:00:00</td>\n",
       "      <td>12699.0</td>\n",
       "      <td>11101.0</td>\n",
       "      <td>1669</td>\n",
       "      <td>1116</td>\n",
       "      <td>1</td>\n",
       "    </tr>\n",
       "    <tr>\n",
       "      <th>255</th>\n",
       "      <td>2006-09-01 00:00:00</td>\n",
       "      <td>13605.0</td>\n",
       "      <td>12699.0</td>\n",
       "      <td>1889</td>\n",
       "      <td>1112</td>\n",
       "      <td>1</td>\n",
       "    </tr>\n",
       "    <tr>\n",
       "      <th>256</th>\n",
       "      <td>2006-09-15 00:00:00</td>\n",
       "      <td>15200.0</td>\n",
       "      <td>13605.0</td>\n",
       "      <td>1911</td>\n",
       "      <td>1113</td>\n",
       "      <td>1</td>\n",
       "    </tr>\n",
       "    <tr>\n",
       "      <th>257</th>\n",
       "      <td>2006-10-01 00:00:00</td>\n",
       "      <td>14900.0</td>\n",
       "      <td>15200.0</td>\n",
       "      <td>1871</td>\n",
       "      <td>1115</td>\n",
       "      <td>1</td>\n",
       "    </tr>\n",
       "    <tr>\n",
       "      <th>258</th>\n",
       "      <td>2006-10-15 00:00:00</td>\n",
       "      <td>13000.0</td>\n",
       "      <td>14900.0</td>\n",
       "      <td>2056</td>\n",
       "      <td>1370</td>\n",
       "      <td>1</td>\n",
       "    </tr>\n",
       "    <tr>\n",
       "      <th>259</th>\n",
       "      <td>2006-11-01 00:00:00</td>\n",
       "      <td>12605.0</td>\n",
       "      <td>13000.0</td>\n",
       "      <td>1976</td>\n",
       "      <td>1295</td>\n",
       "      <td>1</td>\n",
       "    </tr>\n",
       "    <tr>\n",
       "      <th>260</th>\n",
       "      <td>2006-11-15 00:00:00</td>\n",
       "      <td>14156.0</td>\n",
       "      <td>12605.0</td>\n",
       "      <td>2122</td>\n",
       "      <td>1360</td>\n",
       "      <td>1</td>\n",
       "    </tr>\n",
       "    <tr>\n",
       "      <th>261</th>\n",
       "      <td>2006-12-01 00:00:00</td>\n",
       "      <td>14501.0</td>\n",
       "      <td>14156.0</td>\n",
       "      <td>1981</td>\n",
       "      <td>1287</td>\n",
       "      <td>1</td>\n",
       "    </tr>\n",
       "    <tr>\n",
       "      <th>262</th>\n",
       "      <td>2006-12-15 00:00:00</td>\n",
       "      <td>14669.0</td>\n",
       "      <td>14501.0</td>\n",
       "      <td>1991</td>\n",
       "      <td>1283</td>\n",
       "      <td>1</td>\n",
       "    </tr>\n",
       "    <tr>\n",
       "      <th>263</th>\n",
       "      <td>2007-01-01 00:00:00</td>\n",
       "      <td>13499.0</td>\n",
       "      <td>14669.0</td>\n",
       "      <td>1708</td>\n",
       "      <td>1290</td>\n",
       "      <td>1</td>\n",
       "    </tr>\n",
       "    <tr>\n",
       "      <th>264</th>\n",
       "      <td>2007-01-15 00:00:00</td>\n",
       "      <td>13301.0</td>\n",
       "      <td>13499.0</td>\n",
       "      <td>1863</td>\n",
       "      <td>1304</td>\n",
       "      <td>1</td>\n",
       "    </tr>\n",
       "  </tbody>\n",
       "</table>\n",
       "<p>265 rows × 6 columns</p>\n",
       "</div>"
      ],
      "text/plain": [
       "                    DATE     COE$   COE$_1  #Bids  Quota  Open?\n",
       "0    1990-08-01 00:00:00   7400.0   7750.0    656    472      0\n",
       "1    1990-09-01 00:00:00  11100.0   7400.0   1462    468      0\n",
       "2    1990-10-01 00:00:00   5002.0  11100.0    633    472      0\n",
       "3    1990-11-01 00:00:00   3170.0   5002.0    952    511      0\n",
       "4    1990-12-01 00:00:00   3410.0   3170.0    919    471      0\n",
       "5    1991-01-01 00:00:00   2508.0   3410.0    736    467      0\n",
       "6    1991-02-01 00:00:00    998.0   2508.0    680    470      0\n",
       "7    1991-03-01 00:00:00   1638.0    998.0   1184    468      0\n",
       "8    1991-04-01 00:00:00   6062.0   1638.0   1971    480      0\n",
       "9    1991-05-01 00:00:00   9012.0   6062.0   1387    497      0\n",
       "10   1991-06-01 00:00:00  11171.0   9012.0   1296    489      0\n",
       "11   1991-07-01 00:00:00  12368.0  11171.0    969    479      0\n",
       "12   1991-08-01 00:00:00  12488.0  12368.0    722    478      0\n",
       "13   1991-09-01 00:00:00  12222.0  12488.0   1044    476      0\n",
       "14   1991-10-01 00:00:00  14337.0  12222.0    902    486      0\n",
       "15   1991-11-01 00:00:00  16738.0  14337.0    990    486      0\n",
       "16   1991-12-01 00:00:00  18080.0  16738.0   1086    611      0\n",
       "17   1992-01-01 00:00:00  18104.0  18080.0    686    517      0\n",
       "18   1992-02-01 00:00:00  18587.0  18104.0   1217    478      0\n",
       "19   1992-03-01 00:00:00  20288.0  18587.0   1328    486      0\n",
       "20   1992-04-01 00:00:00  25002.0  20288.0   1136    518      0\n",
       "21   1992-05-01 00:00:00  31888.0  25002.0   1194    607      0\n",
       "22   1992-06-01 00:00:00  23870.0  31888.0    988    504      0\n",
       "23   1992-07-01 00:00:00  24018.0  23870.0    855    508      0\n",
       "24   1992-08-01 00:00:00  25060.0  24018.0    915    513      0\n",
       "25   1992-09-01 00:00:00  26014.0  25060.0    881    496      0\n",
       "26   1992-10-01 00:00:00  26984.0  26014.0   1026    500      0\n",
       "27   1992-11-01 00:00:00  22890.0  26984.0   2656   1141      0\n",
       "28   1992-12-01 00:00:00  20018.0  22890.0   1921   1149      0\n",
       "29   1993-01-01 00:00:00  16100.0  20018.0   2114   1201      0\n",
       "..                   ...      ...      ...    ...    ...    ...\n",
       "235  2005-11-01 00:00:00  14503.0  12000.0   2115   1441      1\n",
       "236  2005-11-15 00:00:00  14801.0  14503.0   1905   1460      1\n",
       "237  2005-12-01 00:00:00  14505.0  14801.0   2002   1408      1\n",
       "238  2005-12-15 00:00:00  14200.0  14505.0   2112   1414      1\n",
       "239  2006-01-01 00:00:00  13302.0  14200.0   1927   1394      1\n",
       "240  2006-01-15 00:00:00  11701.0  13302.0   1859   1403      1\n",
       "241  2006-02-01 00:00:00   9801.0  11701.0   1655   1402      1\n",
       "242  2006-02-15 00:00:00   9275.0   9801.0   1785   1397      1\n",
       "243  2006-03-01 00:00:00  10400.0   9275.0   2080   1397      1\n",
       "244  2006-03-15 00:00:00  12697.0  10400.0   2102   1395      1\n",
       "245  2006-04-01 00:00:00  13689.0  12697.0   2000   1395      1\n",
       "246  2006-04-15 00:00:00  13301.0  13689.0   1657   1119      1\n",
       "247  2006-05-01 00:00:00  13000.0  13301.0   1514   1112      1\n",
       "248  2006-05-15 00:00:00  12402.0  13000.0   1475   1118      1\n",
       "249  2006-06-01 00:00:00  11717.0  12402.0   1570   1176      1\n",
       "250  2006-06-15 00:00:00  12000.0  11717.0   1933   1119      1\n",
       "251  2006-07-01 00:00:00  11002.0  12000.0   1716   1111      1\n",
       "252  2006-07-15 00:00:00  10803.0  11002.0   1678   1147      1\n",
       "253  2006-08-01 00:00:00  11101.0  10803.0   1718   1127      1\n",
       "254  2006-08-15 00:00:00  12699.0  11101.0   1669   1116      1\n",
       "255  2006-09-01 00:00:00  13605.0  12699.0   1889   1112      1\n",
       "256  2006-09-15 00:00:00  15200.0  13605.0   1911   1113      1\n",
       "257  2006-10-01 00:00:00  14900.0  15200.0   1871   1115      1\n",
       "258  2006-10-15 00:00:00  13000.0  14900.0   2056   1370      1\n",
       "259  2006-11-01 00:00:00  12605.0  13000.0   1976   1295      1\n",
       "260  2006-11-15 00:00:00  14156.0  12605.0   2122   1360      1\n",
       "261  2006-12-01 00:00:00  14501.0  14156.0   1981   1287      1\n",
       "262  2006-12-15 00:00:00  14669.0  14501.0   1991   1283      1\n",
       "263  2007-01-01 00:00:00  13499.0  14669.0   1708   1290      1\n",
       "264  2007-01-15 00:00:00  13301.0  13499.0   1863   1304      1\n",
       "\n",
       "[265 rows x 6 columns]"
      ]
     },
     "execution_count": 66,
     "metadata": {},
     "output_type": "execute_result"
    }
   ],
   "source": []
  },
  {
   "cell_type": "code",
   "execution_count": 67,
   "metadata": {},
   "outputs": [],
   "source": [
    "temp = pd . read_csv ( \"COE.csv\" )"
   ]
  },
  {
   "cell_type": "code",
   "execution_count": 69,
   "metadata": {},
   "outputs": [
    {
     "data": {
      "text/plain": [
       "193    2004-02-01 00:00:00\n",
       "194    2004−02−15 00:00:00\n",
       "195    2004-03-01 00:00:00\n",
       "196    2004-03-15 00:00:00\n",
       "197    2004-04-01 00:00:00\n",
       "198    2004−04−15 00:00:00\n",
       "199    2004-05-01 00:00:00\n",
       "200    2004-05-15 00:00:00\n",
       "201    2004-06-01 00:00:00\n",
       "202    2004−06−15 00:00:00\n",
       "203    2004-07-01 00:00:00\n",
       "Name: DATE, dtype: object"
      ]
     },
     "execution_count": 69,
     "metadata": {},
     "output_type": "execute_result"
    }
   ],
   "source": [
    "temp[\"DATE\"][193:204]"
   ]
  },
  {
   "cell_type": "code",
   "execution_count": 2,
   "metadata": {},
   "outputs": [],
   "source": [
    "import torch"
   ]
  },
  {
   "cell_type": "code",
   "execution_count": null,
   "metadata": {},
   "outputs": [],
   "source": []
  }
 ],
 "metadata": {
  "kernelspec": {
   "display_name": "Python 3",
   "language": "python",
   "name": "python3"
  },
  "language_info": {
   "codemirror_mode": {
    "name": "ipython",
    "version": 3
   },
   "file_extension": ".py",
   "mimetype": "text/x-python",
   "name": "python",
   "nbconvert_exporter": "python",
   "pygments_lexer": "ipython3",
   "version": "3.5.5"
  }
 },
 "nbformat": 4,
 "nbformat_minor": 2
}
