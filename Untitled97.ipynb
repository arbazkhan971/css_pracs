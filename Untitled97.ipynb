{
 "cells": [
  {
   "cell_type": "code",
   "execution_count": 4,
   "metadata": {},
   "outputs": [
    {
     "name": "stdout",
     "output_type": "stream",
     "text": [
      "arbaz khan\n",
      "arbaz\n",
      "khan\n",
      "['a', 'r', 'b', 'a', 'z']\n",
      "['k', 'h', 'a', 'n']\n",
      "Arbaz Khan\n"
     ]
    }
   ],
   "source": [
    "def solve(s):\n",
    "    f,l=s.split()\n",
    "    f=list(f)\n",
    "    l=list(l)\n",
    "    if f[0].islower():\n",
    "         f[0]=f[0].upper()\n",
    "    if l[0].islower():\n",
    "        l[0]=l[0].upper()\n",
    "    return(\"\".join(f)+\" \"+\"\".join(l))\n",
    "s=input()\n",
    "print(solve(s))\n"
   ]
  },
  {
   "cell_type": "code",
   "execution_count": 15,
   "metadata": {},
   "outputs": [
    {
     "name": "stdout",
     "output_type": "stream",
     "text": [
      "4\n",
      "34\n",
      "77\n",
      "66\n",
      "44\n",
      "[34, 77, 66, 45]\n"
     ]
    }
   ],
   "source": [
    "def gradingStudents(grades):\n",
    "    #\n",
    "    # Write your code here.\n",
    "    #\n",
    "    round=[]\n",
    "    up=[]\n",
    "    for i in grades:\n",
    "          mark=i;\n",
    "          r=100-mark;\n",
    "          a=r%5;\n",
    "          new_mark=mark+a;\n",
    "          round.append(new_mark)\n",
    "    for i in range(len(grades)):\n",
    "           if(grades[i]>38 and (round[i]-grades[i])<3):\n",
    "                    up.append(round[i])\n",
    "           elif(grades[i]>38 and (round[i]-grades[i]) == 3):\n",
    "                    up.append(grades[i])\n",
    "           else:\n",
    "                    up.append(grades[i])\n",
    "                    \n",
    "    print(up,end=\"\\n\")\n",
    "n = int(input())\n",
    "\n",
    "grades = []\n",
    "\n",
    "for _ in range(n):\n",
    "        grades_item = int(input())\n",
    "        grades.append(grades_item)\n",
    "\n",
    "gradingStudents(grades)\n"
   ]
  },
  {
   "cell_type": "code",
   "execution_count": 6,
   "metadata": {},
   "outputs": [
    {
     "name": "stdout",
     "output_type": "stream",
     "text": [
      "enter a number4\n"
     ]
    }
   ],
   "source": [
    "n=int(input(\"enter a number\"))\n"
   ]
  },
  {
   "cell_type": "code",
   "execution_count": 7,
   "metadata": {},
   "outputs": [
    {
     "data": {
      "text/plain": [
       "0.6"
      ]
     },
     "execution_count": 7,
     "metadata": {},
     "output_type": "execute_result"
    }
   ],
   "source": [
    "3/5.0"
   ]
  },
  {
   "cell_type": "code",
   "execution_count": 8,
   "metadata": {},
   "outputs": [
    {
     "data": {
      "text/plain": [
       "0.6"
      ]
     },
     "execution_count": 8,
     "metadata": {},
     "output_type": "execute_result"
    }
   ],
   "source": [
    "3/5"
   ]
  },
  {
   "cell_type": "code",
   "execution_count": 9,
   "metadata": {},
   "outputs": [
    {
     "data": {
      "text/plain": [
       "7.6"
      ]
     },
     "execution_count": 9,
     "metadata": {},
     "output_type": "execute_result"
    }
   ],
   "source": [
    "38/5"
   ]
  },
  {
   "cell_type": "code",
   "execution_count": 10,
   "metadata": {},
   "outputs": [
    {
     "data": {
      "text/plain": [
       "38.0"
      ]
     },
     "execution_count": 10,
     "metadata": {},
     "output_type": "execute_result"
    }
   ],
   "source": [
    "7.6*5"
   ]
  },
  {
   "cell_type": "code",
   "execution_count": 11,
   "metadata": {},
   "outputs": [
    {
     "data": {
      "text/plain": [
       "38"
      ]
     },
     "execution_count": 11,
     "metadata": {},
     "output_type": "execute_result"
    }
   ],
   "source": [
    "round(38.0)"
   ]
  },
  {
   "cell_type": "code",
   "execution_count": null,
   "metadata": {},
   "outputs": [],
   "source": [
    "mark=51;\n",
    "r=100-mark;\n",
    "a=r%5;\n",
    "new_mark=mark+a;"
   ]
  }
 ],
 "metadata": {
  "kernelspec": {
   "display_name": "Python 3",
   "language": "python",
   "name": "python3"
  }
 },
 "nbformat": 4,
 "nbformat_minor": 2
}
