{
 "cells": [
  {
   "cell_type": "code",
   "execution_count": null,
   "metadata": {},
   "outputs": [],
   "source": [
    "n=int(input())\n",
    "d={}\n",
    "for i in range(n):\n",
    "    a=list(input().split())\n",
    "    d[a[0]]=a[1]\n",
    "\n",
    "for j in range(n):\n",
    "    name = input()\n",
    "\n",
    "    if name in phone_book:\n",
    "        phone = d[name]\n",
    "        print(name + \"=\" + str(phone))\n",
    "    else:\n",
    "        print(\"Not found\")"
   ]
  },
  {
   "cell_type": "code",
   "execution_count": 4,
   "metadata": {},
   "outputs": [
    {
     "name": "stdout",
     "output_type": "stream",
     "text": [
      "3\n",
      "arbaz 2222\n",
      "shah 4444\n",
      "khan 4444\n",
      "[<map object at 0x000001CEE60E1860>, <map object at 0x000001CEE6100B70>, <map object at 0x000001CEE61382E8>]\n"
     ]
    }
   ],
   "source": [
    "n=int(input())\n",
    "d={}\n",
    "d = [ map(str,input().split()) for x in range(n)]\n",
    "print(d)"
   ]
  },
  {
   "cell_type": "code",
   "execution_count": null,
   "metadata": {
    "collapsed": true
   },
   "outputs": [],
   "source": [
    "n=int(input())\n",
    "def fact(n):\n",
    "    # Complete this function\n",
    "    fact=n*fact(n-1)\n",
    "    \n",
    "print(\"factorial of number\",fact(n))\n",
    "\n",
    "\n"
   ]
  },
  {
   "cell_type": "code",
   "execution_count": null,
   "metadata": {
    "collapsed": true
   },
   "outputs": [],
   "source": []
  }
 ],
 "metadata": {
  "kernelspec": {
   "display_name": "Python 3",
   "language": "python",
   "name": "python3"
  },
  "language_info": {
   "codemirror_mode": {
    "name": "ipython",
    "version": 3
   },
   "file_extension": ".py",
   "mimetype": "text/x-python",
   "name": "python",
   "nbconvert_exporter": "python",
   "pygments_lexer": "ipython3",
   "version": "3.6.3"
  }
 },
 "nbformat": 4,
 "nbformat_minor": 2
}
