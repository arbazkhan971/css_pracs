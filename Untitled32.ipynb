{
 "cells": [
  {
   "cell_type": "code",
   "execution_count": 2,
   "metadata": {},
   "outputs": [
    {
     "ename": "SyntaxError",
     "evalue": "Missing parentheses in call to 'print'. Did you mean print(c)? (<ipython-input-2-dd22bad50e62>, line 9)",
     "output_type": "error",
     "traceback": [
      "\u001b[1;36m  File \u001b[1;32m\"<ipython-input-2-dd22bad50e62>\"\u001b[1;36m, line \u001b[1;32m9\u001b[0m\n\u001b[1;33m    print c\u001b[0m\n\u001b[1;37m          ^\u001b[0m\n\u001b[1;31mSyntaxError\u001b[0m\u001b[1;31m:\u001b[0m Missing parentheses in call to 'print'. Did you mean print(c)?\n"
     ]
    }
   ],
   "source": [
    "a=[1,3,4,51,32,11]\n",
    "\n",
    "b=[3,2,4,5,6,71]\n",
    "\n",
    "\n",
    "print (\"1.concatenation \\n 2.repeat \\n 3.replace \\n 4.length\\n 5.del \\n6. max \\n 8.join \\n 9.slicing and indexing \\n 10. reverse \\n11. split \\n12. memebership operator \\n13. reverse list\\n 14.appebd\\n 15. extend \\n 16. count \\n 17. pop \\n 18.sort \\n 19. remove \\n 20.range\")\n",
    "\n",
    "c=int(input(\"enter your choice\"))\n",
    "print c\n",
    "if(c==1):\n",
    "     print a+b\n",
    "elif(c==2):\n",
    "     d=int(input(\"enter a how many times u want to repeat\"))\n",
    "     print a*d\n",
    "elif(c==3):\n",
    "     print a\n",
    "     f=input(\"change u want\")\n",
    "     g=input(\"word u want to change\")\n",
    "     print a.replace(g,f)\n",
    "elif(c==4):\n",
    "     print len(a)\n",
    "elif(c==5):\n",
    "     s=input(\"select the index of item u want deleete\")\n",
    "     print a[s]\n",
    "elif(c==6):\n",
    "     print max(a)   \n",
    "elif(c==7):\n",
    "     print min(a)\n",
    "elif(c==8):\n",
    "     print a.(b)\n",
    "elif(c==9):\n",
    "     print a[3]\n",
    "     print a[0:2]\n",
    "elif(c==10):\n",
    "     print .join(reverse(a))\n",
    "elif(c==11):\n",
    "     print \n",
    "elif(c==12):\n",
    "     for i in a:\n",
    "         print i\n",
    "elif(c==13):\n",
    "     print a[::-1]\n",
    "elif(c==14):\n",
    "     print a.append(3)\n",
    "elif(c==15):\n",
    "     print a.extend(b)\n",
    "elif(c==16):\n",
    "     print a.count()     \n",
    "elif(c==17):\n",
    "     print a.pop(3)\n",
    "elif(c==18):\n",
    "     print a.sort()  \n",
    "elif(c==19):\n",
    "     print a.remove(1)\n",
    "elif(c==20):\n",
    "     print range(10)\n",
    "     print range(10,3)\n",
    "     print range(10,2)\n"
   ]
  },
  {
   "cell_type": "code",
   "execution_count": null,
   "metadata": {
    "collapsed": true
   },
   "outputs": [],
   "source": []
  }
 ],
 "metadata": {
  "kernelspec": {
   "display_name": "Python 3",
   "language": "python",
   "name": "python3"
  },
  "language_info": {
   "codemirror_mode": {
    "name": "ipython",
    "version": 3
   },
   "file_extension": ".py",
   "mimetype": "text/x-python",
   "name": "python",
   "nbconvert_exporter": "python",
   "pygments_lexer": "ipython3",
   "version": "3.6.3"
  }
 },
 "nbformat": 4,
 "nbformat_minor": 2
}
