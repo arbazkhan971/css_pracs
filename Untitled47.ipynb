{
 "cells": [
  {
   "cell_type": "code",
   "execution_count": 10,
   "metadata": {
    "collapsed": true
   },
   "outputs": [],
   "source": [
    "def Gfs(w, p, W): \n",
    "  for i in range(n): \n",
    "      x[i] = 0 \n",
    "  weight = 0 \n",
    "  for i in  range(n): \n",
    "     if((weight + w[i])< W):  \n",
    "       x[i] = 1 \n",
    "       weight = weight + w[i] \n",
    "     else: \n",
    "       x[i] = (W - weight) / w[i] \n",
    "       weight = W \n",
    "       break \n",
    "  return x"
   ]
  },
  {
   "cell_type": "code",
   "execution_count": 25,
   "metadata": {},
   "outputs": [
    {
     "name": "stdout",
     "output_type": "stream",
     "text": [
      "enter number of elemnt4\n",
      "40 10 20 24\n",
      "280 100 120 120\n",
      "enrter a maximum capacity60\n",
      "[7.0, 10.0, 6.0, 5.0]\n",
      "[24, 20, 40, 10]\n",
      "[120, 120, 280, 100]\n"
     ]
    },
    {
     "ename": "IndexError",
     "evalue": "list assignment index out of range",
     "output_type": "error",
     "traceback": [
      "\u001b[1;31m---------------------------------------------------------------------------\u001b[0m",
      "\u001b[1;31mIndexError\u001b[0m                                Traceback (most recent call last)",
      "\u001b[1;32m<ipython-input-25-614269799ce2>\u001b[0m in \u001b[0;36m<module>\u001b[1;34m()\u001b[0m\n\u001b[0;32m     36\u001b[0m        \u001b[1;32mbreak\u001b[0m\u001b[1;33m\u001b[0m\u001b[0m\n\u001b[0;32m     37\u001b[0m   \u001b[1;32mreturn\u001b[0m \u001b[0mx\u001b[0m\u001b[1;33m\u001b[0m\u001b[0m\n\u001b[1;32m---> 38\u001b[1;33m \u001b[0mGfs\u001b[0m\u001b[1;33m(\u001b[0m\u001b[0mw\u001b[0m\u001b[1;33m,\u001b[0m\u001b[0mp\u001b[0m\u001b[1;33m,\u001b[0m\u001b[0mW\u001b[0m\u001b[1;33m)\u001b[0m\u001b[1;33m\u001b[0m\u001b[0m\n\u001b[0m\u001b[0;32m     39\u001b[0m \u001b[1;33m\u001b[0m\u001b[0m\n",
      "\u001b[1;32m<ipython-input-25-614269799ce2>\u001b[0m in \u001b[0;36mGfs\u001b[1;34m(w, p, W)\u001b[0m\n\u001b[0;32m     25\u001b[0m \u001b[1;32mdef\u001b[0m \u001b[0mGfs\u001b[0m\u001b[1;33m(\u001b[0m\u001b[0mw\u001b[0m\u001b[1;33m,\u001b[0m \u001b[0mp\u001b[0m\u001b[1;33m,\u001b[0m \u001b[0mW\u001b[0m\u001b[1;33m)\u001b[0m\u001b[1;33m:\u001b[0m\u001b[1;33m\u001b[0m\u001b[0m\n\u001b[0;32m     26\u001b[0m   \u001b[1;32mfor\u001b[0m \u001b[0mi\u001b[0m \u001b[1;32min\u001b[0m \u001b[0mrange\u001b[0m\u001b[1;33m(\u001b[0m\u001b[0mn\u001b[0m\u001b[1;33m+\u001b[0m\u001b[1;36m1\u001b[0m\u001b[1;33m)\u001b[0m\u001b[1;33m:\u001b[0m\u001b[1;33m\u001b[0m\u001b[0m\n\u001b[1;32m---> 27\u001b[1;33m       \u001b[0mx\u001b[0m\u001b[1;33m[\u001b[0m\u001b[0mi\u001b[0m\u001b[1;33m]\u001b[0m \u001b[1;33m=\u001b[0m \u001b[1;36m0\u001b[0m\u001b[1;33m\u001b[0m\u001b[0m\n\u001b[0m\u001b[0;32m     28\u001b[0m   \u001b[0mweight\u001b[0m \u001b[1;33m=\u001b[0m \u001b[1;36m0\u001b[0m\u001b[1;33m\u001b[0m\u001b[0m\n\u001b[0;32m     29\u001b[0m   \u001b[1;32mfor\u001b[0m \u001b[0mi\u001b[0m \u001b[1;32min\u001b[0m  \u001b[0mrange\u001b[0m\u001b[1;33m(\u001b[0m\u001b[0mn\u001b[0m\u001b[1;33m+\u001b[0m\u001b[1;36m1\u001b[0m\u001b[1;33m)\u001b[0m\u001b[1;33m:\u001b[0m\u001b[1;33m\u001b[0m\u001b[0m\n",
      "\u001b[1;31mIndexError\u001b[0m: list assignment index out of range"
     ]
    }
   ],
   "source": [
    "w=[]\n",
    "p=[]\n",
    "x=[]\n",
    "n=int(input(\"enter number of elemnt\"))\n",
    "\n",
    "w=list(map(int, input().split())) \n",
    "p=list(map(int, input().split()))\n",
    "W=int(input(\"enrter a maximum capacity\"))\n",
    "s=[]\n",
    "for i in range(n):\n",
    "    s.append(p[i]/w[i])\n",
    "print(s)   \n",
    "\n",
    "for i in range(n):\n",
    " \n",
    "        for j in range(0, n-i-1):\n",
    " \n",
    "           \n",
    "            if s[j] > s[j+1] :\n",
    "                s[j], s[j+1] = s[j+1], s[j]\n",
    "                w[j], w[j+1] = w[j+1], w[j]\n",
    "                p[j], p[j+1] = p[j+1], p[j]\n",
    "print(w)\n",
    "print(p)\n",
    "def Gfs(w, p, W): \n",
    "  for i in range(n+1): \n",
    "      x[i] = 0 \n",
    "  weight = 0 \n",
    "  for i in  range(n+1): \n",
    "     if((weight + w[i])< W):  \n",
    "       x[i] = 1 \n",
    "       weight = weight + w[i] \n",
    "     else: \n",
    "       x[i] = (W - weight) / w[i] \n",
    "       weight = W \n",
    "       break \n",
    "  return x\n",
    "Gfs(w,p,W)   \n",
    "\n"
   ]
  },
  {
   "cell_type": "code",
   "execution_count": null,
   "metadata": {
    "collapsed": true
   },
   "outputs": [],
   "source": [
    "def get_optimal_value(capacity, weights, values):\n",
    "    value = 0.\n",
    "\n",
    "    valuePerWeight = valuePerWeight = sorted([[v / w, w] for v,w in zip(values,weights)], reverse=True)\n",
    "    while capacity > 0 and valuePerWeight:\n",
    "        maxi = 0\n",
    "        idx = None\n",
    "        for i,item in enumerate(valuePerWeight):\n",
    "            if item [1] > 0 and maxi < item [0]:\n",
    "                maxi = item [0]\n",
    "                idx = i\n",
    "\n",
    "        if idx is None:\n",
    "            return 0.\n",
    "\n",
    "        v = valuePerWeight[idx][0]\n",
    "        w = valuePerWeight[idx][1]\n",
    "\n",
    "        if w <= capacity:\n",
    "            value += v*w\n",
    "            capacity -= w\n",
    "        else:\n",
    "            if w > 0:\n",
    "                value += capacity * v\n",
    "                return value\n",
    "        valuePerWeight.pop(idx)\n",
    "\n",
    "    return value\n",
    "\n",
    "if __name__ == \"__main__\":\n",
    "    n = 3\n",
    "    capacity = 50\n",
    "    values = [60, 100, 120]"
   ]
  },
  {
   "cell_type": "code",
   "execution_count": 29,
   "metadata": {},
   "outputs": [
    {
     "name": "stdout",
     "output_type": "stream",
     "text": [
      "enter number of elemnt4\n",
      "10 \t40 \t20 \t24\n",
      " \t100 \t280 \t120 \t120\n",
      "enrter a maximum capacity60\n"
     ]
    },
    {
     "data": {
      "text/plain": [
       "(440.0, 0)"
      ]
     },
     "execution_count": 29,
     "metadata": {},
     "output_type": "execute_result"
    }
   ],
   "source": [
    "import sys\n",
    "weights=[]\n",
    "values=[]\n",
    "\n",
    "n=int(input(\"enter number of elemnt\"))\n",
    "\n",
    "w=list(map(int, input().split())) \n",
    "p=list(map(int, input().split()))\n",
    "W=int(input(\"enrter a maximum capacity\"))\n",
    "\n",
    "def knap(capacity, weights, values):\n",
    "    finalValue = 0\n",
    "    a=0\n",
    "    A=[0]*len(weights)\n",
    "    \n",
    "    densities = sorted([[values[i] /float( weights[i]), weights[i]] for i in range(len(weights))], reverse=True)\n",
    "\n",
    "    \n",
    "    for i, v in enumerate(densities):\n",
    "        a= min(capacity, densities[i][1])\n",
    "        \n",
    "        finalValue += a*densities[i][0]\n",
    "        capacity -= a\n",
    "\n",
    "    return finalValue\n",
    "import sys\n",
    "weights=[]\n",
    "values=[]\n",
    "\n",
    "n=int(input(\"enter number of elemnt\"))\n",
    "\n",
    "w=list(map(int, input().split())) \n",
    "p=list(map(int, input().split()))\n",
    "W=int(input(\"enrter a maximum capacity\"))\n",
    "knap(W,w,p)"
   ]
  },
  {
   "cell_type": "code",
   "execution_count": 33,
   "metadata": {},
   "outputs": [
    {
     "name": "stdout",
     "output_type": "stream",
     "text": [
      "enter number of elemnt4\n",
      "10 \t40 \t20 \t24\n",
      "100 \t280 \t120 \t120\n",
      "enrter a maximum capacity60\n"
     ]
    },
    {
     "data": {
      "text/plain": [
       "[(0, 1.0), (1, 1.0), (2, 0.5)]"
      ]
     },
     "execution_count": 33,
     "metadata": {},
     "output_type": "execute_result"
    }
   ],
   "source": [
    "import sys\n",
    "weights=[]\n",
    "values=[]\n",
    "\n",
    "n=int(input(\"enter number of elemnt\"))\n",
    "\n",
    "w=list(map(int, input().split())) \n",
    "p=list(map(int, input().split()))\n",
    "W=int(input(\"enrter a maximum capacity\"))\n",
    "def bubblesortByRatio(list1, list2):\n",
    "  n = len(list1)\n",
    "  order = range(n)\n",
    "  for i in range(n - 1, 0, -1):     # i ranges from n-1 down to 1\n",
    "    for j in range(0, i):           # j ranges from 0 up to i-1\n",
    "      # if ratio of jth numbers > ratio of (j+1)st numbers then\n",
    "      if ((1.0 * list1[order[j]]) / list2[order[j]]) < ((1.0 * list1[order[j+1]]) / list2[order[j+1]]):\n",
    "        temp = order[j]              # exchange \"pointers\" to these items\n",
    "        order[j] = order[j+1]\n",
    "        order[j+1] = temp\n",
    "  return order\n",
    "\n",
    "def KnapsackFrac(v, w, W):\n",
    "  order = bubblesortByRatio(v, w)            # sort by v/w (see bubblesort below)\n",
    "  weight = 0.0                               # current weight of the solution\n",
    "  value = 0.0                                # current value of the solution\n",
    "  knapsack = []                              # items in the knapsack - a list of (item, faction) pairs\n",
    "  n = len(v)\n",
    "  index = 0                                  # order[index] is the index in v and w of the item we're considering\n",
    "  while (weight < W) and (index < n):\n",
    "    if weight + w[order[index]] <= W:        # if we can fit the entire order[index]-th item\n",
    "      knapsack.append((order[index], 1.0))   # add it and update weight and value\n",
    "      weight = weight + w[order[index]]\n",
    "      value = value + v[order[index]]\n",
    "    else:\n",
    "      fraction = (W - weight) / w[order[index]]  # otherwise, calculate the fraction we can fit\n",
    "      knapsack.append((order[index], fraction))  # and add this fraction\n",
    "      weight = W\n",
    "      value = value + v[order[index]] * fraction\n",
    "    index = index + 1\n",
    "  return (knapsack)\n",
    "  return (value)\n",
    "KnapsackFrac(p,w,W)\n"
   ]
  },
  {
   "cell_type": "code",
   "execution_count": null,
   "metadata": {
    "collapsed": true
   },
   "outputs": [],
   "source": []
  }
 ],
 "metadata": {
  "kernelspec": {
   "display_name": "Python 3",
   "language": "python",
   "name": "python3"
  },
  "language_info": {
   "codemirror_mode": {
    "name": "ipython",
    "version": 3
   },
   "file_extension": ".py",
   "mimetype": "text/x-python",
   "name": "python",
   "nbconvert_exporter": "python",
   "pygments_lexer": "ipython3",
   "version": "3.6.3"
  }
 },
 "nbformat": 4,
 "nbformat_minor": 2
}
