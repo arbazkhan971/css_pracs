{
 "cells": [
  {
   "cell_type": "code",
   "execution_count": 1,
   "metadata": {},
   "outputs": [
    {
     "name": "stdout",
     "output_type": "stream",
     "text": [
      "LONGEST COMMON SUBSEQUENCE :AIR\n"
     ]
    },
    {
     "data": {
      "text/plain": [
       "'LONGEST COMMON SUBSEQUENCE :AIR'"
      ]
     },
     "execution_count": 1,
     "metadata": {},
     "output_type": "execute_result"
    }
   ],
   "source": [
    "def lcs(s1, s2):\n",
    "    if len(s1) == 0 or len(s2) == 0:\n",
    "        return \"\"\n",
    "    if s1[-1] == s2[-1]:\n",
    "        return lcs(s1[:-1], s2[:-1]) + s1[-1]\n",
    "    if len(lcs(s1[:-1], s2)) > len(lcs(s1, s2[:-1])):\n",
    "        return lcs(s1[:-1], s2)\n",
    "    else:\n",
    "        return lcs(s1, s2[:-1])\n",
    "if __name__ == \"__main__\":\n",
    "    print(\"LONGEST COMMON SUBSEQUENCE :\"+lcs('CHANDIGARH', 'KASHMIR'))\n",
    "\n",
    "'''LONGEST COMMON SUBSEQUENCE :AIR'''"
   ]
  },
  {
   "cell_type": "code",
   "execution_count": null,
   "metadata": {
    "collapsed": true
   },
   "outputs": [],
   "source": []
  }
 ],
 "metadata": {
  "kernelspec": {
   "display_name": "Python 3",
   "language": "python",
   "name": "python3"
  },
  "language_info": {
   "codemirror_mode": {
    "name": "ipython",
    "version": 3
   },
   "file_extension": ".py",
   "mimetype": "text/x-python",
   "name": "python",
   "nbconvert_exporter": "python",
   "pygments_lexer": "ipython3",
   "version": "3.6.3"
  }
 },
 "nbformat": 4,
 "nbformat_minor": 2
}
