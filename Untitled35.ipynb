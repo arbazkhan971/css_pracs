{
 "cells": [
  {
   "cell_type": "code",
   "execution_count": 1,
   "metadata": {},
   "outputs": [
    {
     "ename": "SyntaxError",
     "evalue": "Missing parentheses in call to 'print'. Did you mean print(int  '''Help Menu :\n            1. Bubble Sort,\n            2. Selection Sort,\n            3. Merge Sort,\n            4. Quick Sort,\n            5. Insertion Sort''')? (<ipython-input-1-18d68a6012d4>, line 7)",
     "output_type": "error",
     "traceback": [
      "\u001b[1;36m  File \u001b[1;32m\"<ipython-input-1-18d68a6012d4>\"\u001b[1;36m, line \u001b[1;32m7\u001b[0m\n\u001b[1;33m    5. Insertion Sort'''\u001b[0m\n\u001b[1;37m                        \n^\u001b[0m\n\u001b[1;31mSyntaxError\u001b[0m\u001b[1;31m:\u001b[0m Missing parentheses in call to 'print'. Did you mean print(int  '''Help Menu :\n            1. Bubble Sort,\n            2. Selection Sort,\n            3. Merge Sort,\n            4. Quick Sort,\n            5. Insertion Sort''')?\n"
     ]
    }
   ],
   "source": [
    "def main():\n",
    "    print  '''Help Menu :\n",
    "            1. Bubble Sort,\n",
    "            2. Selection Sort,\n",
    "            3. Merge Sort,\n",
    "            4. Quick Sort,\n",
    "            5. Insertion Sort'''\n",
    "    num=raw_input(\"Which sorting algo would you like to run?\");\n",
    "    options = {'1' : bubblesort,\n",
    "           '2' : selectionsort,\n",
    "           '3' : mergesort,\n",
    "           '4' : quicksort,\n",
    "           '5' : insertionsort,\n",
    "   } #Declaring a dictionary\n",
    "    options.get(num, errorMessage)()\n",
    "\n",
    "\n",
    "if __name__ == '__main__':\n",
    "    main()"
   ]
  },
  {
   "cell_type": "code",
   "execution_count": 2,
   "metadata": {},
   "outputs": [
    {
     "ename": "SyntaxError",
     "evalue": "invalid syntax (<ipython-input-2-10d8f11fcffc>, line 4)",
     "output_type": "error",
     "traceback": [
      "\u001b[1;36m  File \u001b[1;32m\"<ipython-input-2-10d8f11fcffc>\"\u001b[1;36m, line \u001b[1;32m4\u001b[0m\n\u001b[1;33m    while(j>0 && arr[j-1]>arr[j]):\u001b[0m\n\u001b[1;37m               ^\u001b[0m\n\u001b[1;31mSyntaxError\u001b[0m\u001b[1;31m:\u001b[0m invalid syntax\n"
     ]
    }
   ],
   "source": [
    "def insertion_sort(arr):\n",
    "    for i in range(len(arr)):\n",
    "        i=j\n",
    "        while(j>0 && arr[j-1]>arr[j]):\n",
    "            temp=arr[j-1]\n",
    "            arr[j-1]=arr[j]\n",
    "            arr[j]=temp\n",
    "            j=j-1\n",
    "            \n",
    "    return arr        \n",
    "            \n",
    "    "
   ]
  },
  {
   "cell_type": "code",
   "execution_count": 10,
   "metadata": {},
   "outputs": [],
   "source": [
    "def selection_sort(arr):\n",
    "   for i in range(len(arr)-1,0,-1):\n",
    "       maxpos=0\n",
    "       for j in range(1,i+1):\n",
    "           if arr[j]>arr[maxpos]:\n",
    "               maxpos = i\n",
    "           \n",
    "   temp = arr[i]\n",
    "   arr[i] = arr[j]\n",
    "   arr[j] = temp       "
   ]
  },
  {
   "cell_type": "code",
   "execution_count": 11,
   "metadata": {},
   "outputs": [
    {
     "name": "stdout",
     "output_type": "stream",
     "text": [
      "[1, 22, 3, 11, 22]\n"
     ]
    }
   ],
   "source": [
    "arr=[1,22,3,11,22]\n",
    "selection_sort(arr)\n",
    "print(arr)"
   ]
  },
  {
   "cell_type": "code",
   "execution_count": 21,
   "metadata": {},
   "outputs": [
    {
     "name": "stdout",
     "output_type": "stream",
     "text": [
      "enter a numbers of elements of array5\n",
      "5\n",
      "enter a number of array\n",
      "22\n",
      "11\n",
      "2\n",
      "1\n",
      "3\n",
      "1.Insertion_sort \n",
      " 2.selection_sort\n",
      "1\n",
      "You selected insertion sort. \n",
      "\n",
      "Before sorting the array is [22, 11, 2, 1, 3]\n",
      "After sorting the array is [1, 2, 3, 11, 22]\n"
     ]
    }
   ],
   "source": [
    "\n",
    "arr=[]\n",
    "a=int(input(\"enter a numbers of elements of array\"))\n",
    "print(a)\n",
    "print(\"enter a number of array\")\n",
    "for i in range(a):\n",
    "     n =int(input())\n",
    "     arr.append(n)\n",
    "print(\"1.Insertion_sort \\n 2.selection_sort\")\n",
    "c=int(input())\n",
    "if(c==1):\n",
    "    insertionsort(arr)\n",
    "elif(c==2):\n",
    "    selectionsort(arr)\n",
    "\n",
    "\n",
    "def selectionsort(newarr):\n",
    "    print(\"You selected selection sort. \\n\") \n",
    "\n",
    "    print(\"Before sorting the array is\", newarr) \n",
    "    for i in range(0,len(newarr)-1): \n",
    "        m=i \n",
    "        for j in range(i+1,len(newarr)):\n",
    "            if(newarr[j]<newarr[m]): \n",
    "                m=j \n",
    "        temp = newarr[i]\n",
    "        newarr[i]=newarr[m]\n",
    "        newarr[m]=temp\n",
    "    print(\"After sorting the array is\", newarr) \n",
    "def insertionsort(newarr):  \n",
    "    print(\"You selected insertion sort. \\n\")\n",
    "\n",
    "    print(\"Before sorting the array is\", newarr) \n",
    "    print( \"After sorting the array is\", insertion(newarr))\n",
    "def insertion(iarr):\n",
    "    for i in range(1,len(iarr)):\n",
    "        value = iarr[i]\n",
    "        j=i-1\n",
    "        while (j>=0) and (iarr[j]>value):\n",
    "            iarr[j+1] = iarr[j] \n",
    "            j=j-1\n",
    "            iarr[j+1] = value \n",
    "    return iarr\n"
   ]
  },
  {
   "cell_type": "code",
   "execution_count": 15,
   "metadata": {},
   "outputs": [
    {
     "name": "stdout",
     "output_type": "stream",
     "text": [
      "You selected selection sort. \n",
      "\n",
      "Before sorting the array is [1, 22, 3, 11, 22]\n",
      "After sorting the array is [1, 3, 11, 22, 22]\n",
      "[1, 3, 11, 22, 22]\n"
     ]
    }
   ],
   "source": [
    "arr=[1,22,3,11,22]\n",
    "selectionsort(arr)\n",
    "print(arr)"
   ]
  },
  {
   "cell_type": "code",
   "execution_count": 24,
   "metadata": {},
   "outputs": [
    {
     "name": "stdout",
     "output_type": "stream",
     "text": [
      "enter a numbers of elements of array3\n",
      "3\n",
      "enter a number of array\n",
      "2\n",
      "3\n",
      "4\n"
     ]
    }
   ],
   "source": [
    "arr=[]\n",
    "a=int(input(\"enter a numbers of elements of array\"))\n",
    "print(a)\n",
    "print(\"enter a number of array\")\n",
    "for i in range(a):\n",
    "     n =int(input())\n",
    "     arr.append(n)\n",
    "d=0    \n",
    "while(d==1):\n",
    " print(\"1.Insertion_sort \\n 2.selection_sort\")\n",
    " c=int(input())\n",
    " if(c==1):\n",
    "    insertionsort(arr)\n",
    " elif(c==2):\n",
    "    selectionsort(arr)\n",
    " d=int(input(\"enter 1 to continue\"))\n",
    "\n",
    "def selectionsort(newarr):\n",
    "    print(\"You selected selection sort. \\n\") \n",
    "\n",
    "    print(\"Before sorting the array is\", newarr) \n",
    "    for i in range(0,len(newarr)-1): \n",
    "        m=i \n",
    "        for j in range(i+1,len(newarr)):\n",
    "            if(newarr[j]<newarr[m]): \n",
    "                m=j \n",
    "        temp = newarr[i]\n",
    "        newarr[i]=newarr[m]\n",
    "        newarr[m]=temp\n",
    "    print(\"After sorting the array is\", newarr) \n",
    "def insertionsort(newarr):  \n",
    "    print(\"You selected insertion sort. \\n\")\n",
    "\n",
    "    print(\"Before sorting the array is\", newarr) \n",
    "    print( \"After sorting the array is\", insertion(newarr))\n",
    "def insertion(iarr):\n",
    "    for i in range(1,len(iarr)):\n",
    "        value = iarr[i]\n",
    "        j=i-1\n",
    "        while (j>=0) and (iarr[j]>value):\n",
    "            iarr[j+1] = iarr[j] \n",
    "            j=j-1\n",
    "            iarr[j+1] = value \n",
    "    return iarr\n"
   ]
  },
  {
   "cell_type": "code",
   "execution_count": 25,
   "metadata": {},
   "outputs": [
    {
     "ename": "NameError",
     "evalue": "name 'newarr' is not defined",
     "output_type": "error",
     "traceback": [
      "\u001b[1;31m---------------------------------------------------------------------------\u001b[0m",
      "\u001b[1;31mNameError\u001b[0m                                 Traceback (most recent call last)",
      "\u001b[1;32m<ipython-input-25-4aec209a1859>\u001b[0m in \u001b[0;36m<module>\u001b[1;34m()\u001b[0m\n\u001b[1;32m----> 1\u001b[1;33m \u001b[0mnewarr\u001b[0m\u001b[1;33m\u001b[0m\u001b[0m\n\u001b[0m",
      "\u001b[1;31mNameError\u001b[0m: name 'newarr' is not defined"
     ]
    }
   ],
   "source": [
    "newarr"
   ]
  },
  {
   "cell_type": "code",
   "execution_count": null,
   "metadata": {},
   "outputs": [],
   "source": [
    "# -*- coding: utf-8 -*-\n",
    "\"\"\"\n",
    "Created on Mon Jan 22 18:12:17 2018\n",
    "\n",
    "@author: arbaz\n",
    "\"\"\"\n",
    "\n",
    "arr=[]\n",
    "a=int(input(\"enter a numbers of elements of array\"))\n",
    "print(a)\n",
    "print(\"enter a number of array\")\n",
    "for i in range(a):\n",
    "     n =int(input())\n",
    "     arr.append(n)\n",
    "d=0    \n",
    "while(True):\n",
    " print(\"1.Insertion_sort \\n 2.selection_sort\")\n",
    " c=int(input())\n",
    " if(c==1):\n",
    "    insertionsort(arr)\n",
    " elif(c==2):\n",
    "    selectionsort(arr)\n",
    " elif(c==3):\n",
    "    exit()\n",
    "\n",
    "def selectionsort(newarr):\n",
    "    print(\"You selected selection sort. \\n\") \n",
    "\n",
    "    print(\"Before sorting the array is\", newarr) \n",
    "    for i in range(0,len(newarr)-1): \n",
    "        m=i \n",
    "        for j in range(i+1,len(newarr)):\n",
    "            if(newarr[j]<newarr[m]): \n",
    "                m=j \n",
    "        temp = newarr[i]\n",
    "        newarr[i]=newarr[m]\n",
    "        newarr[m]=temp\n",
    "    print(\"After sorting the array is\", newarr) \n",
    "def insertionsort(newarr):  \n",
    "    print(\"You selected insertion sort. \\n\")\n",
    "\n",
    "    print(\"Before sorting the array is\", newarr) \n",
    "    print( \"After sorting the array is\", insertion(newarr))\n",
    "def insertion(iarr):\n",
    "    for i in range(1,len(iarr)):\n",
    "        value = iarr[i]\n",
    "        j=i-1\n",
    "        while (j>=0) and (iarr[j]>value):\n",
    "            iarr[j+1] = iarr[j] \n",
    "            j=j-1\n",
    "            iarr[j+1] = value \n",
    "    return iarr\n"
   ]
  },
  {
   "cell_type": "code",
   "execution_count": null,
   "metadata": {
    "collapsed": true
   },
   "outputs": [],
   "source": [
    "# -*- coding: utf-8 -*-\n",
    "\"\"\"\n",
    "Created on Mon Jan 22 18:12:17 2018\n",
    "\n",
    "@author: arbaz\n",
    "\"\"\"\n",
    "import sys\n",
    "arr=[]\n",
    "a=int(input(\"enter a numbers of elements of array\"))\n",
    "print(a)\n",
    "print(\"enter a number of array\")\n",
    "for i in range(a):\n",
    "     n =int(input())\n",
    "     arr.append(n)\n",
    "d=0    \n",
    "while(True):\n",
    " print(\"1.Insertion_sort \\n 2.selection_sort\\n 3.exit\")\n",
    " c=int(input())\n",
    " if(c==1):\n",
    "    insertionsort(arr)\n",
    " elif(c==2):\n",
    "    selectionsort(arr)\n",
    " elif(c==3):\n",
    "    sys.exit()\n",
    "\n",
    "def selectionsort(newarr):\n",
    "    print(\"You selected selection sort. \\n\") \n",
    "\n",
    "    print(\"Before sorting the array is\", newarr) \n",
    "    for i in range(0,len(newarr)-1): \n",
    "        m=i \n",
    "        for j in range(i+1,len(newarr)):\n",
    "            if(newarr[j]<newarr[m]): \n",
    "                m=j \n",
    "        temp = newarr[i]\n",
    "        newarr[i]=newarr[m]\n",
    "        newarr[m]=temp\n",
    "    print(\"After sorting the array is\", newarr) \n",
    "def insertionsort(newarr):  \n",
    "    print(\"You selected insertion sort. \\n\")\n",
    "\n",
    "    print(\"Before sorting the array is\", newarr) \n",
    "    print( \"After sorting the array is\", insertion(newarr))\n",
    "def insertion(iarr):\n",
    "    for i in range(1,len(iarr)):\n",
    "        value = iarr[i]\n",
    "        j=i-1\n",
    "        while (j>=0) and (iarr[j]>value):\n",
    "            iarr[j+1] = iarr[j] \n",
    "            j=j-1\n",
    "            iarr[j+1] = value \n",
    "    return iarr\n"
   ]
  },
  {
   "cell_type": "code",
   "execution_count": null,
   "metadata": {
    "collapsed": true
   },
   "outputs": [],
   "source": []
  }
 ],
 "metadata": {
  "kernelspec": {
   "display_name": "Python 3",
   "language": "python",
   "name": "python3"
  },
  "language_info": {
   "codemirror_mode": {
    "name": "ipython",
    "version": 3
   },
   "file_extension": ".py",
   "mimetype": "text/x-python",
   "name": "python",
   "nbconvert_exporter": "python",
   "pygments_lexer": "ipython3",
   "version": "3.6.3"
  }
 },
 "nbformat": 4,
 "nbformat_minor": 2
}
