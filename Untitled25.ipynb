{
 "cells": [
  {
   "cell_type": "code",
   "execution_count": 1,
   "metadata": {
    "collapsed": true
   },
   "outputs": [],
   "source": [
    "from bs4 import BeautifulSoup\n",
    "import requests\n"
   ]
  },
  {
   "cell_type": "code",
   "execution_count": 2,
   "metadata": {
    "collapsed": true
   },
   "outputs": [],
   "source": [
    "import pandas as pd\n",
    "from pandas import Series,DataFrame"
   ]
  },
  {
   "cell_type": "code",
   "execution_count": 3,
   "metadata": {
    "collapsed": true
   },
   "outputs": [],
   "source": [
    "url = 'http://www.ucop.edu/operating-budget/budgets-and-reports/legislative-reports/2013-14-legislative-session.html'\n",
    "\n"
   ]
  },
  {
   "cell_type": "code",
   "execution_count": 9,
   "metadata": {},
   "outputs": [],
   "source": [
    "c = requests.get(url).content\n",
    "\n"
   ]
  },
  {
   "cell_type": "code",
   "execution_count": 10,
   "metadata": {},
   "outputs": [
    {
     "name": "stderr",
     "output_type": "stream",
     "text": [
      "C:\\Users\\arbaz\\Anaconda3\\lib\\site-packages\\bs4\\__init__.py:181: UserWarning: No parser was explicitly specified, so I'm using the best available HTML parser for this system (\"lxml\"). This usually isn't a problem, but if you run this code on another system, or in a different virtual environment, it may use a different parser and behave differently.\n",
      "\n",
      "The code that caused this warning is on line 193 of the file C:\\Users\\arbaz\\Anaconda3\\lib\\runpy.py. To get rid of this warning, change code that looks like this:\n",
      "\n",
      " BeautifulSoup(YOUR_MARKUP})\n",
      "\n",
      "to this:\n",
      "\n",
      " BeautifulSoup(YOUR_MARKUP, \"lxml\")\n",
      "\n",
      "  markup_type=markup_type))\n"
     ]
    }
   ],
   "source": [
    "soup = BeautifulSoup(c)"
   ]
  },
  {
   "cell_type": "code",
   "execution_count": 11,
   "metadata": {
    "collapsed": true
   },
   "outputs": [],
   "source": [
    "summary=soup.find('div',{'class':'list-land','id':'content'})"
   ]
  },
  {
   "cell_type": "code",
   "execution_count": 12,
   "metadata": {
    "collapsed": true
   },
   "outputs": [],
   "source": [
    "table=summary.find_all('table')"
   ]
  },
  {
   "cell_type": "code",
   "execution_count": 13,
   "metadata": {
    "collapsed": true
   },
   "outputs": [],
   "source": [
    "data=[]"
   ]
  },
  {
   "cell_type": "code",
   "execution_count": 15,
   "metadata": {
    "collapsed": true
   },
   "outputs": [],
   "source": [
    "row=table[0].findAll('tr')"
   ]
  },
  {
   "cell_type": "code",
   "execution_count": 17,
   "metadata": {},
   "outputs": [
    {
     "name": "stdout",
     "output_type": "stream",
     "text": [
      "['1']\n",
      "['08/01/13']\n",
      "['2013-14 (EDU 92495) Proposed Capital Outlay Projects (2013-14 only) (pdf)']\n",
      "['2']\n",
      "['09/01/13']\n",
      "['2014-15\\xa0 (EDU 92495) Proposed Capital Outlay Projects (pdf)']\n",
      "['3']\n",
      "['11/01/13']\n",
      "['Utilization of Classroom and Teaching Laboratories (pdf)', '\\xa0(', 'Final Report; biennial', ')']\n",
      "['4']\n",
      "['11/01/13']\n",
      "['Instruction and Research Space Summary & Analysis (pdf)']\n",
      "['5']\n",
      "['11/15/13']\n",
      "['Statewide Energy Partnership Program (pdf)']\n",
      "['6']\n",
      "['11/30/13']\n",
      "['2013-23 Capital Financial Plan (pdf)']\n",
      "['7']\n",
      "['11/30/13']\n",
      "['Projects Savings Funded from Capital Outlay Bond Funds (pdf)']\n",
      "['8']\n",
      "['12/01/13']\n",
      "['Streamlined Capital Projects Funded from Capital (pdf)']\n",
      "['9']\n",
      "['01/01/14']\n",
      "['Annual General Obligation Bonds Accountability (pdf)']\n",
      "['10']\n",
      "['01/01/14']\n",
      "['Small Business Utilization (pdf)']\n",
      "['11']\n",
      "['01/01/14']\n",
      "['Institutional Financial Aid Programs - Preliminary report (pdf)']\n",
      "['12']\n",
      "['01/10/14']\n",
      "['Summer Enrollment (pdf)']\n",
      "['13']\n",
      "['01/15/14']\n",
      "['Contracting Out for Services at Newly Developed Facilities (pdf)']\n",
      "['14']\n",
      "['03/01/14']\n",
      "['Performance Measures (pdf)']\n",
      "['15']\n",
      "['03/01/14']\n",
      "['Entry Level Writing Requirement (pdf)']\n",
      "['16']\n",
      "['03/31/14']\n",
      "['Annual Report on Student\\xa0Financial Support (pdf)']\n",
      "['17']\n",
      "['04/01/14']\n",
      "['Unique Statewide Pupil Identifier (pdf)']\n",
      "['18']\n",
      "['04/01/14']\n",
      "['Riverside School of Medicine (pdf)']\n",
      "['19']\n",
      "['04/01/14']\n",
      "['SAPEP Funds and Outcomes - N/A']\n",
      "['20']\n",
      "['05/15/14']\n",
      "['Receipt and Use of Lottery Funds (pdf)']\n",
      "['21']\n",
      "['07/01/14']\n",
      "['Cogeneration and Energy Consv Major Capital Projects (pdf)']\n",
      "['\\n']\n",
      "['\\n']\n",
      "['\\n']\n",
      "['\\xa0']\n",
      "['Future Reports']\n",
      "['\\n']\n",
      "['24']\n",
      "['12-', '31-15']\n",
      "['Breast Cancer Research Fund']\n",
      "['25']\n",
      "['12-31-15']\n",
      "['Cigarette and Tobacco Products Surtax Research Program']\n",
      "['26']\n",
      "['01-01-16']\n",
      "['Best Value Program']\n",
      "['27']\n",
      "['01-01-16']\n",
      "['California Subject Matter Programs']\n",
      "['28']\n",
      "['04-01-16']\n",
      "['COSMOS Program Outcomes']\n"
     ]
    }
   ],
   "source": [
    "for tr in row:\n",
    "    col=tr.findAll('td')\n",
    "    for td in col:\n",
    "        text=td.findAll(text=True)\n",
    "        print (text)\n",
    "        \n",
    "        data.append(text)"
   ]
  },
  {
   "cell_type": "code",
   "execution_count": 18,
   "metadata": {},
   "outputs": [
    {
     "data": {
      "text/plain": [
       "[['1'],\n",
       " ['08/01/13'],\n",
       " ['2013-14 (EDU 92495) Proposed Capital Outlay Projects (2013-14 only) (pdf)'],\n",
       " ['2'],\n",
       " ['09/01/13'],\n",
       " ['2014-15\\xa0 (EDU 92495) Proposed Capital Outlay Projects (pdf)'],\n",
       " ['3'],\n",
       " ['11/01/13'],\n",
       " ['Utilization of Classroom and Teaching Laboratories (pdf)',\n",
       "  '\\xa0(',\n",
       "  'Final Report; biennial',\n",
       "  ')'],\n",
       " ['4'],\n",
       " ['11/01/13'],\n",
       " ['Instruction and Research Space Summary & Analysis (pdf)'],\n",
       " ['5'],\n",
       " ['11/15/13'],\n",
       " ['Statewide Energy Partnership Program (pdf)'],\n",
       " ['6'],\n",
       " ['11/30/13'],\n",
       " ['2013-23 Capital Financial Plan (pdf)'],\n",
       " ['7'],\n",
       " ['11/30/13'],\n",
       " ['Projects Savings Funded from Capital Outlay Bond Funds (pdf)'],\n",
       " ['8'],\n",
       " ['12/01/13'],\n",
       " ['Streamlined Capital Projects Funded from Capital (pdf)'],\n",
       " ['9'],\n",
       " ['01/01/14'],\n",
       " ['Annual General Obligation Bonds Accountability (pdf)'],\n",
       " ['10'],\n",
       " ['01/01/14'],\n",
       " ['Small Business Utilization (pdf)'],\n",
       " ['11'],\n",
       " ['01/01/14'],\n",
       " ['Institutional Financial Aid Programs - Preliminary report (pdf)'],\n",
       " ['12'],\n",
       " ['01/10/14'],\n",
       " ['Summer Enrollment (pdf)'],\n",
       " ['13'],\n",
       " ['01/15/14'],\n",
       " ['Contracting Out for Services at Newly Developed Facilities (pdf)'],\n",
       " ['14'],\n",
       " ['03/01/14'],\n",
       " ['Performance Measures (pdf)'],\n",
       " ['15'],\n",
       " ['03/01/14'],\n",
       " ['Entry Level Writing Requirement (pdf)'],\n",
       " ['16'],\n",
       " ['03/31/14'],\n",
       " ['Annual Report on Student\\xa0Financial Support (pdf)'],\n",
       " ['17'],\n",
       " ['04/01/14'],\n",
       " ['Unique Statewide Pupil Identifier (pdf)'],\n",
       " ['18'],\n",
       " ['04/01/14'],\n",
       " ['Riverside School of Medicine (pdf)'],\n",
       " ['19'],\n",
       " ['04/01/14'],\n",
       " ['SAPEP Funds and Outcomes - N/A'],\n",
       " ['20'],\n",
       " ['05/15/14'],\n",
       " ['Receipt and Use of Lottery Funds (pdf)'],\n",
       " ['21'],\n",
       " ['07/01/14'],\n",
       " ['Cogeneration and Energy Consv Major Capital Projects (pdf)'],\n",
       " ['\\n'],\n",
       " ['\\n'],\n",
       " ['\\n'],\n",
       " ['\\xa0'],\n",
       " ['Future Reports'],\n",
       " ['\\n'],\n",
       " ['24'],\n",
       " ['12-', '31-15'],\n",
       " ['Breast Cancer Research Fund'],\n",
       " ['25'],\n",
       " ['12-31-15'],\n",
       " ['Cigarette and Tobacco Products Surtax Research Program'],\n",
       " ['26'],\n",
       " ['01-01-16'],\n",
       " ['Best Value Program'],\n",
       " ['27'],\n",
       " ['01-01-16'],\n",
       " ['California Subject Matter Programs'],\n",
       " ['28'],\n",
       " ['04-01-16'],\n",
       " ['COSMOS Program Outcomes']]"
      ]
     },
     "execution_count": 18,
     "metadata": {},
     "output_type": "execute_result"
    }
   ],
   "source": [
    "data\n"
   ]
  },
  {
   "cell_type": "code",
   "execution_count": 19,
   "metadata": {
    "collapsed": true
   },
   "outputs": [],
   "source": [
    "index=0\n",
    "report=[]\n",
    "date=[]"
   ]
  },
  {
   "cell_type": "code",
   "execution_count": 20,
   "metadata": {
    "collapsed": true
   },
   "outputs": [],
   "source": [
    "for item in data:\n",
    "    if 'pdf' in item:\n",
    "        date.append(data[index-1])\n",
    "        \n",
    "        report.append(item.replace(u'\\xa0',u''))\n",
    "        "
   ]
  },
  {
   "cell_type": "code",
   "execution_count": 21,
   "metadata": {
    "collapsed": true
   },
   "outputs": [],
   "source": [
    "date=Series(date)"
   ]
  },
  {
   "cell_type": "code",
   "execution_count": 22,
   "metadata": {
    "collapsed": true
   },
   "outputs": [],
   "source": [
    "report=Series(report)"
   ]
  },
  {
   "cell_type": "code",
   "execution_count": 24,
   "metadata": {},
   "outputs": [],
   "source": [
    "legislative_df = pd.concat([date,report],axis=1)"
   ]
  },
  {
   "cell_type": "code",
   "execution_count": 26,
   "metadata": {
    "collapsed": true
   },
   "outputs": [],
   "source": [
    "legislative_df.columns = ['Date','Reports']"
   ]
  },
  {
   "cell_type": "code",
   "execution_count": null,
   "metadata": {
    "collapsed": true
   },
   "outputs": [],
   "source": []
  },
  {
   "cell_type": "code",
   "execution_count": 27,
   "metadata": {},
   "outputs": [
    {
     "data": {
      "text/html": [
       "<div>\n",
       "<style>\n",
       "    .dataframe thead tr:only-child th {\n",
       "        text-align: right;\n",
       "    }\n",
       "\n",
       "    .dataframe thead th {\n",
       "        text-align: left;\n",
       "    }\n",
       "\n",
       "    .dataframe tbody tr th {\n",
       "        vertical-align: top;\n",
       "    }\n",
       "</style>\n",
       "<table border=\"1\" class=\"dataframe\">\n",
       "  <thead>\n",
       "    <tr style=\"text-align: right;\">\n",
       "      <th></th>\n",
       "      <th>Date</th>\n",
       "      <th>Reports</th>\n",
       "    </tr>\n",
       "  </thead>\n",
       "  <tbody>\n",
       "  </tbody>\n",
       "</table>\n",
       "</div>"
      ],
      "text/plain": [
       "Empty DataFrame\n",
       "Columns: [Date, Reports]\n",
       "Index: []"
      ]
     },
     "execution_count": 27,
     "metadata": {},
     "output_type": "execute_result"
    }
   ],
   "source": [
    "legislative_df\n"
   ]
  },
  {
   "cell_type": "code",
   "execution_count": null,
   "metadata": {
    "collapsed": true
   },
   "outputs": [],
   "source": [
    "\n"
   ]
  }
 ],
 "metadata": {
  "kernelspec": {
   "display_name": "Python 3",
   "language": "python",
   "name": "python3"
  },
  "language_info": {
   "codemirror_mode": {
    "name": "ipython",
    "version": 3
   },
   "file_extension": ".py",
   "mimetype": "text/x-python",
   "name": "python",
   "nbconvert_exporter": "python",
   "pygments_lexer": "ipython3",
   "version": "3.6.3"
  }
 },
 "nbformat": 4,
 "nbformat_minor": 2
}
