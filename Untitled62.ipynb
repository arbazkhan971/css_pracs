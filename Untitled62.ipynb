{
 "cells": [
  {
   "cell_type": "code",
   "execution_count": 2,
   "metadata": {},
   "outputs": [
    {
     "name": "stdout",
     "output_type": "stream",
     "text": [
      "Enter the elements in array : 6 3 4 1 2 5\n",
      "Enter the required sum : 12\n",
      "Possible combinations are : \n",
      "[1, 0, 1, 0, 1, 0]\n",
      "[1, 0, 0, 1, 0, 1]\n",
      "[0, 1, 1, 0, 0, 1]\n",
      "[0, 0, 1, 1, 1, 1]\n"
     ]
    }
   ],
   "source": [
    "def sos(w, s, k, r, x):\n",
    "    x[k] = 1\n",
    "    if s + w[k] == m :\n",
    "        print(x)\n",
    "    elif s + w[k] + w[k+1] <= m:\n",
    "        sos(w, s+w[k], k+1, r-w[k], x)\n",
    "    if s + r - w[k] >= m and s+w[k+1] <= m:\n",
    "        x[k] = 0\n",
    "        sos(w, s, k+1, r-w[k], x)\n",
    "w = list(map(int, input(\"Enter the elements in array : \").split()))\n",
    "\n",
    "m = int(input(\"Enter the required sum : \"))\n",
    "print(\"Possible combinations are : \")\n",
    "sos(w, 0, 0, sum(w), [0 for i in w])\n"
   ]
  },
  {
   "cell_type": "code",
   "execution_count": null,
   "metadata": {
    "collapsed": true
   },
   "outputs": [],
   "source": []
  }
 ],
 "metadata": {
  "kernelspec": {
   "display_name": "Python 3",
   "language": "python",
   "name": "python3"
  },
  "language_info": {
   "codemirror_mode": {
    "name": "ipython",
    "version": 3
   },
   "file_extension": ".py",
   "mimetype": "text/x-python",
   "name": "python",
   "nbconvert_exporter": "python",
   "pygments_lexer": "ipython3",
   "version": "3.6.3"
  }
 },
 "nbformat": 4,
 "nbformat_minor": 2
}
