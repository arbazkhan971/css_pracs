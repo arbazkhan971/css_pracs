{
 "cells": [
  {
   "cell_type": "code",
   "execution_count": 2,
   "metadata": {},
   "outputs": [
    {
     "name": "stdout",
     "output_type": "stream",
     "text": [
      "len 3 2820\n",
      "len 7 771\n"
     ]
    }
   ],
   "source": [
    "file=open(\"Output.txt\",\"r+\")\n",
    "len3=0\n",
    "len7=0\n",
    "for i in file.read().split():\n",
    "    if len(i)%3==0:\n",
    "        len3+=1\n",
    "    if len(i)%7==0:\n",
    "        len7+=1\n",
    "print(\"len 3\",len3)\n",
    "print(\"len 7\",len7)"
   ]
  },
  {
   "cell_type": "code",
   "execution_count": 6,
   "metadata": {},
   "outputs": [
    {
     "name": "stdout",
     "output_type": "stream",
     "text": [
      "1101\n",
      "1001\n",
      "10110\n"
     ]
    }
   ],
   "source": [
    "def add(x,y):\n",
    "        max_len = max(len(x), len(y))\n",
    "\n",
    "        x = x.zfill(max_len)\n",
    "        y = y.zfill(max_len)\n",
    "\n",
    "        result = ''\n",
    "        carry = 0\n",
    "\n",
    "        for i in range(max_len-1, -1, -1):\n",
    "            r = carry\n",
    "            r += 1 if x[i] == '1' else 0\n",
    "            r += 1 if y[i] == '1' else 0\n",
    "            result = ('1' if r % 2 == 1 else '0') + result\n",
    "            carry = 0 if r < 2 else 1       \n",
    "\n",
    "        if carry !=0 : result = '1' + result\n",
    "\n",
    "        return result.zfill(max_len)\n",
    "l=input()\n",
    "l1=input()\n",
    "print(add(l,l1))"
   ]
  },
  {
   "cell_type": "code",
   "execution_count": 8,
   "metadata": {},
   "outputs": [
    {
     "name": "stdout",
     "output_type": "stream",
     "text": [
      "['arbaz']\n"
     ]
    }
   ],
   "source": [
    "a=\"arbaz\"\n",
    "b=a.split()\n",
    "print(list(b))"
   ]
  },
  {
   "cell_type": "code",
   "execution_count": 10,
   "metadata": {},
   "outputs": [
    {
     "name": "stdout",
     "output_type": "stream",
     "text": [
      "Prime numbers between 9 and 100 are:\n",
      "11\n",
      "13\n",
      "17\n",
      "19\n",
      "23\n",
      "29\n",
      "31\n",
      "37\n",
      "41\n",
      "43\n",
      "47\n",
      "53\n",
      "59\n",
      "61\n",
      "67\n",
      "71\n",
      "73\n",
      "79\n",
      "83\n",
      "89\n",
      "97\n"
     ]
    }
   ],
   "source": [
    "\n",
    "lower = int(input(\"Enter lower range: \"))\n",
    "upper = int(input(\"Enter upper range: \"))\n",
    "print(\"Prime numbers between\",lower,\"and\",upper,\"are:\")\n",
    "for num in range(lower,upper + 1):\n",
    "   if num > 1:\n",
    "       for i in range(2,num):\n",
    "           if (num % i) == 0:\n",
    "               break\n",
    "       else:\n",
    "           print(num)"
   ]
  },
  {
   "cell_type": "code",
   "execution_count": 11,
   "metadata": {},
   "outputs": [
    {
     "name": "stdout",
     "output_type": "stream",
     "text": [
      "1\n",
      "55\n",
      "2\n",
      "3\n",
      "5\n",
      "7\n",
      "11\n",
      "13\n",
      "17\n",
      "19\n",
      "23\n",
      "29\n",
      "31\n",
      "37\n",
      "41\n",
      "43\n",
      "47\n",
      "53\n"
     ]
    }
   ],
   "source": [
    "\n",
    "low=int(input())\n",
    "\n",
    "upp=int(input())\n",
    "\n",
    "for num in range(low,upp+1):\n",
    "       if num>1:\n",
    "           for i in range(2,num):\n",
    "                 if num%i==0:\n",
    "                      break\n",
    "           else:\n",
    "              print(num)"
   ]
  },
  {
   "cell_type": "code",
   "execution_count": 12,
   "metadata": {},
   "outputs": [
    {
     "name": "stdout",
     "output_type": "stream",
     "text": [
      "[1, 2, 3, 1, 2, 3, 2, 3, 4]\n"
     ]
    }
   ],
   "source": [
    "def flatten(S):\n",
    "    if S == []:\n",
    "        return S\n",
    "    if isinstance(S[0], list):\n",
    "        return flatten(S[0]) + flatten(S[1:])\n",
    "    return S[:1] + flatten(S[1:])\n",
    "l=[[1,2,3],[1,2,3],[2,3,4]]\n",
    "print(flatten(l))"
   ]
  },
  {
   "cell_type": "code",
   "execution_count": 17,
   "metadata": {},
   "outputs": [
    {
     "name": "stdout",
     "output_type": "stream",
     "text": [
      "[1, 2, 3, 1, 2, 3, 2, 3, 4]\n"
     ]
    }
   ],
   "source": [
    "def flat(s):\n",
    "    if s==[]:\n",
    "        return s\n",
    "    if isinstance(s[0],list):\n",
    "        return flat(s[0])+flat(s[1:])\n",
    "    return s[:1]+flat(s[1:])\n",
    "print(flat(l))"
   ]
  },
  {
   "cell_type": "code",
   "execution_count": 18,
   "metadata": {},
   "outputs": [
    {
     "name": "stdout",
     "output_type": "stream",
     "text": [
      "malayalam\n",
      "palindrome\n"
     ]
    }
   ],
   "source": [
    "s=input()\n",
    "r=\"\"\n",
    "for i in s[::-1]:\n",
    "     r+=i\n",
    "if s==r:\n",
    "   print(\"palindrome\")"
   ]
  },
  {
   "cell_type": "code",
   "execution_count": 19,
   "metadata": {},
   "outputs": [
    {
     "name": "stdout",
     "output_type": "stream",
     "text": [
      "[[1], [1, 2], [1, 2, 3], [1, 2, 3, 5], [1, 2, 3, 5, 5], [2], [2, 3], [2, 3, 5], [2, 3, 5, 5], [3], [3, 5], [3, 5, 5], [5], [5, 5], [5]]\n"
     ]
    }
   ],
   "source": [
    "def sub(list):\n",
    "    sublist=[]\n",
    "    for i in range(len(list)):\n",
    "         for j in range(i+1,len(list)):\n",
    "             sub=list[i:j]\n",
    "             sublist.append(sub)\n",
    "    return sublist\n",
    "l=[1,2,3,5,5,5]\n",
    "print(sub(l))"
   ]
  },
  {
   "cell_type": "code",
   "execution_count": 22,
   "metadata": {},
   "outputs": [
    {
     "name": "stdout",
     "output_type": "stream",
     "text": [
      "zabrameelasnahk\n"
     ]
    }
   ],
   "source": [
    "def rev(str1):\n",
    "    rever=[]\n",
    "    \n",
    "    for i in str1.split():\n",
    "         w=\"\"\n",
    "         for j in i[::-1]:\n",
    "              w+=j\n",
    "         rever.append(w)\n",
    "    return(\"\".join(rever))\n",
    "s=\"arbaz saleem khan\"\n",
    "print(rev(s))\n",
    "            "
   ]
  },
  {
   "cell_type": "code",
   "execution_count": 25,
   "metadata": {},
   "outputs": [
    {
     "name": "stdout",
     "output_type": "stream",
     "text": [
      "24\n"
     ]
    }
   ],
   "source": [
    "def fact(n):\n",
    "  if n==1:\n",
    "     return n\n",
    "  else:\n",
    "     return n*fact(n-1)\n",
    "print(fact(4))"
   ]
  },
  {
   "cell_type": "code",
   "execution_count": 27,
   "metadata": {},
   "outputs": [
    {
     "name": "stdout",
     "output_type": "stream",
     "text": [
      "proved\n"
     ]
    }
   ],
   "source": [
    "a={1,2,3,4,5,6}\n",
    "b={2,3,4,5,6,7}\n",
    "c=len(a | b)\n",
    "d=len(a)+len(b)-len(a & b)\n",
    "if c==d:\n",
    "   print(\"proved\")\n",
    "   \n",
    "else: \n",
    "   print(\"not proved\")\n"
   ]
  },
  {
   "cell_type": "code",
   "execution_count": 28,
   "metadata": {},
   "outputs": [
    {
     "name": "stdout",
     "output_type": "stream",
     "text": [
      "enter value into celcius44.5\n",
      "enter values in farenhite333.4\n",
      "112.10000000000001\n",
      "167.44444444444443\n"
     ]
    }
   ],
   "source": [
    "def c_into_f(c):\n",
    "    f=(c*1.8)+32\n",
    "    return f\n",
    "def f_into_c(f):\n",
    "    c=(f-32)/1.8\n",
    "    return c\n",
    "c=float(input(\"enter value into celcius\"))\n",
    "f=float(input(\"enter values in farenhite\"))\n",
    "\n",
    "print(c_into_f(c))\n",
    "print(f_into_c(f))"
   ]
  },
  {
   "cell_type": "code",
   "execution_count": null,
   "metadata": {},
   "outputs": [
    {
     "name": "stdout",
     "output_type": "stream",
     "text": [
      "enter a number400\n"
     ]
    }
   ],
   "source": [
    "#amstrong\n",
    "\n",
    "num=int(input(\"enter a number\"))\n",
    "temp=num\n",
    "sum=0\n",
    "while temp>0:\n",
    "    c=temp%10\n",
    "    sum+=c**3\n",
    "    temp//10\n",
    "if num==sum:\n",
    "    print(\"number is amstrong\")"
   ]
  },
  {
   "cell_type": "code",
   "execution_count": null,
   "metadata": {
    "collapsed": true
   },
   "outputs": [],
   "source": []
  }
 ],
 "metadata": {
  "kernelspec": {
   "display_name": "Python 3",
   "language": "python",
   "name": "python3"
  },
  "language_info": {
   "codemirror_mode": {
    "name": "ipython",
    "version": 3
   },
   "file_extension": ".py",
   "mimetype": "text/x-python",
   "name": "python",
   "nbconvert_exporter": "python",
   "pygments_lexer": "ipython3",
   "version": "3.5.5"
  }
 },
 "nbformat": 4,
 "nbformat_minor": 2
}
