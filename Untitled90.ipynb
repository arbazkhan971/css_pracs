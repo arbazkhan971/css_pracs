{
 "cells": [
  {
   "cell_type": "code",
   "execution_count": 1,
   "metadata": {},
   "outputs": [],
   "source": [
    "s=\"arbaz\""
   ]
  },
  {
   "cell_type": "code",
   "execution_count": 2,
   "metadata": {},
   "outputs": [
    {
     "data": {
      "text/plain": [
       "['arbaz']"
      ]
     },
     "execution_count": 2,
     "metadata": {},
     "output_type": "execute_result"
    }
   ],
   "source": [
    "s.split()"
   ]
  },
  {
   "cell_type": "code",
   "execution_count": 3,
   "metadata": {},
   "outputs": [],
   "source": [
    "l=[]\n",
    "for i in s:\n",
    "   l.append(i)\n"
   ]
  },
  {
   "cell_type": "code",
   "execution_count": 4,
   "metadata": {},
   "outputs": [
    {
     "data": {
      "text/plain": [
       "['a', 'r', 'b', 'a', 'z']"
      ]
     },
     "execution_count": 4,
     "metadata": {},
     "output_type": "execute_result"
    }
   ],
   "source": [
    "l"
   ]
  },
  {
   "cell_type": "code",
   "execution_count": 5,
   "metadata": {},
   "outputs": [],
   "source": [
    "s1=\"barza\""
   ]
  },
  {
   "cell_type": "code",
   "execution_count": 6,
   "metadata": {},
   "outputs": [],
   "source": [
    "l1=[]\n",
    "for i in s1:\n",
    "  l1.append(i)  "
   ]
  },
  {
   "cell_type": "code",
   "execution_count": 7,
   "metadata": {},
   "outputs": [
    {
     "data": {
      "text/plain": [
       "['b', 'a', 'r', 'z', 'a']"
      ]
     },
     "execution_count": 7,
     "metadata": {},
     "output_type": "execute_result"
    }
   ],
   "source": [
    "l1"
   ]
  },
  {
   "cell_type": "code",
   "execution_count": 8,
   "metadata": {},
   "outputs": [
    {
     "name": "stdout",
     "output_type": "stream",
     "text": [
      "Yes\n"
     ]
    }
   ],
   "source": [
    "c=0\n",
    "for i in l:\n",
    "    if i in l1:\n",
    "        c+=1\n",
    "if len(s)==c:\n",
    "    print(\"Yes\")\n",
    "else:\n",
    "    print(\"NO\")"
   ]
  },
  {
   "cell_type": "code",
   "execution_count": 9,
   "metadata": {},
   "outputs": [
    {
     "data": {
      "text/plain": [
       "-3961031167728273285"
      ]
     },
     "execution_count": 9,
     "metadata": {},
     "output_type": "execute_result"
    }
   ],
   "source": [
    "hash(s1)"
   ]
  },
  {
   "cell_type": "code",
   "execution_count": 10,
   "metadata": {},
   "outputs": [
    {
     "data": {
      "text/plain": [
       "5617947456726360405"
      ]
     },
     "execution_count": 10,
     "metadata": {},
     "output_type": "execute_result"
    }
   ],
   "source": [
    "hash(s)"
   ]
  },
  {
   "cell_type": "code",
   "execution_count": 11,
   "metadata": {},
   "outputs": [],
   "source": [
    "from selenium import webdriver"
   ]
  },
  {
   "cell_type": "code",
   "execution_count": 14,
   "metadata": {},
   "outputs": [
    {
     "name": "stderr",
     "output_type": "stream",
     "text": [
      "c:\\users\\arbaz\\anaconda3\\envs\\tensorflow\\lib\\site-packages\\selenium\\webdriver\\phantomjs\\webdriver.py:49: UserWarning: Selenium support for PhantomJS has been deprecated, please use headless versions of Chrome or Firefox instead\n",
      "  warnings.warn('Selenium support for PhantomJS has been deprecated, please use headless '\n"
     ]
    }
   ],
   "source": [
    "driver = webdriver.PhantomJS(executable_path = r'C:\\Users\\arbaz\\Downloads\\phantomjs-2.1.1-windows\\phantomjs-2.1.1-windows\\bin\\phantomjs.exe')\n"
   ]
  },
  {
   "cell_type": "code",
   "execution_count": 15,
   "metadata": {},
   "outputs": [],
   "source": []
  },
  {
   "cell_type": "code",
   "execution_count": 17,
   "metadata": {},
   "outputs": [
    {
     "ename": "AttributeError",
     "evalue": "'WebDriver' object has no attribute 'sleep'",
     "output_type": "error",
     "traceback": [
      "\u001b[1;31m---------------------------------------------------------------------------\u001b[0m",
      "\u001b[1;31mAttributeError\u001b[0m                            Traceback (most recent call last)",
      "\u001b[1;32m<ipython-input-17-1527cd6d2c6c>\u001b[0m in \u001b[0;36m<module>\u001b[1;34m()\u001b[0m\n\u001b[1;32m----> 1\u001b[1;33m \u001b[0mdriver\u001b[0m\u001b[1;33m.\u001b[0m\u001b[0msleep\u001b[0m\u001b[1;33m(\u001b[0m\u001b[1;36m5\u001b[0m\u001b[1;33m)\u001b[0m\u001b[1;33m\u001b[0m\u001b[0m\n\u001b[0m",
      "\u001b[1;31mAttributeError\u001b[0m: 'WebDriver' object has no attribute 'sleep'"
     ]
    }
   ],
   "source": [
    "driver.sleep(5)"
   ]
  },
  {
   "cell_type": "code",
   "execution_count": 18,
   "metadata": {},
   "outputs": [
    {
     "ename": "NoSuchWindowException",
     "evalue": "Message: {\"errorMessage\":\"Unable to close window (closed already?)\",\"request\":{\"headers\":{\"Accept\":\"application/json\",\"Accept-Encoding\":\"identity\",\"Connection\":\"close\",\"Content-Type\":\"application/json;charset=UTF-8\",\"Host\":\"127.0.0.1:50944\",\"User-Agent\":\"selenium/3.13.0 (python windows)\"},\"httpVersion\":\"1.1\",\"method\":\"DELETE\",\"url\":\"/window\",\"urlParsed\":{\"anchor\":\"\",\"query\":\"\",\"file\":\"window\",\"directory\":\"/\",\"path\":\"/window\",\"relative\":\"/window\",\"port\":\"\",\"host\":\"\",\"password\":\"\",\"user\":\"\",\"userInfo\":\"\",\"authority\":\"\",\"protocol\":\"\",\"source\":\"/window\",\"queryKey\":{},\"chunks\":[\"window\"]},\"urlOriginal\":\"/session/88b54160-8d8f-11e8-bf17-d16874815c3f/window\"}}\nScreenshot: available via screen\n",
     "output_type": "error",
     "traceback": [
      "\u001b[1;31m---------------------------------------------------------------------------\u001b[0m",
      "\u001b[1;31mNoSuchWindowException\u001b[0m                     Traceback (most recent call last)",
      "\u001b[1;32m<ipython-input-18-ad0c9a213c39>\u001b[0m in \u001b[0;36m<module>\u001b[1;34m()\u001b[0m\n\u001b[1;32m----> 1\u001b[1;33m \u001b[0mdriver\u001b[0m\u001b[1;33m.\u001b[0m\u001b[0mclose\u001b[0m\u001b[1;33m(\u001b[0m\u001b[1;33m)\u001b[0m\u001b[1;33m\u001b[0m\u001b[0m\n\u001b[0m",
      "\u001b[1;32mc:\\users\\arbaz\\anaconda3\\envs\\tensorflow\\lib\\site-packages\\selenium\\webdriver\\remote\\webdriver.py\u001b[0m in \u001b[0;36mclose\u001b[1;34m(self)\u001b[0m\n\u001b[0;32m    685\u001b[0m             \u001b[0mdriver\u001b[0m\u001b[1;33m.\u001b[0m\u001b[0mclose\u001b[0m\u001b[1;33m(\u001b[0m\u001b[1;33m)\u001b[0m\u001b[1;33m\u001b[0m\u001b[0m\n\u001b[0;32m    686\u001b[0m         \"\"\"\n\u001b[1;32m--> 687\u001b[1;33m         \u001b[0mself\u001b[0m\u001b[1;33m.\u001b[0m\u001b[0mexecute\u001b[0m\u001b[1;33m(\u001b[0m\u001b[0mCommand\u001b[0m\u001b[1;33m.\u001b[0m\u001b[0mCLOSE\u001b[0m\u001b[1;33m)\u001b[0m\u001b[1;33m\u001b[0m\u001b[0m\n\u001b[0m\u001b[0;32m    688\u001b[0m \u001b[1;33m\u001b[0m\u001b[0m\n\u001b[0;32m    689\u001b[0m     \u001b[1;32mdef\u001b[0m \u001b[0mquit\u001b[0m\u001b[1;33m(\u001b[0m\u001b[0mself\u001b[0m\u001b[1;33m)\u001b[0m\u001b[1;33m:\u001b[0m\u001b[1;33m\u001b[0m\u001b[0m\n",
      "\u001b[1;32mc:\\users\\arbaz\\anaconda3\\envs\\tensorflow\\lib\\site-packages\\selenium\\webdriver\\remote\\webdriver.py\u001b[0m in \u001b[0;36mexecute\u001b[1;34m(self, driver_command, params)\u001b[0m\n\u001b[0;32m    318\u001b[0m         \u001b[0mresponse\u001b[0m \u001b[1;33m=\u001b[0m \u001b[0mself\u001b[0m\u001b[1;33m.\u001b[0m\u001b[0mcommand_executor\u001b[0m\u001b[1;33m.\u001b[0m\u001b[0mexecute\u001b[0m\u001b[1;33m(\u001b[0m\u001b[0mdriver_command\u001b[0m\u001b[1;33m,\u001b[0m \u001b[0mparams\u001b[0m\u001b[1;33m)\u001b[0m\u001b[1;33m\u001b[0m\u001b[0m\n\u001b[0;32m    319\u001b[0m         \u001b[1;32mif\u001b[0m \u001b[0mresponse\u001b[0m\u001b[1;33m:\u001b[0m\u001b[1;33m\u001b[0m\u001b[0m\n\u001b[1;32m--> 320\u001b[1;33m             \u001b[0mself\u001b[0m\u001b[1;33m.\u001b[0m\u001b[0merror_handler\u001b[0m\u001b[1;33m.\u001b[0m\u001b[0mcheck_response\u001b[0m\u001b[1;33m(\u001b[0m\u001b[0mresponse\u001b[0m\u001b[1;33m)\u001b[0m\u001b[1;33m\u001b[0m\u001b[0m\n\u001b[0m\u001b[0;32m    321\u001b[0m             response['value'] = self._unwrap_value(\n\u001b[0;32m    322\u001b[0m                 response.get('value', None))\n",
      "\u001b[1;32mc:\\users\\arbaz\\anaconda3\\envs\\tensorflow\\lib\\site-packages\\selenium\\webdriver\\remote\\errorhandler.py\u001b[0m in \u001b[0;36mcheck_response\u001b[1;34m(self, response)\u001b[0m\n\u001b[0;32m    240\u001b[0m                 \u001b[0malert_text\u001b[0m \u001b[1;33m=\u001b[0m \u001b[0mvalue\u001b[0m\u001b[1;33m[\u001b[0m\u001b[1;34m'alert'\u001b[0m\u001b[1;33m]\u001b[0m\u001b[1;33m.\u001b[0m\u001b[0mget\u001b[0m\u001b[1;33m(\u001b[0m\u001b[1;34m'text'\u001b[0m\u001b[1;33m)\u001b[0m\u001b[1;33m\u001b[0m\u001b[0m\n\u001b[0;32m    241\u001b[0m             \u001b[1;32mraise\u001b[0m \u001b[0mexception_class\u001b[0m\u001b[1;33m(\u001b[0m\u001b[0mmessage\u001b[0m\u001b[1;33m,\u001b[0m \u001b[0mscreen\u001b[0m\u001b[1;33m,\u001b[0m \u001b[0mstacktrace\u001b[0m\u001b[1;33m,\u001b[0m \u001b[0malert_text\u001b[0m\u001b[1;33m)\u001b[0m\u001b[1;33m\u001b[0m\u001b[0m\n\u001b[1;32m--> 242\u001b[1;33m         \u001b[1;32mraise\u001b[0m \u001b[0mexception_class\u001b[0m\u001b[1;33m(\u001b[0m\u001b[0mmessage\u001b[0m\u001b[1;33m,\u001b[0m \u001b[0mscreen\u001b[0m\u001b[1;33m,\u001b[0m \u001b[0mstacktrace\u001b[0m\u001b[1;33m)\u001b[0m\u001b[1;33m\u001b[0m\u001b[0m\n\u001b[0m\u001b[0;32m    243\u001b[0m \u001b[1;33m\u001b[0m\u001b[0m\n\u001b[0;32m    244\u001b[0m     \u001b[1;32mdef\u001b[0m \u001b[0m_value_or_default\u001b[0m\u001b[1;33m(\u001b[0m\u001b[0mself\u001b[0m\u001b[1;33m,\u001b[0m \u001b[0mobj\u001b[0m\u001b[1;33m,\u001b[0m \u001b[0mkey\u001b[0m\u001b[1;33m,\u001b[0m \u001b[0mdefault\u001b[0m\u001b[1;33m)\u001b[0m\u001b[1;33m:\u001b[0m\u001b[1;33m\u001b[0m\u001b[0m\n",
      "\u001b[1;31mNoSuchWindowException\u001b[0m: Message: {\"errorMessage\":\"Unable to close window (closed already?)\",\"request\":{\"headers\":{\"Accept\":\"application/json\",\"Accept-Encoding\":\"identity\",\"Connection\":\"close\",\"Content-Type\":\"application/json;charset=UTF-8\",\"Host\":\"127.0.0.1:50944\",\"User-Agent\":\"selenium/3.13.0 (python windows)\"},\"httpVersion\":\"1.1\",\"method\":\"DELETE\",\"url\":\"/window\",\"urlParsed\":{\"anchor\":\"\",\"query\":\"\",\"file\":\"window\",\"directory\":\"/\",\"path\":\"/window\",\"relative\":\"/window\",\"port\":\"\",\"host\":\"\",\"password\":\"\",\"user\":\"\",\"userInfo\":\"\",\"authority\":\"\",\"protocol\":\"\",\"source\":\"/window\",\"queryKey\":{},\"chunks\":[\"window\"]},\"urlOriginal\":\"/session/88b54160-8d8f-11e8-bf17-d16874815c3f/window\"}}\nScreenshot: available via screen\n"
     ]
    }
   ],
   "source": [
    "driver.close()"
   ]
  },
  {
   "cell_type": "code",
   "execution_count": 2,
   "metadata": {},
   "outputs": [],
   "source": [
    "from time import sleep"
   ]
  },
  {
   "cell_type": "code",
   "execution_count": 31,
   "metadata": {},
   "outputs": [
    {
     "ename": "WebDriverException",
     "evalue": "Message: unknown error: unhandled inspector error: {\"code\":-32000,\"message\":\"Cannot navigate to invalid URL\"}\n  (Session info: chrome=67.0.3396.99)\n  (Driver info: chromedriver=2.40.565498 (ea082db3280dd6843ebfb08a625e3eb905c4f5ab),platform=Windows NT 10.0.17134 x86_64)\n",
     "output_type": "error",
     "traceback": [
      "\u001b[1;31m---------------------------------------------------------------------------\u001b[0m",
      "\u001b[1;31mWebDriverException\u001b[0m                        Traceback (most recent call last)",
      "\u001b[1;32m<ipython-input-31-3433141fdfa7>\u001b[0m in \u001b[0;36m<module>\u001b[1;34m()\u001b[0m\n\u001b[0;32m      1\u001b[0m \u001b[0mdriver\u001b[0m \u001b[1;33m=\u001b[0m \u001b[0mwebdriver\u001b[0m\u001b[1;33m.\u001b[0m\u001b[0mChrome\u001b[0m\u001b[1;33m(\u001b[0m\u001b[0mexecutable_path\u001b[0m\u001b[1;33m=\u001b[0m\u001b[1;34mr'C://Users/arbaz/Downloads/chromedriver_win32/chromedriver.exe'\u001b[0m\u001b[1;33m)\u001b[0m\u001b[1;33m\u001b[0m\u001b[0m\n\u001b[1;32m----> 2\u001b[1;33m \u001b[0mdriver\u001b[0m\u001b[1;33m.\u001b[0m\u001b[0mget\u001b[0m\u001b[1;33m(\u001b[0m\u001b[1;34m\"letskodeit.com\"\u001b[0m\u001b[1;33m)\u001b[0m\u001b[1;33m\u001b[0m\u001b[0m\n\u001b[0m",
      "\u001b[1;32mc:\\users\\arbaz\\anaconda3\\envs\\tensorflow\\lib\\site-packages\\selenium\\webdriver\\remote\\webdriver.py\u001b[0m in \u001b[0;36mget\u001b[1;34m(self, url)\u001b[0m\n\u001b[0;32m    330\u001b[0m         \u001b[0mLoads\u001b[0m \u001b[0ma\u001b[0m \u001b[0mweb\u001b[0m \u001b[0mpage\u001b[0m \u001b[1;32min\u001b[0m \u001b[0mthe\u001b[0m \u001b[0mcurrent\u001b[0m \u001b[0mbrowser\u001b[0m \u001b[0msession\u001b[0m\u001b[1;33m.\u001b[0m\u001b[1;33m\u001b[0m\u001b[0m\n\u001b[0;32m    331\u001b[0m         \"\"\"\n\u001b[1;32m--> 332\u001b[1;33m         \u001b[0mself\u001b[0m\u001b[1;33m.\u001b[0m\u001b[0mexecute\u001b[0m\u001b[1;33m(\u001b[0m\u001b[0mCommand\u001b[0m\u001b[1;33m.\u001b[0m\u001b[0mGET\u001b[0m\u001b[1;33m,\u001b[0m \u001b[1;33m{\u001b[0m\u001b[1;34m'url'\u001b[0m\u001b[1;33m:\u001b[0m \u001b[0murl\u001b[0m\u001b[1;33m}\u001b[0m\u001b[1;33m)\u001b[0m\u001b[1;33m\u001b[0m\u001b[0m\n\u001b[0m\u001b[0;32m    333\u001b[0m \u001b[1;33m\u001b[0m\u001b[0m\n\u001b[0;32m    334\u001b[0m     \u001b[1;33m@\u001b[0m\u001b[0mproperty\u001b[0m\u001b[1;33m\u001b[0m\u001b[0m\n",
      "\u001b[1;32mc:\\users\\arbaz\\anaconda3\\envs\\tensorflow\\lib\\site-packages\\selenium\\webdriver\\remote\\webdriver.py\u001b[0m in \u001b[0;36mexecute\u001b[1;34m(self, driver_command, params)\u001b[0m\n\u001b[0;32m    318\u001b[0m         \u001b[0mresponse\u001b[0m \u001b[1;33m=\u001b[0m \u001b[0mself\u001b[0m\u001b[1;33m.\u001b[0m\u001b[0mcommand_executor\u001b[0m\u001b[1;33m.\u001b[0m\u001b[0mexecute\u001b[0m\u001b[1;33m(\u001b[0m\u001b[0mdriver_command\u001b[0m\u001b[1;33m,\u001b[0m \u001b[0mparams\u001b[0m\u001b[1;33m)\u001b[0m\u001b[1;33m\u001b[0m\u001b[0m\n\u001b[0;32m    319\u001b[0m         \u001b[1;32mif\u001b[0m \u001b[0mresponse\u001b[0m\u001b[1;33m:\u001b[0m\u001b[1;33m\u001b[0m\u001b[0m\n\u001b[1;32m--> 320\u001b[1;33m             \u001b[0mself\u001b[0m\u001b[1;33m.\u001b[0m\u001b[0merror_handler\u001b[0m\u001b[1;33m.\u001b[0m\u001b[0mcheck_response\u001b[0m\u001b[1;33m(\u001b[0m\u001b[0mresponse\u001b[0m\u001b[1;33m)\u001b[0m\u001b[1;33m\u001b[0m\u001b[0m\n\u001b[0m\u001b[0;32m    321\u001b[0m             response['value'] = self._unwrap_value(\n\u001b[0;32m    322\u001b[0m                 response.get('value', None))\n",
      "\u001b[1;32mc:\\users\\arbaz\\anaconda3\\envs\\tensorflow\\lib\\site-packages\\selenium\\webdriver\\remote\\errorhandler.py\u001b[0m in \u001b[0;36mcheck_response\u001b[1;34m(self, response)\u001b[0m\n\u001b[0;32m    240\u001b[0m                 \u001b[0malert_text\u001b[0m \u001b[1;33m=\u001b[0m \u001b[0mvalue\u001b[0m\u001b[1;33m[\u001b[0m\u001b[1;34m'alert'\u001b[0m\u001b[1;33m]\u001b[0m\u001b[1;33m.\u001b[0m\u001b[0mget\u001b[0m\u001b[1;33m(\u001b[0m\u001b[1;34m'text'\u001b[0m\u001b[1;33m)\u001b[0m\u001b[1;33m\u001b[0m\u001b[0m\n\u001b[0;32m    241\u001b[0m             \u001b[1;32mraise\u001b[0m \u001b[0mexception_class\u001b[0m\u001b[1;33m(\u001b[0m\u001b[0mmessage\u001b[0m\u001b[1;33m,\u001b[0m \u001b[0mscreen\u001b[0m\u001b[1;33m,\u001b[0m \u001b[0mstacktrace\u001b[0m\u001b[1;33m,\u001b[0m \u001b[0malert_text\u001b[0m\u001b[1;33m)\u001b[0m\u001b[1;33m\u001b[0m\u001b[0m\n\u001b[1;32m--> 242\u001b[1;33m         \u001b[1;32mraise\u001b[0m \u001b[0mexception_class\u001b[0m\u001b[1;33m(\u001b[0m\u001b[0mmessage\u001b[0m\u001b[1;33m,\u001b[0m \u001b[0mscreen\u001b[0m\u001b[1;33m,\u001b[0m \u001b[0mstacktrace\u001b[0m\u001b[1;33m)\u001b[0m\u001b[1;33m\u001b[0m\u001b[0m\n\u001b[0m\u001b[0;32m    243\u001b[0m \u001b[1;33m\u001b[0m\u001b[0m\n\u001b[0;32m    244\u001b[0m     \u001b[1;32mdef\u001b[0m \u001b[0m_value_or_default\u001b[0m\u001b[1;33m(\u001b[0m\u001b[0mself\u001b[0m\u001b[1;33m,\u001b[0m \u001b[0mobj\u001b[0m\u001b[1;33m,\u001b[0m \u001b[0mkey\u001b[0m\u001b[1;33m,\u001b[0m \u001b[0mdefault\u001b[0m\u001b[1;33m)\u001b[0m\u001b[1;33m:\u001b[0m\u001b[1;33m\u001b[0m\u001b[0m\n",
      "\u001b[1;31mWebDriverException\u001b[0m: Message: unknown error: unhandled inspector error: {\"code\":-32000,\"message\":\"Cannot navigate to invalid URL\"}\n  (Session info: chrome=67.0.3396.99)\n  (Driver info: chromedriver=2.40.565498 (ea082db3280dd6843ebfb08a625e3eb905c4f5ab),platform=Windows NT 10.0.17134 x86_64)\n"
     ]
    }
   ],
   "source": [
    "driver = webdriver.Chrome(executable_path=r'C://Users/arbaz/Downloads/chromedriver_win32/chromedriver.exe')\n",
    "driver.get(\"letskodeit.com\")"
   ]
  },
  {
   "cell_type": "code",
   "execution_count": 24,
   "metadata": {},
   "outputs": [
    {
     "ename": "TypeError",
     "evalue": "'module' object is not callable",
     "output_type": "error",
     "traceback": [
      "\u001b[1;31m---------------------------------------------------------------------------\u001b[0m",
      "\u001b[1;31mTypeError\u001b[0m                                 Traceback (most recent call last)",
      "\u001b[1;32m<ipython-input-24-fb855802c926>\u001b[0m in \u001b[0;36m<module>\u001b[1;34m()\u001b[0m\n\u001b[1;32m----> 1\u001b[1;33m \u001b[0mwebdriver\u001b[0m\u001b[1;33m.\u001b[0m\u001b[0mfirefox\u001b[0m\u001b[1;33m(\u001b[0m\u001b[1;33m)\u001b[0m\u001b[1;33m\u001b[0m\u001b[0m\n\u001b[0m",
      "\u001b[1;31mTypeError\u001b[0m: 'module' object is not callable"
     ]
    }
   ],
   "source": []
  },
  {
   "cell_type": "code",
   "execution_count": 30,
   "metadata": {},
   "outputs": [],
   "source": [
    "driver.close()"
   ]
  },
  {
   "cell_type": "code",
   "execution_count": 43,
   "metadata": {},
   "outputs": [],
   "source": [
    "class ChromeDr():\n",
    "    def test(self):\n",
    "        driverLocation = r\"C://Users/arbaz/Downloads/chromedriver_win32/chromedriver.exe\"\n",
    "        os.environ[\"webdriver.chrome.driver\"] = driverLocation\n",
    "        driver = webdriver.Chrome(driverLocation)\n",
    "        driver.get(\"https://en.52wmb.com\")\n",
    "        \n",
    "        \n",
    "        "
   ]
  },
  {
   "cell_type": "code",
   "execution_count": 44,
   "metadata": {},
   "outputs": [],
   "source": [
    "c=ChromeDr()"
   ]
  },
  {
   "cell_type": "code",
   "execution_count": 45,
   "metadata": {},
   "outputs": [],
   "source": [
    "c.test()"
   ]
  },
  {
   "cell_type": "code",
   "execution_count": 1,
   "metadata": {},
   "outputs": [],
   "source": [
    "import os"
   ]
  },
  {
   "cell_type": "code",
   "execution_count": 9,
   "metadata": {},
   "outputs": [
    {
     "name": "stdout",
     "output_type": "stream",
     "text": [
      "We found an element by Link Text\n"
     ]
    }
   ],
   "source": [
    "from selenium import webdriver\n",
    "\n",
    "class FindByIdName():\n",
    "\n",
    "    def test(self):\n",
    "        driverLocation = r\"C://Users/arbaz/Downloads/chromedriver_win32/chromedriver.exe\"\n",
    "        os.environ[\"webdriver.chrome.driver\"] = driverLocation\n",
    "        driver = webdriver.Chrome(driverLocation)\n",
    "        baseUrl = \"https://en.52wmb.com/login?redirectUrl=http://en.52wmb.com/\"\n",
    "        driver.get(baseUrl)\n",
    "        elementByLinkText = driver.find_element_by_link_text(\"Login\")\n",
    "        \n",
    "\n",
    "        if elementByLinkText is not None:\n",
    "            print(\"We found an element by Link Text\")\n",
    "        elementByLinkText.click()\n",
    "\n",
    "ff = FindByIdName()\n",
    "ff.test()"
   ]
  },
  {
   "cell_type": "code",
   "execution_count": 1,
   "metadata": {},
   "outputs": [
    {
     "name": "stdout",
     "output_type": "stream",
     "text": [
      "ClassName -> Size of the list is: 2\n",
      "TagName -> Size of the list is: 9\n"
     ]
    }
   ],
   "source": [
    "import os\n",
    "from selenium import webdriver\n",
    "from selenium.webdriver.common.by import By\n",
    "class ListOfElements():\n",
    "    def test(self):\n",
    "        baseUrl = \"https://letskodeit.teachable.com/pages/practice\"\n",
    "        driverLocation = r\"C://Users/arbaz/Downloads/chromedriver_win32/chromedriver.exe\"\n",
    "        os.environ[\"webdriver.chrome.driver\"] = driverLocation\n",
    "        driver = webdriver.Chrome(driverLocation)\n",
    "        driver.get(baseUrl)\n",
    "\n",
    "        elementListByClassName = driver.find_elements_by_class_name(\"inputs\")\n",
    "        length1 = len(elementListByClassName)\n",
    "\n",
    "        if elementListByClassName is not None:\n",
    "            print(\"ClassName -> Size of the list is: \" + str(length1))\n",
    "\n",
    "        elementListByTagName = driver.find_elements(By.TAG_NAME, \"td\")\n",
    "        length2 = len(elementListByTagName)\n",
    "\n",
    "        if elementListByTagName is not None:\n",
    "            print(\"TagName -> Size of the list is: \" + str(length2))\n",
    "\n",
    "ff = ListOfElements()\n",
    "ff.test()"
   ]
  },
  {
   "cell_type": "code",
   "execution_count": 4,
   "metadata": {},
   "outputs": [
    {
     "name": "stdout",
     "output_type": "stream",
     "text": [
      "Title of the web page is: Practice | Let's Kode It\n",
      "Current Url of the web page is: https://learn.letskodeit.com/p/practice\n",
      "Browser Refreshed 1st time\n",
      "Browser Refreshed 2nd time\n",
      "Current Url of the web page is: https://sso.teachable.com/secure/42299/users/sign_in?reset_purchase_session=1\n",
      "Go one step back in browser history\n",
      "Current Url of the web page is: https://learn.letskodeit.com/p/practice\n",
      "Go one step forward in browser history\n",
      "Current Url of the web page is: https://sso.teachable.com/secure/42299/users/sign_in?reset_purchase_session=1\n",
      "<!DOCTYPE html><html xmlns=\"http://www.w3.org/1999/xhtml\" class=\" video\"><head><style type=\"text/css\">@charset \"UTF-8\";[ng\\:cloak],[ng-cloak],[data-ng-cloak],[x-ng-cloak],.ng-cloak,.x-ng-cloak,.ng-hide:not(.ng-hide-animate){display:none !important;}ng\\:form{display:block;}.ng-animate-shim{visibility:hidden;}.ng-anchor{position:absolute;}</style>\n",
      "    <link href=\"https://process.fs.teachablecdn.com/ADNupMnWyR7kCWRvm76Laz/resize=width:32,height:32/https://d2vvqscadf4c1f.cloudfront.net/FZtjD7hRSMmkWzKP5kMO_LetsKodeIt%20-%20Main%20Logo.JPG\" rel=\"icon\" type=\"image/png\" />\n",
      "<link href=\"https://process.fs.teachablecdn.com/ADNupMnWyR7kCWRvm76Laz/resize=width:72,height:72/https://d2vvqscadf4c1f.cloudfront.net/FZtjD7hRSMmkWzKP5kMO_LetsKodeIt%20-%20Main%20Logo.JPG\" rel=\"apple-touch-icon\" type=\"image/png\" />\n",
      "<link href=\"https://process.fs.teachablecdn.com/ADNupMnWyR7kCWRvm76Laz/resize=width:144,height:144/https://d2vvqscadf4c1f.cloudfront.net/FZtjD7hRSMmkWzKP5kMO_LetsKodeIt%20-%20Main%20Logo.JPG\" rel=\"apple-touch-icon\" type=\"image/png\" />\n",
      "<link href=\"https://process.fs.teachablecdn.com/ADNupMnWyR7kCWRvm76Laz/resize=width:320,height:345/https://www.filepicker.io/api/file/vaUu9fNQa2qVhk0nw73U\" rel=\"apple-touch-startup-image\" type=\"image/png\" />\n",
      "<link href=\"https://process.fs.teachablecdn.com/ADNupMnWyR7kCWRvm76Laz/resize=width:640,height:690/https://www.filepicker.io/api/file/vaUu9fNQa2qVhk0nw73U\" rel=\"apple-touch-startup-image\" type=\"image/png\" />\n",
      "<meta name=\"apple-mobile-web-app-capable\" content=\"yes\" />\n",
      "<meta charset=\"UTF-8\" />\n",
      "<meta name=\"csrf-param\" content=\"authenticity_token\" />\n",
      "<meta name=\"csrf-token\" content=\"/WNsuniK55Kw7WyZQ3mtjFzSlhjRK3HVab+H9Ds+HnjNAD7b0Xha/PJPr78Ui9AgsDmpuRIL8OdgaZkJTOfJKQ==\" />\n",
      "<link rel=\"stylesheet\" media=\"screen\" href=\"https://d2oz8i5n9se8ej.cloudfront.net/assets/bootstrap-ba31507dd6b3e3706e6ca5c9d812767ab1257fdc8276af55d295a3725156a24c.css\" data-turbolinks-track=\"true\" /><link href=\"https://d3r6cijmzyg9t4.cloudfront.net/themecss/style-76fcf637ed0b3f3a1479510b353ab5a59d9322f1.css?brand_course_heading=%23ffffff&amp;brand_heading=%232b3636&amp;brand_homepage_heading=%23ffffff&amp;brand_navbar_fixed_text=%23ffffff&amp;brand_navbar_text=%23ffffff&amp;brand_primary=%232b3636&amp;brand_secondary=%2309A59A&amp;brand_text=%232b3636&amp;logged_out_homepage_background_image_overlay=0.0\" rel=\"stylesheet\" data-turbolinks-track=\"true\" />\n",
      "<title>Let's Kode It</title>\n",
      "<meta name=\"brand_video_player_color\" content=\"#ff3f20\" />\n",
      "<style></style>\n",
      "<script type=\"text/javascript\" async=\"\" src=\"https://www.google-analytics.com/plugins/ua/ec.js\"></script><script type=\"text/javascript\" async=\"\" src=\"https://www.google-analytics.com/plugins/ua/ecommerce.js\"></script><script async=\"\" src=\"//www.google-analytics.com/analytics.js\"></script><script async=\"\" id=\"analytics-js\" type=\"text/javascript\" src=\"/analytics.js\"></script><script type=\"text/javascript\" async=\"\" src=\"https://api.filestackapi.com/filestack.js\"></script><script type=\"text/javascript\" async=\"\" src=\"https://www.gstatic.com/recaptcha/api2/v1531759913576/recaptcha__en.js\"></script><script src=\"//fast.wistia.com/assets/external/E-v1.js\"></script><style id=\"wistia_19_style\" type=\"text/css\" class=\"wistia_injected_style\">\n",
      "@font-face {\n",
      "font-family: 'WistiaPlayerOverpassNumbers';\n",
      "src: url(data:application/x-font-ttf;charset=utf-8;base64,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);\n",
      "}\n",
      "</style>\n",
      "<script src=\"https://www.google.com/recaptcha/api.js\" async=\"\" defer=\"\"></script>\n",
      "<script src=\"https://d2oz8i5n9se8ej.cloudfront.net/assets/application-5989c3acc657a77e95814b3178928a7e351fbfeeaff960e9b630c25b93c47d48.js\" data-turbolinks-track=\"true\"></script><link href=\"//maxcdn.bootstrapcdn.com/font-awesome/4.1.0/css/font-awesome.min.css\" rel=\"stylesheet\" type=\"text/css\" /><script src=\"https://d2oz8i5n9se8ej.cloudfront.net/packs/student-f7ffac698d68fa4d6ea8.js\"></script>\n",
      "\n",
      "\n",
      "\n",
      "\n",
      "<script>\n",
      "    if(typeof ga != 'function') {\n",
      "        (function(i,s,o,g,r,a,m){i['GoogleAnalyticsObject']=r;i[r]=i[r]||function(){\n",
      "        (i[r].q=i[r].q||[]).push(arguments)},i[r].l=1*new Date();a=s.createElement(o),\n",
      "        m=s.getElementsByTagName(o)[0];a.async=1;a.src=g;m.parentNode.insertBefore(a,m)\n",
      "        })(window,document,'script','//www.google-analytics.com/analytics.js','ga');\n",
      "    }\n",
      "    ga('create', 'UA-44397410-1', 'auto', {'name': 'fedoraTracker', 'allowLinker': true});\n",
      "    ga('fedoraTracker.require', 'linker');\n",
      "    ga('fedoraTracker.linker:autoLink', ['learn.letskodeit.com'] );\n",
      "    ga('fedoraTracker.require', 'ecommerce');\n",
      "    ga('fedoraTracker.require', 'ec');\n",
      "    ga('fedoraTracker.send', 'pageview');\n",
      "    ga('create', 'UA-44397410-4', 'auto', {'name': 'teachableTracker', 'allowLinker': true});\n",
      "    ga('teachableTracker.require', 'linker');\n",
      "    ga('teachableTracker.linker:autoLink', ['learn.letskodeit.com'] );\n",
      "    ga('teachableTracker.require', 'ecommerce');\n",
      "    ga('teachableTracker.require', 'ec');\n",
      "    ga('teachableTracker.send', 'pageview');\n",
      "\n",
      "    </script>\n",
      "<link href=\"/blog/rss\" rel=\"alternate\" title=\"RSS Feed\" type=\"application/rss+xml\" />\n",
      "<meta http-equiv=\"X-UA-Compatible\" content=\"IE=edge\" />\n",
      "\n",
      "  <style type=\"text/css\">.fp__btn{-webkit-box-sizing:border-box;-moz-box-sizing:border-box;box-sizing:border-box;display:inline-block;height:34px;padding:4px 30px 5px 40px;position:relative;margin-bottom:0;vertical-align:middle;-ms-touch-action:manipulation;touch-action:manipulation;cursor:pointer;-webkit-user-select:none;-moz-user-select:none;-ms-user-select:none;user-select:none;font-family:\"Open Sans\", sans-serif;font-size:12px;font-weight:600;line-height:1.42857143;color:#fff;text-align:center;white-space:nowrap;background:#ef4925;background-image:url(\"data:image/png;base64,iVBORw0KGgoAAAANSUhEUgAAABIAAAAVCAYAAABLy77vAAAABGdBTUEAALGPC/xhBQAAAJRJREFUOBHNUcEWgCAIy14fbl9egK5MRarHQS7ocANmOCgWh1gdNERig1CgwPlLxkZuE80ndHlU+4Lda1zz0m01dSKtcz0h7qpQb7WR+HyrqRPxahzwwMqqkEVs6qnv+86NQAbcJlK/X+vMeMe7XcBOYaRzcbItUR7/8QgcykmElQrQPErnmxNxl2yyiwcgEvQUocIJaE6yERwqXDIAAAAASUVORK5CYII=\");background-repeat:no-repeat;background-position:15px 6px;border:1px solid transparent;border-radius:17px}.fp__btn:hover{background-color:#d64533}.fp__btn::after{position:absolute;content:\"\";top:15px;right:14px;width:7px;height:4px;background:url(\"data:image/png;base64,iVBORw0KGgoAAAANSUhEUgAAAAcAAAAICAYAAAA1BOUGAAAABGdBTUEAALGPC/xhBQAAAGlJREFUCB1j/P//vw4DA4MiEKOD+0xAkatA/AJNBsS/ysTIyPgfyDgHxO+hCkD0Oag4RAhoPDsQm4NoqCIGBiBnAhBjAxNAkkxAvBZNFsQHuQesmxPIOQZVAKI54UZDFYgABbcBsQhMAgDIVGYSqZsn6wAAAABJRU5ErkJggg==\");}.fp__btn:hover::after{background-position:0 -4px;}.fp__btn:active,.fp__btn:focus{outline:none}@media only screen and (min--moz-device-pixel-ratio: 2), only screen and (-o-min-device-pixel-ratio: 2 / 1), only screen and (-webkit-min-device-pixel-ratio: 2), only screen and (min-device-pixel-ratio: 2){.fp__btn{background-image:url(\"data:image/png;base64,iVBORw0KGgoAAAANSUhEUgAAACQAAAAqCAYAAADbCvnoAAAABGdBTUEAALGPC/xhBQAAAQFJREFUWAntWEESwjAIbBwfHl+upNoRNjKUJhk5kIvZQGG7bHOwPGltgdYtEJedShKyJnLHhEILz1Zi9HCOzFI7FUqFLAWseDgPdfeQ9QZ4b1j53nstnEJJyBqx20NeT1gEMB5uZG6Fzn5lV5UMp1ASQhMjdnvoqjewsYbDjcytEH5lsxULp1AS0sx8nJfVnjganf3NkVlKhVPIfQ9Zb6jF0atK3mNriXwpicPHvIeyr3sTDA53VgpgH8BvMu1ZCCz7ew/7MPwlE4CQJPNnQj2ZX4SYlEPbVpsvKFZ5TOwhcRoUTQiwwhVjArPEqVvRhMCneMXzDk9lwYphIwrZZOihF32oehMAa1qSAAAAAElFTkSuQmCC\");background-size:18px 21px}.fp__btn::after{background:url(\"data:image/png;base64,iVBORw0KGgoAAAANSUhEUgAAAA4AAAAQCAYAAAAmlE46AAAABGdBTUEAALGPC/xhBQAAANpJREFUKBWVkU8KglAYxJ/u3HuBwmUX8BqepKN4ka4RguDOVYu2QVCrhIJ6/caekqLiGxi+PzPD58PAWrszxmygD84h7hpePFLy1mEQBJamgvcVYXkqZXTR0LwpJWw0z0Ba6bymDcrI4kkp4EvzCNoVztNKfVATwoOiyx/NDup1SVqPQVBbDDeK3txBb9JuHfhNW3HWjZhDX+SGRAgPHkl5f0+kieBxRVieaPD5LGJ4WghLiwehbkBI4HUirF3S+SYrhhQ2f2H16aR5vMSYwbdjNtYXZ0J7cc70BXnFMHIGznzEAAAAAElFTkSuQmCC\");background-size:7px 8px;}}</style></head><video src=\"data:video/ogg;base64,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\" autoplay=\"\" style=\"display: none;\"></video>\n",
      "  <body style=\"padding-bottom: 131px; background-color: rgb(245, 246, 247);\">\n",
      "          <meta http-content=\"IE=Edge\" http-equiv=\"X-UA-Compatible\" />\n",
      "      <meta content=\"width=device-width,initial-scale=1.0,user-scalable=no\" name=\"viewport\" />\n",
      "<meta id=\"fedora-keys\" data-env=\"production\" data-stripe=\"pk_live_hkgvgSBxG4TAl3zGlXiB1KUX\" data-track-all-ahoy=\"false\" data-track-changes-ahoy=\"false\" data-track-clicks-ahoy=\"false\" data-track-sumbits-ahoy=\"false\" data-filepicker=\"ADNupMnWyR7kCWRvm76Laz\" data-taxamo=\"public_3adAdeo6B9dUufD_mJMEMkTXmxbK-vffcybxQEvrshk\" /><meta id=\"fedora-data\" data-report-card=\"{}\" data-course-ids=\"[]\" data-role=\"null\" data-last-four=\"null\" data-completed-lecture-ids=\"[]\" data-school-id=\"42299\" data-school-launched=\"true\" data-preview=\"logged_out\" data-turn-off-fedora-branding=\"false\" data-plan-supports-whitelabeling=\"false\" data-powered-by-text=\"Powered by\" data-asset-path=\"//https://d2oz8i5n9se8ej.cloudfront.net/assets/footer/teachable-logo-white-efd32576079839534d5b6e87bf4424e99b12624f854b2c500a4d3f0b6e2af46b.svg\" data-school-preferences=\"{&quot;ssl_forced&quot;:&quot;true&quot;,&quot;bazaar_enabled&quot;:&quot;false&quot;,&quot;autoplay_lectures&quot;:&quot;true&quot;,&quot;comments_threaded&quot;:&quot;true&quot;,&quot;themeable_enabled&quot;:&quot;false&quot;,&quot;course_blocks_beta&quot;:&quot;true&quot;,&quot;eu_vat_tax_enabled&quot;:&quot;false&quot;,&quot;themeable_disabled&quot;:&quot;false&quot;,&quot;comments_moderation&quot;:&quot;false&quot;,&quot;eu_vat_tax_eligible&quot;:&quot;true&quot;,&quot;charge_exclusive_tax&quot;:&quot;true&quot;,&quot;drip_content_enabled&quot;:&quot;false&quot;,&quot;autocomplete_lectures&quot;:&quot;false&quot;,&quot;class_periods_enabled&quot;:&quot;false&quot;,&quot;css_properties_enabled&quot;:&quot;false&quot;,&quot;preenrollments_enabled&quot;:&quot;false&quot;,&quot;native_comments_enabled&quot;:&quot;true&quot;,&quot;new_text_editor_enabled&quot;:&quot;true&quot;,&quot;require_terms_agreement&quot;:&quot;true&quot;,&quot;turn_off_fedora_branding&quot;:&quot;false&quot;,&quot;allow_comment_attachments&quot;:&quot;true&quot;,&quot;authors_can_email_students&quot;:&quot;false&quot;,&quot;authors_can_manage_coupons&quot;:&quot;false&quot;,&quot;teachable_accounts_enabled&quot;:&quot;false&quot;,&quot;teachable_payments_enabled&quot;:&quot;false&quot;,&quot;authors_can_import_students&quot;:&quot;false&quot;,&quot;authors_can_publish_courses&quot;:&quot;false&quot;,&quot;internal_subscriptions_beta&quot;:&quot;true&quot;,&quot;recaptcha_enabled_on_signup&quot;:&quot;true&quot;,&quot;tax_form_collection_enabled&quot;:&quot;true&quot;,&quot;single_page_checkout_enabled&quot;:&quot;true&quot;,&quot;authors_can_set_course_prices&quot;:&quot;false&quot;,&quot;store_student_cards_separately&quot;:&quot;true&quot;,&quot;authors_can_manage_course_pages&quot;:&quot;false&quot;,&quot;prevent_new_coupon_applications&quot;:&quot;true&quot;,&quot;disable_js_course_event_tracking&quot;:&quot;false&quot;,&quot;exclusive_vat_on_custom_gateways&quot;:&quot;true&quot;,&quot;owner_teachable_accounts_required&quot;:&quot;false&quot;,&quot;prevent_payment_plan_cancellation&quot;:&quot;true&quot;,&quot;automatically_add_disqus_attachments&quot;:&quot;true&quot;,&quot;turn_off_myteachable_sign_up_branding&quot;:&quot;false&quot;}\" data-vat-country=\"null\" data-hellosign-id=\"null\" /><meta id=\"analytics-keys\" name=\"analytics\" data-analytics=\"{}\" />\n",
      "    \n",
      "    \n",
      "      <!-- HEADER -->\n",
      "<header class=\"\">\n",
      "  <!-- Navbar -->\n",
      "  <div class=\"navbar navbar-fedora navbar-fixed-top is-at-top bs-docs-nav is-not-signed-in\" id=\"navbar\" role=\"navigation\">\n",
      "    <div class=\"container\">\n",
      "      <div class=\"navbar-header navbar-header-courses\">\n",
      "        <button class=\"navbar-toggle\" data-target=\".navbar-header-collapse\" data-toggle=\"collapse\" type=\"button\">\n",
      "          <span class=\"sr-only\">\n",
      "            Toggle navigation\n",
      "          </span>\n",
      "          <span class=\"icon-bar\"></span>\n",
      "          <span class=\"icon-bar\"></span>\n",
      "          <span class=\"icon-bar\"></span>\n",
      "        </button>\n",
      "        <!-- Site logo -->\n",
      "        \n",
      "          <a class=\"navbar-brand header-logo\" href=\"http://learn.letskodeit.com\">\n",
      "            <span class=\"sr-only\">Let's Kode It</span>\n",
      "            <img src=\"https://process.fs.teachablecdn.com/ADNupMnWyR7kCWRvm76Laz/resize=height:60/https://www.filepicker.io/api/file/WSundQ6BT6u2OZe2kcNA\" alt=\"Let's Kode It\" srcset=\"https://process.fs.teachablecdn.com/ADNupMnWyR7kCWRvm76Laz/resize=height:120/https://www.filepicker.io/api/file/WSundQ6BT6u2OZe2kcNA 2x\" />\n",
      "          </a>\n",
      "          \n",
      "\n",
      "        <!-- Header Menu -->\n",
      "        <div class=\"collapse navbar-collapse navbar-header-collapse\">\n",
      "          <ul class=\"nav navbar-nav navbar-right\">\n",
      "  \n",
      "\n",
      "  \n",
      "  <li>\n",
      "    \n",
      "    <a class=\"fedora-navbar-link navbar-link\" href=\"http://learn.letskodeit.com/pages/practice\" target=\"\">\n",
      "      Practice\n",
      "    </a>\n",
      "    \n",
      "  </li>\n",
      "  \n",
      "\n",
      "  <!-- If more than 5 links, collapse the rest in a dropdown -->\n",
      "  \n",
      "\n",
      "  \n",
      "    \n",
      "      <li>\n",
      "        <a class=\"navbar-link fedora-navbar-link\" href=\"http://learn.letskodeit.com/sign_in\">\n",
      "          Login\n",
      "        </a>\n",
      "      </li>\n",
      "    \n",
      "    \n",
      "      <li>\n",
      "        <a class=\"btn btn-primary pull-right btn-lg\" href=\"http://learn.letskodeit.com/sign_up\">\n",
      "          Sign Up\n",
      "        </a>\n",
      "      </li>\n",
      "    \n",
      "  \n",
      "</ul>\n",
      "\n",
      "        </div>\n",
      "      </div>\n",
      "    </div>\n",
      "  </div>\n",
      "</header>\n",
      "\n",
      "      <div class=\"view-school\">\n",
      "    \n",
      "      <div class=\"gray-layout\">\n",
      "  \n",
      "\n",
      "  <div class=\"container on-a-school-layout\">\n",
      "    <div class=\"row\">\n",
      "      <div class=\"col-lg-6 col-lg-offset-3 col-sm-8 col-sm-offset-2 text-center\">\n",
      "        <div class=\"content-box\">\n",
      "            <h1 class=\"text-center\">\n",
      "    Log In to Let's Kode It\n",
      "  </h1>\n",
      "\n",
      "          <div class=\"row\">\n",
      "  <div class=\"col-sm-10 col-sm-offset-1\">\n",
      "    <form class=\"new_user\" id=\"new_user\" action=\"/secure/42299/users/sign_in?flow_school_id=42299\" accept-charset=\"UTF-8\" method=\"post\"><input name=\"utf8\" type=\"hidden\" value=\"✓\" /><input type=\"hidden\" name=\"authenticity_token\" value=\"/WNsuniK55Kw7WyZQ3mtjFzSlhjRK3HVab+H9Ds+HnjNAD7b0Xha/PJPr78Ui9AgsDmpuRIL8OdgaZkJTOfJKQ==\" />\n",
      "      <input value=\"42299\" type=\"hidden\" name=\"user[school_id]\" id=\"user_school_id\" />\n",
      "      <div class=\"form-group\">\n",
      "        <label class=\"control-label\" for=\"user_email\">Email Address</label>\n",
      "        <div class=\"control-input\">\n",
      "          <input autofocus=\"autofocus\" class=\"form-control input-hg\" type=\"email\" value=\"\" name=\"user[email]\" id=\"user_email\" />\n",
      "        </div>\n",
      "      </div>\n",
      "      <div class=\"form-group\">\n",
      "        <label class=\"control-label\" for=\"user_password\">Password</label>\n",
      "        <div class=\"control-input\">\n",
      "          <input autocomplete=\"off\" class=\"form-control input-hg\" type=\"password\" name=\"user[password]\" id=\"user_password\" />\n",
      "        </div>\n",
      "      </div>\n",
      "      <br />\n",
      "      <div class=\"form-group text-center\">\n",
      "        <input type=\"submit\" name=\"commit\" value=\"Log In\" class=\"btn btn-primary btn-md login-button\" />\n",
      "      </div>\n",
      "      <br />\n",
      "      <center>\n",
      "        <a class=\"link-below-button\" href=\"/secure/42299/users/password/new\">Forgot Password?</a>\n",
      "      </center>\n",
      "</form>  </div>\n",
      "</div>\n",
      "\n",
      "  <div class=\"box-footer\"><a href=\"/secure/42299/users/sign_up?flow_school_id=42299\"><img src=\"https://d2vvqscadf4c1f.cloudfront.net/FZtjD7hRSMmkWzKP5kMO_LetsKodeIt%20-%20Main%20Logo.JPG\" alt=\"Fztjd7hrsmmkwzkp5kmo letskodeit%20 %20main%20logo\" />Create an Account</a></div>\n",
      "\n",
      "        </div>\n",
      "      </div>\n",
      "    </div>\n",
      "  </div>\n",
      "</div>\n",
      "\n",
      "      \n",
      "        \n",
      "<footer class=\"bottom-menu bottom-menu-inverse\">\n",
      "  <div class=\"container\">\n",
      "    <div class=\"row\">\n",
      "      <div class=\"col-xs-12 col-sm-4 col-md-4 footer-column\">\n",
      "        <p>\n",
      "          ©\n",
      "          Let's Kode It\n",
      "        </p>\n",
      "      </div>\n",
      "      <div class=\"col-xs-12 col-sm-4 col-md-4 footer-column\">\n",
      "        <ul class=\"list-unstyled\">\n",
      "          <li>\n",
      "            <a href=\"http://learn.letskodeit.com/p/terms\">\n",
      "              Terms of Use\n",
      "            </a>\n",
      "          </li>\n",
      "          <li>\n",
      "            <a href=\"http://learn.letskodeit.com/p/privacy\">\n",
      "              Privacy Policy\n",
      "            </a>\n",
      "          </li>\n",
      "        </ul>\n",
      "      </div>\n",
      "      <div class=\"col-xs-12 col-sm-4 col-md-4 footer-column\">\n",
      "        \n",
      "        \n",
      "          \n",
      "            <ul class=\"list-unstyled\">\n",
      "              <li>\n",
      "                \n",
      "                  <a class=\"powered-by\" href=\"https://teachable.com/?src=school_footer\">\n",
      "                    Powered by <img src=\"https://d2oz8i5n9se8ej.cloudfront.net/assets/footer/teachable-logo-white-efd32576079839534d5b6e87bf4424e99b12624f854b2c500a4d3f0b6e2af46b.svg\" class=\"powered-by-logo\" target=\"_blank\" alt=\"Teachable\" />\n",
      "                  </a>\n",
      "                \n",
      "              </li>\n",
      "            </ul>\n",
      "          \n",
      "        \n",
      "        </div>\n",
      "\n",
      "      </div>\n",
      "    </div>\n",
      "  </footer></div>\n",
      "\n",
      "\n",
      "\n",
      "      \n",
      "      \n",
      "        \n",
      "      \n",
      "    \n",
      "    \n",
      "  \n",
      "\n",
      "<iframe name=\"filepicker_comm_iframe\" id=\"filepicker_comm_iframe\" src=\"https://dialog.filestackapi.com/dialog/comm_iframe/\" style=\"display: none;\"></iframe><iframe name=\"fpapi_comm_iframe\" id=\"fpapi_comm_iframe\" src=\"https://www.filestackapi.com/dialog/comm_iframe/\" style=\"display: none;\"></iframe></body></html>\n"
     ]
    }
   ],
   "source": [
    "from selenium import webdriver\n",
    "from selenium.webdriver.common.by import By\n",
    "class ListOfElements():\n",
    "    def test(self):\n",
    "        baseUrl = \"https://letskodeit.teachable.com/pages/practice\"\n",
    "        driverLocation = r\"C://Users/arbaz/Downloads/chromedriver_win32/chromedriver.exe\"\n",
    "        os.environ[\"webdriver.chrome.driver\"] = driverLocation\n",
    "        driver = webdriver.Chrome(driverLocation)\n",
    "        \n",
    "        driver.maximize_window()\n",
    "        driver.get(baseUrl)\n",
    "        title = driver.title\n",
    "        print(\"Title of the web page is: \" + title)\n",
    "        # Get Current Url\n",
    "        currentUrl = driver.current_url\n",
    "        print(\"Current Url of the web page is: \" + currentUrl)\n",
    "        driver.refresh()\n",
    "        print(\"Browser Refreshed 1st time\")\n",
    "        driver.get(driver.current_url)\n",
    "        print(\"Browser Refreshed 2nd time\")\n",
    "        # Open another Url\n",
    "        driver.get(\"https://sso.teachable.com/secure/42299/users/sign_in?reset_purchase_session=1\")\n",
    "        currentUrl = driver.current_url\n",
    "        print(\"Current Url of the web page is: \" + currentUrl)\n",
    "        # Browser Back\n",
    "        driver.back()\n",
    "        print(\"Go one step back in browser history\")\n",
    "        currentUrl = driver.current_url\n",
    "        print(\"Current Url of the web page is: \" + currentUrl)\n",
    "        # Browser Forward\n",
    "        driver.forward()\n",
    "        print(\"Go one step forward in browser history\")\n",
    "        currentUrl = driver.current_url\n",
    "        print(\"Current Url of the web page is: \" + currentUrl)\n",
    "        # Get Page Source\n",
    "        pageSource = driver.page_source\n",
    "        print(pageSource)\n",
    "        # Browser Close / Quit\n",
    "        # driver.close()\n",
    "        driver.quit()\n",
    "\n",
    "        \n",
    "ff = ListOfElements()\n",
    "ff.test()"
   ]
  },
  {
   "cell_type": "code",
   "execution_count": 7,
   "metadata": {},
   "outputs": [
    {
     "ename": "NameError",
     "evalue": "name 'NoSuchElementException' is not defined",
     "output_type": "error",
     "traceback": [
      "\u001b[1;31m---------------------------------------------------------------------------\u001b[0m",
      "\u001b[1;31mNoSuchElementException\u001b[0m                    Traceback (most recent call last)",
      "\u001b[1;32m<ipython-input-7-ecb3df75c129>\u001b[0m in \u001b[0;36mtest\u001b[1;34m(self)\u001b[0m\n\u001b[0;32m     30\u001b[0m         \u001b[1;32mtry\u001b[0m\u001b[1;33m:\u001b[0m\u001b[1;33m\u001b[0m\u001b[0m\n\u001b[1;32m---> 31\u001b[1;33m             \u001b[0mlink\u001b[0m \u001b[1;33m=\u001b[0m \u001b[0mdriver\u001b[0m\u001b[1;33m.\u001b[0m\u001b[0mfind_element\u001b[0m\u001b[1;33m(\u001b[0m\u001b[0mBy\u001b[0m\u001b[1;33m.\u001b[0m\u001b[0mXPATH\u001b[0m\u001b[1;33m,\u001b[0m\u001b[1;34m\"//*[@id='model_tab']/div[2]/a\"\u001b[0m\u001b[1;33m)\u001b[0m\u001b[1;33m\u001b[0m\u001b[0m\n\u001b[0m\u001b[0;32m     32\u001b[0m             \u001b[0mlink\u001b[0m\u001b[1;33m.\u001b[0m\u001b[0msubmit\u001b[0m\u001b[1;33m(\u001b[0m\u001b[1;33m)\u001b[0m\u001b[1;33m\u001b[0m\u001b[0m\n",
      "\u001b[1;32mc:\\users\\arbaz\\anaconda3\\envs\\tensorflow\\lib\\site-packages\\selenium\\webdriver\\remote\\webdriver.py\u001b[0m in \u001b[0;36mfind_element\u001b[1;34m(self, by, value)\u001b[0m\n\u001b[0;32m    965\u001b[0m             \u001b[1;34m'using'\u001b[0m\u001b[1;33m:\u001b[0m \u001b[0mby\u001b[0m\u001b[1;33m,\u001b[0m\u001b[1;33m\u001b[0m\u001b[0m\n\u001b[1;32m--> 966\u001b[1;33m             'value': value})['value']\n\u001b[0m\u001b[0;32m    967\u001b[0m \u001b[1;33m\u001b[0m\u001b[0m\n",
      "\u001b[1;32mc:\\users\\arbaz\\anaconda3\\envs\\tensorflow\\lib\\site-packages\\selenium\\webdriver\\remote\\webdriver.py\u001b[0m in \u001b[0;36mexecute\u001b[1;34m(self, driver_command, params)\u001b[0m\n\u001b[0;32m    319\u001b[0m         \u001b[1;32mif\u001b[0m \u001b[0mresponse\u001b[0m\u001b[1;33m:\u001b[0m\u001b[1;33m\u001b[0m\u001b[0m\n\u001b[1;32m--> 320\u001b[1;33m             \u001b[0mself\u001b[0m\u001b[1;33m.\u001b[0m\u001b[0merror_handler\u001b[0m\u001b[1;33m.\u001b[0m\u001b[0mcheck_response\u001b[0m\u001b[1;33m(\u001b[0m\u001b[0mresponse\u001b[0m\u001b[1;33m)\u001b[0m\u001b[1;33m\u001b[0m\u001b[0m\n\u001b[0m\u001b[0;32m    321\u001b[0m             response['value'] = self._unwrap_value(\n",
      "\u001b[1;32mc:\\users\\arbaz\\anaconda3\\envs\\tensorflow\\lib\\site-packages\\selenium\\webdriver\\remote\\errorhandler.py\u001b[0m in \u001b[0;36mcheck_response\u001b[1;34m(self, response)\u001b[0m\n\u001b[0;32m    241\u001b[0m             \u001b[1;32mraise\u001b[0m \u001b[0mexception_class\u001b[0m\u001b[1;33m(\u001b[0m\u001b[0mmessage\u001b[0m\u001b[1;33m,\u001b[0m \u001b[0mscreen\u001b[0m\u001b[1;33m,\u001b[0m \u001b[0mstacktrace\u001b[0m\u001b[1;33m,\u001b[0m \u001b[0malert_text\u001b[0m\u001b[1;33m)\u001b[0m\u001b[1;33m\u001b[0m\u001b[0m\n\u001b[1;32m--> 242\u001b[1;33m         \u001b[1;32mraise\u001b[0m \u001b[0mexception_class\u001b[0m\u001b[1;33m(\u001b[0m\u001b[0mmessage\u001b[0m\u001b[1;33m,\u001b[0m \u001b[0mscreen\u001b[0m\u001b[1;33m,\u001b[0m \u001b[0mstacktrace\u001b[0m\u001b[1;33m)\u001b[0m\u001b[1;33m\u001b[0m\u001b[0m\n\u001b[0m\u001b[0;32m    243\u001b[0m \u001b[1;33m\u001b[0m\u001b[0m\n",
      "\u001b[1;31mNoSuchElementException\u001b[0m: Message: no such element: Unable to locate element: {\"method\":\"xpath\",\"selector\":\"//*[@id='model_tab']/div[2]/a\"}\n  (Session info: chrome=67.0.3396.99)\n  (Driver info: chromedriver=2.40.565498 (ea082db3280dd6843ebfb08a625e3eb905c4f5ab),platform=Windows NT 10.0.17134 x86_64)\n",
      "\nDuring handling of the above exception, another exception occurred:\n",
      "\u001b[1;31mNameError\u001b[0m                                 Traceback (most recent call last)",
      "\u001b[1;32m<ipython-input-7-ecb3df75c129>\u001b[0m in \u001b[0;36m<module>\u001b[1;34m()\u001b[0m\n\u001b[0;32m    100\u001b[0m \u001b[1;33m\u001b[0m\u001b[0m\n\u001b[0;32m    101\u001b[0m \u001b[0mff\u001b[0m \u001b[1;33m=\u001b[0m \u001b[0mListOfElements\u001b[0m\u001b[1;33m(\u001b[0m\u001b[1;33m)\u001b[0m\u001b[1;33m\u001b[0m\u001b[0m\n\u001b[1;32m--> 102\u001b[1;33m \u001b[0mff\u001b[0m\u001b[1;33m.\u001b[0m\u001b[0mtest\u001b[0m\u001b[1;33m(\u001b[0m\u001b[1;33m)\u001b[0m\u001b[1;33m\u001b[0m\u001b[0m\n\u001b[0m",
      "\u001b[1;32m<ipython-input-7-ecb3df75c129>\u001b[0m in \u001b[0;36mtest\u001b[1;34m(self)\u001b[0m\n\u001b[0;32m     36\u001b[0m             \u001b[0melement_present\u001b[0m\u001b[1;33m.\u001b[0m\u001b[0msubmit\u001b[0m\u001b[1;33m(\u001b[0m\u001b[1;33m)\u001b[0m\u001b[1;33m\u001b[0m\u001b[0m\n\u001b[0;32m     37\u001b[0m             \"\"\"\n\u001b[1;32m---> 38\u001b[1;33m         \u001b[1;32mexcept\u001b[0m \u001b[0mNoSuchElementException\u001b[0m\u001b[1;33m:\u001b[0m\u001b[1;33m\u001b[0m\u001b[0m\n\u001b[0m\u001b[0;32m     39\u001b[0m             \u001b[0mprint\u001b[0m\u001b[1;33m(\u001b[0m\u001b[1;34m\"Timed out waiting for page to load\"\u001b[0m\u001b[1;33m)\u001b[0m\u001b[1;33m\u001b[0m\u001b[0m\n\u001b[0;32m     40\u001b[0m         \u001b[1;32mexcept\u001b[0m \u001b[0mTimeoutException\u001b[0m\u001b[1;33m:\u001b[0m\u001b[1;33m\u001b[0m\u001b[0m\n",
      "\u001b[1;31mNameError\u001b[0m: name 'NoSuchElementException' is not defined"
     ]
    }
   ],
   "source": [
    "import os\n",
    "import time\n",
    "from selenium import webdriver\n",
    "from selenium.webdriver.common.by import By\n",
    "from selenium.common.exceptions import TimeoutException\n",
    "from selenium.webdriver.support.ui import WebDriverWait\n",
    "from selenium.webdriver.support import expected_conditions as EC\n",
    "class ListOfElements():\n",
    "    def test(self):\n",
    "        baseUrl = \"https://en.52wmb.com/login?redirectUrl=http://en.52wmb.com/buy-coffee\"\n",
    "        driverLocation = r\"C://Users/arbaz/Downloads/chromedriver_win32/chromedriver.exe\"\n",
    "        os.environ[\"webdriver.chrome.driver\"] = driverLocation\n",
    "        driver = webdriver.Chrome(driverLocation)\n",
    "        \n",
    "        driver.maximize_window()\n",
    "        driver.get(baseUrl)\n",
    "        driver.implicitly_wait(36)\n",
    "\n",
    "        loginemail = driver.find_element(By.XPATH, \"//input[@class='login-text']\").send_keys(\"ksheth358@gmail.com\")\n",
    "        loginpassword = driver.find_element(By.XPATH, \"//input[@placeholder='Password']\").send_keys(\"asdzx//999\")\n",
    "        loginsubmit = driver.find_element(By.XPATH, \"//input[@class='login-submit']\").click()\n",
    "        \n",
    "        input_search=driver.find_element(By.XPATH, \"//input[@id='companysearchKey']\")\n",
    "        input_search.send_keys(\"Coex Coffee International\")\n",
    "        click_search=driver.find_element(By.XPATH,\"//a[@id='clickSearchbtn']\")\n",
    "        click_search.click()\n",
    "        click_on_page=driver.find_element(By.XPATH,\"//a[@href='/buyer/55900789']\")\n",
    "        click_on_page.click()\n",
    "        timeout = 20\n",
    "        try:\n",
    "            link = driver.find_element(By.XPATH,\"//*[@id='model_tab']/div[2]/a\")\n",
    "            link.submit()\n",
    "            \"\"\"\n",
    "            element_present = EC.presence_of_element_located((By.XPATH, \"//*[@id='maoyi-hb']/div[1]/a\"))\n",
    "            WebDriverWait(driver, timeout).until(element_present)\n",
    "            element_present.submit()\n",
    "            \"\"\"\n",
    "        except NoSuchElementException:\n",
    "            print(\"Timed out waiting for page to load\")\n",
    "        except TimeoutException:\n",
    "            print(\"Timed out waiting for page to load\")\n",
    "        \n",
    "        \n",
    "        \"\"\"\n",
    "        aElements = browser.find_elements_by_tag_name(\"a\")\n",
    "        for name in aElements:\n",
    "        if(name.get_attribute(\"href\") is not None and \"javascript:void\" in name.get_attribute(\"href\")):\n",
    "        print(\"IM IN HUR\")\n",
    "        name.click()\n",
    "        break\n",
    "    \n",
    "        element = WebDriverWait(driver, 10).until(\n",
    "        EC.presence_of_element_located((By., \"myDynamicElement\"))\n",
    "        click_on_next=driver.find_element_by_name(\"Consult All Buyers\") \n",
    "        click_on_next.submit()\n",
    "        \n",
    "        timeout = 20\n",
    "        try:\n",
    "            element_present = EC.presence_of_element_located((By.XPATH, \"//*[@id='maoyi-hb']/div[1]/a\"))\n",
    "            WebDriverWait(driver, timeout).until(element_present)\n",
    "            element_present.submit()\n",
    "        except TimeoutException:\n",
    "            print(\"Timed out waiting for page to load\")\n",
    "        \n",
    "        click_on_next=driver.find_element(By.XPATH,\"//*[@id='maoyi-hb']/div[2]/table/tbody/tr[1]/td[5]/a\")\n",
    "        click_on_next.submit()\n",
    "        \n",
    "        \n",
    "        element = driver.find_element_by_class_name(\"table-next\")\n",
    "        sel = Select(element)\n",
    "        \n",
    "        first = sel.select_by_index(\"1\")\n",
    "        first.click()\n",
    "        \n",
    "        \n",
    "        \n",
    "        next_elem=driver.find_element(By.XPATH, \"//a[@action-data='/async/iframe/partnerbill?start=9396706&partner=34401029&box=bill_data_tbody&date_type=1']\")\n",
    "        next_elem.click()\n",
    "    \n",
    "        loginLink.click()\n",
    "\n",
    "        emailField = driver.find_element(By.ID, \"user_email\")\n",
    "        emailField.send_keys(\"test\")\n",
    "\n",
    "        passwordField = driver.find_element(By.ID, \"user_password\")\n",
    "        passwordField.send_keys(\"test\")\n",
    "\n",
    "        time.sleep(3)\n",
    "\n",
    "        emailField.clear()\n",
    "\n",
    "        time.sleep(3)\n",
    "        //*[@id=\"maoyi-hb\"]/div[2]/table/tbody/tr[1]/td[5]/a\n",
    "\n",
    "        emailField.send_keys(\"test\")\n",
    "\n",
    "        \"\"\"\n",
    "        \n",
    "\n",
    "        \n",
    "ff = ListOfElements()\n",
    "ff.test()"
   ]
  },
  {
   "cell_type": "code",
   "execution_count": 7,
   "metadata": {},
   "outputs": [],
   "source": [
    "from selenium import webdriver\n",
    "from selenium.webdriver.common.by import By\n",
    "class ListOfElements():\n",
    "    def test(self):\n",
    "        baseUrl = \"https://www.teacoffeespiceofindia.com/coffee/manufacturers-and-exporters\"\n",
    "        driverLocation = r\"C://Users/arbaz/Downloads/chromedriver_win32/chromedriver.exe\"\n",
    "        os.environ[\"webdriver.chrome.driver\"] = driverLocation\n",
    "        driver = webdriver.Chrome(driverLocation)\n",
    "        \n",
    "        driver.maximize_window()\n",
    "        driver.get(baseUrl)\n",
    "        driver.implicitly_wait(10)\n",
    "\n",
    "        loginemail = driver.find_element(By.XPATH, \"//input[@class='login-text']\").send_keys(\"ksheth358@gmail.com\")\n",
    "        loginpassword = driver.find_element(By.XPATH, \"//input[@placeholder='Password']\").send_keys(\"\")\n",
    "        loginsubmit = driver.find_element(By.XPATH, \"//input[@class='login-submit']\").click()\n",
    "        \n",
    "        input_search=driver.find_element(By.XPATH, \"//input[@id='companysearchKey']\")\n",
    "        input_search.send_keys(\"Coex Coffee International\")\n",
    "        click_search=driver.find_element(By.XPATH,\"//a[@id='clickSearchbtn']\")\n",
    "        click_search.click()\n",
    "        \n",
    "        click_on_page=driver.find_element(By.XPATH,\"//a[@href='/buyer/55900789']\")\n",
    "        click_on_page.click()\n",
    "        \n",
    "        click_on_next=driver.find_element(By.XPATH,\"//div[@class='stab stab-partner']\")\n",
    "        click_on_next.click()"
   ]
  },
  {
   "cell_type": "code",
   "execution_count": 1,
   "metadata": {},
   "outputs": [
    {
     "ename": "NoSuchElementException",
     "evalue": "Message: no such element: Unable to locate element: {\"method\":\"xpath\",\"selector\":\"//div[@class='stab stab-partner']\"}\n  (Session info: chrome=68.0.3440.84)\n  (Driver info: chromedriver=2.40.565498 (ea082db3280dd6843ebfb08a625e3eb905c4f5ab),platform=Windows NT 10.0.17134 x86_64)\n",
     "output_type": "error",
     "traceback": [
      "\u001b[1;31m---------------------------------------------------------------------------\u001b[0m",
      "\u001b[1;31mNoSuchElementException\u001b[0m                    Traceback (most recent call last)",
      "\u001b[1;32m<ipython-input-1-136bee46103d>\u001b[0m in \u001b[0;36m<module>\u001b[1;34m()\u001b[0m\n\u001b[0;32m     61\u001b[0m \u001b[1;33m\u001b[0m\u001b[0m\n\u001b[0;32m     62\u001b[0m \u001b[0mff\u001b[0m \u001b[1;33m=\u001b[0m \u001b[0mListOfElements\u001b[0m\u001b[1;33m(\u001b[0m\u001b[1;33m)\u001b[0m\u001b[1;33m\u001b[0m\u001b[0m\n\u001b[1;32m---> 63\u001b[1;33m \u001b[0mff\u001b[0m\u001b[1;33m.\u001b[0m\u001b[0mtest\u001b[0m\u001b[1;33m(\u001b[0m\u001b[1;33m)\u001b[0m\u001b[1;33m\u001b[0m\u001b[0m\n\u001b[0m",
      "\u001b[1;32m<ipython-input-1-136bee46103d>\u001b[0m in \u001b[0;36mtest\u001b[1;34m(self)\u001b[0m\n\u001b[0;32m     25\u001b[0m         \u001b[0mclick_on_page\u001b[0m\u001b[1;33m.\u001b[0m\u001b[0mclick\u001b[0m\u001b[1;33m(\u001b[0m\u001b[1;33m)\u001b[0m\u001b[1;33m\u001b[0m\u001b[0m\n\u001b[0;32m     26\u001b[0m \u001b[1;33m\u001b[0m\u001b[0m\n\u001b[1;32m---> 27\u001b[1;33m         \u001b[0mclick_on_next\u001b[0m\u001b[1;33m=\u001b[0m\u001b[0mdriver\u001b[0m\u001b[1;33m.\u001b[0m\u001b[0mfind_element\u001b[0m\u001b[1;33m(\u001b[0m\u001b[0mBy\u001b[0m\u001b[1;33m.\u001b[0m\u001b[0mXPATH\u001b[0m\u001b[1;33m,\u001b[0m\u001b[1;34m\"//div[@class='stab stab-partner']\"\u001b[0m\u001b[1;33m)\u001b[0m\u001b[1;33m\u001b[0m\u001b[0m\n\u001b[0m\u001b[0;32m     28\u001b[0m         \u001b[0mclick_on_next\u001b[0m\u001b[1;33m.\u001b[0m\u001b[0mclick\u001b[0m\u001b[1;33m(\u001b[0m\u001b[1;33m)\u001b[0m\u001b[1;33m\u001b[0m\u001b[0m\n\u001b[0;32m     29\u001b[0m \u001b[1;33m\u001b[0m\u001b[0m\n",
      "\u001b[1;32mc:\\users\\arbaz\\anaconda3\\envs\\tensorflow\\lib\\site-packages\\selenium\\webdriver\\remote\\webdriver.py\u001b[0m in \u001b[0;36mfind_element\u001b[1;34m(self, by, value)\u001b[0m\n\u001b[0;32m    964\u001b[0m         return self.execute(Command.FIND_ELEMENT, {\n\u001b[0;32m    965\u001b[0m             \u001b[1;34m'using'\u001b[0m\u001b[1;33m:\u001b[0m \u001b[0mby\u001b[0m\u001b[1;33m,\u001b[0m\u001b[1;33m\u001b[0m\u001b[0m\n\u001b[1;32m--> 966\u001b[1;33m             'value': value})['value']\n\u001b[0m\u001b[0;32m    967\u001b[0m \u001b[1;33m\u001b[0m\u001b[0m\n\u001b[0;32m    968\u001b[0m     \u001b[1;32mdef\u001b[0m \u001b[0mfind_elements\u001b[0m\u001b[1;33m(\u001b[0m\u001b[0mself\u001b[0m\u001b[1;33m,\u001b[0m \u001b[0mby\u001b[0m\u001b[1;33m=\u001b[0m\u001b[0mBy\u001b[0m\u001b[1;33m.\u001b[0m\u001b[0mID\u001b[0m\u001b[1;33m,\u001b[0m \u001b[0mvalue\u001b[0m\u001b[1;33m=\u001b[0m\u001b[1;32mNone\u001b[0m\u001b[1;33m)\u001b[0m\u001b[1;33m:\u001b[0m\u001b[1;33m\u001b[0m\u001b[0m\n",
      "\u001b[1;32mc:\\users\\arbaz\\anaconda3\\envs\\tensorflow\\lib\\site-packages\\selenium\\webdriver\\remote\\webdriver.py\u001b[0m in \u001b[0;36mexecute\u001b[1;34m(self, driver_command, params)\u001b[0m\n\u001b[0;32m    318\u001b[0m         \u001b[0mresponse\u001b[0m \u001b[1;33m=\u001b[0m \u001b[0mself\u001b[0m\u001b[1;33m.\u001b[0m\u001b[0mcommand_executor\u001b[0m\u001b[1;33m.\u001b[0m\u001b[0mexecute\u001b[0m\u001b[1;33m(\u001b[0m\u001b[0mdriver_command\u001b[0m\u001b[1;33m,\u001b[0m \u001b[0mparams\u001b[0m\u001b[1;33m)\u001b[0m\u001b[1;33m\u001b[0m\u001b[0m\n\u001b[0;32m    319\u001b[0m         \u001b[1;32mif\u001b[0m \u001b[0mresponse\u001b[0m\u001b[1;33m:\u001b[0m\u001b[1;33m\u001b[0m\u001b[0m\n\u001b[1;32m--> 320\u001b[1;33m             \u001b[0mself\u001b[0m\u001b[1;33m.\u001b[0m\u001b[0merror_handler\u001b[0m\u001b[1;33m.\u001b[0m\u001b[0mcheck_response\u001b[0m\u001b[1;33m(\u001b[0m\u001b[0mresponse\u001b[0m\u001b[1;33m)\u001b[0m\u001b[1;33m\u001b[0m\u001b[0m\n\u001b[0m\u001b[0;32m    321\u001b[0m             response['value'] = self._unwrap_value(\n\u001b[0;32m    322\u001b[0m                 response.get('value', None))\n",
      "\u001b[1;32mc:\\users\\arbaz\\anaconda3\\envs\\tensorflow\\lib\\site-packages\\selenium\\webdriver\\remote\\errorhandler.py\u001b[0m in \u001b[0;36mcheck_response\u001b[1;34m(self, response)\u001b[0m\n\u001b[0;32m    240\u001b[0m                 \u001b[0malert_text\u001b[0m \u001b[1;33m=\u001b[0m \u001b[0mvalue\u001b[0m\u001b[1;33m[\u001b[0m\u001b[1;34m'alert'\u001b[0m\u001b[1;33m]\u001b[0m\u001b[1;33m.\u001b[0m\u001b[0mget\u001b[0m\u001b[1;33m(\u001b[0m\u001b[1;34m'text'\u001b[0m\u001b[1;33m)\u001b[0m\u001b[1;33m\u001b[0m\u001b[0m\n\u001b[0;32m    241\u001b[0m             \u001b[1;32mraise\u001b[0m \u001b[0mexception_class\u001b[0m\u001b[1;33m(\u001b[0m\u001b[0mmessage\u001b[0m\u001b[1;33m,\u001b[0m \u001b[0mscreen\u001b[0m\u001b[1;33m,\u001b[0m \u001b[0mstacktrace\u001b[0m\u001b[1;33m,\u001b[0m \u001b[0malert_text\u001b[0m\u001b[1;33m)\u001b[0m\u001b[1;33m\u001b[0m\u001b[0m\n\u001b[1;32m--> 242\u001b[1;33m         \u001b[1;32mraise\u001b[0m \u001b[0mexception_class\u001b[0m\u001b[1;33m(\u001b[0m\u001b[0mmessage\u001b[0m\u001b[1;33m,\u001b[0m \u001b[0mscreen\u001b[0m\u001b[1;33m,\u001b[0m \u001b[0mstacktrace\u001b[0m\u001b[1;33m)\u001b[0m\u001b[1;33m\u001b[0m\u001b[0m\n\u001b[0m\u001b[0;32m    243\u001b[0m \u001b[1;33m\u001b[0m\u001b[0m\n\u001b[0;32m    244\u001b[0m     \u001b[1;32mdef\u001b[0m \u001b[0m_value_or_default\u001b[0m\u001b[1;33m(\u001b[0m\u001b[0mself\u001b[0m\u001b[1;33m,\u001b[0m \u001b[0mobj\u001b[0m\u001b[1;33m,\u001b[0m \u001b[0mkey\u001b[0m\u001b[1;33m,\u001b[0m \u001b[0mdefault\u001b[0m\u001b[1;33m)\u001b[0m\u001b[1;33m:\u001b[0m\u001b[1;33m\u001b[0m\u001b[0m\n",
      "\u001b[1;31mNoSuchElementException\u001b[0m: Message: no such element: Unable to locate element: {\"method\":\"xpath\",\"selector\":\"//div[@class='stab stab-partner']\"}\n  (Session info: chrome=68.0.3440.84)\n  (Driver info: chromedriver=2.40.565498 (ea082db3280dd6843ebfb08a625e3eb905c4f5ab),platform=Windows NT 10.0.17134 x86_64)\n"
     ]
    }
   ],
   "source": [
    "import os\n",
    "from selenium import webdriver\n",
    "from selenium.webdriver.common.by import By\n",
    "class ListOfElements():\n",
    "    def test(self):\n",
    "        baseUrl = \"https://en.52wmb.com/login?redirectUrl=http://en.52wmb.com/buy-coffee\"\n",
    "        driverLocation = r\"C://Users/arbaz/Downloads/chromedriver_win32/chromedriver.exe\"\n",
    "        os.environ[\"webdriver.chrome.driver\"] = driverLocation\n",
    "        driver = webdriver.Chrome(driverLocation)\n",
    "        \n",
    "        driver.maximize_window()\n",
    "        driver.get(baseUrl)\n",
    "        driver.implicitly_wait(15)\n",
    "\n",
    "        loginemail = driver.find_element(By.XPATH, \"//input[@class='login-text']\").send_keys(\"ksheth358@gmail.com\")\n",
    "        loginpassword = driver.find_element(By.XPATH, \"//input[@placeholder='Password']\").send_keys(\"asdzx//999\")\n",
    "        loginsubmit = driver.find_element(By.XPATH, \"//input[@class='login-submit']\").click()\n",
    "        \n",
    "        input_search=driver.find_element(By.XPATH, \"//input[@id='companysearchKey']\")\n",
    "        input_search.send_keys(\"Coex Coffee International\")\n",
    "        click_search=driver.find_element(By.XPATH,\"//a[@id='clickSearchbtn']\")\n",
    "        click_search.click()\n",
    "        \n",
    "        click_on_page=driver.find_element(By.XPATH,\"//a[@href='/buyer/55900789']\")\n",
    "        click_on_page.click()\n",
    "        \n",
    "        click_on_next=driver.find_element(By.XPATH,\"//div[@class='stab stab-partner']\")\n",
    "        click_on_next.click()\n",
    "        \n",
    "        \"\"\"\n",
    "        element = driver.find_element_by_class_name(\"table-next\")\n",
    "        sel = Select(element)\n",
    "        \n",
    "        first = sel.select_by_index(\"1\")\n",
    "        first.click()\n",
    "        \n",
    "        \n",
    "        \n",
    "        next_elem=driver.find_element(By.XPATH, \"//a[@action-data='/async/iframe/partnerbill?start=9396706&partner=34401029&box=bill_data_tbody&date_type=1']\")\n",
    "        next_elem.click()\n",
    "    \n",
    "        loginLink.click()\n",
    "\n",
    "        emailField = driver.find_element(By.ID, \"user_email\")\n",
    "        emailField.send_keys(\"test\")\n",
    "\n",
    "        passwordField = driver.find_element(By.ID, \"user_password\")\n",
    "        passwordField.send_keys(\"test\")\n",
    "\n",
    "        time.sleep(3)\n",
    "\n",
    "        emailField.clear()\n",
    "\n",
    "        time.sleep(3)\n",
    "\n",
    "        emailField.send_keys(\"test\")\n",
    "\n",
    "        \"\"\"\n",
    "        \n",
    "\n",
    "        \n",
    "ff = ListOfElements()\n",
    "ff.test()"
   ]
  },
  {
   "cell_type": "code",
   "execution_count": null,
   "metadata": {},
   "outputs": [],
   "source": []
  },
  {
   "cell_type": "code",
   "execution_count": null,
   "metadata": {},
   "outputs": [],
   "source": []
  },
  {
   "cell_type": "code",
   "execution_count": null,
   "metadata": {},
   "outputs": [],
   "source": []
  },
  {
   "cell_type": "code",
   "execution_count": null,
   "metadata": {},
   "outputs": [],
   "source": []
  },
  {
   "cell_type": "code",
   "execution_count": 5,
   "metadata": {},
   "outputs": [],
   "source": [
    "from selenium import webdriver\n",
    "from bs4 import BeautifulSoup\n",
    "import numpy as np\n",
    "import pandas as pd\n",
    "\n",
    "driverLocation = r\"C://Users/arbaz/Downloads/chromedriver_win32/chromedriver.exe\"\n",
    "os.environ[\"webdriver.chrome.driver\"] = driverLocation\n",
    "driver = webdriver.Chrome(driverLocation)\n",
    "driver.get(\"https://www.go4worldbusiness.com/buyers/coffee.html?region=worldwide&pg_buyers=10\")\n",
    "\n",
    "html_doc = driver.page_source\n",
    "soup=BeautifulSoup(html_doc,'lxml')\n"
   ]
  },
  {
   "cell_type": "code",
   "execution_count": 20,
   "metadata": {},
   "outputs": [],
   "source": [
    "head=[]\n",
    "nameofbuy=[]\n",
    "desc=[]\n",
    "date=[]"
   ]
  },
  {
   "cell_type": "code",
   "execution_count": 7,
   "metadata": {},
   "outputs": [],
   "source": [
    "maindiv=soup.find_all(\"h2\",{\"class\":\"text-capitalize entity-row-title h2-item-title\"})"
   ]
  },
  {
   "cell_type": "code",
   "execution_count": 8,
   "metadata": {},
   "outputs": [
    {
     "data": {
      "text/plain": [
       "[<h2 class=\"text-capitalize entity-row-title h2-item-title\" title=\"Type: buyleads:560434\">\n",
       " <span> Wanted : Arabica Coffee Beans\n",
       "  </span>\n",
       " </h2>,\n",
       " <h2 class=\"text-capitalize entity-row-title h2-item-title\" title=\"Type: buyleads:560319\">\n",
       " <span> Wanted : Green Coffee Beans\n",
       "  </span>\n",
       " </h2>,\n",
       " <h2 class=\"text-capitalize entity-row-title h2-item-title\" title=\"Type: buyleads:559619\">\n",
       " <span> Wanted : Green Coffee Beans\n",
       "  </span>\n",
       " </h2>,\n",
       " <h2 class=\"text-capitalize entity-row-title h2-item-title\" title=\"Type: buyleads:559482\">\n",
       " <span> Wanted : Brazilian And Columbia Coffee Beans\n",
       "  </span>\n",
       " </h2>,\n",
       " <h2 class=\"text-capitalize entity-row-title h2-item-title\" title=\"Type: buyleads:558636\">\n",
       " <span> Wanted : Indian Green Coffee\n",
       "  </span>\n",
       " </h2>,\n",
       " <h2 class=\"text-capitalize entity-row-title h2-item-title\" title=\"Type: buyleads:558582\">\n",
       " <span> Wanted : Nescafe Coffee\n",
       "  </span>\n",
       " </h2>,\n",
       " <h2 class=\"text-capitalize entity-row-title h2-item-title\" title=\"Type: buyleads:558157\">\n",
       " <span> Wanted : Indonesian Origin Nescafe Coffee\n",
       "  </span>\n",
       " </h2>,\n",
       " <h2 class=\"text-capitalize entity-row-title h2-item-title\" title=\"Type: buyleads:557933\">\n",
       " <span> Wanted : Nescafe Protect Proslim\n",
       "  </span>\n",
       " </h2>,\n",
       " <h2 class=\"text-capitalize entity-row-title h2-item-title\" title=\"Type: buyleads:557577\">\n",
       " <span> Wanted : Fruit Flavor Costa Rican Coffee\n",
       "  </span>\n",
       " </h2>,\n",
       " <h2 class=\"text-capitalize entity-row-title h2-item-title\" title=\"Type: buyleads:555519\">\n",
       " <span> Wanted : Jacobs Kronung Coffee\n",
       "  </span>\n",
       " </h2>,\n",
       " <h2 class=\"text-capitalize entity-row-title h2-item-title\" title=\"Type: buyleads:555600\">\n",
       " <span> Wanted : Dried Instant Coffee\n",
       "  </span>\n",
       " </h2>,\n",
       " <h2 class=\"text-capitalize entity-row-title h2-item-title\" title=\"Type: buyleads:554504\">\n",
       " <span> Wanted : Coffee\n",
       "  </span>\n",
       " </h2>,\n",
       " <h2 class=\"text-capitalize entity-row-title h2-item-title\" title=\"Type: buyleads:554052\">\n",
       " <span> Wanted : Pokka Milk Coffee In Cans\n",
       "  </span>\n",
       " </h2>,\n",
       " <h2 class=\"text-capitalize entity-row-title h2-item-title\" title=\"Type: buyleads:553749\">\n",
       " <span> Wanted : Freeze Dried Coffee\n",
       "  </span>\n",
       " </h2>,\n",
       " <h2 class=\"text-capitalize entity-row-title h2-item-title\" title=\"Type: buyleads:552062\">\n",
       " <span> Wanted : Instant Coffee\n",
       "  </span>\n",
       " </h2>,\n",
       " <h2 class=\"text-capitalize entity-row-title h2-item-title\" title=\"Type: buyleads:550946\">\n",
       " <span> Wanted : Arabica And Robusta Coffee\n",
       "  </span>\n",
       " </h2>,\n",
       " <h2 class=\"text-capitalize entity-row-title h2-item-title\" title=\"Type: buyleads:550962\">\n",
       " <span> Wanted : Instant Coffee\n",
       "  </span>\n",
       " </h2>]"
      ]
     },
     "execution_count": 8,
     "metadata": {},
     "output_type": "execute_result"
    }
   ],
   "source": [
    "maindiv"
   ]
  },
  {
   "cell_type": "code",
   "execution_count": null,
   "metadata": {},
   "outputs": [],
   "source": []
  },
  {
   "cell_type": "code",
   "execution_count": 11,
   "metadata": {},
   "outputs": [],
   "source": [
    "buyname=soup.find_all(\"span\",{\"class\":\"pull-left subtitle text-capitalize\"})"
   ]
  },
  {
   "cell_type": "code",
   "execution_count": 12,
   "metadata": {},
   "outputs": [
    {
     "data": {
      "text/plain": [
       "[<span class=\"pull-left subtitle text-capitalize\">\n",
       "                                     Buyer From\n",
       "                                             Saudi Arabia\n",
       "     </span>, <span class=\"pull-left subtitle text-capitalize\">\n",
       "                                     Buyer From\n",
       "                                             Italy\n",
       "     </span>, <span class=\"pull-left subtitle text-capitalize\">\n",
       "                                     Buyer From\n",
       "                                             Spain\n",
       "     </span>, <span class=\"pull-left subtitle text-capitalize\">\n",
       "                                     Buyer From\n",
       "                                             United Arab Emirates\n",
       "     </span>, <span class=\"pull-left subtitle text-capitalize\">\n",
       "                                     Buyer From\n",
       "                                         Jakarta,\n",
       "                         Indonesia\n",
       "     </span>, <span class=\"pull-left subtitle text-capitalize\">\n",
       "                                     Buyer From\n",
       "                                         Newbury Park,\n",
       "                             Ca,\n",
       "                 United States\n",
       "     </span>, <span class=\"pull-left subtitle text-capitalize\">\n",
       "                                     Buyer From\n",
       "                                         Bandung,\n",
       "                             Jawa Barat,\n",
       "                 Indonesia\n",
       "     </span>, <span class=\"pull-left subtitle text-capitalize\">\n",
       "                                     Buyer From\n",
       "                                             United Arab Emirates\n",
       "     </span>, <span class=\"pull-left subtitle text-capitalize\">\n",
       "                                     Buyer From\n",
       "                                             United States\n",
       "     </span>, <span class=\"pull-left subtitle text-capitalize\">\n",
       "                                     Buyer From\n",
       "                                             Hong Kong\n",
       "     </span>, <span class=\"pull-left subtitle text-capitalize\">\n",
       "                                     Buyer From\n",
       "                                             Kuwait\n",
       "     </span>, <span class=\"pull-left subtitle text-capitalize\">\n",
       "                                     Buyer From\n",
       "                                             Australia\n",
       "     </span>, <span class=\"pull-left subtitle text-capitalize\">\n",
       "                                     Buyer From\n",
       "                                             United Kingdom\n",
       "     </span>, <span class=\"pull-left subtitle text-capitalize\">\n",
       "                                     Buyer From\n",
       "                                             Switzerland\n",
       "     </span>, <span class=\"pull-left subtitle text-capitalize\">\n",
       "                                     Buyer From\n",
       "                                             United States\n",
       "     </span>, <span class=\"pull-left subtitle text-capitalize\">\n",
       "                                     Buyer From\n",
       "                                             China\n",
       "     </span>, <span class=\"pull-left subtitle text-capitalize\">\n",
       "                                     Buyer From\n",
       "                                             Taiwan\n",
       "     </span>, <span class=\"pull-left subtitle text-capitalize\">\n",
       "                                     Buyer From\n",
       "                                             Georgia\n",
       "     </span>, <span class=\"pull-left subtitle text-capitalize\">\n",
       "                                     Buyer From\n",
       "                                             Belarus\n",
       "     </span>, <span class=\"pull-left subtitle text-capitalize\">\n",
       "                                     Buyer From\n",
       "                                             Jordan\n",
       "     </span>]"
      ]
     },
     "execution_count": 12,
     "metadata": {},
     "output_type": "execute_result"
    }
   ],
   "source": []
  },
  {
   "cell_type": "code",
   "execution_count": 13,
   "metadata": {},
   "outputs": [],
   "source": [
    "desctag=soup.find_all(\"div\",{\"class\":\"col-xs-12 entity-row-description-search xs-padd-lr-5\"})"
   ]
  },
  {
   "cell_type": "code",
   "execution_count": 15,
   "metadata": {},
   "outputs": [
    {
     "data": {
      "text/plain": [
       "[<div class=\"col-xs-12 entity-row-description-search xs-padd-lr-5\">\n",
       " <p>\n",
       "             Please provide quotation to the following requirement from importer -\n",
       " \n",
       " Product Name : Arabica Coffee Beans\n",
       " \n",
       " Specifications :\n",
       " - Grade : 4\n",
       " \n",
       " Quantity Required : 1 X 20'FCL Per Month\n",
       " \n",
       " Shipping Terms : CIF\n",
       " \n",
       " Destination Port : Jeddah\n",
       " \n",
       " Payment Terms : L/C\n",
       " \n",
       " Looking for suppliers from : Worldwide\n",
       " \n",
       " \n",
       " Contact : Ahmed Altouki\n",
       "         </p>\n",
       " </div>, <div class=\"col-xs-12 entity-row-description-search xs-padd-lr-5\">\n",
       " <p>\n",
       "             Please quote for the following wholesale product requirement -\n",
       " \n",
       " Product Name : Green Coffee Beans\n",
       " \n",
       " Specifications :\n",
       " Maturity : Good\n",
       " Shelf Life : 6 Months\n",
       " Variety : Robusta Cherry\n",
       " \n",
       " Quantity Required : 1 - 5 Tons\n",
       " \n",
       " Shipping Terms : FOB\n",
       " \n",
       " Payment Term : To be discussed with suppliers\n",
       " \n",
       " Destination Port : Italy\n",
       " \n",
       " Looking for suppliers from : India Only\n",
       " \n",
       " \n",
       " Contact : Elisa\n",
       "         </p>\n",
       " </div>, <div class=\"col-xs-12 entity-row-description-search xs-padd-lr-5\">\n",
       " <p>\n",
       "             Buyer is interested to receive quotations for the following RFQ -\n",
       " \n",
       " Product Name : Green Coffee Beans\n",
       " \n",
       " Specifications :\n",
       " Variety : Arabica, Robusta, Etc.\n",
       " Packaging : Bags\n",
       " Type : Green Coffee Only\n",
       " \n",
       " Quantity Required : 1000 Kg.\n",
       " \n",
       " Shipping Terms : FOB \n",
       " \n",
       " Destination Port : Spain\n",
       " \n",
       " Payment Terms : To be discussed with suppliers\n",
       " \n",
       " Looking for suppliers from : India Only\n",
       " \n",
       " \n",
       " Contact : Oliver\n",
       "         </p>\n",
       " </div>, <div class=\"col-xs-12 entity-row-description-search xs-padd-lr-5\">\n",
       " <p>\n",
       "             Please quote for the following wholesale product requirement -\n",
       " \n",
       " Product Name : Brazilian And Columbia Coffee Beans\n",
       " \n",
       " Specifications : \n",
       " - Variety : Arabica, Robusta \n",
       " \n",
       " Quantity Required : 1 Container\n",
       " \n",
       " Shipping Terms : CIF\n",
       " \n",
       " Destination Port : Iraq\n",
       " \n",
       " Payment Terms : To be discussed with suppliers\n",
       " \n",
       " Looking for suppliers from : Worldwide\n",
       " \n",
       " \n",
       " Contact : Ahmed\n",
       "         </p>\n",
       " </div>, <div class=\"col-xs-12 entity-row-description-search xs-padd-lr-5\">\n",
       " <p>\n",
       "             Instant food spices, food condiments, seasoning flour, spiced flour, mayonnaise, ginseng coffee, pan cake, pudding, betel nut, coconut virgin oil, brown coconut granule, chicken flour, agar agar, soup cream, balacan, terasi, shrimp paste\n",
       "         </p>\n",
       " </div>, <div class=\"col-xs-12 entity-row-description-search xs-padd-lr-5\">\n",
       " <p>\n",
       "             Pure avocado oil, haas avocado, persa lemon, medium roasted coffee\n",
       "         </p>\n",
       " </div>, <div class=\"col-xs-12 entity-row-description-search xs-padd-lr-5\">\n",
       " <p>\n",
       "             Green coffee bean, durian, manggis, gambir, betel nut\n",
       "         </p>\n",
       " </div>, <div class=\"col-xs-12 entity-row-description-search xs-padd-lr-5\">\n",
       " <p>\n",
       "             Please quote for the following wholesale product requirement -\n",
       " \n",
       " Product Name : Indian Coffee  \n",
       " \n",
       " Specifications :\n",
       " Type : Green Coffee\n",
       " Grade : AA\n",
       " \n",
       " Quantity Required : 1 X 40' Feet Containers\n",
       " \n",
       " Shipping Terms : CIF\n",
       " \n",
       " Destination Port : Jebel Ali Port, U.A.E\n",
       " \n",
       " Payment Terms : L/C\n",
       " \n",
       " Looking for suppliers from : India\n",
       " \n",
       " \n",
       " Contact : Moncef\n",
       "         </p>\n",
       " </div>, <div class=\"col-xs-12 entity-row-description-search xs-padd-lr-5\">\n",
       " <p>\n",
       "             Please quote for the following wholesale product requirement -\n",
       " \n",
       " Product Name : Nescafe Coffee\n",
       " \n",
       " Specifications :\n",
       " Type : Instant Coffee\n",
       " Packaging in 200 Grams\n",
       " \n",
       " Quantity Required : 100 Cartons\n",
       " \n",
       " Shipping Terms : FOB\n",
       " \n",
       " Payment Terms : To Be Discussed With Suppliers\n",
       " \n",
       " Looking For Suppliers From : India\n",
       " \n",
       " \n",
       " Contact : Raghu Babu\n",
       "         </p>\n",
       " </div>, <div class=\"col-xs-12 entity-row-description-search xs-padd-lr-5\">\n",
       " <p>\n",
       "             The buyer would like to receive quotations for -\n",
       " \n",
       " Product Name : Indonesian Origin Nescafe Coffee\n",
       " \n",
       " Quantity Required : 3200 Carton\n",
       " \n",
       " Shipping Terms : CIF\n",
       " \n",
       " Destination Port : Hong Kong\n",
       " \n",
       " Payment Terms : L/C\n",
       " \n",
       " Packaging Term : 12 Jar x200gm /carton\n",
       " \n",
       " Looking For Suppliers From : Worldwide\n",
       " \n",
       " Contact : Akil Khan\n",
       "         </p>\n",
       " </div>, <div class=\"col-xs-12 entity-row-description-search xs-padd-lr-5\">\n",
       " <p>\n",
       "             Please quote for the following wholesale product requirement -\n",
       " \n",
       " Product Name : Nescafe Protect Proslim\n",
       " \n",
       " Specifications :\n",
       " Taste : Sweet\n",
       " Feature: Normal\n",
       " Packing : The Supplier Can Provide The Available Packets With Quotations \n",
       " The Product Must Be Halal\n",
       " \n",
       " Quantity Required : 500 Boxes\n",
       " \n",
       " Shipping Terms : FOB\n",
       " \n",
       " Payment Terms : To be discussed with suppliers\n",
       " \n",
       " Destination Port : Kuwait\n",
       " \n",
       " Looking for suppliers from : Worldwide mainly Thailand\n",
       " \n",
       " \n",
       " Contact : Eiman kanfoush\n",
       "         </p>\n",
       " </div>, <div class=\"col-xs-12 entity-row-description-search xs-padd-lr-5\">\n",
       " <p>\n",
       "             Please provide quotation to the following requirement from importer -\n",
       " \n",
       " Product Name : Fruit Flavor Costa Rican Coffee\n",
       " \n",
       " Specifications :\n",
       " Type : Bean\n",
       " Grounded\n",
       " Packaging Terms : 500 Gram Packet\n",
       " \n",
       " Quantity Required : 5 kg As Sample, Later On 500 - 1000 kg\n",
       " \n",
       " Shipping Terms : CIF\n",
       " \n",
       " Destination Port : Australia\n",
       " \n",
       " Payment Terms : L/C\n",
       " \n",
       " Looking For Suppliers From : Worldwide\n",
       " \n",
       " \n",
       " Contact : John Kim\n",
       "         </p>\n",
       " </div>, <div class=\"col-xs-12 entity-row-description-search xs-padd-lr-5\">\n",
       " <p>\n",
       "             Buyer is interested to receive quotations for the following RFQ -\n",
       " \n",
       " Product Name : Jacobs Kronung Coffee \n",
       " \n",
       " Specifications :\n",
       " Organic Coffee\n",
       " \n",
       " Quantity Required : 5-10 pellet a week \n",
       " \n",
       " Shipping Terms : CIF\n",
       " \n",
       " Destination Port : United Kingdom\n",
       " \n",
       " Payment Terms : L/C\n",
       " \n",
       " Packaging Term : 750 gram\n",
       " \n",
       " Looking For Suppliers From : Worldwide\n",
       " \n",
       " Contact : Bashdar Hilmi\n",
       "         </p>\n",
       " </div>, <div class=\"col-xs-12 entity-row-description-search xs-padd-lr-5\">\n",
       " <p>\n",
       "             Please provide quotation to the following requirement from importer -\n",
       " \n",
       " Product Name : Dried Instant Coffee\n",
       " \n",
       " Specifications :\n",
       " Style : Spray Dried, Freeze Dry\n",
       " Certification : Kosher\n",
       " Packaging : 25 Kg Bags\n",
       " \n",
       " Quantity Required : 1 X 40' FCL\n",
       " \n",
       " Shipping Terms : FOB\n",
       " \n",
       " Destination Port : Antwerp, Switzerland\n",
       " \n",
       " Payment Terms : CAD\n",
       " \n",
       " Looking for suppliers from : Worldwide\n",
       " \n",
       " \n",
       " Contact : Emme\n",
       "         </p>\n",
       " </div>, <div class=\"col-xs-12 entity-row-description-search xs-padd-lr-5\">\n",
       " <p>\n",
       "             The buyer would like to receive quotations for -\n",
       " \n",
       " Product Name : Coffee\n",
       " \n",
       " Specifications :\n",
       " Type : Arabica And Robusta Green \n",
       " Maturity : Full\n",
       " Packaging Terms : 50 Kg Bags\n",
       " FDA Approved \n",
       " Manufacturers Only \n",
       " \n",
       " Quantity Required : 1 X 40' FCL\n",
       " \n",
       " Shipping Terms : CIF    \n",
       " \n",
       " Destination Port : Puerto Rico \n",
       " \n",
       " Payment Terms : L/C\n",
       " \n",
       " Looking For Suppliers From : Worldwide\n",
       " \n",
       " \n",
       " Contact : Ricardo Llerandi\n",
       "         </p>\n",
       " </div>, <div class=\"col-xs-12 entity-row-description-search xs-padd-lr-5\">\n",
       " <p>\n",
       "             Buyer is interested to receive quotations for the following RFQ -\n",
       " \n",
       " Product Name : Pokka Milk Coffee In Cans\n",
       " \n",
       " Specifications :\n",
       " Real Brand : Pokka\n",
       " Packaging Terms : 240 ML Cans \n",
       " \n",
       " Quantity Required : 1 Container \n",
       " \n",
       " Shipping Terms : CIF\n",
       " \n",
       " Destination Port : Dalian, China \n",
       " \n",
       " Payment Terms : L/C Or T/T\n",
       " \n",
       " Looking For Suppliers From : Singapore\n",
       " \n",
       " \n",
       " Contact : Eugene\n",
       "         </p>\n",
       " </div>, <div class=\"col-xs-12 entity-row-description-search xs-padd-lr-5\">\n",
       " <p>\n",
       "             Please quote for the following wholesale product requirement -\n",
       " \n",
       " Product Name : Freeze Dried Coffee\n",
       " \n",
       " Specifications :  \n",
       " A Grade Quality \n",
       " Standard Specification \n",
       " \n",
       " Quantity Required : About 1'20 feet container \n",
       " \n",
       " Shipping Term : FOB or CIF\n",
       " \n",
       " Destination Port : Taipei Port, Taiwan\n",
       " \n",
       " Payment Terms : L/C\n",
       " \n",
       " Looking For Suppliers From : Worldwide\n",
       " \n",
       " Contact : Velly Pikn\n",
       "         </p>\n",
       " </div>, <div class=\"col-xs-12 entity-row-description-search xs-padd-lr-5\">\n",
       " <p>\n",
       "             Please provide quotation to the following requirement from importer -\n",
       " \n",
       " Product Name : Instant Coffee\n",
       " \n",
       " Specifications :\n",
       " Type : Instant And Cold Coffee \n",
       " Packing In Tins\n",
       " \n",
       " Quantity Required : 1X20' FCL\n",
       " \n",
       " Shipping Terms : CIF\n",
       " \n",
       " Destination Port : Poti, Georgia\n",
       " \n",
       " Payment Terms : L/C \n",
       " \n",
       " Looking for suppliers from : Turkey\n",
       " \n",
       " \n",
       " Contact : Levani Merkvilaze\n",
       "         </p>\n",
       " </div>, <div class=\"col-xs-12 entity-row-description-search xs-padd-lr-5\">\n",
       " <p>\n",
       "             Please quote for the following wholesale product requirement -\n",
       " \n",
       " Product Name : Arabica And Robusta Coffee\n",
       " \n",
       " Specifications :  \n",
       " Origin: India &amp; Brazil\n",
       " Type : Arabica &amp; Robusta\n",
       " Packaging : 1/5/10 Kgs PP bag\n",
       " \n",
       " Quantity Required : 1x20' FCL\n",
       " \n",
       " Shipping Term : CIF\n",
       " \n",
       " Destination Port : Minsk, Belarus\n",
       " \n",
       " Payment Terms : 30 Days after shipment or To Be Discussed With The Supplier\n",
       " \n",
       " Looking For Suppliers From : India, Brazil\n",
       " \n",
       " Contact : Maria\n",
       "         </p>\n",
       " </div>, <div class=\"col-xs-12 entity-row-description-search xs-padd-lr-5\">\n",
       " <p>\n",
       "             Buyer is interested to receive quotations for the following RFQ -\n",
       " \n",
       " Product Name : Instant Coffee\n",
       " \n",
       " Specifications : \n",
       " Type : Instant and cold coffee\n",
       " Flavor : Nut \n",
       " Flavor : Chocolate\n",
       " \n",
       " Quantity Required : 1x20' FCL \n",
       " \n",
       " Shipping Terms : FOB\n",
       " \n",
       " Payment Terms : L/C\n",
       " \n",
       " Looking For Suppliers From : Only From Europe\n",
       " \n",
       " Contact : Hussein Jaradat\n",
       "         </p>\n",
       " </div>]"
      ]
     },
     "execution_count": 15,
     "metadata": {},
     "output_type": "execute_result"
    }
   ],
   "source": [
    "desctag"
   ]
  },
  {
   "cell_type": "code",
   "execution_count": 16,
   "metadata": {},
   "outputs": [],
   "source": [
    "datetage=soup.find_all(\"div\",{\"class\":\"col-xs-3 col-sm-2 xs-padd-lr-2 nopadding\"})"
   ]
  },
  {
   "cell_type": "code",
   "execution_count": 21,
   "metadata": {},
   "outputs": [],
   "source": [
    "for i in datetage:\n",
    "    small=i.find(\"small\")\n",
    "    date.append(small.text)"
   ]
  },
  {
   "cell_type": "code",
   "execution_count": 23,
   "metadata": {},
   "outputs": [
    {
     "data": {
      "text/plain": [
       "[' Jul-04-18 ',\n",
       " ' Jul-04-18 ',\n",
       " ' Jul-02-18 ',\n",
       " ' Jun-29-18 ',\n",
       " ' Jul-16-18 ',\n",
       " ' Jul-24-18 ',\n",
       " ' Jul-17-18 ',\n",
       " ' Jun-27-18 ',\n",
       " ' Jun-27-18 ',\n",
       " ' Jun-25-18 ',\n",
       " ' Jun-25-18 ',\n",
       " ' Jun-22-18 ',\n",
       " ' Jun-11-18 ',\n",
       " ' Jun-11-18 ',\n",
       " ' Jun-06-18 ',\n",
       " ' Jun-04-18 ',\n",
       " ' Jun-01-18 ',\n",
       " ' May-24-18 ',\n",
       " ' May-18-18 ',\n",
       " ' May-18-18 ']"
      ]
     },
     "execution_count": 23,
     "metadata": {},
     "output_type": "execute_result"
    }
   ],
   "source": [
    "date"
   ]
  },
  {
   "cell_type": "code",
   "execution_count": 24,
   "metadata": {},
   "outputs": [],
   "source": [
    "desc=[]"
   ]
  },
  {
   "cell_type": "code",
   "execution_count": 26,
   "metadata": {},
   "outputs": [],
   "source": [
    "for i in desctag:\n",
    "    p = i.find(\"p\")\n",
    "    desc.append(p.text)"
   ]
  },
  {
   "cell_type": "code",
   "execution_count": 28,
   "metadata": {},
   "outputs": [
    {
     "data": {
      "text/plain": [
       "[\"\\n            Please provide quotation to the following requirement from importer -\\n\\nProduct Name : Arabica Coffee Beans\\n\\nSpecifications :\\n- Grade : 4\\n\\nQuantity Required : 1 X 20'FCL Per Month\\n\\nShipping Terms : CIF\\n\\nDestination Port : Jeddah\\n\\nPayment Terms : L/C\\n\\nLooking for suppliers from : Worldwide\\n\\n\\nContact : Ahmed Altouki\\n        \",\n",
       " '\\n            Please quote for the following wholesale product requirement -\\n\\nProduct Name : Green Coffee Beans\\n\\nSpecifications :\\nMaturity : Good\\nShelf Life : 6 Months\\nVariety : Robusta Cherry\\n\\nQuantity Required : 1 - 5 Tons\\n\\nShipping Terms : FOB\\n\\nPayment Term : To be discussed with suppliers\\n\\nDestination Port : Italy\\n\\nLooking for suppliers from : India Only\\n\\n\\nContact : Elisa\\n        ',\n",
       " '\\n            Buyer is interested to receive quotations for the following RFQ -\\n\\nProduct Name : Green Coffee Beans\\n\\nSpecifications :\\nVariety : Arabica, Robusta, Etc.\\nPackaging : Bags\\nType : Green Coffee Only\\n\\nQuantity Required : 1000 Kg.\\n\\nShipping Terms : FOB \\n\\nDestination Port : Spain\\n\\nPayment Terms : To be discussed with suppliers\\n\\nLooking for suppliers from : India Only\\n\\n\\nContact : Oliver\\n        ',\n",
       " '\\n            Please quote for the following wholesale product requirement -\\n\\nProduct Name : Brazilian And Columbia Coffee Beans\\n\\nSpecifications : \\n- Variety : Arabica, Robusta \\n\\nQuantity Required : 1 Container\\n\\nShipping Terms : CIF\\n\\nDestination Port : Iraq\\n\\nPayment Terms : To be discussed with suppliers\\n\\nLooking for suppliers from : Worldwide\\n\\n\\nContact : Ahmed\\n        ',\n",
       " '\\n            Instant food spices, food condiments, seasoning flour, spiced flour, mayonnaise, ginseng coffee, pan cake, pudding, betel nut, coconut virgin oil, brown coconut granule, chicken flour, agar agar, soup cream, balacan, terasi, shrimp paste\\n        ',\n",
       " '\\n            Pure avocado oil, haas avocado, persa lemon, medium roasted coffee\\n        ',\n",
       " '\\n            Green coffee bean, durian, manggis, gambir, betel nut\\n        ',\n",
       " \"\\n            Please quote for the following wholesale product requirement -\\n\\nProduct Name : Indian Coffee  \\n\\nSpecifications :\\nType : Green Coffee\\nGrade : AA\\n\\nQuantity Required : 1 X 40' Feet Containers\\n\\nShipping Terms : CIF\\n\\nDestination Port : Jebel Ali Port, U.A.E\\n\\nPayment Terms : L/C\\n\\nLooking for suppliers from : India\\n\\n\\nContact : Moncef\\n        \",\n",
       " '\\n            Please quote for the following wholesale product requirement -\\n\\nProduct Name : Nescafe Coffee\\n\\nSpecifications :\\nType : Instant Coffee\\nPackaging in 200 Grams\\n\\nQuantity Required : 100 Cartons\\n\\nShipping Terms : FOB\\n\\nPayment Terms : To Be Discussed With Suppliers\\n\\nLooking For Suppliers From : India\\n\\n\\nContact : Raghu Babu\\n        ',\n",
       " '\\n            The buyer would like to receive quotations for -\\n\\nProduct Name : Indonesian Origin Nescafe Coffee\\n\\nQuantity Required : 3200 Carton\\n\\nShipping Terms : CIF\\n\\nDestination Port : Hong Kong\\n\\nPayment Terms : L/C\\n\\nPackaging Term : 12 Jar x200gm /carton\\n\\nLooking For Suppliers From : Worldwide\\n\\nContact : Akil Khan\\n        ',\n",
       " '\\n            Please quote for the following wholesale product requirement -\\n\\nProduct Name : Nescafe Protect Proslim\\n\\nSpecifications :\\nTaste : Sweet\\nFeature: Normal\\nPacking : The Supplier Can Provide The Available Packets With Quotations \\nThe Product Must Be Halal\\n\\nQuantity Required : 500 Boxes\\n\\nShipping Terms : FOB\\n\\nPayment Terms : To be discussed with suppliers\\n\\nDestination Port : Kuwait\\n\\nLooking for suppliers from : Worldwide mainly Thailand\\n\\n\\nContact : Eiman kanfoush\\n        ',\n",
       " '\\n            Please provide quotation to the following requirement from importer -\\n\\nProduct Name : Fruit Flavor Costa Rican Coffee\\n\\nSpecifications :\\nType : Bean\\nGrounded\\nPackaging Terms : 500 Gram Packet\\n\\nQuantity Required : 5 kg As Sample, Later On 500 - 1000 kg\\n\\nShipping Terms : CIF\\n\\nDestination Port : Australia\\n\\nPayment Terms : L/C\\n\\nLooking For Suppliers From : Worldwide\\n\\n\\nContact : John Kim\\n        ',\n",
       " '\\n            Buyer is interested to receive quotations for the following RFQ -\\n\\nProduct Name : Jacobs Kronung Coffee \\n\\nSpecifications :\\nOrganic Coffee\\n\\nQuantity Required : 5-10 pellet a week \\n\\nShipping Terms : CIF\\n\\nDestination Port : United Kingdom\\n\\nPayment Terms : L/C\\n\\nPackaging Term : 750 gram\\n\\nLooking For Suppliers From : Worldwide\\n\\nContact : Bashdar Hilmi\\n        ',\n",
       " \"\\n            Please provide quotation to the following requirement from importer -\\n\\nProduct Name : Dried Instant Coffee\\n\\nSpecifications :\\nStyle : Spray Dried, Freeze Dry\\nCertification : Kosher\\nPackaging : 25 Kg Bags\\n\\nQuantity Required : 1 X 40' FCL\\n\\nShipping Terms : FOB\\n\\nDestination Port : Antwerp, Switzerland\\n\\nPayment Terms : CAD\\n\\nLooking for suppliers from : Worldwide\\n\\n\\nContact : Emme\\n        \",\n",
       " \"\\n            The buyer would like to receive quotations for -\\n\\nProduct Name : Coffee\\n\\nSpecifications :\\nType : Arabica And Robusta Green \\nMaturity : Full\\nPackaging Terms : 50 Kg Bags\\nFDA Approved \\nManufacturers Only \\n\\nQuantity Required : 1 X 40' FCL\\n\\nShipping Terms : CIF    \\n\\nDestination Port : Puerto Rico \\n\\nPayment Terms : L/C\\n\\nLooking For Suppliers From : Worldwide\\n\\n\\nContact : Ricardo Llerandi\\n        \",\n",
       " '\\n            Buyer is interested to receive quotations for the following RFQ -\\n\\nProduct Name : Pokka Milk Coffee In Cans\\n\\nSpecifications :\\nReal Brand : Pokka\\nPackaging Terms : 240 ML Cans \\n\\nQuantity Required : 1 Container \\n\\nShipping Terms : CIF\\n\\nDestination Port : Dalian, China \\n\\nPayment Terms : L/C Or T/T\\n\\nLooking For Suppliers From : Singapore\\n\\n\\nContact : Eugene\\n        ',\n",
       " \"\\n            Please quote for the following wholesale product requirement -\\n\\nProduct Name : Freeze Dried Coffee\\n\\nSpecifications :  \\nA Grade Quality \\nStandard Specification \\n\\nQuantity Required : About 1'20 feet container \\n\\nShipping Term : FOB or CIF\\n\\nDestination Port : Taipei Port, Taiwan\\n\\nPayment Terms : L/C\\n\\nLooking For Suppliers From : Worldwide\\n\\nContact : Velly Pikn\\n        \",\n",
       " \"\\n            Please provide quotation to the following requirement from importer -\\n\\nProduct Name : Instant Coffee\\n\\nSpecifications :\\nType : Instant And Cold Coffee \\nPacking In Tins\\n\\nQuantity Required : 1X20' FCL\\n\\nShipping Terms : CIF\\n\\nDestination Port : Poti, Georgia\\n\\nPayment Terms : L/C \\n\\nLooking for suppliers from : Turkey\\n\\n\\nContact : Levani Merkvilaze\\n        \",\n",
       " \"\\n            Please quote for the following wholesale product requirement -\\n\\nProduct Name : Arabica And Robusta Coffee\\n\\nSpecifications :  \\nOrigin: India & Brazil\\nType : Arabica & Robusta\\nPackaging : 1/5/10 Kgs PP bag\\n\\nQuantity Required : 1x20' FCL\\n\\nShipping Term : CIF\\n\\nDestination Port : Minsk, Belarus\\n\\nPayment Terms : 30 Days after shipment or To Be Discussed With The Supplier\\n\\nLooking For Suppliers From : India, Brazil\\n\\nContact : Maria\\n        \",\n",
       " \"\\n            Buyer is interested to receive quotations for the following RFQ -\\n\\nProduct Name : Instant Coffee\\n\\nSpecifications : \\nType : Instant and cold coffee\\nFlavor : Nut \\nFlavor : Chocolate\\n\\nQuantity Required : 1x20' FCL \\n\\nShipping Terms : FOB\\n\\nPayment Terms : L/C\\n\\nLooking For Suppliers From : Only From Europe\\n\\nContact : Hussein Jaradat\\n        \"]"
      ]
     },
     "execution_count": 28,
     "metadata": {},
     "output_type": "execute_result"
    }
   ],
   "source": [
    "desc"
   ]
  },
  {
   "cell_type": "code",
   "execution_count": 31,
   "metadata": {},
   "outputs": [],
   "source": [
    "for i in buyname:\n",
    "    nameofbuy.append(i.text)"
   ]
  },
  {
   "cell_type": "code",
   "execution_count": 33,
   "metadata": {},
   "outputs": [
    {
     "data": {
      "text/plain": [
       "20"
      ]
     },
     "execution_count": 33,
     "metadata": {},
     "output_type": "execute_result"
    }
   ],
   "source": [
    "len(nameofbuy)"
   ]
  },
  {
   "cell_type": "code",
   "execution_count": 35,
   "metadata": {},
   "outputs": [],
   "source": [
    "for i in maindiv:\n",
    "    span=i.find(\"span\")\n",
    "    head.append(span.text)"
   ]
  },
  {
   "cell_type": "code",
   "execution_count": 36,
   "metadata": {},
   "outputs": [
    {
     "data": {
      "text/plain": [
       "17"
      ]
     },
     "execution_count": 36,
     "metadata": {},
     "output_type": "execute_result"
    }
   ],
   "source": [
    "len(head)"
   ]
  },
  {
   "cell_type": "code",
   "execution_count": 37,
   "metadata": {},
   "outputs": [
    {
     "data": {
      "text/plain": [
       "[' Wanted : Arabica Coffee Beans\\n ',\n",
       " ' Wanted : Green Coffee Beans\\n ',\n",
       " ' Wanted : Green Coffee Beans\\n ',\n",
       " ' Wanted : Brazilian And Columbia Coffee Beans\\n ',\n",
       " ' Wanted : Indian Green Coffee\\n ',\n",
       " ' Wanted : Nescafe Coffee\\n ',\n",
       " ' Wanted : Indonesian Origin Nescafe Coffee\\n ',\n",
       " ' Wanted : Nescafe Protect Proslim\\n ',\n",
       " ' Wanted : Fruit Flavor Costa Rican Coffee\\n ',\n",
       " ' Wanted : Jacobs Kronung Coffee\\n ',\n",
       " ' Wanted : Dried Instant Coffee\\n ',\n",
       " ' Wanted : Coffee\\n ',\n",
       " ' Wanted : Pokka Milk Coffee In Cans\\n ',\n",
       " ' Wanted : Freeze Dried Coffee\\n ',\n",
       " ' Wanted : Instant Coffee\\n ',\n",
       " ' Wanted : Arabica And Robusta Coffee\\n ',\n",
       " ' Wanted : Instant Coffee\\n ']"
      ]
     },
     "execution_count": 37,
     "metadata": {},
     "output_type": "execute_result"
    }
   ],
   "source": []
  },
  {
   "cell_type": "code",
   "execution_count": 38,
   "metadata": {},
   "outputs": [],
   "source": [
    "import numpy as np"
   ]
  },
  {
   "cell_type": "code",
   "execution_count": null,
   "metadata": {},
   "outputs": [],
   "source": [
    "\n"
   ]
  },
  {
   "cell_type": "code",
   "execution_count": 42,
   "metadata": {},
   "outputs": [],
   "source": [
    "a=10"
   ]
  },
  {
   "cell_type": "code",
   "execution_count": 43,
   "metadata": {},
   "outputs": [
    {
     "data": {
      "text/plain": [
       "int"
      ]
     },
     "execution_count": 43,
     "metadata": {},
     "output_type": "execute_result"
    }
   ],
   "source": [
    "type(a)"
   ]
  },
  {
   "cell_type": "code",
   "execution_count": 48,
   "metadata": {},
   "outputs": [
    {
     "name": "stdout",
     "output_type": "stream",
     "text": [
      "13.5\n"
     ]
    },
    {
     "ename": "ValueError",
     "evalue": "invalid literal for int() with base 10: '13.5'",
     "output_type": "error",
     "traceback": [
      "\u001b[1;31m---------------------------------------------------------------------------\u001b[0m",
      "\u001b[1;31mValueError\u001b[0m                                Traceback (most recent call last)",
      "\u001b[1;32m<ipython-input-48-c2df9e687944>\u001b[0m in \u001b[0;36m<module>\u001b[1;34m()\u001b[0m\n\u001b[0;32m      7\u001b[0m  \u001b[1;32melse\u001b[0m\u001b[1;33m:\u001b[0m\u001b[1;33m\u001b[0m\u001b[0m\n\u001b[0;32m      8\u001b[0m      \u001b[0mprint\u001b[0m\u001b[1;33m(\u001b[0m\u001b[1;34m\"This input is of type Float.\"\u001b[0m\u001b[1;33m)\u001b[0m\u001b[1;33m\u001b[0m\u001b[0m\n\u001b[1;32m----> 9\u001b[1;33m \u001b[0mmain\u001b[0m\u001b[1;33m(\u001b[0m\u001b[1;33m)\u001b[0m\u001b[1;33m\u001b[0m\u001b[0m\n\u001b[0m",
      "\u001b[1;32m<ipython-input-48-c2df9e687944>\u001b[0m in \u001b[0;36mmain\u001b[1;34m()\u001b[0m\n\u001b[0;32m      2\u001b[0m \u001b[1;33m\u001b[0m\u001b[0m\n\u001b[0;32m      3\u001b[0m  \u001b[1;31m# Write code here\u001b[0m\u001b[1;33m\u001b[0m\u001b[1;33m\u001b[0m\u001b[0m\n\u001b[1;32m----> 4\u001b[1;33m  \u001b[0minp\u001b[0m\u001b[1;33m=\u001b[0m\u001b[0mint\u001b[0m\u001b[1;33m(\u001b[0m\u001b[0minput\u001b[0m\u001b[1;33m(\u001b[0m\u001b[1;33m)\u001b[0m\u001b[1;33m)\u001b[0m\u001b[1;33m\u001b[0m\u001b[0m\n\u001b[0m\u001b[0;32m      5\u001b[0m  \u001b[1;32mif\u001b[0m \u001b[0mtype\u001b[0m\u001b[1;33m(\u001b[0m\u001b[0minp\u001b[0m\u001b[1;33m)\u001b[0m\u001b[1;33m==\u001b[0m\u001b[0mint\u001b[0m\u001b[1;33m:\u001b[0m\u001b[1;33m\u001b[0m\u001b[0m\n\u001b[0;32m      6\u001b[0m     \u001b[0mprint\u001b[0m\u001b[1;33m(\u001b[0m\u001b[1;34m\"This input is of type Integer.\"\u001b[0m\u001b[1;33m)\u001b[0m\u001b[1;33m\u001b[0m\u001b[0m\n",
      "\u001b[1;31mValueError\u001b[0m: invalid literal for int() with base 10: '13.5'"
     ]
    }
   ],
   "source": [
    "def main():\n",
    "\n",
    " # Write code here \n",
    " inp=int(input())\n",
    " if type(inp)==int:\n",
    "    print(\"This input is of type Integer.\")\n",
    " else:\n",
    "     print(\"This input is of type Float.\")\n",
    "main()\n",
    "\n"
   ]
  },
  {
   "cell_type": "code",
   "execution_count": 3,
   "metadata": {},
   "outputs": [],
   "source": [
    "import os\n",
    "from selenium import webdriver\n",
    "from bs4 import BeautifulSoup\n",
    "import numpy as np\n",
    "import pandas as pd\n",
    "\n",
    "driverLocation = r\"C://Users/arbaz/Downloads/chromedriver_win32/chromedriver.exe\"\n",
    "os.environ[\"webdriver.chrome.driver\"] = driverLocation\n",
    "driver = webdriver.Chrome(driverLocation)\n",
    "driver.get(\"https://www.tradeindia.com/design2017/search/es_search_action.html?keyword=candy&search_form_id=18\")\n",
    "\n",
    "html_doc = driver.page_source\n",
    "soup=BeautifulSoup(html_doc,'lxml')\n",
    "ul=soup.find_all(\"ul\",{\"class\":\"grid-view\"})\n",
    "for li in ul:\n",
    "    main=li.find(\"div\",{\"class\":\"prod-info\"})\n",
    "    name=main.find(\"span\",{\"class\":\"prod-title\"})\n",
    "    "
   ]
  },
  {
   "cell_type": "code",
   "execution_count": null,
   "metadata": {},
   "outputs": [],
   "source": []
  }
 ],
 "metadata": {
  "kernelspec": {
   "display_name": "Python 3",
   "language": "python",
   "name": "python3"
  },
  "language_info": {
   "codemirror_mode": {
    "name": "ipython",
    "version": 3
   },
   "file_extension": ".py",
   "mimetype": "text/x-python",
   "name": "python",
   "nbconvert_exporter": "python",
   "pygments_lexer": "ipython3",
   "version": "3.5.5"
  }
 },
 "nbformat": 4,
 "nbformat_minor": 2
}
