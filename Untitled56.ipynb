{
 "cells": [
  {
   "cell_type": "code",
   "execution_count": 1,
   "metadata": {},
   "outputs": [
    {
     "name": "stderr",
     "output_type": "stream",
     "text": [
      "C:\\Users\\arbaz\\Anaconda\\lib\\site-packages\\selenium\\webdriver\\phantomjs\\webdriver.py:49: UserWarning: Selenium support for PhantomJS has been deprecated, please use headless versions of Chrome or Firefox instead\n",
      "  warnings.warn('Selenium support for PhantomJS has been deprecated, please use headless '\n"
     ]
    }
   ],
   "source": [
    "\n"
   ]
  },
  {
   "cell_type": "code",
   "execution_count": 4,
   "metadata": {},
   "outputs": [
    {
     "name": "stderr",
     "output_type": "stream",
     "text": [
      "C:\\Users\\arbaz\\Anaconda\\lib\\site-packages\\selenium\\webdriver\\phantomjs\\webdriver.py:49: UserWarning: Selenium support for PhantomJS has been deprecated, please use headless versions of Chrome or Firefox instead\n",
      "  warnings.warn('Selenium support for PhantomJS has been deprecated, please use headless '\n"
     ]
    },
    {
     "name": "stdout",
     "output_type": "stream",
     "text": [
      "Bangladesh vs India,\n",
      "/live-cricket-scores/20048/ban-vs-ind-5th-match-india-and-bangladesh-in-sri-lanka-t20i-tri-series-2018\n",
      "Windies vs Afghanistan,\n",
      "/live-cricket-scores/20007/wi-vs-afg-super-sixes-match-1-icc-world-cup-qualifiers-2018\n",
      "United Arab Emirates vs Scotland,\n",
      "/live-cricket-scores/20009/uae-vs-sco-super-sixes-match-2-icc-world-cup-qualifiers-2018\n",
      "Netherlands vs Hong Kong,\n",
      "/live-cricket-scores/20008/ned-vs-hk-21st-match-play-off-icc-world-cup-qualifiers-2018\n",
      "Papua New Guinea vs Nepal,\n",
      "/live-cricket-scores/20010/png-vs-nep-22nd-match-play-off-icc-world-cup-qualifiers-2018\n",
      "Quetta Gladiators vs Lahore Qalandars,\n",
      "/live-cricket-scores/19384/qtg-vs-lhq-26th-match-pakistan-super-league-2018\n",
      "India Women vs Australia Women,\n",
      "/live-cricket-scores/20127/indw-vs-ausw-2nd-odi-icc-championship-match-australia-women-tour-of-india-2018\n",
      "New Zealand Women vs Windies Women,\n",
      "/live-cricket-scores/20056/nzw-vs-wiw-1st-t20i-windies-women-tour-of-new-zealand-2018\n",
      "New Zealand XI vs England,\n",
      "/live-cricket-scores/18618/nzxi-vs-eng-1st-2-day-practice-match-england-tour-of-new-zealand-2018\n",
      "Tasmania vs Victoria,\n",
      "/live-cricket-scores/18778/tas-vs-vic-28th-match-sheffield-shield-2017-18\n",
      "New South Wales vs Queensland,\n",
      "/live-cricket-scores/18779/nsw-vs-ql-29th-match-sheffield-shield-2017-18\n",
      "South Australia vs Western Australia,\n",
      "/live-cricket-scores/18780/saus-vs-wa-30th-match-sheffield-shield-2017-18\n",
      "Rest of India vs Vidarbha,\n",
      "/live-cricket-scores/19772/roi-vs-vidarbha-irani-cup-irani-cup-2018\n",
      "Cape Cobras vs Titans,\n",
      "/live-cricket-scores/19151/cob-vs-tit-25th-match-sunfoil-series-2017-18\n",
      "Warriors vs Knights,\n",
      "/live-cricket-scores/19152/war-vs-kng-26th-match-sunfoil-series-2017-18\n"
     ]
    }
   ],
   "source": [
    "import numpy as np\n",
    "from selenium import webdriver\n",
    "from bs4 import BeautifulSoup\n",
    "import pandas as pd\n",
    "driver = webdriver.PhantomJS(executable_path = r'C:\\Users\\arbaz\\Downloads\\phantomjs-2.1.1-windows\\phantomjs-2.1.1-windows\\bin\\phantomjs.exe')\n",
    "\n",
    "driver.get('http://www.cricbuzz.com/cricket-match/live-scores')\n",
    "\n",
    "html_doc = driver.page_source\n",
    "soup=BeautifulSoup(html_doc,'lxml')\n",
    "ul=soup.find(\"div\",{\"class\":\" cb-col-67 cb-col cb-left cb-schdl\"})\n",
    "ae=ul.find_all(\"a\",{\"class\":\"text-hvr-underline text-bold\"})\n",
    "live={}\n",
    "title=[]\n",
    "link=[]\n",
    "for i in ae:\n",
    "    title.append(i.text)\n",
    "    link.append(i['href'])\n",
    "    \n",
    "live=dict(zip(title,link))\n",
    "\n",
    "for keys,values in live.items():\n",
    "    print(keys)\n",
    "    print(values)\n"
   ]
  },
  {
   "cell_type": "code",
   "execution_count": 2,
   "metadata": {},
   "outputs": [
    {
     "name": "stderr",
     "output_type": "stream",
     "text": [
      "C:\\Users\\arbaz\\Anaconda\\lib\\site-packages\\selenium\\webdriver\\phantomjs\\webdriver.py:49: UserWarning: Selenium support for PhantomJS has been deprecated, please use headless versions of Chrome or Firefox instead\n",
      "  warnings.warn('Selenium support for PhantomJS has been deprecated, please use headless '\n"
     ]
    },
    {
     "ename": "TypeError",
     "evalue": "'int' object is not iterable",
     "output_type": "error",
     "traceback": [
      "\u001b[1;31m---------------------------------------------------------------------------\u001b[0m",
      "\u001b[1;31mTypeError\u001b[0m                                 Traceback (most recent call last)",
      "\u001b[1;32m<ipython-input-2-d6147f7b6537>\u001b[0m in \u001b[0;36m<module>\u001b[1;34m()\u001b[0m\n\u001b[0;32m     14\u001b[0m \u001b[0mb\u001b[0m\u001b[1;33m=\u001b[0m\u001b[1;33m[\u001b[0m\u001b[1;33m]\u001b[0m\u001b[1;33m\u001b[0m\u001b[0m\n\u001b[0;32m     15\u001b[0m \u001b[0mc\u001b[0m\u001b[1;33m=\u001b[0m\u001b[1;33m[\u001b[0m\u001b[1;33m]\u001b[0m\u001b[1;33m\u001b[0m\u001b[0m\n\u001b[1;32m---> 16\u001b[1;33m \u001b[1;32mfor\u001b[0m \u001b[0mn\u001b[0m\u001b[1;33m,\u001b[0m\u001b[0mi\u001b[0m \u001b[1;32min\u001b[0m \u001b[0menumerate\u001b[0m\u001b[1;33m(\u001b[0m\u001b[0mlen\u001b[0m\u001b[1;33m(\u001b[0m\u001b[0mcl\u001b[0m\u001b[1;33m)\u001b[0m\u001b[1;33m)\u001b[0m\u001b[1;33m:\u001b[0m\u001b[1;33m\u001b[0m\u001b[0m\n\u001b[0m\u001b[0;32m     17\u001b[0m \u001b[1;33m\u001b[0m\u001b[0m\n\u001b[0;32m     18\u001b[0m     \u001b[0mc\u001b[0m\u001b[1;33m.\u001b[0m\u001b[0mappend\u001b[0m\u001b[1;33m(\u001b[0m\u001b[0mn\u001b[0m\u001b[1;33m)\u001b[0m\u001b[1;33m\u001b[0m\u001b[0m\n",
      "\u001b[1;31mTypeError\u001b[0m: 'int' object is not iterable"
     ]
    }
   ],
   "source": [
    "import numpy as np\n",
    "from selenium import webdriver\n",
    "from bs4 import BeautifulSoup\n",
    "import pandas as pd\n",
    "driver = webdriver.PhantomJS(executable_path = r'C:\\Users\\arbaz\\Downloads\\phantomjs-2.1.1-windows\\phantomjs-2.1.1-windows\\bin\\phantomjs.exe')\n",
    "\n",
    "driver.get('http://www.cricbuzz.com/live-cricket-scores/19378/ms-vs-lhq-20th-match-pakistan-super-league-2018')\n",
    "\n",
    "html_doc = driver.page_source\n",
    "soup=BeautifulSoup(html_doc,'lxml')\n",
    "\n",
    "cl=soup.find_all(\"p\",{\"class\":\"cb-com-ln ng-binding cb-col cb-col-90\"})\n",
    "a={}\n",
    "b=[]\n",
    "c=[]\n",
    "for n,i in enumerate(len(cl)):\n",
    "    \n",
    "    c.append(n)\n",
    "    b.append(i)\n",
    "    \n",
    "a=dict(zip(b,c))\n",
    "print(a)\n",
    "\n"
   ]
  },
  {
   "cell_type": "code",
   "execution_count": 8,
   "metadata": {},
   "outputs": [
    {
     "name": "stderr",
     "output_type": "stream",
     "text": [
      "C:\\Users\\arbaz\\Anaconda\\lib\\site-packages\\selenium\\webdriver\\phantomjs\\webdriver.py:49: UserWarning: Selenium support for PhantomJS has been deprecated, please use headless versions of Chrome or Firefox instead\n",
      "  warnings.warn('Selenium support for PhantomJS has been deprecated, please use headless '\n"
     ]
    },
    {
     "name": "stdout",
     "output_type": "stream",
     "text": [
      "NLTC Perera to Mushfiqur Rahim, 1 run, a limping Mushfiqur pulls off a record chase for Bangladesh! He buries the ghost of Bangalore 2016. Look at him celebrating like a madman. Scenes at the Premadasa, He swipes his bat in the air and screams right in the face of Thisara. Mushfiq then brings out the nagin celebration, a la Nazmul Islam. How did he win it for Bangladesh? Low full-toss, angling in at off stump, he coolly flicks it away through the vacant spaces at midwicket. Heartbreak for Thisara and Sri Lanka\n"
     ]
    }
   ],
   "source": [
    "import numpy as np\n",
    "from selenium import webdriver\n",
    "from bs4 import BeautifulSoup\n",
    "import pandas as pd\n",
    "driver = webdriver.PhantomJS(executable_path = r'C:\\Users\\arbaz\\Downloads\\phantomjs-2.1.1-windows\\phantomjs-2.1.1-windows\\bin\\phantomjs.exe')\n",
    "\n",
    "driver.get('http://www.espncricinfo.com/series/18547/commentary/1133819/sri-lanka-vs-bangladesh-3rd-match-nidahas-trophy')\n",
    "\n",
    "html_doc = driver.page_source\n",
    "soup=BeautifulSoup(html_doc,'lxml')\n",
    "\n",
    "cl=soup.find(\"div\",{\"class\":\"commentary-item\"})\n",
    "wr=cl.find(\"div\",{\"class\":\"item-wrapper\"})\n",
    "desc=wr.find_all(\"div\",{\"class\":\"description\"})\n",
    "comm=[]\n",
    "for i in desc:\n",
    "    comm.append(i.text)\n",
    "    \n",
    "for i in range(len(comm)):\n",
    "    print(comm[i])\n"
   ]
  },
  {
   "cell_type": "code",
   "execution_count": null,
   "metadata": {
    "collapsed": true
   },
   "outputs": [],
   "source": []
  },
  {
   "cell_type": "code",
   "execution_count": null,
   "metadata": {
    "collapsed": true
   },
   "outputs": [],
   "source": []
  },
  {
   "cell_type": "code",
   "execution_count": null,
   "metadata": {
    "collapsed": true
   },
   "outputs": [],
   "source": []
  },
  {
   "cell_type": "code",
   "execution_count": null,
   "metadata": {
    "collapsed": true
   },
   "outputs": [],
   "source": []
  },
  {
   "cell_type": "code",
   "execution_count": null,
   "metadata": {
    "collapsed": true
   },
   "outputs": [],
   "source": []
  },
  {
   "cell_type": "code",
   "execution_count": null,
   "metadata": {
    "collapsed": true
   },
   "outputs": [],
   "source": []
  },
  {
   "cell_type": "code",
   "execution_count": null,
   "metadata": {
    "collapsed": true
   },
   "outputs": [],
   "source": []
  }
 ],
 "metadata": {
  "kernelspec": {
   "display_name": "Python 3",
   "language": "python",
   "name": "python3"
  },
  "language_info": {
   "codemirror_mode": {
    "name": "ipython",
    "version": 3
   },
   "file_extension": ".py",
   "mimetype": "text/x-python",
   "name": "python",
   "nbconvert_exporter": "python",
   "pygments_lexer": "ipython3",
   "version": "3.6.3"
  }
 },
 "nbformat": 4,
 "nbformat_minor": 2
}
