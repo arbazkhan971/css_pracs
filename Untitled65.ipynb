{
 "cells": [
  {
   "cell_type": "code",
   "execution_count": 1,
   "metadata": {},
   "outputs": [
    {
     "name": "stdout",
     "output_type": "stream",
     "text": [
      "[1, 0.6666666666666666, 1, 0.0, 1, 1, 1]\n",
      "55.333333333333336\n"
     ]
    }
   ],
   "source": [
    "w=[2,3,5,7,1,4,1]\n",
    "p=[10,5,15,7,6,18,3]\n",
    "m=15\n",
    "pw=[]\n",
    "for i in range(len(w)):\n",
    "    pw.append(p[i]/w[i])\n",
    "n=len(w)\n",
    "a=[]\n",
    "for i in range(n):\n",
    "    a.append(i)\n",
    "\n",
    "for i in range(n):\n",
    "    for j in range(n-1):\n",
    "        if(pw[j]<pw[j+1]):\n",
    "            pw[j],pw[j+1]=pw[j+1],pw[j]\n",
    "            p[j], p[j + 1] = p[j + 1], p[j]\n",
    "            w[j], w[j + 1] = w[j + 1], w[j]\n",
    "            a[j],a[j+1]=a[j+1],a[j]\n",
    "x=[]\n",
    "def knapsack():\n",
    "\n",
    "    for i in range(n):\n",
    "        x.append(0.0)\n",
    "    u=m\n",
    "    for i in range(n):\n",
    "        if(w[i]>u):\n",
    "            break\n",
    "\n",
    "        x[i]=1\n",
    "        u=u-w[i]\n",
    "    if(i<=n):\n",
    "           x[i]=u/w[i]\n",
    "    sum=0\n",
    "    for i in range(n):\n",
    "        sum=sum+x[i]*p[i]\n",
    "\n",
    "    for i in range(n):\n",
    "        for j in range(n-1):\n",
    "            if(a[j]>a[j+1]):\n",
    "                a[j], a[j + 1] = a[j + 1], a[j]\n",
    "                x[j], x[j + 1] = x[j + 1], x[j]\n",
    "\n",
    "\n",
    "    return sum\n",
    "\n",
    "knap=knapsack()\n",
    "print(x)\n",
    "print(knap)\n",
    "\n",
    "\n",
    "\n",
    "\n",
    "\n"
   ]
  },
  {
   "cell_type": "code",
   "execution_count": 3,
   "metadata": {},
   "outputs": [
    {
     "name": "stdout",
     "output_type": "stream",
     "text": [
      "sum and x list are 55.333333333333336 [1, 1, 1, 1, 1, 0.6666666666666666, 0.0]\n"
     ]
    }
   ],
   "source": [
    "w=[2,3,5,7,1,4,1]\n",
    "p=[10,5,15,7,6,18,3]\n",
    "m=15\n",
    "pw=[]\n",
    "for i in range(len(w)):\n",
    "    pw.append(p[i]/w[i])\n",
    "n=len(w)\n",
    "a=[]\n",
    "for i in range(n):\n",
    "    a.append(i)\n",
    "\n",
    "for i in range(n):\n",
    "    for j in range(n-1):\n",
    "        if(pw[j]<pw[j+1]):\n",
    "            pw[j],pw[j+1]=pw[j+1],pw[j]\n",
    "            p[j], p[j + 1] = p[j + 1], p[j]\n",
    "            w[j], w[j + 1] = w[j + 1], w[j]\n",
    "\n",
    "x=[]\n",
    "n=len(w)\n",
    "def knap():\n",
    "    for i in range(n):\n",
    "        x.append(0.0)\n",
    "    u=m\n",
    "    for i in range(n):\n",
    "        if(w[i]>u):\n",
    "            break\n",
    "        x[i]=1\n",
    "        u=u-w[i]\n",
    "    if(i<=n):\n",
    "        x[i]=u/w[i]\n",
    "    sum=0\n",
    "    for i in range(n):\n",
    "        sum+=x[i]*p[i]\n",
    "    return sum,x\n",
    "kn=knap()\n",
    "print(\"sum and x list are\",kn[0],kn[1])\n",
    "\n",
    "        \n",
    "        \n",
    "\n"
   ]
  },
  {
   "cell_type": "code",
   "execution_count": 7,
   "metadata": {},
   "outputs": [
    {
     "name": "stdout",
     "output_type": "stream",
     "text": [
      "ENter the number of nodes: 4\n",
      "0 1 1 0\n",
      "1 0 1 1\n",
      "1 1 0 1\n",
      "0 1 1 0\n",
      "Input:\n",
      "0 1 1 0 \n",
      "1 0 1 1 \n",
      "1 1 0 1 \n",
      "0 1 1 0 \n",
      "Ans:\n",
      "[1, 2, 3, 1]\n",
      "Ans:\n",
      "[1, 3, 2, 1]\n",
      "Ans:\n",
      "[2, 1, 3, 2]\n",
      "Ans:\n",
      "[2, 3, 1, 2]\n",
      "Ans:\n",
      "[3, 1, 2, 3]\n",
      "Ans:\n",
      "[3, 2, 1, 3]\n"
     ]
    }
   ],
   "source": [
    "m=3\n",
    "n=int(input(\"ENter the number of nodes: \"))\n",
    "# e=int(input(\"Enter the number of edges: \"))\n",
    "g=[[0 for i in range(n+1)] for j in range(n+1)]\n",
    "x1=[0 for i in range(n+1)]\n",
    "\n",
    "\n",
    "for i in range(1,n+1):\n",
    "    row = list(map(int, input().split()))\n",
    "    for j,x in enumerate(row):\n",
    "        g[i][j+1] = x\n",
    "\n",
    "print(\"Input:\")\n",
    "for i in range(1, n+1):\n",
    "    for j in range(1, n+1):\n",
    "        print(\"{} \".format(g[i][j]), end='')\n",
    "    print()\n",
    "    \n",
    "def mcoloring(k):\n",
    "    while(True):\n",
    "        nextValue(k)\n",
    "        if(x1[k]==0):\n",
    "            return\n",
    "        if(k==n):\n",
    "            print(\"Ans:\")\n",
    "            print(x1[1:])\n",
    "        else:\n",
    "            mcoloring(k+1)\n",
    "                \n",
    "\n",
    "def nextValue(k):\n",
    "    while(True):\n",
    "        x1[k]=((x1[k]+1)%(m+1))\n",
    "        if(x1[k]==0):\n",
    "            return\n",
    "        j = 1\n",
    "        while j<=n:\n",
    "            if (g[k][j]!=0) and (x1[k]==x1[j]):\n",
    "                break\n",
    "            j +=1 \n",
    "        if(j==n+1):\n",
    "                return\n",
    "\n",
    "             \n",
    "mcoloring(1)"
   ]
  },
  {
   "cell_type": "code",
   "execution_count": 17,
   "metadata": {},
   "outputs": [
    {
     "name": "stdout",
     "output_type": "stream",
     "text": [
      "enter a number of nodes4\n",
      "0 1 1 0\n",
      "1 0 1 1\n",
      "1 1 0 1\n",
      "0 1 1 0\n",
      "[[0, 1, 1, 0], [1, 0, 1, 1], [1, 1, 0, 1], [0, 1, 1, 0]]\n"
     ]
    },
    {
     "ename": "TypeError",
     "evalue": "'int' object is not subscriptable",
     "output_type": "error",
     "traceback": [
      "\u001b[1;31m---------------------------------------------------------------------------\u001b[0m",
      "\u001b[1;31mTypeError\u001b[0m                                 Traceback (most recent call last)",
      "\u001b[1;32m<ipython-input-17-9da24cd3abfd>\u001b[0m in \u001b[0;36m<module>\u001b[1;34m()\u001b[0m\n\u001b[0;32m     30\u001b[0m         \u001b[1;32mif\u001b[0m \u001b[0mj\u001b[0m\u001b[1;33m==\u001b[0m\u001b[0mn\u001b[0m\u001b[1;33m+\u001b[0m\u001b[1;36m1\u001b[0m\u001b[1;33m:\u001b[0m\u001b[1;33m\u001b[0m\u001b[0m\n\u001b[0;32m     31\u001b[0m             \u001b[1;32mreturn\u001b[0m\u001b[1;33m\u001b[0m\u001b[0m\n\u001b[1;32m---> 32\u001b[1;33m \u001b[0mmcoloring\u001b[0m\u001b[1;33m(\u001b[0m\u001b[1;36m1\u001b[0m\u001b[1;33m)\u001b[0m\u001b[1;33m\u001b[0m\u001b[0m\n\u001b[0m",
      "\u001b[1;32m<ipython-input-17-9da24cd3abfd>\u001b[0m in \u001b[0;36mmcoloring\u001b[1;34m(k)\u001b[0m\n\u001b[0;32m     10\u001b[0m \u001b[1;32mdef\u001b[0m \u001b[0mmcoloring\u001b[0m\u001b[1;33m(\u001b[0m\u001b[0mk\u001b[0m\u001b[1;33m)\u001b[0m\u001b[1;33m:\u001b[0m\u001b[1;33m\u001b[0m\u001b[0m\n\u001b[0;32m     11\u001b[0m     \u001b[1;32mwhile\u001b[0m\u001b[1;33m(\u001b[0m\u001b[1;32mTrue\u001b[0m\u001b[1;33m)\u001b[0m\u001b[1;33m:\u001b[0m\u001b[1;33m\u001b[0m\u001b[0m\n\u001b[1;32m---> 12\u001b[1;33m         \u001b[0mnextvalue\u001b[0m\u001b[1;33m(\u001b[0m\u001b[0mk\u001b[0m\u001b[1;33m)\u001b[0m\u001b[1;33m\u001b[0m\u001b[0m\n\u001b[0m\u001b[0;32m     13\u001b[0m         \u001b[1;32mif\u001b[0m\u001b[1;33m(\u001b[0m\u001b[0mx\u001b[0m\u001b[1;33m[\u001b[0m\u001b[0mk\u001b[0m\u001b[1;33m]\u001b[0m\u001b[1;33m==\u001b[0m\u001b[1;36m0\u001b[0m\u001b[1;33m)\u001b[0m\u001b[1;33m:\u001b[0m\u001b[1;33m\u001b[0m\u001b[0m\n\u001b[0;32m     14\u001b[0m             \u001b[1;32mreturn\u001b[0m\u001b[1;33m\u001b[0m\u001b[0m\n",
      "\u001b[1;32m<ipython-input-17-9da24cd3abfd>\u001b[0m in \u001b[0;36mnextvalue\u001b[1;34m(k)\u001b[0m\n\u001b[0;32m     20\u001b[0m \u001b[1;32mdef\u001b[0m \u001b[0mnextvalue\u001b[0m\u001b[1;33m(\u001b[0m\u001b[0mk\u001b[0m\u001b[1;33m)\u001b[0m\u001b[1;33m:\u001b[0m\u001b[1;33m\u001b[0m\u001b[0m\n\u001b[0;32m     21\u001b[0m     \u001b[1;32mwhile\u001b[0m\u001b[1;33m(\u001b[0m\u001b[1;32mTrue\u001b[0m\u001b[1;33m)\u001b[0m\u001b[1;33m:\u001b[0m\u001b[1;33m\u001b[0m\u001b[0m\n\u001b[1;32m---> 22\u001b[1;33m         \u001b[0mx\u001b[0m\u001b[1;33m[\u001b[0m\u001b[0mk\u001b[0m\u001b[1;33m]\u001b[0m\u001b[1;33m=\u001b[0m\u001b[1;33m(\u001b[0m\u001b[1;33m(\u001b[0m\u001b[0mx\u001b[0m\u001b[1;33m[\u001b[0m\u001b[0mk\u001b[0m\u001b[1;33m]\u001b[0m\u001b[1;33m+\u001b[0m\u001b[1;36m1\u001b[0m\u001b[1;33m)\u001b[0m\u001b[1;33m%\u001b[0m\u001b[1;33m(\u001b[0m\u001b[0mm\u001b[0m\u001b[1;33m+\u001b[0m\u001b[1;36m1\u001b[0m\u001b[1;33m)\u001b[0m\u001b[1;33m)\u001b[0m\u001b[1;33m\u001b[0m\u001b[0m\n\u001b[0m\u001b[0;32m     23\u001b[0m         \u001b[1;32mif\u001b[0m \u001b[0mx\u001b[0m\u001b[1;33m[\u001b[0m\u001b[0mk\u001b[0m\u001b[1;33m]\u001b[0m\u001b[1;33m==\u001b[0m\u001b[1;36m0\u001b[0m\u001b[1;33m:\u001b[0m\u001b[1;33m\u001b[0m\u001b[0m\n\u001b[0;32m     24\u001b[0m             \u001b[1;32mreturn\u001b[0m\u001b[1;33m\u001b[0m\u001b[0m\n",
      "\u001b[1;31mTypeError\u001b[0m: 'int' object is not subscriptable"
     ]
    }
   ],
   "source": [
    "n=int(input(\"enter a number of nodes\"))\n",
    "g=[[0 for i in range(n)] for j in range(n)]\n",
    "\n",
    "for i in range(n):\n",
    "   row=list(map(int,input().split()))\n",
    "   for j,x1 in enumerate(row):\n",
    "        g[i][j]=x1\n",
    "print(g)\n",
    "\n",
    "def mcoloring(k):\n",
    "    while(True):\n",
    "        nextvalue(k)\n",
    "        if(x[k]==0):\n",
    "            return\n",
    "        if k==n:\n",
    "            print(\"ans\")\n",
    "            print(x)\n",
    "        else:\n",
    "            mcoloring(k+1)\n",
    "def nextvalue(k):\n",
    "    while(True):\n",
    "        x[k]=((x[k]+1)%(m+1))\n",
    "        if x[k]==0:\n",
    "            return\n",
    "      \n",
    "        while(j<=n):\n",
    "            if(g[k][j]!=0 and x[k]==x[j]):\n",
    "                break\n",
    "            j=j+1\n",
    "        if j==n+1:\n",
    "            return\n",
    "mcoloring(1)"
   ]
  },
  {
   "cell_type": "code",
   "execution_count": 18,
   "metadata": {},
   "outputs": [
    {
     "name": "stdout",
     "output_type": "stream",
     "text": [
      "Enter the elements in array : 2 6 7 15\n",
      "Enter the required sum : 17\n",
      "Possible combinations are : \n",
      "[1, 0, 0, 1]\n"
     ]
    }
   ],
   "source": [
    "def sos(w, s, k, r, x):\n",
    "    x[k] = 1\n",
    "    if s + w[k] == m:\n",
    "        print(x)\n",
    "    elif s + w[k] + w[k + 1] <= m:\n",
    "        sos(w, s + w[k], k + 1, r - w[k], x)\n",
    "    if s + r - w[k] >= m >= s + w[k + 1]:\n",
    "        x[k] = 0\n",
    "        sos(w, s, k + 1, r - w[k], x)\n",
    "\n",
    "\n",
    "w = list(map(int, input(\"Enter the elements in array : \").split()))\n",
    "\n",
    "m = int(input(\"Enter the required sum : \"))\n",
    "print(\"Possible combinations are : \")\n",
    "sos(w, 0, 0, sum(w), [0 for i in w])"
   ]
  },
  {
   "cell_type": "code",
   "execution_count": 20,
   "metadata": {},
   "outputs": [
    {
     "name": "stdout",
     "output_type": "stream",
     "text": [
      "Enter the elements in array : 6 3 4 2 1 5\n",
      "Enter the required sum : 12\n",
      "Possible combinations are : \n",
      "[1, 0, 1, 1, 0, 0]\n",
      "[1, 0, 0, 0, 1, 1]\n",
      "[0, 1, 1, 0, 0, 1]\n",
      "[0, 0, 1, 1, 1, 1]\n"
     ]
    }
   ],
   "source": [
    "\n",
    "def sos(w, s, k, r, x):\n",
    "    x[k] = 1\n",
    "    if s + w[k] == m :\n",
    "        print(x)\n",
    "    elif s + w[k] + w[k+1] <= m:\n",
    "        sos(w, s+w[k], k+1, r-w[k], x)\n",
    "    if s + r - w[k] >= m and s+w[k+1] <= m:\n",
    "        x[k] = 0\n",
    "        sos(w, s, k+1, r-w[k], x)\n",
    "\n",
    "        \n",
    "        \n",
    "w = list(map(int, input(\"Enter the elements in array : \").split()))\n",
    "\n",
    "m = int(input(\"Enter the required sum : \"))\n",
    "print(\"Possible combinations are : \")\n",
    "sos(w, 0, 0, sum(w), [0 for i in w])"
   ]
  },
  {
   "cell_type": "code",
   "execution_count": 24,
   "metadata": {},
   "outputs": [
    {
     "name": "stdout",
     "output_type": "stream",
     "text": [
      "enter a total weight12\n",
      "6 3 4 1 2 5\n",
      "[1, 0, 1, 0, 1, 0]\n",
      "[1, 0, 0, 1, 0, 1]\n",
      "[0, 1, 1, 0, 0, 1]\n",
      "[0, 0, 1, 1, 1, 1]\n"
     ]
    }
   ],
   "source": [
    "def sos(w,s,k,r,x):\n",
    "    x[k]=1\n",
    "    if(s+w[k]==m):\n",
    "        print(x)\n",
    "    elif s+w[k]+w[k+1]<=m:\n",
    "        sos(w,s+w[k],k+1,r-w[k],x)\n",
    "    if s+r-w[k]>=m and s+w[k+1]<=m:\n",
    "        x[k]=0\n",
    "        sos(w,s,k+1,r-w[k],x)\n",
    "        \n",
    "m=int(input(\"enter a total weight\"))\n",
    "w=list(map(int,input().split()))\n",
    "\n",
    "sos(w,0,0,sum(w),[0 for i in w])\n",
    "   \n",
    "\n",
    "\n"
   ]
  },
  {
   "cell_type": "code",
   "execution_count": 25,
   "metadata": {},
   "outputs": [
    {
     "name": "stdout",
     "output_type": "stream",
     "text": [
      "enter any prime number91\n",
      "enter a original string that u want 3141592653589793\n",
      "enter a string that u want to match26\n",
      "number of occurance in a string [6]\n"
     ]
    },
    {
     "data": {
      "text/plain": [
       "'\\nenter any prime number91\\nenter a original string that u want 3141592653589793\\nenter a string that u want to match26\\nnumber of occurance in a string [6]\\n\\n'"
      ]
     },
     "execution_count": 25,
     "metadata": {},
     "output_type": "execute_result"
    }
   ],
   "source": [
    "def Rabin(text, pattern, d, q):\n",
    "    n = len(text)\n",
    "    m = len(pattern)\n",
    "    h = pow(d,m-1)%q\n",
    "    p = 0\n",
    "    t = 0\n",
    "    result = []\n",
    "    for i in range(m): \n",
    "        p = (d*p+ord(pattern[i]))%q\n",
    "        t = (d*t+ord(text[i]))%q\n",
    "    for s in range(n-m+1): \n",
    "        if p == t: \n",
    "            match = True\n",
    "            for i in range(m):\n",
    "                if pattern[i] != text[s+i]:\n",
    "                    match = False\n",
    "                    break\n",
    "            if match:\n",
    "                result = result + [s]\n",
    "        if s < n-m:\n",
    "            t = (t-h*ord(text[s]))%q \n",
    "            t = (t*d+ord(text[s+m]))%q \n",
    "            t = (t+q)%q \n",
    "    return result\n",
    "\n",
    "p=int(input(\"enter any prime number\"))\n",
    "og=input(\"enter a original string that u want \")\n",
    "ms=input(\"enter a string that u want to match\")\n",
    "\n",
    "print (\"number of occurance in a string {}\".format(Rabin (og, ms, p, 99999999)))\n",
    "\n",
    "\n",
    "\n",
    "\n",
    "\n",
    "\n",
    "\n",
    "\n",
    "\n",
    "\n",
    "\n",
    "\n",
    "\n",
    "\n",
    "\"\"\"\n",
    "enter any prime number91\n",
    "enter a original string that u want 3141592653589793\n",
    "enter a string that u want to match26\n",
    "number of occurance in a string [6]\n",
    "\n",
    "\"\"\"\n"
   ]
  },
  {
   "cell_type": "code",
   "execution_count": 1,
   "metadata": {},
   "outputs": [
    {
     "name": "stdout",
     "output_type": "stream",
     "text": [
      "the path is :  ['a', 'b', 'd', 'f', 'g']\n",
      "a -> 0\n",
      "b -> 15\n",
      "d -> 55\n",
      "f -> 65\n",
      "g -> 80\n"
     ]
    }
   ],
   "source": [
    "\n",
    "graph = {\"b\": {\"a\": 15, \"d\": 40},\n",
    "         \"a\": {\"b\": 15, \"c\": 35, \"e\": 20},\n",
    "         \"d\": {\"b\": 40, \"c\": 35, \"f\": 10},\n",
    "         \"c\": {\"a\": 7, \"d\": 35, \"e\": 10},\n",
    "         \"e\": {\"a\": 20, \"c\": 10, \"f\": 50, \"g\": 75},\n",
    "         \"f\": {\"d\": 10, \"e\": 50, \"g\": 15},\n",
    "         \"g\": {\"f\": 15, \"e\": 75}}\n",
    "\n",
    "def dijkstra(graph, start, goal):\n",
    "    shortest_distance = {}\n",
    "    predecessor = {}\n",
    "    unseenNodes = graph\n",
    "    infinity = 999\n",
    "    path = []\n",
    "\n",
    "    for node in unseenNodes:\n",
    "        shortest_distance[node] = infinity\n",
    "    shortest_distance[start] = 0\n",
    "\n",
    "    while unseenNodes:\n",
    "        minNode = None\n",
    "        for node in unseenNodes:\n",
    "            if minNode is None:\n",
    "                minNode = node\n",
    "            elif shortest_distance[node] < shortest_distance[minNode]:\n",
    "                minNode = node\n",
    "\n",
    "        for childNode, weight in graph[minNode].items():\n",
    "            if weight + shortest_distance[minNode] < shortest_distance[childNode]:\n",
    "                shortest_distance[childNode] = weight + shortest_distance[minNode]\n",
    "                predecessor[childNode] = minNode\n",
    "        unseenNodes.pop(minNode)\n",
    "    currentNode = goal\n",
    "    while currentNode != start:\n",
    "        try:\n",
    "            path.insert(0, currentNode)\n",
    "            currentNode = predecessor[currentNode]\n",
    "        except KeyError:\n",
    "            print(\"Path not reachable\")\n",
    "            break\n",
    "    path.insert(0, start)\n",
    "    if shortest_distance[goal] != infinity:\n",
    "        print(\"the path is : \", str(path))\n",
    "        for i in path:\n",
    "            print(str(i),\"->\",str(shortest_distance[str(i)]))\n",
    "\n",
    "\n",
    "\n",
    "\n",
    "            \n",
    "            \n",
    "            \n",
    "            \n",
    "dijkstra(graph, \"a\", \"g\")\n",
    "\n"
   ]
  },
  {
   "cell_type": "code",
   "execution_count": 33,
   "metadata": {},
   "outputs": [
    {
     "name": "stdout",
     "output_type": "stream",
     "text": [
      "enter any prime number91\n",
      "enter a original string that u want 31546444\n",
      "enter a string that u want to match44\n",
      "number of occurance in a string [5, 6]\n"
     ]
    }
   ],
   "source": [
    "def rabin(p,t,d,q):\n",
    "    n=len(p)\n",
    "    m=len(t)\n",
    "    h=pow(d,m-1)\n",
    "    p=0\n",
    "    t=0\n",
    "    result=[]\n",
    "    for i in range(m):\n",
    "        p=((p*d)+ord(pattern[i]))%q\n",
    "        t=(t*d+ord(text[i]))%q\n",
    "    for i in range(n-m+1):\n",
    "        if p==t:\n",
    "        \n",
    "            match=True\n",
    "            for i in range(m):\n",
    "               if p[i]!=text[s+1]:\n",
    "                   match=False\n",
    "                   break\n",
    "               if match:\n",
    "                   result=result+[s]\n",
    "        if s<n-m:\n",
    "            t=(t-h*ord(text[s]))%q\n",
    "            t=(d*t+ord(text[s+m]))%q\n",
    "            t=(t+q)%q\n",
    "    return result\n",
    "  \n",
    "p=int(input(\"enter any prime number\"))\n",
    "og=input(\"enter a original string that u want \")\n",
    "ms=input(\"enter a string that u want to match\")\n",
    "\n",
    "print (\"number of occurance in a string {}\".format(Rabin (og, ms, p, 99999999)))\n",
    "\n",
    "\n",
    "             "
   ]
  },
  {
   "cell_type": "code",
   "execution_count": 34,
   "metadata": {},
   "outputs": [
    {
     "data": {
      "text/plain": [
       "[0, 0, 0, 0, 0]"
      ]
     },
     "execution_count": 34,
     "metadata": {},
     "output_type": "execute_result"
    }
   ],
   "source": [
    "[0]*5"
   ]
  },
  {
   "cell_type": "code",
   "execution_count": 37,
   "metadata": {
    "collapsed": true
   },
   "outputs": [],
   "source": [
    "def kmp(t,p):\n",
    "    n=len(t)\n",
    "    m=len(p)\n",
    "    lps=[0]*m\n",
    "    j=0\n",
    "    pattern(p,m,lps)\n",
    "    i=0\n",
    "    while(i <n):\n",
    "        if(p[j]==t[i]):\n",
    "            i+=1\n",
    "            j+=1\n",
    "        if j==m:\n",
    "            print(\"enter a at index\",str(i-j))\n",
    "            j=lps[j-1]\n",
    "        elif i<n and p[j]!=t[i]:\n",
    "            if j!=0:\n",
    "                j=lps[j-1]\n",
    "            else:\n",
    "                i+=1\n",
    "def pattern(p,m,lps):\n",
    "    len=0\n",
    "    lps[0]\n",
    "    i=1\n",
    "    while i<m:\n",
    "        if p[i]==p[len]:\n",
    "            len+=1\n",
    "            lps[i]=len\n",
    "            i+=1\n",
    "        else:\n",
    "            if(len!=0):\n",
    "                len=lps[len-1]\n",
    "            else:\n",
    "                lps[i]=0\n",
    "                i+=1\n",
    "txt = \"baabbabbaaba\"\n",
    "pat = \"abba\"\n",
    "kmp(pat, txt)"
   ]
  },
  {
   "cell_type": "code",
   "execution_count": 2,
   "metadata": {},
   "outputs": [
    {
     "name": "stdout",
     "output_type": "stream",
     "text": [
      "[5, 6, 7, 8, 9]\n"
     ]
    }
   ],
   "source": [
    "l=[5,6,9,8,7]\n",
    "for i in range(1,len(l)):\n",
    "     val=l[i]\n",
    "     j=i-1\n",
    "     while(j>=0 and l[j]>val):\n",
    "        l[j+1]=l[j]\n",
    "        l[j]=val\n",
    "        j=j-1\n",
    "print(l)"
   ]
  },
  {
   "cell_type": "code",
   "execution_count": null,
   "metadata": {
    "collapsed": true
   },
   "outputs": [],
   "source": []
  }
 ],
 "metadata": {
  "kernelspec": {
   "display_name": "Python 3",
   "language": "python",
   "name": "python3"
  },
  "language_info": {
   "codemirror_mode": {
    "name": "ipython",
    "version": 3
   },
   "file_extension": ".py",
   "mimetype": "text/x-python",
   "name": "python",
   "nbconvert_exporter": "python",
   "pygments_lexer": "ipython3",
   "version": "3.5.5"
  }
 },
 "nbformat": 4,
 "nbformat_minor": 2
}
