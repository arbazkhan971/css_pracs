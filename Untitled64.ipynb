{
 "cells": [
  {
   "cell_type": "code",
   "execution_count": 15,
   "metadata": {},
   "outputs": [
    {
     "name": "stderr",
     "output_type": "stream",
     "text": [
      "C:\\Users\\arbaz\\Anaconda\\lib\\site-packages\\selenium\\webdriver\\phantomjs\\webdriver.py:49: UserWarning: Selenium support for PhantomJS has been deprecated, please use headless versions of Chrome or Firefox instead\n",
      "  warnings.warn('Selenium support for PhantomJS has been deprecated, please use headless '\n"
     ]
    },
    {
     "data": {
      "text/plain": [
       "'\\n\\njust copy and paste the url of match from cricnuzz and change the file name\\n\\n\\n\\n\\n\\n\\n'"
      ]
     },
     "execution_count": 15,
     "metadata": {},
     "output_type": "execute_result"
    }
   ],
   "source": [
    "from selenium import webdriver\n",
    "from bs4 import BeautifulSoup\n",
    "driver = webdriver.PhantomJS(executable_path = r'C:\\Users\\arbaz\\Downloads\\phantomjs-2.1.1-windows\\phantomjs-2.1.1-windows\\bin\\phantomjs.exe')\n",
    "url=\"https://www.news18.com/cricketnext/cricket-live-scorecard/mumbai-indians-vs-chennai-super-kings-ball-by-ball-live-commentary-mick04072018186012.html\"\n",
    "driver.get(url)\n",
    "\n",
    "html_doc = driver.page_source\n",
    "soup=BeautifulSoup(html_doc,'lxml')\n",
    "div=soup.find_all(\"div\",{\"class\":\"ltstcmntry-dtls\"})\n",
    "\n",
    "\n",
    "comm=[]\n",
    "for i in div:\n",
    "    p=i.find(\"p\")\n",
    "    comm.append(p.text)\n",
    "for i,v in enumerate(comm):\n",
    "    print(i,v)\n",
    "    \n",
    "with open (\"mivscsk.txt\",\"w\")as fp:\n",
    "    for line in comm:\n",
    "       fp.write(line+\"\\n\")\n",
    "driver.quit()\n",
    "\n",
    "\"\"\"\n",
    "\n",
    "just copy and paste the url of match from cricnuzz and change the file name\n",
    "\n",
    "\n",
    "\n",
    "\n",
    "\n",
    "\n",
    "\"\"\"\n"
   ]
  },
  {
   "cell_type": "code",
   "execution_count": null,
   "metadata": {
    "collapsed": true
   },
   "outputs": [],
   "source": []
  }
 ],
 "metadata": {
  "kernelspec": {
   "display_name": "Python 3",
   "language": "python",
   "name": "python3"
  },
  "language_info": {
   "codemirror_mode": {
    "name": "ipython",
    "version": 3
   },
   "file_extension": ".py",
   "mimetype": "text/x-python",
   "name": "python",
   "nbconvert_exporter": "python",
   "pygments_lexer": "ipython3",
   "version": "3.6.3"
  }
 },
 "nbformat": 4,
 "nbformat_minor": 2
}
