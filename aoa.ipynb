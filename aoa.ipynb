{
 "cells": [
  {
   "cell_type": "code",
   "execution_count": 2,
   "metadata": {},
   "outputs": [
    {
     "name": "stdout",
     "output_type": "stream",
     "text": [
      "9 8 7 6 5 4\n",
      "array before sorting: [9, 8, 7, 6, 5, 4]\n",
      "after a sorting array is [4, 5, 6, 7, 8, 9]\n"
     ]
    }
   ],
   "source": [
    "def selectionsort(arr):\n",
    "    print(\"array before sorting:\",arr)\n",
    "    for i in range(len(arr)):\n",
    "        m=i\n",
    "        for j in range(i,len(arr)):\n",
    "            if(arr[j]<arr[m]):\n",
    "                m=j\n",
    "        arr[i],arr[m]=arr[m],arr[i]\n",
    "    print(\"after a sorting array is\",arr) \n",
    "arr=list(map(int,input().strip().split()))\n",
    "selectionsort(arr)"
   ]
  },
  {
   "cell_type": "code",
   "execution_count": 14,
   "metadata": {
    "collapsed": true
   },
   "outputs": [],
   "source": [
    "def ins(arr):\n",
    "    for i in range(1,len(arr)):\n",
    "        value=arr[i]\n",
    "        j=i-1\n",
    "        while(j>=0 and arr[j]>value):\n",
    "            arr[j+1]=arr[j]\n",
    "            arr[j]=value\n",
    "            j=j-1\n",
    "            print(arr)\n",
    "    print(\"array after sorting\",arr)       "
   ]
  },
  {
   "cell_type": "code",
   "execution_count": 16,
   "metadata": {},
   "outputs": [
    {
     "name": "stdout",
     "output_type": "stream",
     "text": [
      "3 4 5 6 7\n",
      "array after sorting [3, 4, 5, 6, 7]\n"
     ]
    }
   ],
   "source": [
    "arr1=list(map(int,input().strip().split()))\n",
    "ins(arr1)"
   ]
  },
  {
   "cell_type": "code",
   "execution_count": 25,
   "metadata": {},
   "outputs": [
    {
     "name": "stdout",
     "output_type": "stream",
     "text": [
      "4 5 6 7 8 9\n",
      "array after sorting [4]\n",
      "array after sorting [5]\n",
      "array after sorting [6]\n",
      "[5, 6]\n",
      "array after sorting [5, 6]\n",
      "[4, 5, 6]\n",
      "[4, 5, 6]\n",
      "array after sorting [4, 5, 6]\n",
      "array after sorting [7]\n",
      "array after sorting [8]\n",
      "array after sorting [9]\n",
      "[8, 9]\n",
      "array after sorting [8, 9]\n",
      "[7, 8, 9]\n",
      "[7, 8, 9]\n",
      "array after sorting [7, 8, 9]\n",
      "[4, 5, 6, 7, 8, 9]\n",
      "[4, 5, 6, 7, 8, 9]\n",
      "[4, 5, 6, 7, 8, 9]\n",
      "array after sorting [4, 5, 6, 7, 8, 9]\n"
     ]
    }
   ],
   "source": [
    "def merge(arr):\n",
    "    if(len(arr)>1):\n",
    "        mid=len(arr)//2\n",
    "        left=arr[:mid]\n",
    "        right=arr[mid:]\n",
    "        merge(left)\n",
    "        merge(right)\n",
    "        i=0\n",
    "        j=0\n",
    "        k=0\n",
    "        while i<len(left) and j<len(right) :\n",
    "            if left[i]<right[j]:\n",
    "                arr[k]=left[i]\n",
    "                i=i+1\n",
    "            else:\n",
    "                arr[k]=right[j]\n",
    "                j=j+1\n",
    "            k=k+1\n",
    "        while i<len(left):\n",
    "            arr[k]=left[i]\n",
    "            i=i+1\n",
    "            k=k+1\n",
    "            print(arr)\n",
    "        while j<len(right):\n",
    "            arr[k]=right[j]\n",
    "            j=j+1\n",
    "            k=k+1\n",
    "            print(arr)\n",
    "            \n",
    "    print(\"array after sorting\",arr)    \n",
    "l=list(map(int,input().strip().split()))\n",
    "merge(l)       \n",
    "        "
   ]
  },
  {
   "cell_type": "code",
   "execution_count": 23,
   "metadata": {},
   "outputs": [
    {
     "name": "stdout",
     "output_type": "stream",
     "text": [
      " 1 2 3 4\n",
      "array after sorting [1]\n",
      "array after sorting [2]\n",
      "array after sorting [1, 2]\n",
      "array after sorting [3]\n",
      "array after sorting [4]\n",
      "array after sorting [3, 4]\n",
      "array after sorting [1, 2, 3, 4]\n"
     ]
    }
   ],
   "source": [
    "l=list(map(int,input().strip().split()))\n",
    "merge(l)"
   ]
  },
  {
   "cell_type": "code",
   "execution_count": 34,
   "metadata": {},
   "outputs": [
    {
     "name": "stdout",
     "output_type": "stream",
     "text": [
      "3 4 5 6 7 8 9\n"
     ]
    },
    {
     "ename": "IndexError",
     "evalue": "list index out of range",
     "output_type": "error",
     "traceback": [
      "\u001b[1;31m---------------------------------------------------------------------------\u001b[0m",
      "\u001b[1;31mIndexError\u001b[0m                                Traceback (most recent call last)",
      "\u001b[1;32m<ipython-input-34-5ae13f46a5ce>\u001b[0m in \u001b[0;36m<module>\u001b[1;34m()\u001b[0m\n\u001b[0;32m     16\u001b[0m \u001b[1;33m\u001b[0m\u001b[0m\n\u001b[0;32m     17\u001b[0m \u001b[0marr\u001b[0m\u001b[1;33m=\u001b[0m\u001b[0mlist\u001b[0m\u001b[1;33m(\u001b[0m\u001b[0mmap\u001b[0m\u001b[1;33m(\u001b[0m\u001b[0mint\u001b[0m\u001b[1;33m,\u001b[0m\u001b[0minput\u001b[0m\u001b[1;33m(\u001b[0m\u001b[1;33m)\u001b[0m\u001b[1;33m.\u001b[0m\u001b[0mstrip\u001b[0m\u001b[1;33m(\u001b[0m\u001b[1;33m)\u001b[0m\u001b[1;33m.\u001b[0m\u001b[0msplit\u001b[0m\u001b[1;33m(\u001b[0m\u001b[1;33m)\u001b[0m\u001b[1;33m)\u001b[0m\u001b[1;33m)\u001b[0m\u001b[1;33m\u001b[0m\u001b[0m\n\u001b[1;32m---> 18\u001b[1;33m \u001b[0mquick\u001b[0m\u001b[1;33m(\u001b[0m\u001b[0marr\u001b[0m\u001b[1;33m,\u001b[0m\u001b[1;36m0\u001b[0m\u001b[1;33m,\u001b[0m\u001b[0mlen\u001b[0m\u001b[1;33m(\u001b[0m\u001b[0marr\u001b[0m\u001b[1;33m)\u001b[0m\u001b[1;33m)\u001b[0m\u001b[1;33m\u001b[0m\u001b[0m\n\u001b[0m\u001b[0;32m     19\u001b[0m \u001b[1;33m\u001b[0m\u001b[0m\n",
      "\u001b[1;32m<ipython-input-34-5ae13f46a5ce>\u001b[0m in \u001b[0;36mquick\u001b[1;34m(arr, start, end)\u001b[0m\n\u001b[0;32m      1\u001b[0m \u001b[1;32mdef\u001b[0m \u001b[0mquick\u001b[0m\u001b[1;33m(\u001b[0m\u001b[0marr\u001b[0m\u001b[1;33m,\u001b[0m\u001b[0mstart\u001b[0m\u001b[1;33m,\u001b[0m\u001b[0mend\u001b[0m\u001b[1;33m)\u001b[0m\u001b[1;33m:\u001b[0m\u001b[1;33m\u001b[0m\u001b[0m\n\u001b[0;32m      2\u001b[0m     \u001b[1;32mif\u001b[0m\u001b[1;33m(\u001b[0m\u001b[0mstart\u001b[0m\u001b[1;33m<\u001b[0m\u001b[0mend\u001b[0m\u001b[1;33m)\u001b[0m\u001b[1;33m:\u001b[0m\u001b[1;33m\u001b[0m\u001b[0m\n\u001b[1;32m----> 3\u001b[1;33m         \u001b[0mp\u001b[0m\u001b[1;33m=\u001b[0m\u001b[0mpart\u001b[0m\u001b[1;33m(\u001b[0m\u001b[0marr\u001b[0m\u001b[1;33m,\u001b[0m\u001b[0mstart\u001b[0m\u001b[1;33m,\u001b[0m\u001b[0mend\u001b[0m\u001b[1;33m)\u001b[0m\u001b[1;33m\u001b[0m\u001b[0m\n\u001b[0m\u001b[0;32m      4\u001b[0m         \u001b[0mquick\u001b[0m\u001b[1;33m(\u001b[0m\u001b[0marr\u001b[0m\u001b[1;33m,\u001b[0m\u001b[0mstart\u001b[0m\u001b[1;33m,\u001b[0m\u001b[0mp\u001b[0m\u001b[1;33m-\u001b[0m\u001b[1;36m1\u001b[0m\u001b[1;33m)\u001b[0m\u001b[1;33m\u001b[0m\u001b[0m\n\u001b[0;32m      5\u001b[0m         \u001b[0mquick\u001b[0m\u001b[1;33m(\u001b[0m\u001b[0marr\u001b[0m\u001b[1;33m,\u001b[0m\u001b[0mp\u001b[0m\u001b[1;33m+\u001b[0m\u001b[1;36m1\u001b[0m\u001b[1;33m,\u001b[0m\u001b[0mend\u001b[0m\u001b[1;33m)\u001b[0m\u001b[1;33m\u001b[0m\u001b[0m\n",
      "\u001b[1;32m<ipython-input-34-5ae13f46a5ce>\u001b[0m in \u001b[0;36mpart\u001b[1;34m(arr, start, end)\u001b[0m\n\u001b[0;32m      9\u001b[0m     \u001b[0mp\u001b[0m\u001b[1;33m=\u001b[0m\u001b[0mstart\u001b[0m\u001b[1;33m-\u001b[0m\u001b[1;36m1\u001b[0m\u001b[1;33m\u001b[0m\u001b[0m\n\u001b[0;32m     10\u001b[0m     \u001b[1;32mfor\u001b[0m \u001b[0mi\u001b[0m \u001b[1;32min\u001b[0m \u001b[0mrange\u001b[0m\u001b[1;33m(\u001b[0m\u001b[0mstart\u001b[0m\u001b[1;33m,\u001b[0m\u001b[0mend\u001b[0m\u001b[1;33m)\u001b[0m\u001b[1;33m:\u001b[0m\u001b[1;33m\u001b[0m\u001b[0m\n\u001b[1;32m---> 11\u001b[1;33m         \u001b[1;32mif\u001b[0m\u001b[1;33m(\u001b[0m\u001b[0marr\u001b[0m\u001b[1;33m[\u001b[0m\u001b[0mi\u001b[0m\u001b[1;33m]\u001b[0m\u001b[1;33m<\u001b[0m\u001b[0marr\u001b[0m\u001b[1;33m[\u001b[0m\u001b[0mpivot\u001b[0m\u001b[1;33m]\u001b[0m\u001b[1;33m)\u001b[0m\u001b[1;33m:\u001b[0m\u001b[1;33m\u001b[0m\u001b[0m\n\u001b[0m\u001b[0;32m     12\u001b[0m             \u001b[0marr\u001b[0m\u001b[1;33m[\u001b[0m\u001b[0mi\u001b[0m\u001b[1;33m]\u001b[0m\u001b[1;33m,\u001b[0m\u001b[0marr\u001b[0m\u001b[1;33m[\u001b[0m\u001b[0mp\u001b[0m\u001b[1;33m]\u001b[0m\u001b[1;33m=\u001b[0m\u001b[0marr\u001b[0m\u001b[1;33m[\u001b[0m\u001b[0mp\u001b[0m\u001b[1;33m]\u001b[0m\u001b[1;33m,\u001b[0m\u001b[0marr\u001b[0m\u001b[1;33m[\u001b[0m\u001b[0mi\u001b[0m\u001b[1;33m]\u001b[0m\u001b[1;33m\u001b[0m\u001b[0m\n\u001b[0;32m     13\u001b[0m             \u001b[0mp\u001b[0m\u001b[1;33m=\u001b[0m\u001b[0mp\u001b[0m\u001b[1;33m+\u001b[0m\u001b[1;36m1\u001b[0m\u001b[1;33m\u001b[0m\u001b[0m\n",
      "\u001b[1;31mIndexError\u001b[0m: list index out of range"
     ]
    }
   ],
   "source": [
    "def quick(arr,start,end):\n",
    "    if(start<end):\n",
    "        p=part(arr,start,end)\n",
    "        quick(arr,start,p-1)\n",
    "        quick(arr,p+1,end)\n",
    "    return(arr)\n",
    "def part(arr,start,end):\n",
    "    pivot=end\n",
    "    p=start-1\n",
    "    for i in range(start,end):\n",
    "        if(arr[i]<arr[pivot]):\n",
    "            arr[i],arr[p]=arr[p],arr[i]\n",
    "            p=p+1\n",
    "    arr[p],arr[pivot]=arr[pivot],arr[p]\n",
    "    return(p)\n",
    "\n",
    "arr=list(map(int,input().strip().split()))\n",
    "quick(arr,0,len(arr))         \n",
    "        "
   ]
  },
  {
   "cell_type": "code",
   "execution_count": 32,
   "metadata": {
    "collapsed": true
   },
   "outputs": [],
   "source": [
    "def quick_sort(arr,start,end):\n",
    "    if(start<end):\n",
    "        pindex=partition(arr,start,end)\n",
    "        quick_sort(arr,start,pindex-1)\n",
    "        quick_sort(arr,pindex+1,end)\n",
    "    return arr\n",
    "\n",
    "def partition(arr,start,end):\n",
    "    pivot=end\n",
    "    pindex=start\n",
    "    for i in range(start,end):\n",
    "        if(arr[i]<arr[pivot]):\n",
    "            arr[i],arr[pindex]=arr[pindex],arr[i]\n",
    "            pindex=pindex+1\n",
    "    arr[pindex],arr[pivot]=arr[pivot],arr[pindex]\n",
    "    print(arr)\n",
    "    return pindex"
   ]
  },
  {
   "cell_type": "code",
   "execution_count": 33,
   "metadata": {},
   "outputs": [
    {
     "name": "stdout",
     "output_type": "stream",
     "text": [
      "2 3 4 5 6 7 8 9\n"
     ]
    },
    {
     "ename": "IndexError",
     "evalue": "list index out of range",
     "output_type": "error",
     "traceback": [
      "\u001b[1;31m---------------------------------------------------------------------------\u001b[0m",
      "\u001b[1;31mIndexError\u001b[0m                                Traceback (most recent call last)",
      "\u001b[1;32m<ipython-input-33-acdefbb0cd49>\u001b[0m in \u001b[0;36m<module>\u001b[1;34m()\u001b[0m\n\u001b[0;32m      1\u001b[0m \u001b[0mal\u001b[0m\u001b[1;33m=\u001b[0m\u001b[0mlist\u001b[0m\u001b[1;33m(\u001b[0m\u001b[0mmap\u001b[0m\u001b[1;33m(\u001b[0m\u001b[0mint\u001b[0m\u001b[1;33m,\u001b[0m\u001b[0minput\u001b[0m\u001b[1;33m(\u001b[0m\u001b[1;33m)\u001b[0m\u001b[1;33m.\u001b[0m\u001b[0mstrip\u001b[0m\u001b[1;33m(\u001b[0m\u001b[1;33m)\u001b[0m\u001b[1;33m.\u001b[0m\u001b[0msplit\u001b[0m\u001b[1;33m(\u001b[0m\u001b[1;33m)\u001b[0m\u001b[1;33m)\u001b[0m\u001b[1;33m)\u001b[0m\u001b[1;33m\u001b[0m\u001b[0m\n\u001b[1;32m----> 2\u001b[1;33m \u001b[0mquick_sort\u001b[0m\u001b[1;33m(\u001b[0m\u001b[0mal\u001b[0m\u001b[1;33m,\u001b[0m\u001b[1;36m0\u001b[0m\u001b[1;33m,\u001b[0m\u001b[0mlen\u001b[0m\u001b[1;33m(\u001b[0m\u001b[0mal\u001b[0m\u001b[1;33m)\u001b[0m\u001b[1;33m)\u001b[0m\u001b[1;33m\u001b[0m\u001b[0m\n\u001b[0m",
      "\u001b[1;32m<ipython-input-32-3b75d954b338>\u001b[0m in \u001b[0;36mquick_sort\u001b[1;34m(arr, start, end)\u001b[0m\n\u001b[0;32m      1\u001b[0m \u001b[1;32mdef\u001b[0m \u001b[0mquick_sort\u001b[0m\u001b[1;33m(\u001b[0m\u001b[0marr\u001b[0m\u001b[1;33m,\u001b[0m\u001b[0mstart\u001b[0m\u001b[1;33m,\u001b[0m\u001b[0mend\u001b[0m\u001b[1;33m)\u001b[0m\u001b[1;33m:\u001b[0m\u001b[1;33m\u001b[0m\u001b[0m\n\u001b[0;32m      2\u001b[0m     \u001b[1;32mif\u001b[0m\u001b[1;33m(\u001b[0m\u001b[0mstart\u001b[0m\u001b[1;33m<\u001b[0m\u001b[0mend\u001b[0m\u001b[1;33m)\u001b[0m\u001b[1;33m:\u001b[0m\u001b[1;33m\u001b[0m\u001b[0m\n\u001b[1;32m----> 3\u001b[1;33m         \u001b[0mpindex\u001b[0m\u001b[1;33m=\u001b[0m\u001b[0mpartition\u001b[0m\u001b[1;33m(\u001b[0m\u001b[0marr\u001b[0m\u001b[1;33m,\u001b[0m\u001b[0mstart\u001b[0m\u001b[1;33m,\u001b[0m\u001b[0mend\u001b[0m\u001b[1;33m)\u001b[0m\u001b[1;33m\u001b[0m\u001b[0m\n\u001b[0m\u001b[0;32m      4\u001b[0m         \u001b[0mquick_sort\u001b[0m\u001b[1;33m(\u001b[0m\u001b[0marr\u001b[0m\u001b[1;33m,\u001b[0m\u001b[0mstart\u001b[0m\u001b[1;33m,\u001b[0m\u001b[0mpindex\u001b[0m\u001b[1;33m-\u001b[0m\u001b[1;36m1\u001b[0m\u001b[1;33m)\u001b[0m\u001b[1;33m\u001b[0m\u001b[0m\n\u001b[0;32m      5\u001b[0m         \u001b[0mquick_sort\u001b[0m\u001b[1;33m(\u001b[0m\u001b[0marr\u001b[0m\u001b[1;33m,\u001b[0m\u001b[0mpindex\u001b[0m\u001b[1;33m+\u001b[0m\u001b[1;36m1\u001b[0m\u001b[1;33m,\u001b[0m\u001b[0mend\u001b[0m\u001b[1;33m)\u001b[0m\u001b[1;33m\u001b[0m\u001b[0m\n",
      "\u001b[1;32m<ipython-input-32-3b75d954b338>\u001b[0m in \u001b[0;36mpartition\u001b[1;34m(arr, start, end)\u001b[0m\n\u001b[0;32m     10\u001b[0m     \u001b[0mpindex\u001b[0m\u001b[1;33m=\u001b[0m\u001b[0mstart\u001b[0m\u001b[1;33m\u001b[0m\u001b[0m\n\u001b[0;32m     11\u001b[0m     \u001b[1;32mfor\u001b[0m \u001b[0mi\u001b[0m \u001b[1;32min\u001b[0m \u001b[0mrange\u001b[0m\u001b[1;33m(\u001b[0m\u001b[0mstart\u001b[0m\u001b[1;33m,\u001b[0m\u001b[0mend\u001b[0m\u001b[1;33m)\u001b[0m\u001b[1;33m:\u001b[0m\u001b[1;33m\u001b[0m\u001b[0m\n\u001b[1;32m---> 12\u001b[1;33m         \u001b[1;32mif\u001b[0m\u001b[1;33m(\u001b[0m\u001b[0marr\u001b[0m\u001b[1;33m[\u001b[0m\u001b[0mi\u001b[0m\u001b[1;33m]\u001b[0m\u001b[1;33m<\u001b[0m\u001b[0marr\u001b[0m\u001b[1;33m[\u001b[0m\u001b[0mpivot\u001b[0m\u001b[1;33m]\u001b[0m\u001b[1;33m)\u001b[0m\u001b[1;33m:\u001b[0m\u001b[1;33m\u001b[0m\u001b[0m\n\u001b[0m\u001b[0;32m     13\u001b[0m             \u001b[0marr\u001b[0m\u001b[1;33m[\u001b[0m\u001b[0mi\u001b[0m\u001b[1;33m]\u001b[0m\u001b[1;33m,\u001b[0m\u001b[0marr\u001b[0m\u001b[1;33m[\u001b[0m\u001b[0mpindex\u001b[0m\u001b[1;33m]\u001b[0m\u001b[1;33m=\u001b[0m\u001b[0marr\u001b[0m\u001b[1;33m[\u001b[0m\u001b[0mpindex\u001b[0m\u001b[1;33m]\u001b[0m\u001b[1;33m,\u001b[0m\u001b[0marr\u001b[0m\u001b[1;33m[\u001b[0m\u001b[0mi\u001b[0m\u001b[1;33m]\u001b[0m\u001b[1;33m\u001b[0m\u001b[0m\n\u001b[0;32m     14\u001b[0m             \u001b[0mpindex\u001b[0m\u001b[1;33m=\u001b[0m\u001b[0mpindex\u001b[0m\u001b[1;33m+\u001b[0m\u001b[1;36m1\u001b[0m\u001b[1;33m\u001b[0m\u001b[0m\n",
      "\u001b[1;31mIndexError\u001b[0m: list index out of range"
     ]
    }
   ],
   "source": [
    "al=list(map(int,input().strip().split()))\n",
    "quick_sort(al,0,len(al))"
   ]
  },
  {
   "cell_type": "code",
   "execution_count": 39,
   "metadata": {},
   "outputs": [
    {
     "ename": "TypeError",
     "evalue": "unsupported operand type(s) for -: 'list' and 'int'",
     "output_type": "error",
     "traceback": [
      "\u001b[1;31m---------------------------------------------------------------------------\u001b[0m",
      "\u001b[1;31mTypeError\u001b[0m                                 Traceback (most recent call last)",
      "\u001b[1;32m<ipython-input-39-fe649f10db42>\u001b[0m in \u001b[0;36m<module>\u001b[1;34m()\u001b[0m\n\u001b[0;32m     21\u001b[0m \u001b[0marr\u001b[0m \u001b[1;33m=\u001b[0m \u001b[1;33m[\u001b[0m\u001b[1;36m10\u001b[0m\u001b[1;33m,\u001b[0m \u001b[1;36m7\u001b[0m\u001b[1;33m,\u001b[0m \u001b[1;36m8\u001b[0m\u001b[1;33m,\u001b[0m \u001b[1;36m9\u001b[0m\u001b[1;33m,\u001b[0m \u001b[1;36m1\u001b[0m\u001b[1;33m,\u001b[0m \u001b[1;36m5\u001b[0m\u001b[1;33m]\u001b[0m\u001b[1;33m\u001b[0m\u001b[0m\n\u001b[0;32m     22\u001b[0m \u001b[0mn\u001b[0m \u001b[1;33m=\u001b[0m \u001b[0mlen\u001b[0m\u001b[1;33m(\u001b[0m\u001b[0marr\u001b[0m\u001b[1;33m)\u001b[0m\u001b[1;33m\u001b[0m\u001b[0m\n\u001b[1;32m---> 23\u001b[1;33m \u001b[0mquickSort\u001b[0m\u001b[1;33m(\u001b[0m\u001b[0marr\u001b[0m\u001b[1;33m,\u001b[0m\u001b[1;36m0\u001b[0m\u001b[1;33m,\u001b[0m\u001b[0mn\u001b[0m\u001b[1;33m-\u001b[0m\u001b[1;36m1\u001b[0m\u001b[1;33m)\u001b[0m\u001b[1;33m\u001b[0m\u001b[0m\n\u001b[0m\u001b[0;32m     24\u001b[0m \u001b[0mprint\u001b[0m \u001b[1;33m(\u001b[0m\u001b[1;34m\"Sorted array is:\"\u001b[0m\u001b[1;33m)\u001b[0m\u001b[1;33m\u001b[0m\u001b[0m\n\u001b[0;32m     25\u001b[0m \u001b[0mprint\u001b[0m\u001b[1;33m(\u001b[0m\u001b[0marr\u001b[0m\u001b[1;33m)\u001b[0m\u001b[1;33m\u001b[0m\u001b[0m\n",
      "\u001b[1;32m<ipython-input-39-fe649f10db42>\u001b[0m in \u001b[0;36mquickSort\u001b[1;34m(arr, low, high)\u001b[0m\n\u001b[0;32m     15\u001b[0m \u001b[1;33m\u001b[0m\u001b[0m\n\u001b[0;32m     16\u001b[0m         \u001b[0mpi\u001b[0m \u001b[1;33m=\u001b[0m \u001b[0mpart\u001b[0m\u001b[1;33m(\u001b[0m\u001b[0marr\u001b[0m\u001b[1;33m,\u001b[0m\u001b[0mlow\u001b[0m\u001b[1;33m,\u001b[0m\u001b[0mhigh\u001b[0m\u001b[1;33m)\u001b[0m\u001b[1;33m\u001b[0m\u001b[0m\n\u001b[1;32m---> 17\u001b[1;33m         \u001b[0mquickSort\u001b[0m\u001b[1;33m(\u001b[0m\u001b[0marr\u001b[0m\u001b[1;33m,\u001b[0m \u001b[0mlow\u001b[0m\u001b[1;33m,\u001b[0m \u001b[0mpi\u001b[0m\u001b[1;33m-\u001b[0m\u001b[1;36m1\u001b[0m\u001b[1;33m)\u001b[0m\u001b[1;33m\u001b[0m\u001b[0m\n\u001b[0m\u001b[0;32m     18\u001b[0m         \u001b[0mquickSort\u001b[0m\u001b[1;33m(\u001b[0m\u001b[0marr\u001b[0m\u001b[1;33m,\u001b[0m \u001b[0mpi\u001b[0m\u001b[1;33m+\u001b[0m\u001b[1;36m1\u001b[0m\u001b[1;33m,\u001b[0m \u001b[0mhigh\u001b[0m\u001b[1;33m)\u001b[0m\u001b[1;33m\u001b[0m\u001b[0m\n\u001b[0;32m     19\u001b[0m \u001b[1;33m\u001b[0m\u001b[0m\n",
      "\u001b[1;31mTypeError\u001b[0m: unsupported operand type(s) for -: 'list' and 'int'"
     ]
    }
   ],
   "source": [
    "def partition(arr,low,high):\n",
    "    i = ( low-1 )         \n",
    "    pivot = arr[high]   \n",
    " \n",
    "    for j in range(low , high):\n",
    "        if   arr[j] <= pivot:\n",
    "            i = i+1\n",
    "            arr[i],arr[j] = arr[j],arr[i]\n",
    " \n",
    "    arr[i+1],arr[high] = arr[high],arr[i+1]\n",
    "    return ( i+1 )\n",
    "\n",
    "def quickSort(arr,low,high):\n",
    "    if low < high:\n",
    " \n",
    "        pi = part(arr,low,high)\n",
    "        quickSort(arr, low, pi-1)\n",
    "        quickSort(arr, pi+1, high)\n",
    " \n",
    "\n",
    "arr = [10, 7, 8, 9, 1, 5]\n",
    "n = len(arr)\n",
    "quickSort(arr,0,n-1)\n",
    "print (\"Sorted array is:\")\n",
    "print(arr)"
   ]
  },
  {
   "cell_type": "code",
   "execution_count": 38,
   "metadata": {
    "collapsed": true
   },
   "outputs": [],
   "source": [
    "def part(arr,start,end):\n",
    "    j=start-1\n",
    "    high=arr[end]\n",
    "    for i in range(start,end):\n",
    "        if(arr[i]<arr[high]):\n",
    "            i=i+1\n",
    "            arr[i],arr[j]=arr[j],arr[i]\n",
    "    arr[j+1],arr[high]=arr[high],arr[j+1]\n",
    "    return(arr)"
   ]
  },
  {
   "cell_type": "code",
   "execution_count": 40,
   "metadata": {},
   "outputs": [
    {
     "name": "stdout",
     "output_type": "stream",
     "text": [
      "enter a number of elemnets5\n",
      "0\n",
      "3\n",
      "8\n",
      "999\n",
      "-4\n",
      "999\n",
      "0\n",
      "999\n",
      "1\n",
      "7\n",
      "999\n",
      "4\n",
      "0\n",
      "999\n",
      "999\n",
      "2\n",
      "999\n",
      "-5\n",
      "0\n",
      "999\n",
      "999\n",
      "999\n",
      "999\n",
      "6\n",
      "0\n",
      "[[0, 3, 8, 2, -4], [3, 0, -4, 1, -1], [7, 4, 0, 5, 3], [2, -1, -5, 0, -2], [8, 5, 1, 6, 0]]\n"
     ]
    }
   ],
   "source": [
    "def fw(l):\n",
    "    for i in range(n):\n",
    "        for j in range(n):\n",
    "            for k in range(n):\n",
    "                if l[i][k]+l[k][j]<l[i][j] :\n",
    "                    l[i][j]=l[i][k]+l[k][j]\n",
    "    return(l)\n",
    "n=int(input(\"enter a number of elemnets\"))\n",
    "matrix=[[0 for i in range(n)]for j in range(n)]\n",
    "\n",
    "for i in range(n):\n",
    "    for j in range(n):\n",
    "        matrix[i][j]=int(input())\n",
    "        \n",
    "a=fw(matrix)\n",
    "print(a)"
   ]
  },
  {
   "cell_type": "code",
   "execution_count": 44,
   "metadata": {},
   "outputs": [
    {
     "name": "stdout",
     "output_type": "stream",
     "text": [
      "ALRIT\n"
     ]
    }
   ],
   "source": [
    "\n",
    "def lcs(str1, str2):\n",
    "  if len(str1) == 0 or len(str2) == 0:\n",
    "    return \"\"\n",
    "  if str1[-1] == str2[-1]:\n",
    "    return lcs(str1[:-1], str2[:-1]) + str1[-1]\n",
    "    \n",
    "\n",
    "  t1 = lcs(str1[:-1], str2)\n",
    "  t2 = lcs(str1, str2[:-1])\n",
    "  if len(t1) > len(t2):\n",
    "    return t1\n",
    "  else:\n",
    "    return t2\n",
    "    \n",
    "if __name__ == \"__main__\":\n",
    "   print(lcs('ALGORITHM','ALTRUISTIC'))"
   ]
  },
  {
   "cell_type": "code",
   "execution_count": 45,
   "metadata": {},
   "outputs": [
    {
     "name": "stdout",
     "output_type": "stream",
     "text": [
      "firstkashmir\n",
      "secondratnagiri\n",
      "air\n"
     ]
    }
   ],
   "source": [
    "def lc(s1,s2):\n",
    "    if(len(s1)==len(s2)):\n",
    "        return \"\"\n",
    "    if s1[:-1]==s2[:-1] :\n",
    "        return (lcs(s1[:-1],s2[:-1])+s1[:-1])\n",
    "    t1=lcs(s1[:-1],s2)\n",
    "    t2=lcs(s1,s2[:-1])\n",
    "    if(len(t1)>len(t2)):\n",
    "        return t1\n",
    "    else:\n",
    "        return t2\n",
    "s1=input(\"first\")\n",
    "s2=input(\"second\")\n",
    "c=lcs(s1,s2)\n",
    "print(c)\n",
    "        "
   ]
  },
  {
   "cell_type": "code",
   "execution_count": 46,
   "metadata": {},
   "outputs": [
    {
     "ename": "SyntaxError",
     "evalue": "(unicode error) 'unicodeescape' codec can't decode bytes in position 4-5: truncated \\UXXXXXXXX escape (<ipython-input-46-156fb0839e9c>, line 71)",
     "output_type": "error",
     "traceback": [
      "\u001b[1;36m  File \u001b[1;32m\"<ipython-input-46-156fb0839e9c>\"\u001b[1;36m, line \u001b[1;32m71\u001b[0m\n\u001b[1;33m    '''\u001b[0m\n\u001b[1;37m      ^\u001b[0m\n\u001b[1;31mSyntaxError\u001b[0m\u001b[1;31m:\u001b[0m (unicode error) 'unicodeescape' codec can't decode bytes in position 4-5: truncated \\UXXXXXXXX escape\n"
     ]
    }
   ],
   "source": [
    "\n",
    "graph = {\"b\": {\"a\": 15, \"d\": 40},\n",
    "         \"a\": {\"b\": 15, \"c\": 35, \"e\": 20},\n",
    "         \"d\": {\"b\": 40, \"c\": 35, \"f\": 10},\n",
    "         \"c\": {\"a\": 7, \"d\": 35, \"e\": 10},\n",
    "         \"e\": {\"a\": 20, \"c\": 10, \"f\": 50, \"g\": 75},\n",
    "         \"f\": {\"d\": 10, \"e\": 50, \"g\": 15},\n",
    "         \"g\": {\"f\": 15, \"e\": 75}}\n",
    "\n",
    "def dijkstra(graph, start, goal):\n",
    "    shortest_distance = {}\n",
    "    predecessor = {}\n",
    "    unseenNodes = graph\n",
    "    infinity = 999\n",
    "    path = []\n",
    "\n",
    "    for node in unseenNodes:\n",
    "        shortest_distance[node] = infinity\n",
    "    shortest_distance[start] = 0\n",
    "\n",
    "    while unseenNodes:\n",
    "        minNode = None\n",
    "        for node in unseenNodes:\n",
    "            if minNode is None:\n",
    "                minNode = node\n",
    "\n",
    "                elif shortest_distance[node] < shortest_distance[minNode]:\n",
    "                minNode = node\n",
    "\n",
    "        for childNode, weight in graph[minNode].items():\n",
    "            if weight + shortest_distance[minNode] < shortest_distance[childNode]:\n",
    "                shortest_distance[childNode] = weight + shortest_distance[minNode]\n",
    "                predecessor[childNode] = minNode\n",
    "        unseenNodes.pop(minNode)\n",
    "    currentNode = goal\n",
    "    while currentNode != start:\n",
    "        try:\n",
    "            path.insert(0, currentNode)\n",
    "            currentNode = predecessor[currentNode]\n",
    "        except KeyError:\n",
    "            print(\"Path not reachable\")\n",
    "            break\n",
    "    path.insert(0, start)\n",
    "    if shortest_distance[goal] != infinity:\n",
    "        print(\"the path is : \", str(path))\n",
    "        for i in path:\n",
    "            print(str(i),\"->\",str(shortest_distance[str(i)]))\n",
    "\n",
    "\n",
    "\n",
    "\n",
    "\n",
    "\n",
    "\n",
    "dijkstra(graph, \"a\", \"g\")\n",
    "\n",
    "\n",
    "\n",
    "\n",
    "'''\n",
    "\n",
    "C:\\Users\\admin\\PycharmProjects\\untitled\\venv\\Scripts\\python.exe C:/Users/admin/PycharmProjects/untitled/djnew.py\n",
    "the path is :  ['a', 'b', 'd', 'f', 'g']\n",
    "a -> 0\n",
    "b -> 15\n",
    "d -> 55\n",
    "f -> 65\n",
    "g -> 80\n",
    "\n",
    "Process finished with exit code 0\n",
    "\n",
    "def extract(Q, w):\n",
    "        m=0\n",
    "        minimum=w[0]\n",
    "        for i in range(len(w)):\n",
    "                if w[i]<minimum:\n",
    "                        minimum=w[i]\n",
    "                        m=i\n",
    "        return m, Q[m]'''"
   ]
  },
  {
   "cell_type": "code",
   "execution_count": 49,
   "metadata": {},
   "outputs": [
    {
     "ename": "NameError",
     "evalue": "name 'minimum_distance' is not defined",
     "output_type": "error",
     "traceback": [
      "\u001b[1;31m---------------------------------------------------------------------------\u001b[0m",
      "\u001b[1;31mNameError\u001b[0m                                 Traceback (most recent call last)",
      "\u001b[1;32m<ipython-input-49-9b3b9c1ca693>\u001b[0m in \u001b[0;36m<module>\u001b[1;34m()\u001b[0m\n\u001b[0;32m     32\u001b[0m \u001b[1;33m\u001b[0m\u001b[0m\n\u001b[0;32m     33\u001b[0m \u001b[0mgraph\u001b[0m\u001b[1;33m=\u001b[0m\u001b[1;33m(\u001b[0m\u001b[1;33m{\u001b[0m\u001b[1;34m'A'\u001b[0m\u001b[1;33m,\u001b[0m \u001b[1;34m'B'\u001b[0m\u001b[1;33m,\u001b[0m \u001b[1;34m'C'\u001b[0m\u001b[1;33m,\u001b[0m \u001b[1;34m'D'\u001b[0m\u001b[1;33m}\u001b[0m\u001b[1;33m,\u001b[0m \u001b[1;33m{\u001b[0m\u001b[1;33m(\u001b[0m\u001b[1;34m'A'\u001b[0m\u001b[1;33m,\u001b[0m \u001b[1;34m'B'\u001b[0m\u001b[1;33m,\u001b[0m \u001b[1;36m5\u001b[0m\u001b[1;33m)\u001b[0m\u001b[1;33m,\u001b[0m \u001b[1;33m(\u001b[0m\u001b[1;34m'B'\u001b[0m\u001b[1;33m,\u001b[0m \u001b[1;34m'A'\u001b[0m\u001b[1;33m,\u001b[0m \u001b[1;36m5\u001b[0m\u001b[1;33m)\u001b[0m\u001b[1;33m,\u001b[0m \u001b[1;33m(\u001b[0m\u001b[1;34m'B'\u001b[0m\u001b[1;33m,\u001b[0m \u001b[1;34m'C'\u001b[0m\u001b[1;33m,\u001b[0m \u001b[1;36m10\u001b[0m\u001b[1;33m)\u001b[0m\u001b[1;33m,\u001b[0m \u001b[1;33m(\u001b[0m\u001b[1;34m'B'\u001b[0m\u001b[1;33m,\u001b[0m \u001b[1;34m'D'\u001b[0m\u001b[1;33m,\u001b[0m \u001b[1;36m6\u001b[0m\u001b[1;33m)\u001b[0m\u001b[1;33m,\u001b[0m \u001b[1;33m(\u001b[0m\u001b[1;34m'C'\u001b[0m\u001b[1;33m,\u001b[0m \u001b[1;34m'D'\u001b[0m\u001b[1;33m,\u001b[0m \u001b[1;36m2\u001b[0m\u001b[1;33m)\u001b[0m\u001b[1;33m,\u001b[0m \u001b[1;33m(\u001b[0m\u001b[1;34m'D'\u001b[0m\u001b[1;33m,\u001b[0m \u001b[1;34m'C'\u001b[0m\u001b[1;33m,\u001b[0m \u001b[1;36m2\u001b[0m\u001b[1;33m)\u001b[0m\u001b[1;33m}\u001b[0m\u001b[1;33m)\u001b[0m\u001b[1;33m\u001b[0m\u001b[0m\n\u001b[1;32m---> 34\u001b[1;33m \u001b[0mprint\u001b[0m\u001b[1;33m(\u001b[0m\u001b[0mdijkstra\u001b[0m\u001b[1;33m(\u001b[0m\u001b[0mgraph\u001b[0m\u001b[1;33m,\u001b[0m \u001b[1;34m'A'\u001b[0m\u001b[1;33m)\u001b[0m\u001b[1;33m)\u001b[0m\u001b[1;33m\u001b[0m\u001b[0m\n\u001b[0m",
      "\u001b[1;32m<ipython-input-49-9b3b9c1ca693>\u001b[0m in \u001b[0;36mdijkstra\u001b[1;34m(graph, source)\u001b[0m\n\u001b[0;32m     13\u001b[0m \u001b[1;33m\u001b[0m\u001b[0m\n\u001b[0;32m     14\u001b[0m     \u001b[1;32mwhile\u001b[0m \u001b[0mlen\u001b[0m\u001b[1;33m(\u001b[0m\u001b[0mQ\u001b[0m\u001b[1;33m)\u001b[0m \u001b[1;33m>\u001b[0m \u001b[1;36m0\u001b[0m\u001b[1;33m:\u001b[0m\u001b[1;33m\u001b[0m\u001b[0m\n\u001b[1;32m---> 15\u001b[1;33m         \u001b[0mu\u001b[0m \u001b[1;33m=\u001b[0m \u001b[0mminimum_distance\u001b[0m\u001b[1;33m(\u001b[0m\u001b[0mdist\u001b[0m\u001b[1;33m,\u001b[0m \u001b[0mQ\u001b[0m\u001b[1;33m)\u001b[0m\u001b[1;33m\u001b[0m\u001b[0m\n\u001b[0m\u001b[0;32m     16\u001b[0m         \u001b[0mprint\u001b[0m\u001b[1;33m(\u001b[0m\u001b[1;34m'Currently considering'\u001b[0m\u001b[1;33m,\u001b[0m \u001b[0mu\u001b[0m\u001b[1;33m,\u001b[0m \u001b[1;34m'with a distance of'\u001b[0m\u001b[1;33m,\u001b[0m \u001b[0mdist\u001b[0m\u001b[1;33m[\u001b[0m\u001b[0mu\u001b[0m\u001b[1;33m]\u001b[0m\u001b[1;33m)\u001b[0m\u001b[1;33m\u001b[0m\u001b[0m\n\u001b[0;32m     17\u001b[0m         \u001b[0mQ\u001b[0m\u001b[1;33m.\u001b[0m\u001b[0mremove\u001b[0m\u001b[1;33m(\u001b[0m\u001b[0mu\u001b[0m\u001b[1;33m)\u001b[0m\u001b[1;33m\u001b[0m\u001b[0m\n",
      "\u001b[1;31mNameError\u001b[0m: name 'minimum_distance' is not defined"
     ]
    }
   ],
   "source": [
    "def extract(Q, w):\n",
    "        m=0\n",
    "        minimum=w[0]\n",
    "        for i in range(len(w)):\n",
    "                if w[i]<minimum:\n",
    "                        minimum=w[i]\n",
    "                        m=i\n",
    "        return m, Q[m]\n",
    "\n",
    "def dijkstra(graph, source):\n",
    "\n",
    "    vertices, edges = graph\n",
    "    dist = dict()\n",
    "    previous = dict()\n",
    "\n",
    "    for vertex in vertices:\n",
    "        dist[vertex] = float(\"inf\")\n",
    "        previous[vertex] = None\n",
    "\n",
    "    dist[source] = 0\n",
    "    Q = set(vertices)\n",
    "\n",
    "    while len(Q) > 0:\n",
    "        u = extract(dist, Q)[1]\n",
    "        print('Currently considering', u, 'with a distance of', dist[u])\n",
    "        Q.remove(u)\n",
    "\n",
    "        if dist[u] == float('inf'):\n",
    "            break\n",
    "\n",
    "        n = get_neighbours(graph, u)\n",
    "        for vertex in n:\n",
    "            alt = dist[u] + dist_between(graph, u, vertex)\n",
    "            if alt < dist[vertex]:\n",
    "                dist[vertex] = alt\n",
    "                previous[vertex] = u\n",
    "\n",
    "    return previous\n",
    "\n",
    "\n",
    "\n",
    "graph=({'A', 'B', 'C', 'D'}, {('A', 'B', 5), ('B', 'A', 5), ('B', 'C', 10), ('B', 'D', 6), ('C', 'D', 2), ('D', 'C', 2)})\n",
    "print(dijkstra(graph, 'A'))"
   ]
  },
  {
   "cell_type": "code",
   "execution_count": 50,
   "metadata": {},
   "outputs": [
    {
     "name": "stdout",
     "output_type": "stream",
     "text": [
      "[1, 2, 4, 5, 1, 3, 7]\n",
      "[6, 10, 18, 15, 3, 5, 7]\n",
      "[6.0, 5.0, 4.5, 3.0, 3.0, 1.6666666666666667, 1.0]\n",
      "7.0\n",
      "0.0\n",
      "0.0\n",
      "0.0\n",
      "0.0\n",
      "0.0\n",
      "[1, 7.0, 0.0, 0.0, 0.0, 0.0, 0.0]\n",
      "sum is:  76.0\n"
     ]
    }
   ],
   "source": [
    "w=[2,3,5,7,1,4,1]\n",
    "p=[10,5,15,7,6,18,3]\n",
    "m=15\n",
    "t=[]\n",
    "\n",
    "\n",
    "n=len(p)\n",
    "for i in range(n):\n",
    "    t.append(float(p[i]/w[i]))\n",
    "\n",
    "for i in range(n):\n",
    "    for i in range(n-1):\n",
    "        if(t[i]<t[i+1]):\n",
    "            t[i],t[i+1]=t[i+1],t[i]\n",
    "            w[i], w[i + 1] = w[i + 1], w[i]\n",
    "            p[i], p[i + 1] = p[i + 1], p[i]\n",
    "\n",
    "\n",
    "print(w)\n",
    "print(p)\n",
    "print(t)\n",
    "x=[]\n",
    "\n",
    "\n",
    "\n",
    "def knapsack(m,n):\n",
    "\n",
    "\n",
    "    for i in range(n):\n",
    "        x.append(0.0)\n",
    "    u=m\n",
    "\n",
    "\n",
    "    for i in range(n):\n",
    "\n",
    "        if(w[i]>u and u/w[i]>1):\n",
    "              break\n",
    "        if(i==0):\n",
    "              x[i] = 1\n",
    "              u = u - w[i] * x[i]\n",
    "        if(0<i<=n):\n",
    "\n",
    "                x[i]=float(u/w[i])\n",
    "                print(x[i])\n",
    "                u = u - w[i] * x[i]\n",
    "\n",
    "\n",
    "\n",
    "knapsack(m,n)\n",
    "sum=0.0\n",
    "\n",
    "print(x)\n",
    "for i in range(n):\n",
    "    sum=sum+x[i]*p[i]\n",
    "\n",
    "print('sum is: ',sum)\n"
   ]
  },
  {
   "cell_type": "code",
   "execution_count": 1,
   "metadata": {},
   "outputs": [
    {
     "name": "stdout",
     "output_type": "stream",
     "text": [
      "[1, 0.6666666666666666, 1, 0.0, 1, 1, 1]\n",
      "55.333333333333336\n"
     ]
    }
   ],
   "source": [
    "w=[2,3,5,7,1,4,1]\n",
    "p=[10,5,15,7,6,18,3]\n",
    "m=15\n",
    "pw=[]\n",
    "for i in range(len(w)):\n",
    "    pw.append(p[i]/w[i])\n",
    "n=len(w)\n",
    "a=[]\n",
    "for i in range(n):\n",
    "    a.append(i)\n",
    "\n",
    "for i in range(n):\n",
    "    for j in range(n-1):\n",
    "        if(pw[j]<pw[j+1]):\n",
    "            pw[j],pw[j+1]=pw[j+1],pw[j]\n",
    "            p[j], p[j + 1] = p[j + 1], p[j]\n",
    "            w[j], w[j + 1] = w[j + 1], w[j]\n",
    "            a[j],a[j+1]=a[j+1],a[j]\n",
    "x=[]\n",
    "def knapsack():\n",
    "\n",
    "    for i in range(n):\n",
    "        x.append(0.0)\n",
    "    u=m\n",
    "    for i in range(n):\n",
    "        if(w[i]>u):\n",
    "            break\n",
    "\n",
    "        x[i]=1\n",
    "        u=u-w[i]\n",
    "    if(i<=n):\n",
    "           x[i]=u/w[i]\n",
    "    sum=0\n",
    "    for i in range(n):\n",
    "        sum=sum+x[i]*p[i]\n",
    "\n",
    "    for i in range(n):\n",
    "        for j in range(n-1):\n",
    "            if(a[j]>a[j+1]):\n",
    "                a[j], a[j + 1] = a[j + 1], a[j]\n",
    "                x[j], x[j + 1] = x[j + 1], x[j]\n",
    "\n",
    "\n",
    "    return sum\n",
    "\n",
    "knap=knapsack()\n",
    "print(x)\n",
    "print(knap)\n",
    "\n",
    "\n",
    "\n",
    "\n",
    "\n"
   ]
  },
  {
   "cell_type": "code",
   "execution_count": null,
   "metadata": {
    "collapsed": true
   },
   "outputs": [],
   "source": [
    "w=[2,3,5,7,1,4,1]\n",
    "p=[10,5,15,7,6,18,3]\n",
    "m=15\n",
    "pw=[]\n",
    "for i in range(len(w)):\n",
    "    pw.append(p[i]/w[i])\n",
    "n=len(w)\n",
    "a=[]\n",
    "for i in range(n):\n",
    "    a.append(i)\n",
    "\n",
    "for i in range(n):\n",
    "    for j in range(n-1):\n",
    "        if(pw[j]<pw[j+1]):\n",
    "            pw[j],pw[j+1]=pw[j+1],pw[j]\n",
    "            p[j], p[j + 1] = p[j + 1], p[j]\n",
    "            w[j], w[j + 1] = w[j + 1], w[j]\n",
    "\n",
    "x=[]\n",
    "n=len(w)\n",
    "def knap():\n",
    "    for i in range(n):\n",
    "        x.append(0.0)\n",
    "    u=m\n",
    "    for i in range(n):\n",
    "        if(w[i]>u):\n",
    "            break\n",
    "        x[i]=1\n",
    "        u=u-w[i]\n",
    "    if(i<=n):\n",
    "        x[i]=u/w[i]\n",
    "    sum=0\n",
    "    for i range(n):\n",
    "        sum+=x[i]*p[i]\n",
    "    return sum,x\n",
    "kn=knap()\n",
    "print(\"sum and x list are\",kn[0],kn[1])\n",
    "\n",
    "        \n",
    "        \n",
    "\n"
   ]
  },
  {
   "cell_type": "code",
   "execution_count": null,
   "metadata": {
    "collapsed": true
   },
   "outputs": [],
   "source": [
    "m=3\n",
    "n=int(input(\"ENter the number of nodes: \"))\n",
    "# e=int(input(\"Enter the number of edges: \"))\n",
    "g=[[0 for i in range(n+1)] for j in range(n+1)]\n",
    "x1=[0 for i in range(n+1)]\n",
    "\n",
    "\n",
    "for i in range(1,n+1):\n",
    "    row = list(map(int, input().split()))\n",
    "    for j,x in enumerate(row):\n",
    "        g[i][j+1] = x\n",
    "\n",
    "print(\"Input:\")\n",
    "for i in range(1, n+1):\n",
    "    for j in range(1, n+1):\n",
    "        print(\"{} \".format(g[i][j]), end='')\n",
    "    print()\n",
    "    \n",
    "def mcoloring(k):\n",
    "    while(True):\n",
    "        nextValue(k)\n",
    "        if(x1[k]==0):\n",
    "            return\n",
    "        if(k==n):\n",
    "            print(\"Ans:\")\n",
    "            print(x1[1:])\n",
    "        else:\n",
    "            mcoloring(k+1)\n",
    "                \n",
    "\n",
    "def nextValue(k):\n",
    "    while(True):\n",
    "        x1[k]=((x1[k]+1)%(m+1))\n",
    "        if(x1[k]==0):\n",
    "            return\n",
    "        j = 1\n",
    "        while j<=n:\n",
    "            if (g[k][j]!=0) and (x1[k]==x1[j]):\n",
    "                break\n",
    "            j +=1 \n",
    "        if(j==n+1):\n",
    "                return\n",
    "\n",
    "            \n",
    "mcoloring(l)"
   ]
  },
  {
   "cell_type": "code",
   "execution_count": null,
   "metadata": {
    "collapsed": true
   },
   "outputs": [],
   "source": [
    "def merge(arr):\n",
    "    if(len(arr)>1):\n",
    "        mid=len(arr)//2\n",
    "        left=arr[:mid]\n",
    "        right=arr[mid:]\n",
    "        merge(left)\n",
    "        merge(right)\n",
    "        i=0\n",
    "        j=0\n",
    "        k=0\n",
    "        while(i<len(left) and j<len(right)):\n",
    "            if(left[i]<right[j]):\n",
    "                arr[k]=left[i]\n",
    "                i+=1\n",
    "            else:\n",
    "                arr[k]=right[j]\n",
    "                j+=1\n",
    "        while(i<len(left)):\n",
    "            arr[k]=left[i]\n",
    "            i+=1\n",
    "            k+=1\n",
    "        while(j<len(right)):\n",
    "            arr[k]=right[j]\n",
    "            j+=1\n",
    "            k+=1\n",
    "        \n",
    "    return arr\n",
    "print(\"sorted array\",merge(list(map(int,input(\"enter elemenets of array\").split()))))\n"
   ]
  },
  {
   "cell_type": "code",
   "execution_count": 2,
   "metadata": {},
   "outputs": [
    {
     "name": "stdout",
     "output_type": "stream",
     "text": [
      "[6.0, 5.0, 4.5, 3.0, 3.0, 1.6666666666666667, 1.0]\n",
      "[6, 10, 18, 15, 3, 5, 7]\n",
      "[1, 2, 4, 5, 1, 3, 7]\n",
      "[14.0, 6.0, 2.0, 0.6, 2.0, 0.0, 0.0]\n",
      "195.0\n"
     ]
    }
   ],
   "source": [
    "w=[2,3,5,7,1,4,1]\n",
    "p=[10,5,15,7,6,18,3]\n",
    "m=15\n",
    "pw=[]\n",
    "for i in range(len(w)):\n",
    "    pw.append(p[i]/w[i])\n",
    "n=len(w)\n",
    "for i in range(n):\n",
    "    for j in range(n-1):\n",
    "        if(pw[j]<pw[j+1]):\n",
    "            pw[j],pw[j+1]=pw[j+1],pw[j]\n",
    "            w[j],w[j+1]=w[j+1],w[j]\n",
    "            p[j],p[j+1]=p[j+1],p[j]\n",
    "print(pw)\n",
    "print(p)\n",
    "print(w)\n",
    "x=[]\n",
    "\n",
    "def knap(m,n):\n",
    "    for i in range(n):\n",
    "        x.append(0.0)\n",
    "    u=m\n",
    "    for i in range(n):\n",
    "        if(w[i]>u):\n",
    "            break\n",
    "        x[i]=1\n",
    "        u=u-w[i]\n",
    "        if(i<=n):\n",
    "            x[i]=u/w[i]\n",
    "    sum=0\n",
    "    for i in range(n):\n",
    "            sum=sum+x[i]*p[i]\n",
    "        \n",
    "    return sum\n",
    "k=knap(m,n)\n",
    "print(x)\n",
    "print(k)"
   ]
  },
  {
   "cell_type": "code",
   "execution_count": null,
   "metadata": {
    "collapsed": true
   },
   "outputs": [],
   "source": []
  }
 ],
 "metadata": {
  "kernelspec": {
   "display_name": "Python 3",
   "language": "python",
   "name": "python3"
  },
  "language_info": {
   "codemirror_mode": {
    "name": "ipython",
    "version": 3
   },
   "file_extension": ".py",
   "mimetype": "text/x-python",
   "name": "python",
   "nbconvert_exporter": "python",
   "pygments_lexer": "ipython3",
   "version": "3.6.3"
  }
 },
 "nbformat": 4,
 "nbformat_minor": 2
}
