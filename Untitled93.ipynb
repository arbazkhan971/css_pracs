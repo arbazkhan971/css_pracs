{
 "cells": [
  {
   "cell_type": "code",
   "execution_count": 2,
   "metadata": {},
   "outputs": [],
   "source": [
    "import os\n",
    "\n",
    "from selenium import webdriver\n",
    "\n",
    "from selenium.webdriver.common.by import By\n",
    "\n",
    "class ListOfElements():\n",
    "\n",
    "  def test(self):\n",
    "\n",
    "      baseUrl = \"https://en.52wmb.com/login?redirectUrl=http://en.52wmb.com/buy-coffee\"\n",
    "\n",
    "      driverLocation = r\"C://Users/arbaz/Downloads/chromedriver_win32/chromedriver.exe\"\n",
    "\n",
    "      os.environ[\"webdriver.chrome.driver\"] = driverLocation\n",
    "\n",
    "      driver = webdriver.Chrome(driverLocation)\n",
    "\n",
    "     \n",
    "\n",
    "      driver.maximize_window()\n",
    "\n",
    "      driver.get(baseUrl)\n",
    "\n",
    "      driver.implicitly_wait(15)       \n",
    "      loginemail = driver.find_element(By.XPATH, \"//input[@class='login-text']\").send_keys(\"ksheth358@gmail.com\")\n",
    "\n",
    "      loginpassword = driver.find_element(By.XPATH, \"//input[@placeholder='Password']\").send_keys(\"\")\n",
    "\n",
    "      loginsubmit = driver.find_element(By.XPATH, \"//input[@class='login-submit']\").click()\n",
    "\n",
    "     \n",
    "\n",
    "      input_search=driver.find_element(By.XPATH, \"//input[@id='companysearchKey']\")\n",
    "\n",
    "      input_search.send_keys(\"Coex Coffee International\")\n",
    "\n",
    "      click_search=driver.find_element(By.XPATH,\"//a[@id='clickSearchbtn']\")\n",
    "\n",
    "      click_search.click()\n",
    "\n",
    "     \n",
    "\n",
    "      click_on_page=driver.find_element(By.XPATH,\"//a[@href='/buyer/55900789']\")\n",
    "\n",
    "      click_on_page.click()\n",
    "\n",
    "     \n",
    "\n",
    "      click_on_next=driver.find_element(By.XPATH,\"//div[@class='stab stab-partner']\")\n",
    "\n",
    "      click_on_next.click()\n",
    "\n",
    "     \n",
    "\n",
    "      \"\"\"\n",
    "\n",
    "      element = driver.find_element_by_class_name(\"table-next\")\n",
    "\n",
    "      sel = Select(element)\n",
    "\n",
    "     \n",
    "\n",
    "      first = sel.select_by_index(\"1\")\n",
    "\n",
    "      first.click()\n",
    "\n",
    "     \n",
    "\n",
    "     \n",
    "\n",
    "     \n",
    "\n",
    "      next_elem=driver.find_element(By.XPATH, \"//a[@action-data='/async/iframe/partnerbill?start=9396706&partner=34401029&box=bill_data_tbody&date_type=1']\")\n",
    "\n",
    "      next_elem.click()\n",
    "\n",
    " \n",
    "\n",
    "      loginLink.click()       emailField = driver.find_element(By.ID, \"user_email\")\n",
    "\n",
    "      emailField.send_keys(\"test\")       passwordField = driver.find_element(By.ID, \"user_password\")\n",
    "\n",
    "      passwordField.send_keys(\"test\")       time.sleep(3)       emailField.clear()       time.sleep(3)       emailField.send_keys(\"test\")       \"\"\""
   ]
  },
  {
   "cell_type": "code",
   "execution_count": null,
   "metadata": {},
   "outputs": [],
   "source": []
  },
  {
   "cell_type": "code",
   "execution_count": null,
   "metadata": {},
   "outputs": [],
   "source": []
  },
  {
   "cell_type": "code",
   "execution_count": null,
   "metadata": {},
   "outputs": [],
   "source": []
  },
  {
   "cell_type": "code",
   "execution_count": null,
   "metadata": {},
   "outputs": [],
   "source": []
  },
  {
   "cell_type": "code",
   "execution_count": null,
   "metadata": {},
   "outputs": [],
   "source": []
  },
  {
   "cell_type": "code",
   "execution_count": null,
   "metadata": {},
   "outputs": [],
   "source": []
  },
  {
   "cell_type": "code",
   "execution_count": null,
   "metadata": {},
   "outputs": [],
   "source": []
  },
  {
   "cell_type": "code",
   "execution_count": null,
   "metadata": {},
   "outputs": [],
   "source": []
  },
  {
   "cell_type": "code",
   "execution_count": null,
   "metadata": {},
   "outputs": [],
   "source": []
  },
  {
   "cell_type": "code",
   "execution_count": null,
   "metadata": {},
   "outputs": [],
   "source": []
  },
  {
   "cell_type": "code",
   "execution_count": null,
   "metadata": {},
   "outputs": [],
   "source": []
  },
  {
   "cell_type": "code",
   "execution_count": null,
   "metadata": {},
   "outputs": [],
   "source": []
  },
  {
   "cell_type": "code",
   "execution_count": null,
   "metadata": {},
   "outputs": [],
   "source": []
  }
 ],
 "metadata": {
  "kernelspec": {
   "display_name": "Python 3",
   "language": "python",
   "name": "python3"
  },
  "language_info": {
   "codemirror_mode": {
    "name": "ipython",
    "version": 3
   },
   "file_extension": ".py",
   "mimetype": "text/x-python",
   "name": "python",
   "nbconvert_exporter": "python",
   "pygments_lexer": "ipython3",
   "version": "3.5.5"
  }
 },
 "nbformat": 4,
 "nbformat_minor": 2
}
