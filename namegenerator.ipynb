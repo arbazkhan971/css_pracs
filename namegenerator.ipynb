{
 "cells": [
  {
   "cell_type": "code",
   "execution_count": 10,
   "metadata": {},
   "outputs": [
    {
     "name": "stdout",
     "output_type": "stream",
     "text": [
      "What letter do you want? Enter 'v' for vowels, 'c' for consonants, 'l' for any letter: v\n",
      "What letter do you want? Enter 'v' for vowels, 'c' for consonants, 'l' for any letter: c\n",
      "What letter do you want? Enter 'v' for vowels, 'c' for consonants, 'l' for any letter: a\n",
      "enter number of names u want7\n",
      "ega\n",
      "oca\n",
      "exa\n",
      "aha\n",
      "uda\n",
      "uta\n",
      "yka\n"
     ]
    }
   ],
   "source": [
    "import random\n",
    "\n",
    "vowels='aeiouy'\n",
    "consonants='bcdfghjklmnpqrstvwxz'\n",
    "letters=vowels+consonants\n",
    "\n",
    "letter_input_1=input(\"What letter do you want? Enter 'v' for vowels, 'c' for consonants, 'l' for any letter: \")\n",
    "letter_input_2=input(\"What letter do you want? Enter 'v' for vowels, 'c' for consonants, 'l' for any letter: \")\n",
    "letter_input_3=input(\"What letter do you want? Enter 'v' for vowels, 'c' for consonants, 'l' for any letter: \")\n",
    "n=int(input(\"enter number of names u want\"))\n",
    "def plot():\n",
    "\tif letter_input_1 == 'v':\n",
    "\t\tl1=random.choice(vowels)\n",
    "\telif letter_input_1 == 'c':\n",
    "\t\tl1=random.choice(consonants)\n",
    "\telif letter_input_1 == 'l':\n",
    "\t\tl1=random.choice(letters)\n",
    "\telse:\n",
    "\t\tl1=letter_input_1\n",
    "\n",
    "\tif letter_input_2 == 'v':\n",
    "\t\tl2=random.choice(vowels)\n",
    "\telif letter_input_2 == 'c':\n",
    "\t\tl2=random.choice(consonants)\n",
    "\telif letter_input_2 == 'l':\n",
    "\t\tl2=random.choice(letters)\n",
    "\telse:\n",
    "\t\tl2=letter_input_2\n",
    "\n",
    "\tif letter_input_3 == 'v':\n",
    "\t\tl3=random.choice(vowels)\n",
    "\telif letter_input_3 == 'c':\n",
    "\t\tl3=random.choice(consonants)\n",
    "\telif letter_input_3 == 'l':\n",
    "\t\tl3=random.choice(letters)\n",
    "\telse:\n",
    "\t\tl3=letter_input_3\n",
    "\tname = l1+l2+l3\n",
    "\treturn name\n",
    "\n",
    "for i in range(n):\n",
    "\tprint(plot())\n"
   ]
  },
  {
   "cell_type": "code",
   "execution_count": null,
   "metadata": {},
   "outputs": [],
   "source": []
  },
  {
   "cell_type": "code",
   "execution_count": null,
   "metadata": {
    "collapsed": true
   },
   "outputs": [],
   "source": []
  },
  {
   "cell_type": "code",
   "execution_count": null,
   "metadata": {
    "collapsed": true
   },
   "outputs": [],
   "source": []
  }
 ],
 "metadata": {
  "kernelspec": {
   "display_name": "Python 3",
   "language": "python",
   "name": "python3"
  },
  "language_info": {
   "codemirror_mode": {
    "name": "ipython",
    "version": 3
   },
   "file_extension": ".py",
   "mimetype": "text/x-python",
   "name": "python",
   "nbconvert_exporter": "python",
   "pygments_lexer": "ipython3",
   "version": "3.6.3"
  }
 },
 "nbformat": 4,
 "nbformat_minor": 2
}
