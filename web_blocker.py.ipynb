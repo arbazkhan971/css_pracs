{
 "cells": [
  {
   "cell_type": "code",
   "execution_count": null,
   "metadata": {
    "collapsed": true
   },
   "outputs": [],
   "source": [
    "import time\n",
    "from datetime import datetime as dt\n",
    "\n",
    "\n",
    "hosts_path=r\"c:\\Windows\\System32\\Drivers\\etc\\hosts\"\n",
    "redirect=\"127.0.0.1\"\n",
    "website_list=[\"www.facebook.com\",\"facebook.com\",\"gmail.com\",\"www.gmail.com\"]\n",
    "\n",
    "while True:\n",
    "    if dt(dt.now().year,dt.now().month,dt.now().day,8) < dt.now() < dt(dt.now().year,dt.now().month,dt.now().day,16):\n",
    "        print(\"Working hours...\")\n",
    "        with open(hosts_path,'r+') as file:\n",
    "            content=file.read()\n",
    "            for website in website_list:\n",
    "                if website in content:\n",
    "                    pass\n",
    "                else:\n",
    "                    file.write(redirect+\" \"+ website+\"\\n\")\n",
    "    else:\n",
    "        with open(hosts_path,'r+') as file:\n",
    "            content=file.readlines()\n",
    "            file.seek(0)\n",
    "            for line in content:\n",
    "                if not any(website in line for website in website_list):\n",
    "                    file.write(line)\n",
    "            file.truncate()\n",
    "        print(\"Fun hours...\")\n",
    "    time.sleep(5)\n"
   ]
  }
 ],
 "metadata": {
  "kernelspec": {
   "display_name": "Python 3",
   "language": "python",
   "name": "python3"
  },
  "language_info": {
   "codemirror_mode": {
    "name": "ipython",
    "version": 3
   },
   "file_extension": ".py",
   "mimetype": "text/x-python",
   "name": "python",
   "nbconvert_exporter": "python",
   "pygments_lexer": "ipython3",
   "version": "3.6.3"
  }
 },
 "nbformat": 4,
 "nbformat_minor": 2
}
